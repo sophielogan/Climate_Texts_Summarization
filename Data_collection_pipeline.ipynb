{
 "cells": [
  {
   "cell_type": "markdown",
   "id": "e032a3c8",
   "metadata": {},
   "source": [
    "# Data Collection\n",
    "\n",
    "Source: [Climate Policy Initiative](https://www.climatepolicyinitiative.org/)\n",
    "\n",
    "Data: Press Releases and Publications\n",
    "\n",
    "Method: Webscraping"
   ]
  },
  {
   "cell_type": "markdown",
   "id": "557a82db",
   "metadata": {},
   "source": [
    "## Imports"
   ]
  },
  {
   "cell_type": "code",
   "execution_count": 82,
   "id": "4b35b51c",
   "metadata": {},
   "outputs": [],
   "source": [
    "#!pip install frontend\n",
    "import requests\n",
    "from bs4 import BeautifulSoup\n",
    "import pandas as pd\n",
    "import PyPDF2\n",
    "import requests\n",
    "import os"
   ]
  },
  {
   "cell_type": "markdown",
   "id": "d923c8f8",
   "metadata": {},
   "source": [
    "## Instantiate Beautiful Soup"
   ]
  },
  {
   "cell_type": "code",
   "execution_count": 2,
   "id": "e4bb4b1b",
   "metadata": {},
   "outputs": [],
   "source": [
    "def make_soup(url):\n",
    "    '''Function to extract content of webpage using Beautiful Soup\n",
    "    Output: \n",
    "        soup object with webpage content\n",
    "    '''\n",
    "    headers = {\"User-Agent\": \"Mozilla/5.0 (Windows NT 10.0; Win64; x64) AppleWebKit/537.36 (KHTML, like Gecko) Chrome/58.0.3029.110 Safari/537.3\"}\n",
    "\n",
    "    # Send a GET request to the URL\n",
    "    response = requests.get(url, headers=headers)\n",
    "\n",
    "    # Parse the HTML content of the page using BeautifulSoup\n",
    "    soup = BeautifulSoup(response.content, \"html.parser\")\n",
    "    \n",
    "    return soup"
   ]
  },
  {
   "cell_type": "markdown",
   "id": "720bd682",
   "metadata": {},
   "source": [
    "## Press releases"
   ]
  },
  {
   "cell_type": "code",
   "execution_count": 3,
   "id": "6246ba58",
   "metadata": {},
   "outputs": [],
   "source": [
    "url = \"https://www.climatepolicyinitiative.org/resources/press-releases/\"\n",
    "\n",
    "soup = make_soup(url)\n",
    "\n",
    "# Find all h2 tags with class \"post-header--title\"\n",
    "headers_h2 = soup.find_all(\"h2\", class_=\"post-header--title\")\n",
    "\n",
    "links = []\n",
    "# Loop through the headers and extract the links in the <a> tags\n",
    "for header in headers_h2:\n",
    "    link = header.find(\"a\").get(\"href\")\n",
    "    links.append(link)\n"
   ]
  },
  {
   "cell_type": "code",
   "execution_count": 4,
   "id": "69abccfb",
   "metadata": {},
   "outputs": [
    {
     "data": {
      "text/plain": [
       "['https://www.climatepolicyinitiative.org/press-release/cities-climate-finance-leadership-alliance-ccfla-launches-the-local-hub-program-to-help-bridge-the-demand-supply-gap-for-urban-climate-investment/',\n",
       " 'https://www.climatepolicyinitiative.org/pt-br/press-release/estudo-inedito-mapeia-a-implementacao-do-codigo-florestal-nos-estados-brasileiros/',\n",
       " 'https://www.climatepolicyinitiative.org/pt-br/press-release/seguro-rural-nao-acompanha-as-perdas-crescentes-da-agropecuaria-brasileira-diz-estudo/',\n",
       " 'https://www.climatepolicyinitiative.org/press-release/lab-selection-2023/',\n",
       " 'https://www.climatepolicyinitiative.org/press-release/climate-policy-initiative-and-power-foundation-sign-memorandum-of-understanding-to-work-together-on-supporting-and-building-institutional-capacities-for-indias-energy-transition-along-a-just/',\n",
       " 'https://www.climatepolicyinitiative.org/press-release/cpi-expands-board-with-renowned-climate-finance-and-policy-leaders/',\n",
       " 'https://www.climatepolicyinitiative.org/pt-br/press-release/e-urgente-a-transicao-para-uma-agropecuaria-sustentavel-e-inclusiva-diz-economista/',\n",
       " 'https://www.climatepolicyinitiative.org/pt-br/press-release/cpi-puc-rio-democratiza-acesso-a-dados-sobre-energia-na-amazonia-legal-em-plataforma-interativa-do-data-zoom-amazonia/',\n",
       " 'https://www.climatepolicyinitiative.org/press-release/cpi-global-managing-director-appointed-to-energy-transition-accelerator-high-level-consultative-group%ef%bf%bc/',\n",
       " 'https://www.climatepolicyinitiative.org/press-release/the-ikea-foundation-and-climate-policy-initiative-launch-new-effort-to-unlock-millions-in-finance-for-renewable-energy-products-and-services-to-improve-peoples-livelihoods-in-rural-india/',\n",
       " 'https://www.climatepolicyinitiative.org/pt-br/press-release/pesquisa-do-cpi-puc-rio-identifica-prioridades-para-a-atuacao-governamental-no-combate-ao-desmatamento-da-amazonia/',\n",
       " 'https://www.climatepolicyinitiative.org/pt-br/press-release/7-recomendacoes-para-acelerar-a-implementacao-do-codigo-florestal/',\n",
       " 'https://www.climatepolicyinitiative.org/pt-br/press-release/aumento-do-investimento-em-infraestrutura-na-amazonia-precisa-vir-acompanhado-de-melhorias-no-processo-decisorio-diz-estudo/',\n",
       " 'https://www.climatepolicyinitiative.org/id/press-release/cpi-umumkan-peran-kunci-dalam-mendukung-transisi-energi-indonesia/',\n",
       " 'https://www.climatepolicyinitiative.org/press-release/cpi-announces-key-role-in-supporting-indonesias-ambitious-energy-transition/',\n",
       " 'https://www.climatepolicyinitiative.org/press-release/cpi-launches-rooftop-solar-investment-accelerator-facility-at-bnef-summit-bali/',\n",
       " 'https://www.climatepolicyinitiative.org/press-release/u-s-2-million-lab-adaptation/',\n",
       " 'https://www.climatepolicyinitiative.org/press-release/applications-open-for-the-global-innovation-lab-for-climate-finance/',\n",
       " 'https://www.climatepolicyinitiative.org/press-release/public-finance-institutions-falling-behind-on-climate-commitments/',\n",
       " 'https://www.climatepolicyinitiative.org/press-release/lab-endorsement-2022/',\n",
       " 'https://www.climatepolicyinitiative.org/press-release/new-study-finds-that-climate-finance-for-africa-needs-to-grow-9x-from-usd-30-billion-to-usd-277-billion-to-meet-2030-climate-goal/',\n",
       " 'https://www.climatepolicyinitiative.org/press-release/green-finance-must-quadruple-for-india-to-meet-its-paris-agreement-goals-cpi-study/',\n",
       " 'https://www.climatepolicyinitiative.org/press-release/cpis-daniela-chiriac-appointed-to-the-board-for-international-food-and-agricultural-development-subcommittee/',\n",
       " 'https://www.climatepolicyinitiative.org/press-release/methane-inaction-threatens-global-climate-goals/',\n",
       " 'https://www.climatepolicyinitiative.org/press-release/cpi-joins-linux-foundations-os-climate-to-expand-climate-finance-data/',\n",
       " 'https://www.climatepolicyinitiative.org/press-release/dharshan-wignarajah-joins-cpi-as-director-of-its-u-office/',\n",
       " 'https://www.climatepolicyinitiative.org/press-release/accelerating-climate-finance-lab-leads-innovation-in-finance-with-7-new-deals-from-methane-to-affordable-housing-to-climate-smart-shrimp/',\n",
       " 'https://www.climatepolicyinitiative.org/press-release/lab-3-billion/',\n",
       " 'https://www.climatepolicyinitiative.org/press-release/study-despite-progress-made-annual-finance-for-climate-action-still-nowhere-near-enough-to-limit-warming-to-1-5c/',\n",
       " 'https://www.climatepolicyinitiative.org/press-release/new-label-designed-to-identify-sustainable-infrastructure-assets-launches-at-cop26/',\n",
       " 'https://www.climatepolicyinitiative.org/press-release/framework-for-sustainable-finance-integrity-provides-first-of-its-kind-guide-to-necessary-action-across-the-public-and-private-financial-sectors/',\n",
       " 'https://www.climatepolicyinitiative.org/press-release/lack-of-investment-in-clean-energy-compromising-fight-against-climate-change-and-poverty/',\n",
       " 'https://www.climatepolicyinitiative.org/press-release/lab-wins-un-global-climate-action-awards/',\n",
       " 'https://www.climatepolicyinitiative.org/press-release/the-lab-launches-six-new-finance-solutions-to-drive-climate-action-towards-a-net-zero-economy/',\n",
       " 'https://www.climatepolicyinitiative.org/press-release/cpi-global-managing-director-appointed-to-exim-advisory-board/',\n",
       " 'https://www.climatepolicyinitiative.org/press-release/climate-policy-initiative-opens-first-washington-d-c-office-moves-into-new-san-francisco-location/',\n",
       " 'https://www.climatepolicyinitiative.org/press-release/municipal-green-bonds-crucial-to-unlocking-renewable-energy-financing-in-indonesia-but-barriers-must-be-addressed/',\n",
       " 'https://www.climatepolicyinitiative.org/press-release/new-study-calls-for-urgent-increase-in-funding-for-climate-action-in-cities/',\n",
       " 'https://www.climatepolicyinitiative.org/press-release/the-uk-private-finance-sector-is-setting-climate-change-targets-but-is-slower-on-action/',\n",
       " 'https://www.climatepolicyinitiative.org/press-release/new-cpi-study-finds-opportunities-for-indonesia-and-south-korea-to-improve-clean-energy-ambition-through-post-covid-recovery-plans/',\n",
       " 'https://www.climatepolicyinitiative.org/press-release/global-innovation-lab-for-climate-finance-launches-new-program-to-increase-impact-through-replication/',\n",
       " 'https://www.climatepolicyinitiative.org/press-release/public-and-private-financial-leaders-seek-to-contribute-to-greater-integrity-and-coordination-in-sustainable-finance-commitments/',\n",
       " 'https://www.climatepolicyinitiative.org/press-release/lab-green-fidc-closes/',\n",
       " 'https://www.climatepolicyinitiative.org/press-release/study-on-climate-finance-flows-in-kenya-reveals-a-need-for-significant-increase-in-funding-for-critical-sectors/',\n",
       " 'https://www.climatepolicyinitiative.org/press-release/new-study-measures-the-greenness-of-the-covid-19-recovery-packages-and-their-contribution-towards-country-level-climate-objectives-in-five-asian-countries/',\n",
       " 'https://www.climatepolicyinitiative.org/press-release/lab-selection-2021/',\n",
       " 'https://www.climatepolicyinitiative.org/press-release/china-requires-innovative-approaches-to-scale-up-climate-finance/',\n",
       " 'https://www.climatepolicyinitiative.org/press-release/study-global-power-sector-investment-puts-world-on-pathway-to-well-over-3-2c-of-warming/',\n",
       " 'https://www.climatepolicyinitiative.org/press-release/chronic-underinvestment-in-clean-energy-putting-millions-at-risk-as-they-continue-to-be-left-behind-in-energy-transition/',\n",
       " 'https://www.climatepolicyinitiative.org/press-release/high-level-advisory-council-convenes-to-create-principles-for-financing-a-sustainable-economic-recovery-in-the-wake-of-covid-19/',\n",
       " 'https://www.climatepolicyinitiative.org/press-release/the-lab-opens-call-for-innovative-climate-finance-ideas/',\n",
       " 'https://www.climatepolicyinitiative.org/press-release/alliance-members-create-harmonized-application-for-project-preparation-facilities/',\n",
       " 'https://www.climatepolicyinitiative.org/press-release/green-city-finance-directory-helps-cities-access-sustainable-finance/',\n",
       " 'https://www.climatepolicyinitiative.org/press-release/the-lab-launches-eight-new-finance-solutions-to-drive-climate-action-and-green-recovery/',\n",
       " 'https://www.climatepolicyinitiative.org/press-release/first-accounting-of-green-investment-flows-in-india-reveals-a-need-for-significant-increase/',\n",
       " 'https://www.climatepolicyinitiative.org/press-release/danielle-knight-joins-cpi-as-chief-financial-officer/',\n",
       " 'https://www.climatepolicyinitiative.org/press-release/a-statement-from-our-global-managing-director-on-covid-19/',\n",
       " 'https://www.climatepolicyinitiative.org/press-release/the-lab-among-top-100-proposals-eligible-for-macarthur-100-million-grant/',\n",
       " 'https://www.climatepolicyinitiative.org/press-release/cpi-appoints-dr-barbara-buchner-as-global-managing-director-vikram-widge-as-senior-advisor/',\n",
       " 'https://www.climatepolicyinitiative.org/press-release/2-billion-milestone/',\n",
       " 'https://www.climatepolicyinitiative.org/press-release/research-shows-world-at-a-tipping-point-to-meet-global-energy-goals-by-2030-without-urgent-investment/',\n",
       " 'https://www.climatepolicyinitiative.org/press-release/yayasan-cpi-indonesia-mengumumkan-susunan-anggota-dewan-yayasan-baru/',\n",
       " 'https://www.climatepolicyinitiative.org/press-release/yayasan-cpi-indonesia-announces-board-members/',\n",
       " 'https://www.climatepolicyinitiative.org/press-release/lab-endorsement-2019/',\n",
       " 'https://www.climatepolicyinitiative.org/press-release/leaders-gather-to-renew-the-cities-climate-finance-leadership-alliance/',\n",
       " 'https://www.climatepolicyinitiative.org/press-release/cpi-launches-climate-aligned-finance-tracking-group/',\n",
       " 'https://www.climatepolicyinitiative.org/press-release/howard-bamsey-and-rachel-kyte-join-cpi-board-of-directors/',\n",
       " 'https://www.climatepolicyinitiative.org/press-release/us-india-clean-energy-finance-initiative-welcomes-ptc-india-financial-services-limited-as-a-new-partner-to-mobilize-debt-financing-for-distributed-solar-energy-in-india/',\n",
       " 'https://www.climatepolicyinitiative.org/press-release/south-africa-can-reduce-potential-r2-trn-in-climate-transition-risk-with-policy-action-analysis/',\n",
       " 'https://www.climatepolicyinitiative.org/press-release/investor-initiative-chooses-ideas-that-will-mobilize-investment-for-sustainable-cities-energy-access-blue-carbon-and-sustainable-agriculture-in-developing-countries/',\n",
       " 'https://www.climatepolicyinitiative.org/press-release/more-money-than-ever-before-invested-in-climate-action-but-is-it-enough/',\n",
       " 'https://www.climatepolicyinitiative.org/press-release/mahua-acharya-joins-climate-policy-initiative-as-asia-director/',\n",
       " 'https://www.climatepolicyinitiative.org/press-release/investors-launch-new-financial-instruments-for-low-carbon-transit-sustainable-land-use-and-clean-energy-in-developing-countries/',\n",
       " 'https://www.climatepolicyinitiative.org/press-release/new-initiative-that-accelerates-climate-action-launches-in-kenya/',\n",
       " 'https://www.climatepolicyinitiative.org/press-release/tata-cleantech-capital-limited-joins-the-us-india-clean-energy-finance-initiative-to-drive-up-to-usd-200mn-debt-financing-for-clean-energy-access-in-underserved-communities-in-india/',\n",
       " 'https://www.climatepolicyinitiative.org/press-release/the-labs-2018-class-of-nine-innovative-vehicles-for-sustainable-investment-makes-progress-towards-launch/',\n",
       " 'https://www.climatepolicyinitiative.org/press-release/indian-renewable-energy-is-now-a-more-lucrative-investment-than-fossil-fuels/',\n",
       " 'https://www.climatepolicyinitiative.org/press-release/usicef-selects-a-new-round-of-grant-recipients-to-catalyze-distributed-solar-power-in-india/',\n",
       " 'https://www.climatepolicyinitiative.org/press-release/the-lab-reaches-1-billion-milestone-in-sustainable-investment/',\n",
       " 'https://www.climatepolicyinitiative.org/press-release/brazils-rural-farmers-much-variation-credit-access-likely-slows-agricultural-productivity/',\n",
       " 'https://www.climatepolicyinitiative.org/press-release/grande-variacao-no-acesso-ao-credito-rural-prejudica-produtividade-da-agropecuaria-no-brasil/',\n",
       " 'https://www.climatepolicyinitiative.org/press-release/lab-picks-top-finance-instruments-action-climate-change-developing-countries-particularly-brazil-india-sub-saharan-africa/',\n",
       " 'https://www.climatepolicyinitiative.org/press-release/lab-named-one-top-11-best-bets-macarthur-foundations-100change-competition/',\n",
       " 'https://www.climatepolicyinitiative.org/press-release/cpi-cop23-accelerating-global-investment-address-climate-change/',\n",
       " 'https://www.climatepolicyinitiative.org/press-release/global-investment-address-climate-change-increases-410-billion-annual-average/',\n",
       " 'https://www.climatepolicyinitiative.org/press-release/investor-group-launches-new-investment-vehicles-clean-energy-india/',\n",
       " 'https://www.climatepolicyinitiative.org/press-release/brasil-possui-uma-das-legislacoes-florestais-mais-rigidas-entre-paises-exportadores-agropecuarios-mostra-novo-estudo/',\n",
       " 'https://www.climatepolicyinitiative.org/press-release/subsidies-electricity-tariff-obstacle-developing-brazils-market-distributed-solar-generation/',\n",
       " 'https://www.climatepolicyinitiative.org/press-release/subsidios-na-tarifa-de-energia-eletrica-dificultam-expansao-mercado-de-energia-solar-no-brasil/',\n",
       " 'https://www.climatepolicyinitiative.org/press-release/usicef-selects-first-round-grant-recipients-catalyze-distributed-solar-power-india/',\n",
       " 'https://www.climatepolicyinitiative.org/press-release/lab-launches-new-class-sustainable-finance-instruments/',\n",
       " 'https://www.climatepolicyinitiative.org/press-release/analista-cpi-discute-conversao-de-multas-ambientais-e-legislacao-comparada-na-srb/',\n",
       " 'https://www.climatepolicyinitiative.org/press-release/pension-funds-insurers-accelerate-energy-transition-lowering-cost-clean-electricity-17/',\n",
       " 'https://www.climatepolicyinitiative.org/press-release/regularizacao-fundiaria-e-questao-urgente-para-o-pais-aponta-novo-estudo-cpi/',\n",
       " 'https://www.climatepolicyinitiative.org/press-release/land-regularization-urgent-issue-brazil-needs-address-new-study-climate-policy-initiative-underscores/',\n",
       " 'https://www.climatepolicyinitiative.org/press-release/falta-de-regulamentacao-impede-que-conversao-de-multas-em-servicos-ambientais-seja-adotada-no-brasil/',\n",
       " 'https://www.climatepolicyinitiative.org/press-release/new-class-transformative-green-finance-instruments-india/',\n",
       " 'https://www.climatepolicyinitiative.org/press-release/us-brazil-investor-group-picks-three-financial-instruments-can-drive-funds-climate-action/',\n",
       " 'https://www.climatepolicyinitiative.org/press-release/opic-government-india-leading-foundations-announce-new-u-s-india-clean-energy-finance-initiative/',\n",
       " 'https://www.climatepolicyinitiative.org/press-release/cpi-partners-receive-funding-netherlands-launch-new-global-ndc-implementation-platform-will-accelerate-developing-country-climate-action-starting-kenya/',\n",
       " 'https://www.climatepolicyinitiative.org/press-release/novo-relatorio-panorama-dos-direitos-de-propriedade-brasil-rural/',\n",
       " 'https://www.climatepolicyinitiative.org/press-release/investor-network-launches-three-new-instruments-accelerate-millions-renewable-energy-green-growth-india-opens-new-call-ideas/',\n",
       " 'https://www.climatepolicyinitiative.org/press-release/cpi-updates-global-climate-finance-figures-inform-forthcoming-unfccc-report/',\n",
       " 'https://www.climatepolicyinitiative.org/press-release/investor-network-seeks-powerful-actionable-ideas-drive-finance-low-carbon-climate-resilient-economy/',\n",
       " 'https://www.climatepolicyinitiative.org/press-release/insecure-land-rights-major-problem-brazilian-rural-areas/',\n",
       " 'https://www.climatepolicyinitiative.org/press-release/incerteza-sobre-direitos-de-propriedade-e-um-dos-maiores-problemas-brasil-rural/',\n",
       " 'https://www.climatepolicyinitiative.org/press-release/agricultural-expansion-matopiba-makes-local-economy-cerrado-municipalities-grow/',\n",
       " 'https://www.climatepolicyinitiative.org/press-release/expansao-de-usinas-de-cana-de-acucar-impulsionou-crescimento-economico-no-mato-grosso-sul/',\n",
       " 'https://www.climatepolicyinitiative.org/press-release/new-report-sugarcane-mills-expansion-drives-economic-growth-forward-brazilian-municipalities/',\n",
       " 'https://www.climatepolicyinitiative.org/press-release/novo-estudo-climate-policy-initiative-analisa-ineficiencias-na-infraestrutura-de-transporte-no-brasil/',\n",
       " 'https://www.climatepolicyinitiative.org/press-release/new-report-inefficiencies-transportation-infrastructure-obstacle-brazilian-agriculture/',\n",
       " 'https://www.climatepolicyinitiative.org/press-release/global-coalition-governments-investors-foundations-launch-four-new-financial-instruments-catalyze-billions-developing-country-climate-action/',\n",
       " 'https://www.climatepolicyinitiative.org/press-release/climate-policy-initiative-propoe-uso-credito-rural-para-acelerar-implementacao-codigo-florestal/',\n",
       " 'https://www.climatepolicyinitiative.org/press-release/7379/',\n",
       " 'https://www.climatepolicyinitiative.org/press-release/neue-studie-zeigt-investitionspotenzial-ausbau-erneuerbarer-energien/',\n",
       " 'https://www.climatepolicyinitiative.org/press-release/finance-resilience-honors-four-winning-ideas-accelerate-investments-sustainable-cities-clean-energy/',\n",
       " 'https://www.climatepolicyinitiative.org/press-release/cpi-names-dr-barbara-buchner-david-nelson-executive-directors-climate-finance-energy-finance-programs/',\n",
       " 'https://www.climatepolicyinitiative.org/press-release/the-india-lab-selects-four-innovative-ideas-to-drive-finance-to-renewable-energy-and-green-growth-in-india/',\n",
       " 'https://www.climatepolicyinitiative.org/press-release/suzanty-sitorus-ph-d-joins-climate-policy-initiative-as-indonesia-director/',\n",
       " 'https://www.climatepolicyinitiative.org/press-release/new-study-indonesia-can-boost-economy-government-revenues-and-sustainability-by-adjusting-land-use-taxes/',\n",
       " 'https://www.climatepolicyinitiative.org/press-release/kajian-baru-indonesia-dapat-meningkatkan-pertumbuhan-ekonomi-penerimaan-negara-dan-mencapai-tujuan-lingkungan-hidupnya-melalui-reformasi-instrumen-fiskal-di-sektor-pemanfaatan-lahan/',\n",
       " 'https://www.climatepolicyinitiative.org/press-release/the-global-innovation-lab-for-climate-finance-selects-six-new-ideas-raises-e80-for-previous-instruments/',\n",
       " 'https://www.climatepolicyinitiative.org/press-release/climate-policy-initiative-lanca-estudo-sobre-o-codigo-florestal-brasileiro/',\n",
       " 'https://www.climatepolicyinitiative.org/press-release/brazilian-forest-code-an-important-tool-to-encourage-efficient-land-use-but-fraught-with-complexities-for-states-and-landholders/',\n",
       " 'https://www.climatepolicyinitiative.org/press-release/india-innovation-lab-for-green-finance-supported-by-business-and-government-leaders-opens-call-for-ideas/',\n",
       " 'https://www.climatepolicyinitiative.org/press-release/global-climate-finance-increases-to-usd-391-billion/',\n",
       " 'https://www.climatepolicyinitiative.org/press-release/india-innovation-lab-for-green-finance-a-new-initiative-supported-by-government-and-business-leaders-seeks-innovative-ways-to-drive-finance-to-cleaner-growth-in-india/',\n",
       " 'https://www.climatepolicyinitiative.org/press-release/bloomberg-philanthropies-and-partners-launch-third-annual-fire-climate-finance-challenge/',\n",
       " 'https://www.climatepolicyinitiative.org/press-release/finance-for-climate-action-in-developing-countries-reaches-usd-62-billion-in-2014-says-new-report/',\n",
       " 'https://www.climatepolicyinitiative.org/press-release/the-global-innovation-lab-for-climate-finance-seeks-new-initiatives-to-drive-billions-of-dollars-to-climate-adaptation-and-mitigation-in-developing-countries/',\n",
       " 'https://www.climatepolicyinitiative.org/press-release/as-amazon-deforestation-shifts-to-smaller-clearings-brazil-should-adapt-policies/',\n",
       " 'https://www.climatepolicyinitiative.org/press-release/desmatamento-em-pequena-escala-na-amazonia-requer-que-brasil-adapte-suas-politicas/',\n",
       " 'https://www.climatepolicyinitiative.org/press-release/gireesh-shrimali-selected-to-advise-niti-aayog-expert-group-on-rooftop-solar-power/',\n",
       " 'https://www.climatepolicyinitiative.org/press-release/climate-policy-initiative-a-lead-contributor-to-g7-report-on-long-term-climate-finance/',\n",
       " 'https://www.climatepolicyinitiative.org/press-release/juliano-assuncao-director-of-cpis-brazil-program-selected-for-high-level-working-group-that-will-draft-the-next-generation-of-agricultural-policy-in-brazil/',\n",
       " 'https://www.climatepolicyinitiative.org/press-release/the-uk-government-commits-50-million-to-the-climate-development-and-finance-facility-to-help-developing-countries-tackle-climate-change/',\n",
       " 'https://www.climatepolicyinitiative.org/press-release/auctions-can-be-an-effective-mechanism-to-achieve-indias-renewable-energy-targets/',\n",
       " 'https://www.climatepolicyinitiative.org/press-release/the-global-innovation-lab-for-climate-finance-launches-four-initiatives-to-drive-billions-in-climate-investment/',\n",
       " 'https://www.climatepolicyinitiative.org/press-release/wind-power-can-provide-cost-effective-path-to-meeting-indias-renewable-energy-targets/',\n",
       " 'https://www.climatepolicyinitiative.org/press-release/climate-policy-initiative-lanca-estudo-sobre-gestao-de-risco-agricola-no-brasil-resultados-indicam-ineficiencia-nas-politicas-atuais-e-sugerem-incentivos-a-instrumentos-de-mercado-como-solucao/',\n",
       " 'https://www.climatepolicyinitiative.org/press-release/climate-policy-initiative-awarded-multi-year-grant-production-protection-work-brazil/',\n",
       " 'https://www.climatepolicyinitiative.org/press-release/climate-policy-initiative-recebe-patrocinio-de-tres-anos-para-trabalho-em-producao-e-protecao-no-brasil/',\n",
       " 'https://www.climatepolicyinitiative.org/press-release/global-climate-finance-falls-second-year-usd-331-billion/',\n",
       " 'https://www.climatepolicyinitiative.org/press-release/low-carbon-energy-transition-india-can-free-600-billion-investment-capacity-support-economic-development/',\n",
       " 'https://www.climatepolicyinitiative.org/press-release/climate-policy-initiative-moves-india-office-delhi-2/',\n",
       " 'https://www.climatepolicyinitiative.org/press-release/low-carbon-energy-transition-can-save-global-economy-trillions-next-20-years/',\n",
       " 'https://www.climatepolicyinitiative.org/press-release/indonesia-meluncurkan-sistem-penelusuran-anggaran-baru-untuk-pendanaan-iklim-yang-lebih-tepat-sasaran/',\n",
       " 'https://www.climatepolicyinitiative.org/press-release/indonesia-launches-new-budget-tracking-system-better-target-climate-finance/',\n",
       " 'https://www.climatepolicyinitiative.org/press-release/barbara-buchner-named-one-20-influential-women-climate-change/',\n",
       " 'https://www.climatepolicyinitiative.org/press-release/study-customers-and-institutional-investors-can-revamp-ailing-electric-industry-in-the-u-s-europe/',\n",
       " 'https://www.climatepolicyinitiative.org/press-release/launchofclimatefinancelab/',\n",
       " 'https://www.climatepolicyinitiative.org/press-release/study-little-risk-of-asset-stranding-from-obamas-june-2-clean-air-act-regulation/',\n",
       " 'https://www.climatepolicyinitiative.org/press-release/climate-policy-initiative-makes-staffing-changes/',\n",
       " 'https://www.climatepolicyinitiative.org/press-release/financing-instruments-can-reduce-the-cost-of-renewable-energy-electricity-in-india-by-up-to-25/',\n",
       " 'https://www.climatepolicyinitiative.org/press-release/ipcc-wg3-report-cites-cpis-climate-finance-figures/',\n",
       " 'https://www.climatepolicyinitiative.org/press-release/adjustments-to-indian-renewable-energy-policies-could-save-india-up-to-78-in-subsidies/',\n",
       " 'https://www.climatepolicyinitiative.org/press-release/worlds-largest-linear-fresnel-concentrated-solar-power-csp-plant-in-india-among-cheapest-internationally-but-policy-needs-adjustment-to-deliver-wider-goals/',\n",
       " 'https://www.climatepolicyinitiative.org/press-release/climate-change-finance-in-indonesia-from-public-sources-totals-at-least-idr-8377-billion-usd-951-million-in-2011/',\n",
       " 'https://www.climatepolicyinitiative.org/press-release/pendanaan-publik-untuk-perubahan-iklim-di-indonesia-minimal-senilai-rp-84-trilyun-usd-951-juta-di-tahun-2011/',\n",
       " 'https://www.climatepolicyinitiative.org/press-release/uso-mais-eficiente-da-terra-no-brasil-permite-aumento-da-producao-agropecuaria-acompanhado-de-protecao-de-recursos-naturais/',\n",
       " 'https://www.climatepolicyinitiative.org/press-release/brazil-can-use-land-more-efficiently-to-simultaneously-grow-agricultural-production-and-protect-natural-resources/',\n",
       " 'https://www.climatepolicyinitiative.org/press-release/data-visualizations-on-global-climate-change-investment-show-were-falling-short-of-the-need/',\n",
       " 'https://www.climatepolicyinitiative.org/press-release/treinamento-direcionado-pode-estimular-uso-de-tecnicas-agricolas-de-alta-produtividade/',\n",
       " 'https://www.climatepolicyinitiative.org/press-release/targeted-training-can-accelerate-high-yield-farming-technique/',\n",
       " 'https://www.climatepolicyinitiative.org/press-release/new-california-carbon-dashboard-website-provides-latest-on-ab32s-cap-and-trade-program-and-carbon-price-for-worlds-14th-largest-emitter/',\n",
       " 'https://www.climatepolicyinitiative.org/press-release/climate-change-investment-totals-usd-359-billion-worldwide/',\n",
       " 'https://www.climatepolicyinitiative.org/press-release/new-global-commission-aims-to-identify-pathways-to-economic-prosperity-and-a-safe-climate/',\n",
       " 'https://www.climatepolicyinitiative.org/press-release/three-in-four-new-rooftop-solar-installations-in-california-are-now-leased-not-purchased/',\n",
       " 'https://www.climatepolicyinitiative.org/press-release/climate-policy-initiative-and-university-of-palangka-raya-support-indonesian-forest-production-and-protection-program-with-funding-from-the-norwegian-government/',\n",
       " 'https://www.climatepolicyinitiative.org/press-release/climate-policy-initiative-dan-universitas-palangka-raya-dukung-program-produksi-dan-proteksi-hutan-indonesia-yang-didanai-oleh-pemerintah-norwegia/',\n",
       " 'https://www.climatepolicyinitiative.org/press-release/brazilian-monitoring-and-law-enforcement-prevented-over-59500-sq-km-of-amazon-deforestation/',\n",
       " 'https://www.climatepolicyinitiative.org/press-release/politicas-de-comando-e-controle-no-brasil-evitam-mais-de-59-500-km2-de-desmatamento-na-amazonia/',\n",
       " 'https://www.climatepolicyinitiative.org/press-release/national-climate-policy-progressed-in-the-last-decade-despite-stalled-global-negotiations/',\n",
       " 'https://www.climatepolicyinitiative.org/press-release/climate-policy-initiative-shifts-strategy-in-europe-asia/',\n",
       " 'https://www.climatepolicyinitiative.org/press-release/new-study-institutional-investors-face-limits-to-renewable-energy-investment/',\n",
       " 'https://www.climatepolicyinitiative.org/press-release/change-in-brazil-credit-legislation-reduced-amazon-deforestation-by-15/',\n",
       " 'https://www.climatepolicyinitiative.org/press-release/mudanca-na-legislacao-de-credito-contribui-para-reducao-do-desmatamento-na-amazonia-em-15/',\n",
       " 'https://www.climatepolicyinitiative.org/press-release/cambios-en-la-legislacion-del-brasil-en-materia-de-credito-redujeron-la-deforestacion-en-15/',\n",
       " 'https://www.climatepolicyinitiative.org/press-release/perubahan-kebijakan-pada-badan-legislatif-kredit-brasil-menekan-penggundulan-hutan-amazon-hingga-15/',\n",
       " 'https://www.climatepolicyinitiative.org/press-release/gaps-in-risk-coverage-hinder-renewable-energy-investments/',\n",
       " 'https://www.climatepolicyinitiative.org/press-release/financing-challenges-make-renewable-energy-in-india-more-expensive-than-in-the-u-s-europe-without-policy-solutions-challenges-could-limit-future-growth-in-this-sector/',\n",
       " 'https://www.climatepolicyinitiative.org/press-release/global-annual-climate-finance-reaches-usd-364-billion-falls-short-of-investment-needed-to-limit-global-warming-to-two-degrees-celsius/',\n",
       " 'https://www.climatepolicyinitiative.org/press-release/neue-studie-deutschland-investiert-37-mrd-euro-oder-1-5-seines-bruttoinlandprodukts-in-den-klimaschutz/',\n",
       " 'https://www.climatepolicyinitiative.org/press-release/new-study-germany-invested-eur-37-billion-or-1-5-of-gdp-to-reduce-the-impact-of-climate-change/',\n",
       " 'https://www.climatepolicyinitiative.org/press-release/could-the-private-sector-help-unpick-the-climate-finance-deadlock/',\n",
       " 'https://www.climatepolicyinitiative.org/press-release/california-cap-and-trade-likely-to-improve-air-quality-near-industrial-facilities/',\n",
       " 'https://www.climatepolicyinitiative.org/press-release/small-changes-to-federal-renewable-policy-could-deliver-big-savings-for-taxpayers/',\n",
       " 'https://www.climatepolicyinitiative.org/press-release/case-studies-reveal-policy-is-necessary-to-attract-private-investment-in-renewables-risk-reallocation-expands-investor-pool/',\n",
       " 'https://www.climatepolicyinitiative.org/press-release/climate-policy-initiative-analysis-of-four-countries-shows-all-could-do-better-in-monitoring-policy-effectiveness/',\n",
       " 'https://www.climatepolicyinitiative.org/press-release/government-policies-responsible-for-half-of-the-reduction-in-deforestation-in-the-brazilian-amazon/',\n",
       " 'https://www.climatepolicyinitiative.org/press-release/cpi-consolidates-european-operations/',\n",
       " 'https://www.climatepolicyinitiative.org/press-release/climate-policy-initiative-finds-china-made-significant-investments-in-low-carbon-development-during-the-11th-five-year-plan-but-challenges-remain/',\n",
       " 'https://www.climatepolicyinitiative.org/press-release/climate-policy-initiative-finds-that-global-climate-finance-totals-at-least-usd-97-billion-a-year/',\n",
       " 'https://www.climatepolicyinitiative.org/press-release/climate-policy-initiative-finds-long-term-stable-policy-support-key-to-reducing-cost-of-financing-renewable-energy-projects/',\n",
       " 'https://www.climatepolicyinitiative.org/press-release/climate-policy-initiative-analysis-finds-u-s-building-energy-codes-work/',\n",
       " 'https://www.climatepolicyinitiative.org/press-release/energetische-sanierungen-was-eigenheimbesitzer-zur-entscheidung-fur-sanierungen-bewegt/',\n",
       " 'https://www.climatepolicyinitiative.org/press-release/climate-policy-initiative-opens-rio-center-focused-on-effective-green-and-low-carbon-development-policies-in-brazil/',\n",
       " 'https://www.climatepolicyinitiative.org/press-release/cpi-study-finds-china-made-solid-progress-towards-11th-fyp-energy-intensity-targets-but-may-face-challenges-in-meeting-12th-fyp-targets/',\n",
       " 'https://www.climatepolicyinitiative.org/press-release/climate-policy-initiative-analysis-finds-european-power-market-improvements-are-important-for-wind-power-expansion/',\n",
       " 'https://www.climatepolicyinitiative.org/press-release/climate-policy-initiative-and-climate-strategies-study-finds-eu-emissions-trading-scheme-supports-low-carbon-investment-but-impact-can-be-strengthened/',\n",
       " 'https://www.climatepolicyinitiative.org/press-release/climate-policy-initiative-establishes-project-to-study-climate-finance-effectiveness-productivity/',\n",
       " 'https://www.climatepolicyinitiative.org/press-release/climate-policy-initiative-at-tsingshua-to-provide-analysis-to-support-chinese-governments-efforts-towards-low-carbon-growth/',\n",
       " 'https://www.climatepolicyinitiative.org/press-release/climate-policy-initiative-opens-third-office-at-fondazione-eni-enrico-mattei-in-venice/',\n",
       " 'https://www.climatepolicyinitiative.org/press-release/climate-policy-initiative-opens-center-at-diw-berlin/']"
      ]
     },
     "execution_count": 4,
     "metadata": {},
     "output_type": "execute_result"
    }
   ],
   "source": [
    "links"
   ]
  },
  {
   "cell_type": "code",
   "execution_count": 9,
   "id": "0881aadd",
   "metadata": {},
   "outputs": [
    {
     "data": {
      "text/plain": [
       "'https://www.climatepolicyinitiative.org/press-release/cities-climate-finance-leadership-alliance-ccfla-launches-the-local-hub-program-to-help-bridge-the-demand-supply-gap-for-urban-climate-investment/'"
      ]
     },
     "execution_count": 9,
     "metadata": {},
     "output_type": "execute_result"
    }
   ],
   "source": [
    "# Create example link/article extraction\n",
    "link = links[0]\n",
    "soup = make_soup(link)    \n",
    "# Extract the title, content, and program of the press release\n",
    "article = soup.find('article')\n",
    "title = article.find(\"h1\", class_=\"article--title\").text.strip()\n",
    "content = article.find(\"div\", class_=\"col article--content\").text.strip()\n",
    "program = article.find(\"div\", class_=\"post-meta post-taxonomy is-programs\").find(\"a\").text.strip()\n",
    "links[0]"
   ]
  },
  {
   "cell_type": "code",
   "execution_count": 24,
   "id": "4e3ec56a",
   "metadata": {},
   "outputs": [],
   "source": [
    "# Loop through the links and print the title and URL of each press release\n",
    "titles = []\n",
    "contents = []\n",
    "programs = []\n",
    "for link in links:\n",
    "    soup = make_soup(link)    \n",
    "    # Extract the title, content, and program of the press release\n",
    "    article = soup.find('article')\n",
    "    title = article.find(\"h1\", class_=\"article--title\").text.strip()\n",
    "    titles.append(title)\n",
    "    content = article.find(\"div\", class_=\"col article--content\").text.strip()\n",
    "    contents.append(content)\n",
    "    try:\n",
    "        program = article.find(\"div\", class_=\"post-meta post-taxonomy is-programs\").find(\"a\").text.strip()\n",
    "    except AttributeError:\n",
    "        program = 'NA'\n",
    "    programs.append(program)\n"
   ]
  },
  {
   "cell_type": "code",
   "execution_count": 25,
   "id": "e000cc19",
   "metadata": {},
   "outputs": [
    {
     "name": "stdout",
     "output_type": "stream",
     "text": [
      "204\n",
      "204\n",
      "204\n"
     ]
    }
   ],
   "source": [
    "# Check that each link has a title, content and a program associated\n",
    "print(len(titles))\n",
    "print(len(contents))\n",
    "print(len(programs))"
   ]
  },
  {
   "cell_type": "code",
   "execution_count": 28,
   "id": "5bd1130b",
   "metadata": {},
   "outputs": [
    {
     "data": {
      "text/html": [
       "<div>\n",
       "<style scoped>\n",
       "    .dataframe tbody tr th:only-of-type {\n",
       "        vertical-align: middle;\n",
       "    }\n",
       "\n",
       "    .dataframe tbody tr th {\n",
       "        vertical-align: top;\n",
       "    }\n",
       "\n",
       "    .dataframe thead th {\n",
       "        text-align: right;\n",
       "    }\n",
       "</style>\n",
       "<table border=\"1\" class=\"dataframe\">\n",
       "  <thead>\n",
       "    <tr style=\"text-align: right;\">\n",
       "      <th></th>\n",
       "      <th>Title</th>\n",
       "      <th>Content</th>\n",
       "      <th>Program</th>\n",
       "    </tr>\n",
       "  </thead>\n",
       "  <tbody>\n",
       "    <tr>\n",
       "      <th>0</th>\n",
       "      <td>Cities Climate Finance Leadership Alliance (CC...</td>\n",
       "      <td>CCFLA welcomes members in Central Asia to enga...</td>\n",
       "      <td>Cities Climate Finance Leadership Alliance</td>\n",
       "    </tr>\n",
       "    <tr>\n",
       "      <th>1</th>\n",
       "      <td>Estudo inédito mapeia a implementação do Códig...</td>\n",
       "      <td>Pará, Mato Grosso e São Paulo lideram avanços ...</td>\n",
       "      <td>Núcleo de Avaliação de Políticas Climáticas</td>\n",
       "    </tr>\n",
       "    <tr>\n",
       "      <th>2</th>\n",
       "      <td>Seguro rural não acompanha as perdas crescente...</td>\n",
       "      <td>Mudança climática afeta a produção de soja no ...</td>\n",
       "      <td>Núcleo de Avaliação de Políticas Climáticas</td>\n",
       "    </tr>\n",
       "    <tr>\n",
       "      <th>3</th>\n",
       "      <td>Global Innovation Lab for Climate Finance anno...</td>\n",
       "      <td>16 March 2023\\nLONDON – Members of the Global ...</td>\n",
       "      <td>Global Innovation Lab for Climate Finance</td>\n",
       "    </tr>\n",
       "    <tr>\n",
       "      <th>4</th>\n",
       "      <td>Climate Policy Initiative and Power Foundation...</td>\n",
       "      <td>As per updated nationally determined contribut...</td>\n",
       "      <td>NA</td>\n",
       "    </tr>\n",
       "    <tr>\n",
       "      <th>...</th>\n",
       "      <td>...</td>\n",
       "      <td>...</td>\n",
       "      <td>...</td>\n",
       "    </tr>\n",
       "    <tr>\n",
       "      <th>199</th>\n",
       "      <td>Climate Policy Initiative and Climate Strategi...</td>\n",
       "      <td>BERLIN, GERMANY — Climate Policy Initiative (C...</td>\n",
       "      <td>Climate Finance</td>\n",
       "    </tr>\n",
       "    <tr>\n",
       "      <th>200</th>\n",
       "      <td>Climate Policy Initiative Establishes Project ...</td>\n",
       "      <td>VENICE, ITALY — Climate Policy Initiative (CPI...</td>\n",
       "      <td>Climate Finance</td>\n",
       "    </tr>\n",
       "    <tr>\n",
       "      <th>201</th>\n",
       "      <td>Climate Policy Initiative at Tsingshua to Prov...</td>\n",
       "      <td>TSINGHUA, CHINA — Climate Policy Initiative (C...</td>\n",
       "      <td>Climate Finance</td>\n",
       "    </tr>\n",
       "    <tr>\n",
       "      <th>202</th>\n",
       "      <td>Climate Policy Initiative Opens Third Office a...</td>\n",
       "      <td>VENICE, ITALY – Climate Policy Initiative (CPI...</td>\n",
       "      <td>Climate Finance</td>\n",
       "    </tr>\n",
       "    <tr>\n",
       "      <th>203</th>\n",
       "      <td>Climate Policy Initiative Opens Center at DIW ...</td>\n",
       "      <td>BERLIN, GERMANY — A new research center devote...</td>\n",
       "      <td>NA</td>\n",
       "    </tr>\n",
       "  </tbody>\n",
       "</table>\n",
       "<p>204 rows × 3 columns</p>\n",
       "</div>"
      ],
      "text/plain": [
       "                                                 Title  \\\n",
       "0    Cities Climate Finance Leadership Alliance (CC...   \n",
       "1    Estudo inédito mapeia a implementação do Códig...   \n",
       "2    Seguro rural não acompanha as perdas crescente...   \n",
       "3    Global Innovation Lab for Climate Finance anno...   \n",
       "4    Climate Policy Initiative and Power Foundation...   \n",
       "..                                                 ...   \n",
       "199  Climate Policy Initiative and Climate Strategi...   \n",
       "200  Climate Policy Initiative Establishes Project ...   \n",
       "201  Climate Policy Initiative at Tsingshua to Prov...   \n",
       "202  Climate Policy Initiative Opens Third Office a...   \n",
       "203  Climate Policy Initiative Opens Center at DIW ...   \n",
       "\n",
       "                                               Content  \\\n",
       "0    CCFLA welcomes members in Central Asia to enga...   \n",
       "1    Pará, Mato Grosso e São Paulo lideram avanços ...   \n",
       "2    Mudança climática afeta a produção de soja no ...   \n",
       "3    16 March 2023\\nLONDON – Members of the Global ...   \n",
       "4    As per updated nationally determined contribut...   \n",
       "..                                                 ...   \n",
       "199  BERLIN, GERMANY — Climate Policy Initiative (C...   \n",
       "200  VENICE, ITALY — Climate Policy Initiative (CPI...   \n",
       "201  TSINGHUA, CHINA — Climate Policy Initiative (C...   \n",
       "202  VENICE, ITALY – Climate Policy Initiative (CPI...   \n",
       "203  BERLIN, GERMANY — A new research center devote...   \n",
       "\n",
       "                                         Program  \n",
       "0     Cities Climate Finance Leadership Alliance  \n",
       "1    Núcleo de Avaliação de Políticas Climáticas  \n",
       "2    Núcleo de Avaliação de Políticas Climáticas  \n",
       "3      Global Innovation Lab for Climate Finance  \n",
       "4                                             NA  \n",
       "..                                           ...  \n",
       "199                              Climate Finance  \n",
       "200                              Climate Finance  \n",
       "201                              Climate Finance  \n",
       "202                              Climate Finance  \n",
       "203                                           NA  \n",
       "\n",
       "[204 rows x 3 columns]"
      ]
     },
     "execution_count": 28,
     "metadata": {},
     "output_type": "execute_result"
    }
   ],
   "source": [
    "# Create df\n",
    "# create a dictionary with keys as attribute names and values as lists\n",
    "articles_data = {'Title': titles, 'Content': contents, 'Program': programs}\n",
    "\n",
    "# create a dataframe from the dictionary\n",
    "articles_df = pd.DataFrame(articles_data)\n",
    "\n",
    "articles_df"
   ]
  },
  {
   "cell_type": "code",
   "execution_count": 42,
   "id": "301b5352",
   "metadata": {},
   "outputs": [],
   "source": [
    "# Save articles\n",
    "articles_df.to_csv('articles.csv', index=False)"
   ]
  },
  {
   "cell_type": "code",
   "execution_count": 33,
   "id": "ca91c348",
   "metadata": {},
   "outputs": [
    {
     "data": {
      "text/plain": [
       "109"
      ]
     },
     "execution_count": 33,
     "metadata": {},
     "output_type": "execute_result"
    }
   ],
   "source": [
    "# See how many articles are classified under various programs of interest\n",
    "sum(articles_df['Program'] == 'Climate Finance') + sum(articles_df['Program'] == 'Cities Climate Finance Leadership Alliance') + sum(articles_df['Program'] == 'Climate Finance Tracking') + sum(articles_df['Program'] == 'Global Innovation Lab for Climate Finance')"
   ]
  },
  {
   "cell_type": "code",
   "execution_count": 38,
   "id": "3bba20ce",
   "metadata": {},
   "outputs": [
    {
     "name": "stdout",
     "output_type": "stream",
     "text": [
      "Cities Climate Finance Leadership Alliance\n",
      "Núcleo de Avaliação de Políticas Climáticas\n",
      "Núcleo de Avaliação de Políticas Climáticas\n",
      "Global Innovation Lab for Climate Finance\n",
      "NA\n",
      "NA\n",
      "Núcleo de Avaliação de Políticas Climáticas\n",
      "Núcleo de Avaliação de Políticas Climáticas\n",
      "NA\n",
      "Climate Finance\n",
      "Núcleo de Avaliação de Políticas Climáticas\n",
      "Núcleo de Avaliação de Políticas Climáticas\n",
      "Núcleo de Avaliação de Políticas Climáticas\n",
      "NA\n",
      "NA\n",
      "Climate Finance\n",
      "Global Innovation Lab for Climate Finance\n",
      "Global Innovation Lab for Climate Finance\n",
      "NA\n",
      "Global Innovation Lab for Climate Finance\n",
      "Climate Finance Tracking\n",
      "Climate Finance\n",
      "NA\n",
      "Climate Finance\n",
      "Climate Finance\n",
      "Climate Finance\n",
      "Global Innovation Lab for Climate Finance\n",
      "Climate Finance\n",
      "Climate Finance\n",
      "Climate Finance\n",
      "Climate Finance\n",
      "Climate Finance\n",
      "Global Innovation Lab for Climate Finance\n",
      "Global Innovation Lab for Climate Finance\n",
      "NA\n",
      "NA\n",
      "Climate Finance\n",
      "Cities Climate Finance Leadership Alliance\n",
      "Climate Finance\n",
      "Climate Finance\n",
      "Global Innovation Lab for Climate Finance\n",
      "Climate Finance\n",
      "Climate Finance\n",
      "Climate Finance Tracking\n",
      "Climate Finance\n",
      "Climate Finance\n",
      "Climate Finance\n",
      "Climate Finance\n",
      "Climate Finance\n",
      "Climate Finance\n",
      "Climate Finance\n",
      "Cities Climate Finance Leadership Alliance\n",
      "Cities Climate Finance Leadership Alliance\n",
      "Climate Finance\n",
      "Climate Finance\n",
      "Brazil Policy Center\n",
      "Brazil Policy Center\n",
      "Climate Finance\n",
      "Brazil Policy Center\n",
      "Climate Finance\n",
      "Climate Finance\n",
      "Climate Finance\n",
      "Climate Finance\n",
      "Climate Finance\n",
      "Cities Climate Finance Leadership Alliance\n",
      "Climate Finance\n",
      "Brazil Policy Center\n",
      "Climate Finance\n",
      "Energy Finance\n",
      "Climate Finance\n",
      "Climate Finance\n",
      "Climate Finance\n",
      "Climate Finance\n",
      "Climate Finance\n",
      "Climate Finance\n",
      "Climate Finance\n",
      "NA\n",
      "US-India Clean Energy Finance\n",
      "Climate Finance\n",
      "Brazil Policy Center\n",
      "Brazil Policy Center\n",
      "Global Innovation Lab for Climate Finance\n",
      "Climate Finance\n",
      "Climate Finance\n",
      "NA\n",
      "Climate Finance\n",
      "Brazil Policy Center\n",
      "Brazil Policy Center\n",
      "Brazil Policy Center\n",
      "US-India Clean Energy Finance\n",
      "Climate Finance\n",
      "Brazil Policy Center\n",
      "Energy Finance\n",
      "Brazil Policy Center\n",
      "Brazil Policy Center\n",
      "Brazil Policy Center\n",
      "NA\n",
      "Brazil Policy Center\n",
      "NA\n",
      "Climate Finance\n",
      "Brazil Policy Center\n",
      "NA\n",
      "Climate Finance\n",
      "Climate Finance\n",
      "Brazil Policy Center\n",
      "Brazil Policy Center\n",
      "Brazil Policy Center\n",
      "Brazil Policy Center\n",
      "Brazil Policy Center\n",
      "Brazil Policy Center\n",
      "Brazil Policy Center\n",
      "Climate Finance\n",
      "Brazil Policy Center\n",
      "Energy Finance\n",
      "Energy Finance\n",
      "Climate Finance\n",
      "NA\n",
      "Climate Finance\n",
      "Climate Finance Tracking\n",
      "NA\n",
      "NA\n",
      "Climate Finance\n",
      "NA\n",
      "NA\n",
      "Climate Finance Tracking\n",
      "Climate Finance\n",
      "Climate Finance\n",
      "Climate Finance\n",
      "Climate Finance\n",
      "Climate Finance\n",
      "NA\n",
      "NA\n",
      "Energy Finance\n",
      "NA\n",
      "NA\n",
      "Climate Finance\n",
      "Energy Finance\n",
      "Climate Finance\n",
      "Energy Finance\n",
      "NA\n",
      "NA\n",
      "NA\n",
      "Climate Finance\n",
      "Climate Finance\n",
      "NA\n",
      "Climate Finance\n",
      "Climate Finance\n",
      "Climate Finance\n",
      "Climate Finance\n",
      "Climate Finance\n",
      "Climate Finance\n",
      "Climate Finance\n",
      "NA\n",
      "Climate Finance\n",
      "Climate Finance\n",
      "NA\n",
      "Climate Finance\n",
      "Climate Finance\n",
      "NA\n",
      "NA\n",
      "NA\n",
      "Climate Finance\n",
      "NA\n",
      "NA\n",
      "Climate Finance\n",
      "Climate Finance\n",
      "Climate Finance\n",
      "Energy Finance\n",
      "Climate Finance\n",
      "Climate Finance\n",
      "NA\n",
      "NA\n",
      "Energy Finance\n",
      "NA\n",
      "Climate Finance\n",
      "Climate Finance\n",
      "Climate Finance\n",
      "NA\n",
      "NA\n",
      "Climate Finance\n",
      "Energy Finance\n",
      "Climate Finance\n",
      "Climate Finance\n",
      "Climate Finance\n",
      "Climate Finance\n",
      "Energy Finance\n",
      "NA\n",
      "Energy Finance\n",
      "Energy Finance\n",
      "NA\n",
      "San Giorgio Group\n",
      "Energy Finance\n",
      "Climate Finance\n",
      "Energy Finance\n",
      "Energy Finance\n",
      "NA\n",
      "NA\n",
      "Energy Finance\n",
      "Energy Finance\n",
      "Climate Finance\n",
      "Climate Finance\n",
      "Climate Finance\n",
      "Climate Finance\n",
      "NA\n"
     ]
    }
   ],
   "source": [
    "# Evaluate programs on website\n",
    "for i in articles_df['Program']:\n",
    "    print(i)"
   ]
  },
  {
   "cell_type": "markdown",
   "id": "ff8f7c47",
   "metadata": {},
   "source": [
    "## Publications"
   ]
  },
  {
   "cell_type": "code",
   "execution_count": 39,
   "id": "05a2e89f",
   "metadata": {},
   "outputs": [],
   "source": [
    "# Use beautiful soup to scrape content from Climate Policy Initiative website\n",
    "url = \"https://www.climatepolicyinitiative.org/resources/publications/\"\n",
    "\n",
    "soup = make_soup(url)\n",
    "\n",
    "# Find all h2 tags with class \"post-header--title\"\n",
    "headers_h2 = soup.find_all(\"h2\", class_=\"post-header--title\")\n",
    "\n",
    "links = []\n",
    "# Loop through the headers and extract the links in the <a> tags\n",
    "for header in headers_h2:\n",
    "    link = header.find(\"a\").get(\"href\")\n",
    "    links.append(link)\n"
   ]
  },
  {
   "cell_type": "code",
   "execution_count": 43,
   "id": "09813f6a",
   "metadata": {},
   "outputs": [
    {
     "data": {
      "text/plain": [
       "470"
      ]
     },
     "execution_count": 43,
     "metadata": {},
     "output_type": "execute_result"
    }
   ],
   "source": [
    "# Show how many links have been scraped\n",
    "len(links)"
   ]
  },
  {
   "cell_type": "code",
   "execution_count": 41,
   "id": "8844415b",
   "metadata": {},
   "outputs": [
    {
     "data": {
      "text/plain": [
       "['https://www.climatepolicyinitiative.org/publication/policies-and-enabling-environmentto-drive-private-investments-forindustrial-decarbonization-in-indiaidentifying-priority-actions-for-decarbonizingsteel-and-cement-sectors/',\n",
       " 'https://www.climatepolicyinitiative.org/publication/2022-impact-and-highlights-from-cpis-climate-finance-tracking-workstream/',\n",
       " 'https://www.climatepolicyinitiative.org/pt-br/publication/onde-estamos-na-implementacao-do-codigo-florestal-radiografia-do-car-e-do-pra-nos-estados-brasileiros-edicao-2022/',\n",
       " 'https://www.climatepolicyinitiative.org/publication/challenges-of-rural-insurance-in-the-context-of-climate-change-the-case-of-soybeans/',\n",
       " 'https://www.climatepolicyinitiative.org/publication/an-innovative-ifi-operating-model-for-the-21st-century/',\n",
       " 'https://www.climatepolicyinitiative.org/pt-br/publication/quem-e-quem-na-transicao-rural-justa/',\n",
       " 'https://www.climatepolicyinitiative.org/pt-br/publication/de-olhos-abertos-na-mp-no-1150-2022-que-altera-as-regras-de-adesao-ao-programa-de-regularizacao-ambiental-pra/',\n",
       " 'https://www.climatepolicyinitiative.org/publication/emissions-accounting-in-managed-coal-phaseout-finance/',\n",
       " 'https://www.climatepolicyinitiative.org/publication/where-does-brazil-stand-and-where-is-it-heading-in-the-implementation-of-the-forest-code-opportunities-for-the-new-lula-administration/',\n",
       " 'https://www.climatepolicyinitiative.org/publication/global-landscape-of-renewable-energy-finance-2023/',\n",
       " 'https://www.climatepolicyinitiative.org/publication/ccfla-2022-highlights-and-impact/',\n",
       " 'https://www.climatepolicyinitiative.org/publication/smallholders-in-the-caatinga-and-the-cerrado-a-baseline-analysis-for-a-rural-just-transition-in-brazil/',\n",
       " 'https://www.climatepolicyinitiative.org/pt-br/publication/panorama-de-financiamento-de-rodovias-e-ferrovias-na-amazonia/',\n",
       " 'https://www.climatepolicyinitiative.org/publication/guidelines-to-assess-the-direct-and-indirect-areaof-influence-of-transportation-infrastructure-projects/',\n",
       " 'https://www.climatepolicyinitiative.org/pt-br/publication/a-transicao-energetica-na-amazonia-legal/',\n",
       " 'https://www.climatepolicyinitiative.org/pt-br/publication/eficiencia-energetica-ee-no-brasil-e-no-mundo-mecanismos-das-politicas-de-ee-em-unidades-consumidoras-intensivas-de-eletricidade/',\n",
       " 'https://www.climatepolicyinitiative.org/pt-br/publication/pl-no-36-2021-anistia-desmatamentos-cancela-multas-e-suspende-embargos/',\n",
       " 'https://www.climatepolicyinitiative.org/?post_type=cpi_publications&p=54999',\n",
       " 'https://www.climatepolicyinitiative.org/publication/are-indonesian-banks-ready-to-account-climate-related-matters/',\n",
       " 'https://www.climatepolicyinitiative.org/publication/tracking-investments-in-climate-resilient-infrastructure/',\n",
       " 'https://www.climatepolicyinitiative.org/publication/finance-landscape-of-highways-and-railroads-elements-for-strengthening-the-governance-of-infrastructure-investments-in-the-brazilian-amazon/',\n",
       " 'https://www.climatepolicyinitiative.org/publication/the-challenges-in-the-adoption-of-sustainable-practices-by-small-ranchers-the-case-of-abc-cerrado/',\n",
       " 'https://www.climatepolicyinitiative.org/publication/idfc-green-finance-mapping-2022/',\n",
       " 'https://www.climatepolicyinitiative.org/publication/landscape-of-climate-finance-for-agriculture-forestry-other-land-uses-and-fisheries/',\n",
       " 'https://www.climatepolicyinitiative.org/publication/policy-brief-financing-urban-climate-adaptation-and-resilience/',\n",
       " 'https://www.climatepolicyinitiative.org/publication/landscape-of-climate-finance-in-ethiopia/',\n",
       " 'https://www.climatepolicyinitiative.org/publication/climate-risks-and-opportunities/',\n",
       " 'https://www.climatepolicyinitiative.org/publication/global-landscape-of-climate-finance-a-decade-of-data/',\n",
       " 'https://www.climatepolicyinitiative.org/publication/landscape-of-climate-finance-in-burkina-faso/',\n",
       " 'https://www.climatepolicyinitiative.org/publication/public-financial-institutions-climate-commitments/',\n",
       " 'https://www.climatepolicyinitiative.org/publication/landscape-of-climate-finance-in-nigeria/',\n",
       " 'https://www.climatepolicyinitiative.org/publication/reservoir-methane-capture-mechanism/',\n",
       " 'https://www.climatepolicyinitiative.org/publication/the-fund-for-nature/',\n",
       " 'https://www.climatepolicyinitiative.org/publication/financing-steel-decarbonization/',\n",
       " 'https://www.climatepolicyinitiative.org/publication/green-affordable-housing-finance/',\n",
       " 'https://www.climatepolicyinitiative.org/publication/the-green-guarantee-company-ggc/',\n",
       " 'https://www.climatepolicyinitiative.org/publication/climate-smart-shrimp-fund/',\n",
       " 'https://www.climatepolicyinitiative.org/publication/climate-insurance-linked-resilient-infrastructure-financing-cilrif/',\n",
       " 'https://www.climatepolicyinitiative.org/publication/landscape-of-climate-finance-in-africa/',\n",
       " 'https://www.climatepolicyinitiative.org/publication/bioeconomy-in-the-amazon-conceptual-regulatory-and-institutional-analysis/',\n",
       " 'https://www.climatepolicyinitiative.org/publication/increasing-subnational-pension-funds-climate-investments/',\n",
       " 'https://www.climatepolicyinitiative.org/publication/the-state-of-global-air-quality-funding-2022/',\n",
       " 'https://www.climatepolicyinitiative.org/publication/revealing-incentives-implications-of-the-design-of-public-rural-insurance-policies-in-brazil/',\n",
       " 'https://www.climatepolicyinitiative.org/publication/we-need-to-talk-about-forest-degradation-in-the-amazon-brazilian-public-policy-must-understand-and-address-this-threat/',\n",
       " 'https://www.climatepolicyinitiative.org/publication/climate-finance-innovation-for-africa/',\n",
       " 'https://www.climatepolicyinitiative.org/publication/landscape-of-green-finance-in-india-2022/',\n",
       " 'https://www.climatepolicyinitiative.org/publication/busting-the-myths-around-public-investment-in-clean-energy/',\n",
       " 'https://www.climatepolicyinitiative.org/publication/financing-net-zero-carbon-buildings/',\n",
       " 'https://www.climatepolicyinitiative.org/publication/the-landscape-of-methane-abatement-finance/',\n",
       " 'https://www.climatepolicyinitiative.org/publication/mining-royalties-and-socioeconomic-development-in-para/',\n",
       " 'https://www.climatepolicyinitiative.org/publication/roadmap-for-sustainable-infrastructure-in-the-amazon/',\n",
       " 'https://www.climatepolicyinitiative.org/publication/financial-aggregation-for-cities/',\n",
       " 'https://www.climatepolicyinitiative.org/publication/climate-finance-needs-of-african-countries/',\n",
       " 'https://www.climatepolicyinitiative.org/publication/bndes-in-the-legal-amazon/',\n",
       " 'https://www.climatepolicyinitiative.org/publication/indonesia-blue-finance-landscape/',\n",
       " 'https://www.climatepolicyinitiative.org/publication/private-financial-institutions-paris-alignment-commitments-2022-update/',\n",
       " 'https://www.climatepolicyinitiative.org/pt-br/publication/congresso-nacional-presenteia-o-codigo-florestal-com-cavalo-de-troia/',\n",
       " 'https://www.climatepolicyinitiative.org/publication/rivers-of-diesel-in-the-amazon-why-does-the-region-with-brazils-biggest-hydroelectric-plants-still-rely-on-expensive-dirty-fuel/',\n",
       " 'https://www.climatepolicyinitiative.org/pt-br/publication/barometro-do-codigo-florestal-no-legislativo/',\n",
       " 'https://www.climatepolicyinitiative.org/pt-br/publication/monitor-da-implementacao-do-codigo-florestal/',\n",
       " 'https://www.climatepolicyinitiative.org/pt-br/publication/onde-estamos-10-anos-da-implementacao-do-codigo-florestal/',\n",
       " 'https://www.climatepolicyinitiative.org/pt-br/publication/impactos-das-controversias-juridicas-na-implementacao-do-codigo-florestal/',\n",
       " 'https://www.climatepolicyinitiative.org/pt-br/publication/cancelamento-de-car-em-terras-indigenas-desafios-e-propostas-para-uma-melhor-implementacao/',\n",
       " 'https://www.climatepolicyinitiative.org/publication/usicef-impacts-and-lessons-learned-2017-2021/',\n",
       " 'https://www.climatepolicyinitiative.org/publication/rural-investment-bndes-credit-contributes-to-agricultural-intensification/',\n",
       " 'https://www.climatepolicyinitiative.org/publication/redefining-priorities-in-infrastructure-development-in-the-amazon-evidence-from-the-state-of-para/',\n",
       " 'https://www.climatepolicyinitiative.org/pt-br/publication/senado-presenteia-os-10-anos-do-codigo-florestal-com-mais-anistia-aos-desmatadores/',\n",
       " 'https://www.climatepolicyinitiative.org/publication/accessibility-in-the-legal-amazon-measuring-market-access/',\n",
       " 'https://www.climatepolicyinitiative.org/publication/accessibility-in-the-legal-amazon-delimiting-the-area-of-influence-and-environmental-risks/',\n",
       " 'https://www.climatepolicyinitiative.org/publication/accessibility-in-the-amazon-digital-solutions/',\n",
       " 'https://www.climatepolicyinitiative.org/publication/presidential-decrees-exacerbate-the-contradiction-in-mining-regulations-at-the-expense-of-the-environment/',\n",
       " 'https://www.climatepolicyinitiative.org/publication/the-role-of-end-user-subsidies-in-closing-the-affordability-gap/',\n",
       " 'https://www.climatepolicyinitiative.org/publication/mobilizing-green-finance-while-managing-climate-finance-risk-in-india/',\n",
       " 'https://www.climatepolicyinitiative.org/publication/priorities-that-do-not-prioritize-the-mismatch-between-the-objectives-and-the-application-of-resources-from-constitutional-funds-leads-to-credit-concentration-in-the-rural-sector/',\n",
       " 'https://www.climatepolicyinitiative.org/pt-br/publication/infraestrutura-de-transporte-e-emprego-uma-abordagem-de-acesso-ao-mercado/',\n",
       " 'https://www.climatepolicyinitiative.org/publication/what-makes-a-transition-plan-credible-considerations-for-financial-institutions/',\n",
       " 'https://www.climatepolicyinitiative.org/publication/paris-alignment-of-power-sector-finance-flows-in-indonesia-challenges-opportunities-and-innovative-solutions/',\n",
       " 'https://www.climatepolicyinitiative.org/publication/paris-alignment-of-power-sector-finance-flows-in-india-challenges-opportunities-and-innovative-solutions/',\n",
       " 'https://www.climatepolicyinitiative.org/publication/blueprints-for-climate-finance-in-kenya/',\n",
       " 'https://www.climatepolicyinitiative.org/publication/alliance-highlights-and-impact-report-2019-2021/',\n",
       " 'https://www.climatepolicyinitiative.org/publication/incremental-investments-in-energy-efficiency-in-green-buildings/',\n",
       " 'https://www.climatepolicyinitiative.org/publication/global-landscape-of-climate-finance-2021/',\n",
       " 'https://www.climatepolicyinitiative.org/pt-br/publication/conciliacao-ambiental-e-desmatamento-na-amazonia-implicacoes-e-desafios-a-partir-de-evidencias/',\n",
       " 'https://www.climatepolicyinitiative.org/pt-br/publication/grilagem-a-vista-parecer-do-senador-carlos-favaro-aprova-mudancas-na-lei-fundiaria/',\n",
       " 'https://www.climatepolicyinitiative.org/publication/credit-for-investments-in-brazilian-agriculture-and-the-role-of-the-brazilian-development-bank/',\n",
       " 'https://www.climatepolicyinitiative.org/publication/where-does-brazil-stand-with-the-implementation-of-the-forest-code-a-snapshot-of-the-car-and-the-pra-in-brazils-states-2021-edition/',\n",
       " 'https://www.climatepolicyinitiative.org/publication/the-relationship-between-forest-fires-and-deforestation-in-the-amazon-phenomena-are-more-closely-related-in-rural-settlements-and-in-occupied-public-lands/',\n",
       " 'https://www.climatepolicyinitiative.org/publication/through-deters-lens-the-relationship-between-degradation-and-deforestation-in-the-amazon/',\n",
       " 'https://www.climatepolicyinitiative.org/publication/the-role-of-brazils-federal-court-of-accounts-in-managing-social-and-environmental-risks-for-federal-railway-and-highway-concessions/',\n",
       " 'https://www.climatepolicyinitiative.org/pt-br/publication/cpi-puc-rio-responde-o-que-e-crise-energetica/',\n",
       " 'https://www.climatepolicyinitiative.org/publication/assessing-jakartas-climate-investments/',\n",
       " 'https://www.climatepolicyinitiative.org/publication/a-snapshot-of-urban-green-finance-in-two-indian-cities/',\n",
       " 'https://www.climatepolicyinitiative.org/publication/exploring-viable-energy-efficiency-business-models-in-indonesia/',\n",
       " 'https://www.climatepolicyinitiative.org/publication/idfc-green-finance-mapping-2021/',\n",
       " 'https://www.climatepolicyinitiative.org/publication/framework-for-sustainable-finance-integrity/',\n",
       " 'https://www.climatepolicyinitiative.org/publication/mapping-the-effect-of-deforestation-on-rainfall-a-case-study-from-the-state-of-mato-grosso/',\n",
       " 'https://www.climatepolicyinitiative.org/publication/leveraging-policy-tools-to-improve-impact-of-financial-instruments-in-sustainable-agriculture-forestry-and-other-land-use-afolu/',\n",
       " 'https://www.climatepolicyinitiative.org/publication/private-financial-institutions-commitments-to-paris-alignment/',\n",
       " 'https://www.climatepolicyinitiative.org/publication/energizing-finance-understanding-the-landscape-2021/',\n",
       " 'https://www.climatepolicyinitiative.org/publication/public-policies-for-the-protection-of-the-amazon-forest-what-works-and-how-to-improve/',\n",
       " 'https://www.climatepolicyinitiative.org/publication/the-economics-of-cattle-ranching-in-the-amazon-land-grabbing-or-pushing-the-agricultural-frontier/',\n",
       " 'https://www.climatepolicyinitiative.org/publication/building-climate-resilience-in-cities-through-insurance/',\n",
       " 'https://www.climatepolicyinitiative.org/publication/cooling-as-a-service-with-virtual-cold-chain-assistant/',\n",
       " 'https://www.climatepolicyinitiative.org/publication/the-smallholder-resilience-fund/',\n",
       " 'https://www.climatepolicyinitiative.org/publication/the-act-fund/',\n",
       " 'https://www.climatepolicyinitiative.org/publication/p-rec-aggregation-fund/',\n",
       " 'https://www.climatepolicyinitiative.org/publication/data-driven-energy-access-for-africa/',\n",
       " 'https://www.climatepolicyinitiative.org/publication/amazonia-sustainable-supply-chains-mechanism/',\n",
       " 'https://www.climatepolicyinitiative.org/publication/guarantee-fund-for-biogas/',\n",
       " 'https://www.climatepolicyinitiative.org/publication/governance-area-of-influence-and-environmental-risks-of-transport-infrastructure-investments-case-studies-in-the-state-of-para-2/',\n",
       " 'https://www.climatepolicyinitiative.org/publication/the-new-legal-framework-for-railroad-authorizations-requires-adjustments-to-strengthen-the-socio-environmental-governance-and-transparency-aspects-of-projects-an-assessment-of-mp-no-1065-2021-and/',\n",
       " 'https://www.climatepolicyinitiative.org/publication/coal-power-finance-in-high-impact-countries/',\n",
       " 'https://www.climatepolicyinitiative.org/publication/7-peculiarities-of-rural-credit-in-the-cerrado-private-resources-attracted-to-finance-large-producers-contrast-with-scarcity-of-credit-for-family-farming/',\n",
       " 'https://www.climatepolicyinitiative.org/publication/regulating-forest-compensation-for-legal-deforestation-in-brazil/',\n",
       " 'https://www.climatepolicyinitiative.org/pt-br/publication/areas-de-preservacao-permanente-podem-ser-reduzidas-pela-metade-e-agravar-o-desmatamento-substitutivo-ao-projeto-de-lei-no-1709-2019-altera-as-regras-de-app-em-todo-o-brasil/',\n",
       " 'https://www.climatepolicyinitiative.org/pt-br/publication/video-analise-do-novo-procedimento-administrativo-sancionador-do-ibama-e-seus-reflexos-no-combate-ao-desmatamento-na-amazonia/',\n",
       " 'https://www.climatepolicyinitiative.org/publication/accelerating-renewable-energy-finance-in-indonesia-the-potential-of-municipal-green-bonds/',\n",
       " 'https://www.climatepolicyinitiative.org/publication/the-state-of-cities-climate-finance/',\n",
       " 'https://www.climatepolicyinitiative.org/publication/net-zero-finance-tracker/',\n",
       " 'https://www.climatepolicyinitiative.org/publication/investing-in-nature-to-build-back-better/',\n",
       " 'https://www.climatepolicyinitiative.org/publication/increasing-cattle-productivity-in-the-amazon-requires-new-technologies/',\n",
       " 'https://www.climatepolicyinitiative.org/publication/strengthening-environmental-studies-for-federal-land-infrastructure-concessions/',\n",
       " 'https://www.climatepolicyinitiative.org/pt-br/publication/aprimorando-a-zona-franca-de-manaus-licoes-da-experiencia-internacional/',\n",
       " 'https://www.climatepolicyinitiative.org/publication/environmental-viability-of-land-transport-infrastructure-in-the-amazon/',\n",
       " 'https://www.climatepolicyinitiative.org/publication/recent-changes-to-legislation-may-increase-deforestation-and-impunity-in-the-brazilian-amazon-heres-how/',\n",
       " 'https://www.climatepolicyinitiative.org/publication/an-analysis-of-the-new-legal-framework-for-ibamas-administrative-sanctioning-procedure-and-its-effects-on-combating-deforestation-in-the-amazon/',\n",
       " 'https://www.climatepolicyinitiative.org/publication/leveraging-fiscal-stimulus-to-improve-energy-transition-case-of-south-korea-and-indonesia/',\n",
       " 'https://www.climatepolicyinitiative.org/publication/the-new-bidding-law-offers-opportunities-to-improve-infrastructure-projects-and-prevent-socio-environmental-impacts/',\n",
       " 'https://www.climatepolicyinitiative.org/publication/debt-for-climate-swaps/',\n",
       " 'https://www.climatepolicyinitiative.org/publication/results-based-financing/',\n",
       " 'https://www.climatepolicyinitiative.org/publication/recovery-bonds/',\n",
       " 'https://www.climatepolicyinitiative.org/publication/framework-for-sustainable-finance-integrity-consultation/',\n",
       " 'https://www.climatepolicyinitiative.org/publication/the-future-of-distributed-renewable-energy-in-india/',\n",
       " 'https://www.climatepolicyinitiative.org/publication/6-peculiarities-of-rural-credit-in-the-amazon-new-research-shows-credit-restrictions-and-extensive-land-use-in-agriculture/',\n",
       " 'https://www.climatepolicyinitiative.org/pt-br/publication/comentarios-ao-novo-substitutivo-do-pl-no-2633-2020-que-altera-as-regras-de-regularizacao-fundiaria/',\n",
       " 'https://www.climatepolicyinitiative.org/publication/the-landscape-of-climate-finance-in-kenya/',\n",
       " 'https://www.climatepolicyinitiative.org/publication/konservasi-dan-efisiensi-energi-di-era-pandemi-covid-19-dan-adaptasi-kebiasaan-baru/',\n",
       " 'https://www.climatepolicyinitiative.org/publication/forest-degradation-in-the-brazilian-amazon-public-policy-must-target-phenomenon-related-to-deforestation/',\n",
       " 'https://www.climatepolicyinitiative.org/publication/leveraging-national-development-banks-to-enhance-financing-for-climate-smart-urban-infrastructure/',\n",
       " 'https://www.climatepolicyinitiative.org/pt-br/publication/nova-investida-contra-legislacao-fundiaria-projeto-de-lei-no-510-2021-retoma-os-retrocessos-da-mp-no-910-2019-e-beneficia-invasores-de-terras-publicas/',\n",
       " 'https://www.climatepolicyinitiative.org/publication/a-framework-for-tracking-cooling-investment/',\n",
       " 'https://www.climatepolicyinitiative.org/publication/improving-the-impact-of-fiscal-stimulus-in-asia-an-analysis-of-green-recovery-investments-and-opportunities/',\n",
       " 'https://www.climatepolicyinitiative.org/publication/improving-public-contracting-processces-of-socio-eviromental-studies-for-brazils-land-transportation-projects/',\n",
       " 'https://www.climatepolicyinitiative.org/pt-br/publication/avancos-ou-retrocessos-na-regularizacao-fundiaria-analise-do-projeto-de-lei-no-2633-2020-sob-o-enfoque-das-salvaguardas-ambientais/',\n",
       " 'https://www.climatepolicyinitiative.org/publication/an-analysis-of-urban-climate-adaptation-finance/',\n",
       " 'https://www.climatepolicyinitiative.org/publication/the-potential-for-scaling-climate-finance-in-china/',\n",
       " 'https://www.climatepolicyinitiative.org/pt-br/publication/panorama-dos-direitos-de-propriedade-no-brasil-rural/',\n",
       " 'https://www.climatepolicyinitiative.org/publication/south-african-climate-finance-landscape-2020/',\n",
       " 'https://www.climatepolicyinitiative.org/publication/adaptation-finance-in-the-context-of-covid-19/',\n",
       " 'https://www.climatepolicyinitiative.org/publication/guidelines-for-building-a-national-landscape-of-climate-finance/',\n",
       " 'https://www.climatepolicyinitiative.org/publication/the-impact-of-rural-credit-on-agriculture-and-land-use-an-analysis-of-brazilian-biomes/',\n",
       " 'https://www.climatepolicyinitiative.org/publication/usicef-2020-impact-report/',\n",
       " 'https://www.climatepolicyinitiative.org/publication/electricity-market-reform-karnataka-case-study/',\n",
       " 'https://www.climatepolicyinitiative.org/publication/electricity-market-reform-tamil-nadu-case-study/',\n",
       " 'https://www.climatepolicyinitiative.org/publication/updated-view-on-the-global-landscape-of-climate-finance-2019/',\n",
       " 'https://www.climatepolicyinitiative.org/publication/urban-climate-finance-in-the-wake-of-covid-19/',\n",
       " 'https://www.climatepolicyinitiative.org/publication/where-are-we-at-implementing-the-forest-code-an-x-ray-of-the-car-and-the-pra-in-brazilian-states/',\n",
       " 'https://www.climatepolicyinitiative.org/publication/paris-misaligned/',\n",
       " 'https://www.climatepolicyinitiative.org/publication/rural-credit-policy-in-brazil-agriculture-environmental-protection-and-economic-development/',\n",
       " 'https://www.climatepolicyinitiative.org/publication/understanding-the-impact-of-a-low-carbon-transition-on-ugandas-plannedoil-industry/',\n",
       " 'https://www.climatepolicyinitiative.org/publication/sustainable-infrastructure-portfolio/',\n",
       " 'https://www.climatepolicyinitiative.org/publication/fostering-economic-resilience-in-berau-through-smallholder-crop-diversification/',\n",
       " 'https://www.climatepolicyinitiative.org/publication/energizing-finance-understanding-the-landscape-2020/',\n",
       " 'https://www.climatepolicyinitiative.org/publication/scaling-climate-finance/',\n",
       " 'https://www.climatepolicyinitiative.org/publication/brazils-infrastructure-project-life-cycles-from-planning-to-viability-creation-of-a-new-phase-may-increase-project-quality/',\n",
       " 'https://www.climatepolicyinitiative.org/publication/climate-finance-small-scale-agriculture/',\n",
       " 'https://www.climatepolicyinitiative.org/publication/global-landscape-of-renewable-energy-finance-2020/',\n",
       " 'https://www.climatepolicyinitiative.org/publication/idfc-green-finance-mapping-2020/',\n",
       " 'https://www.climatepolicyinitiative.org/publication/indeks-desa-membangun-plus-idm-enhancing-direct-incentives-for-sustainable-land-use-in-indonesian-villages/',\n",
       " 'https://www.climatepolicyinitiative.org/publication/measuring-the-indirect-effects-of-transportation-infrastructure-in-the-amazon/',\n",
       " 'https://www.climatepolicyinitiative.org/publication/changes-in-energy-sector-financing-during-covid-19/',\n",
       " 'https://www.climatepolicyinitiative.org/publication/sustainable-agriculture-finance-facility/',\n",
       " 'https://www.climatepolicyinitiative.org/publication/greenstreet-africa/',\n",
       " 'https://www.climatepolicyinitiative.org/publication/climate-adaptation-notes/',\n",
       " 'https://www.climatepolicyinitiative.org/publication/sub-national-climate-finance-initiative/',\n",
       " 'https://www.climatepolicyinitiative.org/publication/rural-prosperity-bond/',\n",
       " 'https://www.climatepolicyinitiative.org/publication/monetizing-water-savings/',\n",
       " 'https://www.climatepolicyinitiative.org/publication/grove/',\n",
       " 'https://www.climatepolicyinitiative.org/publication/conexsus-impact-fund/',\n",
       " 'https://www.climatepolicyinitiative.org/publication/ferrograo-weaknesses-and-lessons-learned-in-implementing-a-sustainable-infrastructure-agenda/',\n",
       " 'https://www.climatepolicyinitiative.org/publication/landscape-of-green-finance/',\n",
       " 'https://www.climatepolicyinitiative.org/pt-br/publication/projetos-de-lei-ameacam-codigo-florestal-propostas-podem-reduzir-protecao-a-floresta/',\n",
       " 'https://www.climatepolicyinitiative.org/publication/potential-implementation-risks-in-the-pilot-energy-efficiency-auction-in-roraima/',\n",
       " 'https://www.climatepolicyinitiative.org/publication/developing-a-roadmap-to-a-flexiblelow%e2%80%90carbon-indian-electricity-system/',\n",
       " 'https://www.climatepolicyinitiative.org/publication/risk-management-in-brazilian-agriculture-instruments-public-policy-and-perspectives/',\n",
       " 'https://www.climatepolicyinitiative.org/publication/green-banking-in-china-emerging-trends/',\n",
       " 'https://www.climatepolicyinitiative.org/publication/the-need-to-better-define-and-delimit-area-of-influence-for-infrastructure-projects/',\n",
       " 'https://www.climatepolicyinitiative.org/publication/enhancing-the-role-of-national-development-banks-in-supporting-climate-smart-urban-infrastructure/',\n",
       " 'https://www.climatepolicyinitiative.org/publication/the-role-of-cooperatives-in-rural-credit-cooperative-credit-grows-during-the-economic-crisis-and-supports-the-inclusion-of-small-scale-producers/',\n",
       " 'https://www.climatepolicyinitiative.org/publication/brazil-needs-to-monitor-its-tropical-regeneration/',\n",
       " 'https://www.climatepolicyinitiative.org/publication/green-finance-in-china-achieving-sustainability-through-finance/',\n",
       " 'https://www.climatepolicyinitiative.org/publication/economic-impacts-of-green-finance-is-it-possible-to-measure-the-productivity-of-green-bonds-in-china/',\n",
       " 'https://www.climatepolicyinitiative.org/publication/accelerating-green-finance-in-india-definitions-and-beyond/',\n",
       " 'https://www.climatepolicyinitiative.org/publication/improving-efficiency-for-air-conditioners-the-role-of-the-manaus-free-trade-zone/',\n",
       " 'https://www.climatepolicyinitiative.org/publication/adjustments-to-the-new-concessions-law-bill-could-ensure-higher-quality-and-more-sustainable-infrastructure/',\n",
       " 'https://www.climatepolicyinitiative.org/publication/green-bonds-in-china-the-state-and-effectiveness-of-the-market/',\n",
       " 'https://www.climatepolicyinitiative.org/publication/protected-territories-though-critical-are-not-enough-to-slow-amazon-deforestation/',\n",
       " 'https://www.climatepolicyinitiative.org/publication/enhancing-decentralized-renewable-energy-investment-to-achieve-indonesias-nationally-determined-contribution/',\n",
       " 'https://www.climatepolicyinitiative.org/publication/indonesia-environment-fund-bridging-the-financing-gap-in-environmental-programs/',\n",
       " 'https://www.climatepolicyinitiative.org/publication/questions-and-answers-on-provisional-measure-910/',\n",
       " 'https://www.climatepolicyinitiative.org/publication/a-snapshot-of-global-adaptation-investment-and-tracking-methods/',\n",
       " 'https://www.climatepolicyinitiative.org/publication/targeting-deforestation-boosting-regeneration/',\n",
       " 'https://www.climatepolicyinitiative.org/pt-br/publication/novo-relatorio-do-senador-iraja-abreu-sobre-a-mp-910-2019-mantem-regras-prejudiciais-a-regularizacao-fundiaria/',\n",
       " 'https://www.climatepolicyinitiative.org/publication/does-the-manaus-free-trade-zone-have-an-impact-on-industry-efficiency/',\n",
       " 'https://www.climatepolicyinitiative.org/publication/the-impacts-of-rural-credit-on-agricultural-outcomes-and-land-use/',\n",
       " 'https://www.climatepolicyinitiative.org/pt-br/publication/relator-da-mp-910-2019-flexibiliza-ainda-mais-a-regularizacao-fundiaria-2/',\n",
       " 'https://www.climatepolicyinitiative.org/publication/the-environmental-impacts-of-the-ferrograo-railroad/',\n",
       " 'https://www.climatepolicyinitiative.org/pt-br/publication/jabuti-em-medida-provisoria-enfraquece-a-protecao-da-floresta-amazonica-no-codigo-florestal/',\n",
       " 'https://www.climatepolicyinitiative.org/pt-br/publication/medida-provisoria-recompensa-atividades-criminosas-2/',\n",
       " 'https://www.climatepolicyinitiative.org/publication/tracking-adaptation-finance-advancing-methods-to-capture-finance-flows-in-the-landscape/',\n",
       " 'https://www.climatepolicyinitiative.org/publication/where-does-brazil-stand-with-the-implementation-of-the-forest-code-a-snapshot-of-the-car-and-the-pra-in-brazils-states/',\n",
       " 'https://www.climatepolicyinitiative.org/publication/idfc-green-finance-mapping-report-2019/',\n",
       " 'https://www.climatepolicyinitiative.org/publication/productivity-for-cattle-ranching-in-brazil/',\n",
       " 'https://www.climatepolicyinitiative.org/publication/brazil-knows-what-to-do-to-fight-deforestation-in-the-amazon/',\n",
       " 'https://www.climatepolicyinitiative.org/publication/por-que-proteger-a-amazonia/',\n",
       " 'https://www.climatepolicyinitiative.org/publication/global-landscape-of-climate-finance-2019/',\n",
       " 'https://www.climatepolicyinitiative.org/publication/sustainable-infrastructure-in-the-amazon/',\n",
       " 'https://www.climatepolicyinitiative.org/publication/measuring-the-private-capital-response-to-climate-change-a-proposed-dashboard/',\n",
       " 'https://www.climatepolicyinitiative.org/pt-br/publication/alteracoes-no-car-e-no-pra-o-que-muda-para-os-produtores-rurais/',\n",
       " 'https://www.climatepolicyinitiative.org/publication/energizing-finance-understanding-the-landscape-2019/',\n",
       " 'https://www.climatepolicyinitiative.org/pt-br/publication/congresso-nacional-aprova-alteracoes-ao-codigo-florestal-mudancas-na-lei-trazem-mais-seguranca-juridica-para-o-car-e-o-pra/',\n",
       " 'https://www.climatepolicyinitiative.org/publication/the-future-of-infrastructure-in-brazil-under-discussion/',\n",
       " 'https://www.climatepolicyinitiative.org/publication/the-lab-2018-2019-cycle-instrument-analysis/',\n",
       " 'https://www.climatepolicyinitiative.org/publication/the-breathe-better-bond-initiative/',\n",
       " 'https://www.climatepolicyinitiative.org/publication/cooling-as-a-service-caas/',\n",
       " 'https://www.climatepolicyinitiative.org/publication/restoration-insurance-service-company-risco/',\n",
       " 'https://www.climatepolicyinitiative.org/publication/solar-securitization-for-rwanda/',\n",
       " 'https://www.climatepolicyinitiative.org/publication/blockchain-climate-risk-crop-insurance/',\n",
       " 'https://www.climatepolicyinitiative.org/publication/implementing-alignment-recommendations-for-the-international-development-finance-club/',\n",
       " 'https://www.climatepolicyinitiative.org/pt-br/publication/projeto-de-lei-de-conversao-da-mp-884-2019-inviabiliza-a-regularizacao-ambiental-de-propriedades-rurais/',\n",
       " 'https://www.climatepolicyinitiative.org/publication/from-digging-to-planting-a-sustainable-economic-transition-for-berau-east-kalimantan/',\n",
       " 'https://www.climatepolicyinitiative.org/pt-br/publication/nova-proposta-de-alteracao-do-codigo-florestal-traz-ameacas-a-sua-implementacao-medida-provisoria-884-2019-possui-implicacoes-que-vao-alem-do-car/',\n",
       " 'https://www.climatepolicyinitiative.org/publication/from-banks-to-capital-markets-alternative-investment-funds-as-a-potential-pathway-for-refinancing-clean-energy-debt-in-india/',\n",
       " 'https://www.climatepolicyinitiative.org/publication/pathways-for-sustainable-agricultural-production-in-brazil/',\n",
       " 'https://www.climatepolicyinitiative.org/publication/aligning-rural-credit-with-the-forest-code/',\n",
       " 'https://www.climatepolicyinitiative.org/publication/developing-a-guarantee-instrument-to-catalyze-renewable-energy-investments-in-indonesia/',\n",
       " 'https://www.climatepolicyinitiative.org/pt-br/publication/proposta-do-relator-da-mpv-867-2018-coloca-em-risco-o-novo-codigo-florestal/',\n",
       " 'https://www.climatepolicyinitiative.org/publication/the-impact-od-rural-credit-on-brazilian-agriculture-and-the-environment/',\n",
       " 'https://www.climatepolicyinitiative.org/pt-br/publication/decreto-no-9-760-2019-altera-regras-de-conversao-de-multa-ambiental-em-prestacao-de-servicos-ambientais/',\n",
       " 'https://www.climatepolicyinitiative.org/publication/combating-illegal-deforestation/',\n",
       " 'https://www.climatepolicyinitiative.org/pt-br/publication/oportunidades-economicas-para-o-cumprimento-das-metas-climaticas-do-pais/',\n",
       " 'https://www.climatepolicyinitiative.org/publication/understanding-the-impact-of-a-low-carbon-transition-on-south-africa/',\n",
       " 'https://www.climatepolicyinitiative.org/publication/amendments-of-a-provisional-measure-threaten-the-implementation-of-brazils-new-forest-code/',\n",
       " 'https://www.climatepolicyinitiative.org/publication/developing-a-roadmap-to-a-flexible-low-carbon-indian-electricity-system-interim-findings/',\n",
       " 'https://www.climatepolicyinitiative.org/publication/the-land-use-finance-toolbox/',\n",
       " 'https://www.climatepolicyinitiative.org/publication/large-scale-reforestation-starting-with-public-lands-in-the-brazilian-amazon/',\n",
       " 'https://www.climatepolicyinitiative.org/publication/understanding-and-increasing-finance-for-climate-adaptation-in-developing-countries/',\n",
       " 'https://www.climatepolicyinitiative.org/publication/assessing-the-capital-costs-of-maximizing-sustainable-agricultural-production-in-brazil/',\n",
       " 'https://www.climatepolicyinitiative.org/publication/financial-challenges-and-proposals-for-sustainable-production-in-brazil/',\n",
       " 'https://www.climatepolicyinitiative.org/publication/global-climate-finance-an-updated-view-2018/',\n",
       " 'https://www.climatepolicyinitiative.org/publication/energizing-renewables-in-indonesia-optimizing-public-finance-levers-to-drive-private-investment/',\n",
       " 'https://www.climatepolicyinitiative.org/publication/understanding-the-landscape-2018-tracking-finance-for-electricity-and-clean-cooking-access-in-high-impact-countries/',\n",
       " 'https://www.climatepolicyinitiative.org/publication/ensuring-greener-economic-growth-for-brazil/',\n",
       " 'https://www.climatepolicyinitiative.org/publication/drivers-and-challenges-for-rooftop-solar-loans-to-small-and-medium-enterprises/',\n",
       " 'https://www.climatepolicyinitiative.org/publication/empowering-oil-palm-smallholder-farmers-through-alternative-livelihoods-a-business-case-study-of-beef-cattle-farming-and-fish-cultivation-in-central-kalimantan/',\n",
       " 'https://www.climatepolicyinitiative.org/publication/the-lab-2017-2018-cycle-instrument-analysis/',\n",
       " 'https://www.climatepolicyinitiative.org/publication/credit-support-pathways-for-rooftop-solar-projects-in-india/',\n",
       " 'https://www.climatepolicyinitiative.org/publication/the-dynamics-of-agricultural-technology-adoption-in-brazil/',\n",
       " 'https://www.climatepolicyinitiative.org/publication/responsible-commodities-facility/',\n",
       " 'https://www.climatepolicyinitiative.org/publication/caapora-the-socio-climate-benefits-fund/',\n",
       " 'https://www.climatepolicyinitiative.org/publication/smallholder-forestry-vehicle-2/',\n",
       " 'https://www.climatepolicyinitiative.org/publication/green-aggregation-tech-enterprise-gate/',\n",
       " 'https://www.climatepolicyinitiative.org/publication/pay-as-you-save-for-clean-transport/',\n",
       " 'https://www.climatepolicyinitiative.org/publication/the-residential-rooftop-solar-accelerator/',\n",
       " 'https://www.climatepolicyinitiative.org/publication/battery-subscription-facility/',\n",
       " 'https://www.climatepolicyinitiative.org/publication/challenges-and-opportunities-of-energy-efficiency-a-look-at-brazilian-industry/',\n",
       " 'https://www.climatepolicyinitiative.org/publication/smallholder-forestry-vehicle/',\n",
       " 'https://www.climatepolicyinitiative.org/publication/financing-for-low-carbon-auto-rickshaws/',\n",
       " 'https://www.climatepolicyinitiative.org/publication/popluz-distributed-energy-for-social-housing-desh/',\n",
       " 'https://www.climatepolicyinitiative.org/publication/climate-investment-research-collaborative-on-long-term-effectiveness-circle/',\n",
       " 'https://www.climatepolicyinitiative.org/publication/towards-a-more-sustainable-and-efficient-palm-oil-supply-chain-in-berau-east-kalimantan/',\n",
       " 'https://www.climatepolicyinitiative.org/publication/the-fragmented-rules-of-brazilian-rural-credit/',\n",
       " 'https://www.climatepolicyinitiative.org/publication/transitional-foreign-exchange-debt-platform-paths-to-enable-foreign-currency-debt-to-the-rooftop-solar-sector-in-india/',\n",
       " 'https://www.climatepolicyinitiative.org/publication/designing-technical-assistance-activities-for-adaptation-and-resilience-companies/',\n",
       " 'https://www.climatepolicyinitiative.org/publication/an-assessment-of-indias-energy-choices/',\n",
       " 'https://www.climatepolicyinitiative.org/publication/addressing-off-taker-risk-in-renewable-projects-in-india-a-framework-for-designing-a-payment-security-mechanism-as-a-credit-enhancement-device/',\n",
       " 'https://www.climatepolicyinitiative.org/publication/indonesias-village-fund-an-important-lever-for-better-land-use-and-economic-growth-at-the-local-level/',\n",
       " 'https://www.climatepolicyinitiative.org/publication/approaches-to-assess-the-additionality-of-climate-investments-findings-from-the-evaluation-of-the-climate-public-private-partnership-programme-cp3/',\n",
       " 'https://www.climatepolicyinitiative.org/publication/the-brazilian-forest-code-finally-can-be-implemented-whats-next/',\n",
       " 'https://www.climatepolicyinitiative.org/publication/getting-to-indias-renewable-energy-targets-a-business-case-for-institutional-investment/',\n",
       " 'https://www.climatepolicyinitiative.org/publication/supporting-the-momentum-of-paris-a-systems-approach-to-accelerating-climate-finance/',\n",
       " 'https://www.climatepolicyinitiative.org/pt-br/publication/decisao-do-stf-sobre-o-novo-codigo-florestal-enfraquece-a-cota-de-reserva-ambiental-cra/',\n",
       " 'https://www.climatepolicyinitiative.org/pt-br/publication/nota-tecnica-sobre-o-julgamento-do-novo-codigo-florestal/',\n",
       " 'https://www.climatepolicyinitiative.org/publication/distribution-channels-rural-credit/',\n",
       " 'https://www.climatepolicyinitiative.org/publication/scaling-rooftop-solar-power-india-potential-solar-municipal-bonds/',\n",
       " 'https://www.climatepolicyinitiative.org/publication/blended-finance-clean-energy-experiences-opportunities/',\n",
       " 'https://www.climatepolicyinitiative.org/publication/global-landscape-renewable-energy-finance-2018/',\n",
       " 'https://www.climatepolicyinitiative.org/pt-br/publication/comentarios-ao-voto-do-ministro-luiz-fux-adis-codigo-florestal/',\n",
       " 'https://www.climatepolicyinitiative.org/publication/recent-hydropower-plants-brazil-lead-varying-local-economics-effects/',\n",
       " 'https://www.climatepolicyinitiative.org/publication/global-landscape-of-climate-finance-2017/',\n",
       " 'https://www.climatepolicyinitiative.org/publication/forest-land-use-policies-private-lands-international-comparison/',\n",
       " 'https://www.climatepolicyinitiative.org/publication/developing-brazils-market-distributed-solar-generation/',\n",
       " 'https://www.climatepolicyinitiative.org/publication/markets-low-carbon-low-cost-electricity-systems-working-paper/',\n",
       " 'https://www.climatepolicyinitiative.org/publication/lab-2016-2017-cycle-instrument-analysis/',\n",
       " 'https://www.climatepolicyinitiative.org/publication/lab-instrument-analysis-green-fidc/',\n",
       " 'https://www.climatepolicyinitiative.org/publication/cloud-forest-blue-energy-mechanism/',\n",
       " 'https://www.climatepolicyinitiative.org/publication/craft/',\n",
       " 'https://www.climatepolicyinitiative.org/publication/understanding-landscape-tracking-finance-electricity-clean-cooking-access-high-impact-countries/',\n",
       " 'https://www.climatepolicyinitiative.org/publication/supporting-national-development-banks-drive-investment-nationally-determined-contributions-brazil-mexico-chile/',\n",
       " 'https://www.climatepolicyinitiative.org/pt-br/publication/nota-tecnica-sobre-areas-anistiadas-pelo-novo-codigo-florestal/',\n",
       " 'https://www.climatepolicyinitiative.org/publication/financing-clean-power-risk-based-approach-choosing-ownership-models-policy-finance-instruments/',\n",
       " 'https://www.climatepolicyinitiative.org/publication/building-resilience-brazils-biofuel-market/',\n",
       " 'https://www.climatepolicyinitiative.org/publication/overcoming-barriers-institutional-investments-renewables/',\n",
       " 'https://www.climatepolicyinitiative.org/publication/clean-energy-investment-trust-financial-innovation-renewables/',\n",
       " 'https://www.climatepolicyinitiative.org/pt-br/publication/cota-de-reserva-ambiental-melhor-opcao-para-compensar-reserva-legal/',\n",
       " 'https://www.climatepolicyinitiative.org/publication/surge-amazon-regeneration-mean-brazil/',\n",
       " 'https://www.climatepolicyinitiative.org/publication/land-rights-important-brazil/',\n",
       " 'https://www.climatepolicyinitiative.org/publication/evolution-of-land-rights-in-rural-brazil/',\n",
       " 'https://www.climatepolicyinitiative.org/publication/next-step-towards-climate-change-mitigation-improving-productivity-brazils-agricultural-lands/',\n",
       " 'https://www.climatepolicyinitiative.org/publication/eletrification-agricultural-productivity-deforestation-brazil/',\n",
       " 'https://www.climatepolicyinitiative.org/publication/flexibility-path-low-carbon-low-cost-electricity-grids/',\n",
       " 'https://www.climatepolicyinitiative.org/pt-br/publication/conversao-de-multas-ambientais-em-prestacao-de-servicos-ambientais/',\n",
       " 'https://www.climatepolicyinitiative.org/publication/decarbonization-indian-railways-assessing-balancing-costs-policy-risks/',\n",
       " 'https://www.climatepolicyinitiative.org/publication/lessons-innovations-spur-green-investment-developing-countries/',\n",
       " 'https://www.climatepolicyinitiative.org/publication/the-productivity-of-international-financial-institutions-energy-interventions/',\n",
       " 'https://www.climatepolicyinitiative.org/publication/landscape-redd-aligned-finance-cote-divoire/',\n",
       " 'https://www.climatepolicyinitiative.org/publication/reaching-indias-renewable-energy-targets-role-institutional-investors/',\n",
       " 'https://www.climatepolicyinitiative.org/publication/rural-settlements-deforestation-amazon/',\n",
       " 'https://www.climatepolicyinitiative.org/publication/green-bonds-guide-city-policymakers-developing-countries/',\n",
       " 'https://www.climatepolicyinitiative.org/publication/european-renewable-energy-policy-investment/',\n",
       " 'https://www.climatepolicyinitiative.org/pt-br/publication/panorama-dos-direitos-de-propriedade-no-brasil-rural-legislacao-gestao-fundiaria-e-codigo-florestal/',\n",
       " 'https://www.climatepolicyinitiative.org/publication/india-innovation-lab-green-finance-2015-2016-cycle-instrument-analysis/',\n",
       " 'https://www.climatepolicyinitiative.org/publication/central-kalimantan-high-conservation-value-provincial-assessment/',\n",
       " 'https://www.climatepolicyinitiative.org/publication/design-district-level-natural-capital-assessment-central-kalimantan/',\n",
       " 'https://www.climatepolicyinitiative.org/publication/challenges-opportunities-efficient-land-use-mozambique-taxes-financing-infrastructure/',\n",
       " 'https://www.climatepolicyinitiative.org/publication/sunshift-global-fleet-of-modular-moveable-megawatt-scale-solar-assets/',\n",
       " 'https://www.climatepolicyinitiative.org/publication/the-matchmaker-service/',\n",
       " 'https://www.climatepolicyinitiative.org/publication/renewable-energy-scale-up-facility-resf/',\n",
       " 'https://www.climatepolicyinitiative.org/publication/distributed-energy-generation-for-cooperatives-dgc/',\n",
       " 'https://www.climatepolicyinitiative.org/publication/31556/',\n",
       " 'https://www.climatepolicyinitiative.org/publication/sustainable-energy-bonds-sebs/',\n",
       " 'https://www.climatepolicyinitiative.org/publication/solar-investment-trusts-seits/',\n",
       " 'https://www.climatepolicyinitiative.org/publication/global-climate-finance-updated-view-2013-2014-flows/',\n",
       " 'https://www.climatepolicyinitiative.org/publication/third-party-financing-rooftop-solar-power-india/',\n",
       " 'https://www.climatepolicyinitiative.org/publication/insecure-land-rights-brazil-consequences-rural-areas-challenges-improvement/',\n",
       " 'https://www.climatepolicyinitiative.org/publication/agricultural-production-surges-matopiba-consequences-local-economy/',\n",
       " 'https://www.climatepolicyinitiative.org/publication/decarbonization-indian-railways/',\n",
       " 'https://www.climatepolicyinitiative.org/publication/sugarcanes-role-fueling-economy/',\n",
       " 'https://www.climatepolicyinitiative.org/publication/improving-brazils-agricultural-productivity-targeting-infrastructure/',\n",
       " 'https://www.climatepolicyinitiative.org/pt-br/publication/codigo-florestal-e-credito-rural-como-aperfeicoar-a-integracao-de-duas-importantes-politicas/',\n",
       " 'https://www.climatepolicyinitiative.org/publication/global-innovation-lab-climate-finance-2015-2016-cycle-instrument-analyses/',\n",
       " 'https://www.climatepolicyinitiative.org/publication/energy-efficiency-enabling-initiative/',\n",
       " 'https://www.climatepolicyinitiative.org/publication/beyond-yieldcos/',\n",
       " 'https://www.climatepolicyinitiative.org/publication/role-climate-investment-funds-meeting-investment/',\n",
       " 'https://www.climatepolicyinitiative.org/publication/key-issues-for-property-rights-in-brazil-implications-for-the-forest-code/',\n",
       " 'https://www.climatepolicyinitiative.org/publication/driving-foreign-investment-renewable-energy-india-payment-security-mechanism-address-off-taker-risk/',\n",
       " 'https://www.climatepolicyinitiative.org/publication/regulierungen-und-investitionen-fur-die-energiewende/',\n",
       " 'https://www.climatepolicyinitiative.org/publication/policy-investment-german-renewables/',\n",
       " 'https://www.climatepolicyinitiative.org/publication/government-assets-risks-opportunities-changing-climate-policy-landscape/',\n",
       " 'https://www.climatepolicyinitiative.org/pt-br/publication/comentarios-a-resolucao-conjunta-sma-saa-no-1-2016-sobre-o-pra-de-sao-paulo/',\n",
       " 'https://www.climatepolicyinitiative.org/publication/taking-stock-of-international-contributions-to-low-carbon-climate-resilient-land-use-in-indonesia/',\n",
       " 'https://www.climatepolicyinitiative.org/publication/improving-land-productivity-through-fiscal-policy/',\n",
       " 'https://www.climatepolicyinitiative.org/publication/forest-code-compliance-flowcharts-for-rural-properties/',\n",
       " 'https://www.climatepolicyinitiative.org/publication/slowing-the-growth-of-coal-power-in-china-the-role-of-finance-in-state-owned-enterprises/',\n",
       " 'https://www.climatepolicyinitiative.org/publication/getting-the-most-from-your-green-an-approach-to-using-public-money-effectively-through-green-banks-and-other-low-carbon-financing/',\n",
       " 'https://www.climatepolicyinitiative.org/publication/charting-a-path-for-finance-policy-in-clean-infrastructure/',\n",
       " 'https://www.climatepolicyinitiative.org/publication/what-is-happening-in-amazon-deforestation/',\n",
       " 'https://www.climatepolicyinitiative.org/publication/brazils-new-forest-code-part-i-how-to-navigate-the-complexity-2/',\n",
       " 'https://www.climatepolicyinitiative.org/publication/brazils-new-forest-code-how-to-navigate-the-complexity/',\n",
       " 'https://www.climatepolicyinitiative.org/publication/slowing-the-growth-of-coal-power-outside-china-the-role-of-chinese-finance/',\n",
       " 'https://www.climatepolicyinitiative.org/publication/estimating-mobilized-private-finance-for-adaptation-exploring-data-and-methods/',\n",
       " 'https://www.climatepolicyinitiative.org/publication/global-landscape-of-climate-finance-2015/',\n",
       " 'https://www.climatepolicyinitiative.org/publication/central-kalimantans-oil-palm-value-chain-opportunities-for-productivity-profitability-and-sustainability-gains/',\n",
       " 'https://www.climatepolicyinitiative.org/publication/climate-finance-in-2013-14-and-the-usd-100-billion-goal/',\n",
       " 'https://www.climatepolicyinitiative.org/publication/the-role-of-technical-assistance-in-mobilizing-climate-finance-insights-from-giz-programs-2/',\n",
       " 'https://www.climatepolicyinitiative.org/publication/towards-efficient-land-use-in-brazil/',\n",
       " 'https://www.climatepolicyinitiative.org/publication/what-counts-tools-to-help-define-and-understand-progress-towards-the-100-billion-climate-finance-commitment/',\n",
       " 'https://www.climatepolicyinitiative.org/publication/lessons-role-public-finance-deploying-geothermal-energy-developing-countries/',\n",
       " 'https://www.climatepolicyinitiative.org/publication/landscape-climate-exposure-investors/',\n",
       " 'https://www.climatepolicyinitiative.org/publication/strengthening-brazils-forest-protection-in-a-changing-landscape/',\n",
       " 'https://www.climatepolicyinitiative.org/publication/technological-change-and-deforestation-evidence-from-the-brazilian-soybean-revolution/',\n",
       " 'https://www.climatepolicyinitiative.org/publication/prices-land-use-and-deforestation-evidence-from-the-tapajos-basin/',\n",
       " 'https://www.climatepolicyinitiative.org/publication/lab-instrument-analysis-energy-savings-insurance/',\n",
       " 'https://www.climatepolicyinitiative.org/publication/risk-mitigation-instruments-for-renewable-energy-in-developing-countries-a-case-study-on-hydropower-in-africa/',\n",
       " 'https://www.climatepolicyinitiative.org/publication/three-tools-to-unlock-finance-for-land-use-mitigation-and-adaptation/',\n",
       " 'https://www.climatepolicyinitiative.org/publication/reaching-indias-renewable-energy-targets-cost-effectively-a-foreign-exchange-hedging-facility/',\n",
       " 'https://www.climatepolicyinitiative.org/publication/using-private-finance-to-accelerate-geothermal-deployment-sarulla-geothermal-power-plant-indonesia/',\n",
       " 'https://www.climatepolicyinitiative.org/publication/emerging-solutions-to-drive-private-investment-in-climate-resilience/',\n",
       " 'https://www.climatepolicyinitiative.org/publication/achieving-a-high-productivity-sustainable-palm-oil-sector-in-indonesia-a-landscape-management-approach/',\n",
       " 'https://www.climatepolicyinitiative.org/publication/background-report-for-g7-on-long-term-climate-finance/',\n",
       " 'https://www.climatepolicyinitiative.org/publication/using-public-finance-to-attract-private-investment-in-geothermal-olkaria-iii-case-study-kenya/',\n",
       " 'https://www.climatepolicyinitiative.org/publication/reaching-indias-renewable-energy-targets-effective-project-allocation-mechanisms/',\n",
       " 'https://www.climatepolicyinitiative.org/publication/oil-palm-smallholder-farmers-study/',\n",
       " 'https://www.climatepolicyinitiative.org/publication/the-global-innovation-lab-for-climate-finance-phase-3-instrument-reports/',\n",
       " 'https://www.climatepolicyinitiative.org/publication/reaching-indias-renewable-energy-targets-cost-effectively/',\n",
       " 'https://www.climatepolicyinitiative.org/publication/lab-instrument-analysis-climate-investor-one/',\n",
       " 'https://www.climatepolicyinitiative.org/publication/public-finance-and-private-exploration-in-geothermal-gumuskoy-case-study-turkey/',\n",
       " 'https://www.climatepolicyinitiative.org/publication/deforestation-slowdown-in-the-brazilian-amazon-prices-or-policies/',\n",
       " 'https://www.climatepolicyinitiative.org/publication/improving-agricultural-productivity-in-brazil-the-unmet-potential-of-price-risk-policy/',\n",
       " 'https://www.climatepolicyinitiative.org/publication/global-innovation-lab-climate-finance-phase-2-instrument-synthesis-reports/',\n",
       " 'https://www.climatepolicyinitiative.org/publication/global-landscape-of-climate-finance-2014/',\n",
       " 'https://www.climatepolicyinitiative.org/publication/fact-sheet-supporting-sustainable-development-in-central-kalimantan-with-the-palangkaraya-institute-for-land-and-agricultural-research/',\n",
       " 'https://www.climatepolicyinitiative.org/publication/fact-sheet-the-production-protection-strategy-in-indonesia/',\n",
       " 'https://www.climatepolicyinitiative.org/publication/san-giorgio-group-report-role-public-finance-deploying-geothermal-background-paper/',\n",
       " 'https://www.climatepolicyinitiative.org/publication/moving-to-a-low-carbon-economy/',\n",
       " 'https://www.climatepolicyinitiative.org/publication/getting-greener-going-black-priority-municipalities-brazil/',\n",
       " 'https://www.climatepolicyinitiative.org/publication/early-lessons-energy-performance-contracts-italy-milan-energy-efficiency/',\n",
       " 'https://www.climatepolicyinitiative.org/publication/san-giorgio-group-brief-spain-created-world-leading-csp-industry-shattered-investor-confidence/',\n",
       " 'https://www.climatepolicyinitiative.org/publication/climate-finance-definitions-improve-tracking-scale-climate-finance/',\n",
       " 'https://www.climatepolicyinitiative.org/publication/landscape-of-public-climate-finance-in-indonesia-3/',\n",
       " 'https://www.climatepolicyinitiative.org/publication/pemetaan-pendanaan-publik-untuk-perubahan-iklim-di-indonesia/',\n",
       " 'https://www.climatepolicyinitiative.org/publication/cap-and-trade-in-practice-barriers-and-opportunities-for-industrial-emissions-reductions-in-california/',\n",
       " 'https://www.climatepolicyinitiative.org/publication/getting-the-most-from-your-green-a-case-study-for-using-public-money-effectively-for-large-scale-renewable-energy-in-california/',\n",
       " 'https://www.climatepolicyinitiative.org/publication/land-rental-markets-in-brazil-a-missed-opportunity/',\n",
       " 'https://www.climatepolicyinitiative.org/publication/role-of-public-finance-in-csp-lessons-learned/',\n",
       " 'https://www.climatepolicyinitiative.org/publication/roadmap-to-a-low-carbon-electricity-system-in-the-u-s-and-europe/',\n",
       " 'https://www.climatepolicyinitiative.org/publication/san-giorgio-group-case-study-eskom-csp-100mw-plant-south-africa/',\n",
       " 'https://www.climatepolicyinitiative.org/publication/misreporting-in-wind-power-contracts-evidence-from-a-feed-in-tariff-in-brazil/',\n",
       " 'https://www.climatepolicyinitiative.org/publication/operationalizing-the-private-sector-facility-of-the-green-climate-fund-addressing-investor-risk/',\n",
       " 'https://www.climatepolicyinitiative.org/publication/solving-indias-renewable-energy-financing-challenge-instruments-to-provide-low-cost-long-term-debt/',\n",
       " 'https://www.climatepolicyinitiative.org/publication/solving-indias-renewable-energy-financing-challenge-which-federal-policies-can-be-most-effective/',\n",
       " 'https://www.climatepolicyinitiative.org/publication/san-giorgio-group-case-study-the-role-of-public-finance-in-csp-india-rajasthan-sun-technique/',\n",
       " 'https://www.climatepolicyinitiative.org/publication/finance-mechanisms-for-lowering-the-cost-of-renewable-energy-in-rapidly-developing-countries/',\n",
       " 'https://www.climatepolicyinitiative.org/publication/san-giorgio-group-brief-the-role-of-public-finance-in-csp-background-and-approach-to-measure-its-effectiveness/',\n",
       " 'https://www.climatepolicyinitiative.org/publication/opportunities-for-a-green-bank-in-california/',\n",
       " 'https://www.climatepolicyinitiative.org/publication/raising-the-stakes-for-energy-efficiency-californias-riskreward-incentive-mechanism/',\n",
       " 'https://www.climatepolicyinitiative.org/publication/making-adaptation-a-private-sector-business-insights-from-nepal-pilot-program-for-climate-resilience/',\n",
       " 'https://www.climatepolicyinitiative.org/publication/production-protection-a-first-look-at-key-challenges-in-brazil/',\n",
       " 'https://www.climatepolicyinitiative.org/publication/sgg-case-study-kfcp/',\n",
       " 'https://www.climatepolicyinitiative.org/publication/high-productivity-agricultural-techniques-in-brazil-adoption-barriers-and-potential-solutions/',\n",
       " 'https://www.climatepolicyinitiative.org/publication/california-carbon-dashboard/',\n",
       " 'https://www.climatepolicyinitiative.org/publication/global-landscape-of-climate-finance-2013/',\n",
       " 'https://www.climatepolicyinitiative.org/publication/mapping-the-world-bank-group-risk-mitigation-instruments-for-climate-change/',\n",
       " 'https://www.climatepolicyinitiative.org/publication/san-giorgio-group-case-study-jadraas-onshore-windfarm/',\n",
       " 'https://www.climatepolicyinitiative.org/publication/the-role-of-development-finance-of-institutions-and-development-banks-in-scaling-up-green-and-climate-investments/',\n",
       " 'https://www.climatepolicyinitiative.org/publication/improving-solar-policy-lessons-from-the-solar-leasing-boom-in-california/',\n",
       " 'https://www.climatepolicyinitiative.org/publication/using-data-tools-to-optimize-indonesias-land-resources-an-overview-of-natural-capital-assessment/',\n",
       " 'https://www.climatepolicyinitiative.org/publication/targeting-proposition-39-to-help-californias-schools-save-energy-and-money/',\n",
       " 'https://www.climatepolicyinitiative.org/publication/deterring-deforestation-in-the-brazilian-amazon-environmental-monitoring-and-law-enforcement/',\n",
       " 'https://www.climatepolicyinitiative.org/publication/the-policy-climate/',\n",
       " 'https://www.climatepolicyinitiative.org/publication/buildings-energy-efficiency-in-china-germany-and-the-united-states/',\n",
       " 'https://www.climatepolicyinitiative.org/publication/the-role-of-national-development-banks-in-catalyzing-international-climate-finance/',\n",
       " 'https://www.climatepolicyinitiative.org/publication/the-challenge-of-institutional-investment-in-renewable-energy/',\n",
       " 'https://www.climatepolicyinitiative.org/publication/does-credit-affect-deforestation-evidence-from-a-rural-credit-policy-in-the-brazilian-amazon/',\n",
       " 'https://www.climatepolicyinitiative.org/publication/risk-gaps/',\n",
       " 'https://www.climatepolicyinitiative.org/publication/effective-green-financing-what-have-we-learned-so-far/',\n",
       " 'https://www.climatepolicyinitiative.org/publication/meeting-indias-renewable-energy-targets-the-financing-challenge/',\n",
       " 'https://www.climatepolicyinitiative.org/publication/falling-short-an-evaluation-of-the-indian-renewable-certificate-market/',\n",
       " 'https://www.climatepolicyinitiative.org/publication/global-landscape-of-climate-finance-2012/',\n",
       " 'https://www.climatepolicyinitiative.org/publication/german-landscape-of-climate-finance/',\n",
       " 'https://www.climatepolicyinitiative.org/publication/die-deutsche-landschaft-der-klimafinanzierung/',\n",
       " 'https://www.climatepolicyinitiative.org/publication/tracking-emissions-and-mitigation-actions-mrv-systems-in-china-germany-italy-and-the-united-states/',\n",
       " 'https://www.climatepolicyinitiative.org/publication/clearing-the-air-carbon-pricing-and-local-air-pollution-in-california/',\n",
       " 'https://www.climatepolicyinitiative.org/publication/supporting-renewables-while-saving-taxpayers-money/',\n",
       " 'https://www.climatepolicyinitiative.org/publication/san-giorgio-group-case-study-ouarzazate-i-csp/',\n",
       " 'https://www.climatepolicyinitiative.org/publication/public-climate-finance-a-survey-of-systems-to-monitor-and-evaluate-climate-finance-effectiveness/',\n",
       " 'https://www.climatepolicyinitiative.org/publication/limiting-the-cost-of-renewables-lessons-for-california/',\n",
       " 'https://www.climatepolicyinitiative.org/publication/san-giorgio-group-case-studies-walney-offshore-windfarms/',\n",
       " 'https://www.climatepolicyinitiative.org/publication/san-giorgio-group-case-study-prosol/',\n",
       " 'https://www.climatepolicyinitiative.org/publication/energy-the-u-s-budget-and-climate-change/',\n",
       " 'https://www.climatepolicyinitiative.org/publication/deforestation-slowdown-in-the-legal-amazon-prices-or-policie/',\n",
       " 'https://www.climatepolicyinitiative.org/publication/european-electricity-infrastructure-planning-regulation-and-financing/',\n",
       " 'https://www.climatepolicyinitiative.org/publication/tax-incentives-for-thermal-retrofits-in-germany-experiences-from-practicioners/',\n",
       " 'https://www.climatepolicyinitiative.org/publication/san-giorgio-group-inaugural-meeting-proposed-analytical-program-2/',\n",
       " 'https://www.climatepolicyinitiative.org/publication/improving-the-effectiveness-of-climate-finance-key-lessons/',\n",
       " 'https://www.climatepolicyinitiative.org/publication/china-annual-review-2011-2012/',\n",
       " 'https://www.climatepolicyinitiative.org/publication/the-landscape-of-climate-finance/',\n",
       " 'https://www.climatepolicyinitiative.org/publication/the-impacts-of-policy-on-the-financing-of-renewable-projects-a-case-study-analysis/',\n",
       " 'https://www.climatepolicyinitiative.org/publication/smart-power-market-project/',\n",
       " 'https://www.climatepolicyinitiative.org/publication/the-german-energy-concept-policies-to-support-the-thermal-retrofit-of-buildings-2/',\n",
       " 'https://www.climatepolicyinitiative.org/publication/codes-to-cleaner-buildings-effectiveness-of-u-s-building-energy-codes/',\n",
       " 'https://www.climatepolicyinitiative.org/publication/energiekonzept-instrumente-fur-energetische-sanierungen-2/',\n",
       " 'https://www.climatepolicyinitiative.org/publication/renewable-energy-financing-and-climate-policy-effectiveness-2/',\n",
       " 'https://www.climatepolicyinitiative.org/publication/impact-of-reductions-and-exemptions-in-energy-taxes-and-levies/',\n",
       " 'https://www.climatepolicyinitiative.org/publication/an-assessment-of-the-impact-of-policy-on-the-financing-of-clean-energy-project-overview-2/',\n",
       " 'https://www.climatepolicyinitiative.org/publication/the-role-of-government-policy-in-the-development-of-solar-photovoltaic-power-project-overview/',\n",
       " 'https://www.climatepolicyinitiative.org/publication/pv-industry-and-policy-in-germany-and-china/',\n",
       " 'https://www.climatepolicyinitiative.org/publication/review-of-low-carbon-development-in-china-2010/',\n",
       " 'https://www.climatepolicyinitiative.org/publication/344/',\n",
       " 'https://www.climatepolicyinitiative.org/publication/the-state-of-international-climate-finance-is-it-adequate-and-is-it-productive/']"
      ]
     },
     "execution_count": 41,
     "metadata": {},
     "output_type": "execute_result"
    }
   ],
   "source": [
    "# Show links that have been scraped\n",
    "links"
   ]
  },
  {
   "cell_type": "code",
   "execution_count": 74,
   "id": "35961e4b",
   "metadata": {},
   "outputs": [
    {
     "data": {
      "text/plain": [
       "'https://www.climatepolicyinitiative.org/publication/global-landscape-of-renewable-energy-finance-2023/'"
      ]
     },
     "execution_count": 74,
     "metadata": {},
     "output_type": "execute_result"
    }
   ],
   "source": [
    "link = links[9] #9\n",
    "link"
   ]
  },
  {
   "cell_type": "code",
   "execution_count": 116,
   "id": "d2db2cc2",
   "metadata": {},
   "outputs": [
    {
     "name": "stdout",
     "output_type": "stream",
     "text": [
      "0\n",
      "https://www.climatepolicyinitiative.org/publication/policies-and-enabling-environmentto-drive-private-investments-forindustrial-decarbonization-in-indiaidentifying-priority-actions-for-decarbonizingsteel-and-cement-sectors/\n"
     ]
    },
    {
     "name": "stderr",
     "output_type": "stream",
     "text": [
      "  % Total    % Received % Xferd  Average Speed   Time    Time     Time  Current\n",
      "                                 Dload  Upload   Total   Spent    Left  Speed\n",
      "\n",
      "  0     0    0     0    0     0      0      0 --:--:-- --:--:-- --:--:--     0\n",
      "  0     0    0     0    0     0      0      0 --:--:-- --:--:-- --:--:--     0\n",
      "100  324k  100  324k    0     0   350k      0 --:--:-- --:--:-- --:--:--  351k\n"
     ]
    },
    {
     "name": "stdout",
     "output_type": "stream",
     "text": [
      "1\n",
      "https://www.climatepolicyinitiative.org/publication/2022-impact-and-highlights-from-cpis-climate-finance-tracking-workstream/\n"
     ]
    },
    {
     "name": "stderr",
     "output_type": "stream",
     "text": [
      "  % Total    % Received % Xferd  Average Speed   Time    Time     Time  Current\n",
      "                                 Dload  Upload   Total   Spent    Left  Speed\n",
      "\n",
      "  0     0    0     0    0     0      0      0 --:--:-- --:--:-- --:--:--     0\n",
      "  0     0    0     0    0     0      0      0 --:--:-- --:--:-- --:--:--     0\n",
      " 32 2682k   32  879k    0     0   686k      0  0:00:03  0:00:01  0:00:02  687k\n",
      " 76 2682k   76 2047k    0     0   896k      0  0:00:02  0:00:02 --:--:--  897k\n",
      "100 2682k  100 2682k    0     0  1038k      0  0:00:02  0:00:02 --:--:-- 1039k\n"
     ]
    },
    {
     "name": "stdout",
     "output_type": "stream",
     "text": [
      "2\n",
      "https://www.climatepolicyinitiative.org/pt-br/publication/onde-estamos-na-implementacao-do-codigo-florestal-radiografia-do-car-e-do-pra-nos-estados-brasileiros-edicao-2022/\n"
     ]
    },
    {
     "name": "stderr",
     "output_type": "stream",
     "text": [
      "  % Total    % Received % Xferd  Average Speed   Time    Time     Time  Current\n",
      "                                 Dload  Upload   Total   Spent    Left  Speed\n",
      "\n",
      "  0     0    0     0    0     0      0      0 --:--:-- --:--:-- --:--:--     0\n",
      "100   377    0   377    0     0    579      0 --:--:-- --:--:-- --:--:--   582\n"
     ]
    },
    {
     "name": "stdout",
     "output_type": "stream",
     "text": [
      "3\n",
      "https://www.climatepolicyinitiative.org/publication/challenges-of-rural-insurance-in-the-context-of-climate-change-the-case-of-soybeans/\n"
     ]
    },
    {
     "name": "stderr",
     "output_type": "stream",
     "text": [
      "  % Total    % Received % Xferd  Average Speed   Time    Time     Time  Current\n",
      "                                 Dload  Upload   Total   Spent    Left  Speed\n",
      "\n",
      "  0     0    0     0    0     0      0      0 --:--:-- --:--:-- --:--:--     0\n",
      "  0 3989k    0 15989    0     0  15697      0  0:04:20  0:00:01  0:04:19 15737\n",
      " 12 3989k   12  511k    0     0   313k      0  0:00:12  0:00:01  0:00:11  314k\n",
      " 51 3989k   51 2063k    0     0   784k      0  0:00:05  0:00:02  0:00:03  784k\n",
      "100 3989k  100 3989k    0     0  1208k      0  0:00:03  0:00:03 --:--:-- 1209k\n"
     ]
    },
    {
     "name": "stdout",
     "output_type": "stream",
     "text": [
      "4\n",
      "https://www.climatepolicyinitiative.org/publication/an-innovative-ifi-operating-model-for-the-21st-century/\n"
     ]
    },
    {
     "name": "stderr",
     "output_type": "stream",
     "text": [
      "  % Total    % Received % Xferd  Average Speed   Time    Time     Time  Current\n",
      "                                 Dload  Upload   Total   Spent    Left  Speed\n",
      "\n",
      "  0     0    0     0    0     0      0      0 --:--:-- --:--:-- --:--:--     0\n",
      "  0     0    0     0    0     0      0      0 --:--:-- --:--:-- --:--:--     0\n",
      " 29  327k   29 97910    0     0  81251      0  0:00:04  0:00:01  0:00:03 81388\n",
      "100  327k  100  327k    0     0   215k      0  0:00:01  0:00:01 --:--:--  216k\n"
     ]
    },
    {
     "name": "stdout",
     "output_type": "stream",
     "text": [
      "5\n",
      "https://www.climatepolicyinitiative.org/pt-br/publication/quem-e-quem-na-transicao-rural-justa/\n",
      "6\n",
      "https://www.climatepolicyinitiative.org/pt-br/publication/de-olhos-abertos-na-mp-no-1150-2022-que-altera-as-regras-de-adesao-ao-programa-de-regularizacao-ambiental-pra/\n"
     ]
    },
    {
     "name": "stderr",
     "output_type": "stream",
     "text": [
      "  % Total    % Received % Xferd  Average Speed   Time    Time     Time  Current\n",
      "                                 Dload  Upload   Total   Spent    Left  Speed\n",
      "\n",
      "  0     0    0     0    0     0      0      0 --:--:-- --:--:-- --:--:--     0\n",
      "  5  302k    5 15990    0     0  31189      0  0:00:09 --:--:--  0:00:09 31291\n",
      "100  302k  100  302k    0     0   361k      0 --:--:-- --:--:-- --:--:--  362k\n"
     ]
    },
    {
     "name": "stdout",
     "output_type": "stream",
     "text": [
      "7\n",
      "https://www.climatepolicyinitiative.org/publication/emissions-accounting-in-managed-coal-phaseout-finance/\n"
     ]
    },
    {
     "name": "stderr",
     "output_type": "stream",
     "text": [
      "  % Total    % Received % Xferd  Average Speed   Time    Time     Time  Current\n",
      "                                 Dload  Upload   Total   Spent    Left  Speed\n",
      "\n",
      "  0     0    0     0    0     0      0      0 --:--:-- --:--:-- --:--:--     0\n",
      "  0     0    0     0    0     0      0      0 --:--:-- --:--:-- --:--:--     0\n",
      " 48  365k   48  175k    0     0   155k      0  0:00:02  0:00:01  0:00:01  155k\n",
      "100  365k  100  365k    0     0   299k      0  0:00:01  0:00:01 --:--:--  299k\n"
     ]
    },
    {
     "name": "stdout",
     "output_type": "stream",
     "text": [
      "8\n",
      "https://www.climatepolicyinitiative.org/publication/where-does-brazil-stand-and-where-is-it-heading-in-the-implementation-of-the-forest-code-opportunities-for-the-new-lula-administration/\n"
     ]
    },
    {
     "name": "stderr",
     "output_type": "stream",
     "text": [
      "  % Total    % Received % Xferd  Average Speed   Time    Time     Time  Current\n",
      "                                 Dload  Upload   Total   Spent    Left  Speed\n",
      "\n",
      "  0     0    0     0    0     0      0      0 --:--:-- --:--:-- --:--:--     0\n",
      "  0     0    0     0    0     0      0      0 --:--:-- --:--:-- --:--:--     0\n",
      " 12 3327k   12  415k    0     0   333k      0  0:00:09  0:00:01  0:00:08  333k\n",
      " 88 3327k   88 2943k    0     0  1310k      0  0:00:02  0:00:02 --:--:-- 1311k\n",
      "100 3327k  100 3327k    0     0  1372k      0  0:00:02  0:00:02 --:--:-- 1373k\n"
     ]
    },
    {
     "name": "stdout",
     "output_type": "stream",
     "text": [
      "9\n",
      "https://www.climatepolicyinitiative.org/publication/global-landscape-of-renewable-energy-finance-2023/\n"
     ]
    },
    {
     "name": "stderr",
     "output_type": "stream",
     "text": [
      "  % Total    % Received % Xferd  Average Speed   Time    Time     Time  Current\n",
      "                                 Dload  Upload   Total   Spent    Left  Speed\n",
      "\n",
      "  0     0    0     0    0     0      0      0 --:--:-- --:--:-- --:--:--     0\n",
      "  0     0    0     0    0     0      0      0 --:--:--  0:00:01 --:--:--     0\n",
      "  5 11.9M    5  623k    0     0   366k      0  0:00:33  0:00:01  0:00:32  366k\n",
      " 11 11.9M   11 1391k    0     0   516k      0  0:00:23  0:00:02  0:00:21  516k\n",
      " 24 11.9M   24 3007k    0     0   809k      0  0:00:15  0:00:03  0:00:12  810k\n",
      " 38 11.9M   38 4735k    0     0  1007k      0  0:00:12  0:00:04  0:00:08 1007k\n",
      " 46 11.9M   46 5663k    0     0   993k      0  0:00:12  0:00:05  0:00:07 1205k\n",
      " 60 11.9M   60 7423k    0     0  1104k      0  0:00:11  0:00:06  0:00:05 1355k\n",
      " 76 11.9M   76 9327k    0     0  1211k      0  0:00:10  0:00:07  0:00:03 1586k\n",
      " 95 11.9M   95 11.4M    0     0  1344k      0  0:00:09  0:00:08  0:00:01 1742k\n",
      "100 11.9M  100 11.9M    0     0  1376k      0  0:00:08  0:00:08 --:--:-- 1794k\n"
     ]
    },
    {
     "name": "stdout",
     "output_type": "stream",
     "text": [
      "10\n",
      "https://www.climatepolicyinitiative.org/publication/ccfla-2022-highlights-and-impact/\n"
     ]
    },
    {
     "name": "stderr",
     "output_type": "stream",
     "text": [
      "  % Total    % Received % Xferd  Average Speed   Time    Time     Time  Current\n",
      "                                 Dload  Upload   Total   Spent    Left  Speed\n",
      "\n",
      "  0     0    0     0    0     0      0      0 --:--:-- --:--:-- --:--:--     0\n",
      "  0     0    0     0    0     0      0      0 --:--:-- --:--:-- --:--:--     0\n",
      "  0 7955k    0 65141    0     0  61392      0  0:02:12  0:00:01  0:02:11 61511\n",
      " 21 7955k   21 1743k    0     0   832k      0  0:00:09  0:00:02  0:00:07  833k\n",
      " 52 7955k   52 4191k    0     0  1368k      0  0:00:05  0:00:03  0:00:02 1368k\n",
      " 83 7955k   83 6623k    0     0  1630k      0  0:00:04  0:00:04 --:--:-- 1630k\n",
      "100 7955k  100 7955k    0     0  1732k      0  0:00:04  0:00:04 --:--:-- 1821k\n"
     ]
    },
    {
     "name": "stdout",
     "output_type": "stream",
     "text": [
      "11\n",
      "https://www.climatepolicyinitiative.org/publication/smallholders-in-the-caatinga-and-the-cerrado-a-baseline-analysis-for-a-rural-just-transition-in-brazil/\n"
     ]
    },
    {
     "name": "stderr",
     "output_type": "stream",
     "text": [
      "  % Total    % Received % Xferd  Average Speed   Time    Time     Time  Current\n",
      "                                 Dload  Upload   Total   Spent    Left  Speed\n",
      "\n",
      "  0     0    0     0    0     0      0      0 --:--:-- --:--:-- --:--:--     0\n",
      "  0 3897k    0 15989    0     0  16189      0  0:04:06 --:--:--  0:04:06 16216\n",
      " 27 3897k   27 1055k    0     0   548k      0  0:00:07  0:00:01  0:00:06  548k\n",
      "100 3897k  100 3897k    0     0  1368k      0  0:00:02  0:00:02 --:--:-- 1370k\n"
     ]
    },
    {
     "name": "stdout",
     "output_type": "stream",
     "text": [
      "12\n",
      "https://www.climatepolicyinitiative.org/pt-br/publication/panorama-de-financiamento-de-rodovias-e-ferrovias-na-amazonia/\n",
      "13\n",
      "https://www.climatepolicyinitiative.org/publication/guidelines-to-assess-the-direct-and-indirect-areaof-influence-of-transportation-infrastructure-projects/\n"
     ]
    },
    {
     "name": "stderr",
     "output_type": "stream",
     "text": [
      "  % Total    % Received % Xferd  Average Speed   Time    Time     Time  Current\n",
      "                                 Dload  Upload   Total   Spent    Left  Speed\n",
      "\n",
      "  0     0    0     0    0     0      0      0 --:--:-- --:--:-- --:--:--     0\n",
      "  0     0    0     0    0     0      0      0 --:--:-- --:--:-- --:--:--     0\n",
      "  9 6317k    9  591k    0     0   460k      0  0:00:13  0:00:01  0:00:12  461k\n",
      " 44 6317k   44 2831k    0     0  1230k      0  0:00:05  0:00:02  0:00:03 1231k\n",
      " 91 6317k   91 5759k    0     0  1723k      0  0:00:03  0:00:03 --:--:-- 1724k\n",
      "100 6317k  100 6317k    0     0  1718k      0  0:00:03  0:00:03 --:--:-- 1719k\n"
     ]
    },
    {
     "name": "stdout",
     "output_type": "stream",
     "text": [
      "14\n",
      "https://www.climatepolicyinitiative.org/pt-br/publication/a-transicao-energetica-na-amazonia-legal/\n",
      "15\n",
      "https://www.climatepolicyinitiative.org/pt-br/publication/eficiencia-energetica-ee-no-brasil-e-no-mundo-mecanismos-das-politicas-de-ee-em-unidades-consumidoras-intensivas-de-eletricidade/\n"
     ]
    },
    {
     "name": "stderr",
     "output_type": "stream",
     "text": [
      "  % Total    % Received % Xferd  Average Speed   Time    Time     Time  Current\n",
      "                                 Dload  Upload   Total   Spent    Left  Speed\n",
      "\n",
      "  0     0    0     0    0     0      0      0 --:--:-- --:--:-- --:--:--     0\n",
      "  9 1056k    9 97909    0     0  97700      0  0:00:11  0:00:01  0:00:10 97909\n",
      "100 1056k  100 1056k    0     0   751k      0  0:00:01  0:00:01 --:--:--  753k\n"
     ]
    },
    {
     "name": "stdout",
     "output_type": "stream",
     "text": [
      "16\n",
      "https://www.climatepolicyinitiative.org/pt-br/publication/pl-no-36-2021-anistia-desmatamentos-cancela-multas-e-suspende-embargos/\n"
     ]
    },
    {
     "name": "stderr",
     "output_type": "stream",
     "text": [
      "  % Total    % Received % Xferd  Average Speed   Time    Time     Time  Current\n",
      "                                 Dload  Upload   Total   Spent    Left  Speed\n",
      "\n",
      "  0     0    0     0    0     0      0      0 --:--:-- --:--:-- --:--:--     0\n",
      "  0     0    0     0    0     0      0      0 --:--:-- --:--:-- --:--:--     0\n",
      " 28  775k   28  223k    0     0   182k      0  0:00:04  0:00:01  0:00:03  182k\n",
      "100  775k  100  775k    0     0   545k      0  0:00:01  0:00:01 --:--:--  545k\n"
     ]
    },
    {
     "name": "stdout",
     "output_type": "stream",
     "text": [
      "17\n",
      "https://www.climatepolicyinitiative.org/?post_type=cpi_publications&p=54999\n",
      "18\n",
      "https://www.climatepolicyinitiative.org/publication/are-indonesian-banks-ready-to-account-climate-related-matters/\n"
     ]
    },
    {
     "name": "stderr",
     "output_type": "stream",
     "text": [
      "  % Total    % Received % Xferd  Average Speed   Time    Time     Time  Current\n",
      "                                 Dload  Upload   Total   Spent    Left  Speed\n",
      "\n",
      "  0     0    0     0    0     0      0      0 --:--:-- --:--:-- --:--:--     0\n",
      "  0     0    0     0    0     0      0      0 --:--:-- --:--:-- --:--:--     0\n",
      " 47 1147k   47  543k    0     0   305k      0  0:00:03  0:00:01  0:00:02  305k\n",
      "100 1147k  100 1147k    0     0   435k      0  0:00:02  0:00:02 --:--:--  435k\n"
     ]
    },
    {
     "name": "stdout",
     "output_type": "stream",
     "text": [
      "19\n",
      "https://www.climatepolicyinitiative.org/publication/tracking-investments-in-climate-resilient-infrastructure/\n"
     ]
    },
    {
     "name": "stderr",
     "output_type": "stream",
     "text": [
      "  % Total    % Received % Xferd  Average Speed   Time    Time     Time  Current\n",
      "                                 Dload  Upload   Total   Spent    Left  Speed\n",
      "\n",
      "  0     0    0     0    0     0      0      0 --:--:-- --:--:-- --:--:--     0\n",
      "  0     0    0     0    0     0      0      0 --:--:-- --:--:-- --:--:--     0\n",
      "  0     0    0     0    0     0      0      0 --:--:--  0:00:01 --:--:--     0\n",
      " 26 5156k   26 1343k    0     0   653k      0  0:00:07  0:00:02  0:00:05  654k\n",
      " 57 5156k   57 2959k    0     0   969k      0  0:00:05  0:00:03  0:00:02  970k\n",
      " 77 5156k   77 3999k    0     0   985k      0  0:00:05  0:00:04  0:00:01  985k\n",
      "100 5156k  100 5156k    0     0  1043k      0  0:00:04  0:00:04 --:--:-- 1093k\n"
     ]
    },
    {
     "name": "stdout",
     "output_type": "stream",
     "text": [
      "20\n",
      "https://www.climatepolicyinitiative.org/publication/finance-landscape-of-highways-and-railroads-elements-for-strengthening-the-governance-of-infrastructure-investments-in-the-brazilian-amazon/\n",
      "21\n",
      "https://www.climatepolicyinitiative.org/publication/the-challenges-in-the-adoption-of-sustainable-practices-by-small-ranchers-the-case-of-abc-cerrado/\n"
     ]
    },
    {
     "name": "stderr",
     "output_type": "stream",
     "text": [
      "  % Total    % Received % Xferd  Average Speed   Time    Time     Time  Current\n",
      "                                 Dload  Upload   Total   Spent    Left  Speed\n",
      "\n",
      "  0     0    0     0    0     0      0      0 --:--:-- --:--:-- --:--:--     0\n",
      "  0     0    0     0    0     0      0      0 --:--:-- --:--:-- --:--:--     0\n",
      " 71  289k   71  207k    0     0   186k      0  0:00:01  0:00:01 --:--:--  186k\n",
      "100  289k  100  289k    0     0   240k      0  0:00:01  0:00:01 --:--:--  240k\n"
     ]
    },
    {
     "name": "stdout",
     "output_type": "stream",
     "text": [
      "22\n",
      "https://www.climatepolicyinitiative.org/publication/idfc-green-finance-mapping-2022/\n"
     ]
    },
    {
     "name": "stderr",
     "output_type": "stream",
     "text": [
      "  % Total    % Received % Xferd  Average Speed   Time    Time     Time  Current\n",
      "                                 Dload  Upload   Total   Spent    Left  Speed\n",
      "\n",
      "  0     0    0     0    0     0      0      0 --:--:-- --:--:-- --:--:--     0\n",
      "  0     0    0     0    0     0      0      0 --:--:-- --:--:-- --:--:--     0\n",
      "  4 3745k    4  159k    0     0   142k      0  0:00:26  0:00:01  0:00:25  143k\n",
      " 89 3745k   89 3343k    0     0  1589k      0  0:00:02  0:00:02 --:--:-- 1590k\n",
      "100 3745k  100 3745k    0     0  1685k      0  0:00:02  0:00:02 --:--:-- 1686k\n"
     ]
    },
    {
     "name": "stdout",
     "output_type": "stream",
     "text": [
      "23\n",
      "https://www.climatepolicyinitiative.org/publication/landscape-of-climate-finance-for-agriculture-forestry-other-land-uses-and-fisheries/\n"
     ]
    },
    {
     "name": "stderr",
     "output_type": "stream",
     "text": [
      "  % Total    % Received % Xferd  Average Speed   Time    Time     Time  Current\n",
      "                                 Dload  Upload   Total   Spent    Left  Speed\n",
      "\n",
      "  0     0    0     0    0     0      0      0 --:--:-- --:--:-- --:--:--     0\n",
      "  0 1563k    0 15989    0     0  20361      0  0:01:18 --:--:--  0:01:18 20394\n",
      " 85 1563k   85 1343k    0     0   815k      0  0:00:01  0:00:01 --:--:--  816k\n",
      "100 1563k  100 1563k    0     0   913k      0  0:00:01  0:00:01 --:--:--  913k\n"
     ]
    },
    {
     "name": "stdout",
     "output_type": "stream",
     "text": [
      "24\n",
      "https://www.climatepolicyinitiative.org/publication/policy-brief-financing-urban-climate-adaptation-and-resilience/\n"
     ]
    },
    {
     "name": "stderr",
     "output_type": "stream",
     "text": [
      "  % Total    % Received % Xferd  Average Speed   Time    Time     Time  Current\n",
      "                                 Dload  Upload   Total   Spent    Left  Speed\n",
      "\n",
      "  0     0    0     0    0     0      0      0 --:--:-- --:--:-- --:--:--     0\n",
      "  0     0    0     0    0     0      0      0 --:--:-- --:--:-- --:--:--     0\n",
      "100  312k  100  312k    0     0   289k      0  0:00:01  0:00:01 --:--:--  290k\n"
     ]
    },
    {
     "name": "stdout",
     "output_type": "stream",
     "text": [
      "25\n",
      "https://www.climatepolicyinitiative.org/publication/landscape-of-climate-finance-in-ethiopia/\n"
     ]
    },
    {
     "name": "stderr",
     "output_type": "stream",
     "text": [
      "  % Total    % Received % Xferd  Average Speed   Time    Time     Time  Current\n",
      "                                 Dload  Upload   Total   Spent    Left  Speed\n",
      "\n",
      "  0     0    0     0    0     0      0      0 --:--:-- --:--:-- --:--:--     0\n",
      "  0     0    0     0    0     0      0      0 --:--:-- --:--:-- --:--:--     0\n",
      " 25 8125k   25 2063k    0     0  1105k      0  0:00:07  0:00:01  0:00:06 1107k\n",
      " 49 8125k   49 4031k    0     0  1346k      0  0:00:06  0:00:02  0:00:04 1347k\n",
      "100 8125k  100 8125k    0     0  2065k      0  0:00:03  0:00:03 --:--:-- 2066k\n",
      "100 8125k  100 8125k    0     0  2065k      0  0:00:03  0:00:03 --:--:-- 2066k\n"
     ]
    },
    {
     "name": "stdout",
     "output_type": "stream",
     "text": [
      "26\n",
      "https://www.climatepolicyinitiative.org/publication/climate-risks-and-opportunities/\n"
     ]
    },
    {
     "name": "stderr",
     "output_type": "stream",
     "text": [
      "  % Total    % Received % Xferd  Average Speed   Time    Time     Time  Current\n",
      "                                 Dload  Upload   Total   Spent    Left  Speed\n",
      "\n",
      "  0     0    0     0    0     0      0      0 --:--:-- --:--:-- --:--:--     0\n",
      "  0     0    0     0    0     0      0      0 --:--:-- --:--:-- --:--:--     0\n",
      " 57 1748k   57 1007k    0     0   734k      0  0:00:02  0:00:01  0:00:01  735k\n",
      "100 1748k  100 1748k    0     0  1130k      0  0:00:01  0:00:01 --:--:-- 1131k\n"
     ]
    },
    {
     "name": "stdout",
     "output_type": "stream",
     "text": [
      "27\n",
      "https://www.climatepolicyinitiative.org/publication/global-landscape-of-climate-finance-a-decade-of-data/\n"
     ]
    },
    {
     "name": "stderr",
     "output_type": "stream",
     "text": [
      "  % Total    % Received % Xferd  Average Speed   Time    Time     Time  Current\n",
      "                                 Dload  Upload   Total   Spent    Left  Speed\n",
      "\n",
      "  0     0    0     0    0     0      0      0 --:--:-- --:--:-- --:--:--     0\n",
      "  0     0    0     0    0     0      0      0 --:--:-- --:--:-- --:--:--     0\n",
      " 62 2665k   62 1663k    0     0  1015k      0  0:00:02  0:00:01  0:00:01 1016k\n",
      "100 2665k  100 2665k    0     0  1345k      0  0:00:01  0:00:01 --:--:-- 1347k\n"
     ]
    },
    {
     "name": "stdout",
     "output_type": "stream",
     "text": [
      "28\n",
      "https://www.climatepolicyinitiative.org/publication/landscape-of-climate-finance-in-burkina-faso/\n"
     ]
    },
    {
     "name": "stderr",
     "output_type": "stream",
     "text": [
      "  % Total    % Received % Xferd  Average Speed   Time    Time     Time  Current\n",
      "                                 Dload  Upload   Total   Spent    Left  Speed\n",
      "\n",
      "  0     0    0     0    0     0      0      0 --:--:-- --:--:-- --:--:--     0\n",
      "  0     0    0     0    0     0      0      0 --:--:-- --:--:-- --:--:--     0\n",
      "  4  9.8M    4  495k    0     0   312k      0  0:00:32  0:00:01  0:00:31  312k\n",
      " 18  9.8M   18 1903k    0     0   730k      0  0:00:13  0:00:02  0:00:11  731k\n",
      " 40  9.8M   40 4047k    0     0  1126k      0  0:00:08  0:00:03  0:00:05 1127k\n",
      " 75  9.8M   75 7535k    0     0  1640k      0  0:00:06  0:00:04  0:00:02 1641k\n",
      "100  9.8M  100  9.8M    0     0  1853k      0  0:00:05  0:00:05 --:--:-- 2225k\n"
     ]
    },
    {
     "name": "stdout",
     "output_type": "stream",
     "text": [
      "29\n",
      "https://www.climatepolicyinitiative.org/publication/public-financial-institutions-climate-commitments/\n"
     ]
    },
    {
     "name": "stderr",
     "output_type": "stream",
     "text": [
      "  % Total    % Received % Xferd  Average Speed   Time    Time     Time  Current\n",
      "                                 Dload  Upload   Total   Spent    Left  Speed\n",
      "\n",
      "  0     0    0     0    0     0      0      0 --:--:-- --:--:-- --:--:--     0\n",
      "  0     0    0     0    0     0      0      0 --:--:-- --:--:-- --:--:--     0\n",
      "  8 3620k    8  303k    0     0   237k      0  0:00:15  0:00:01  0:00:14  237k\n",
      " 42 3620k   42 1551k    0     0   678k      0  0:00:05  0:00:02  0:00:03  678k\n",
      " 75 3620k   75 2751k    0     0   839k      0  0:00:04  0:00:03  0:00:01  839k\n",
      "100 3620k  100 3620k    0     0  1009k      0  0:00:03  0:00:03 --:--:-- 1010k\n"
     ]
    },
    {
     "name": "stdout",
     "output_type": "stream",
     "text": [
      "30\n",
      "https://www.climatepolicyinitiative.org/publication/landscape-of-climate-finance-in-nigeria/\n"
     ]
    },
    {
     "name": "stderr",
     "output_type": "stream",
     "text": [
      "  % Total    % Received % Xferd  Average Speed   Time    Time     Time  Current\n",
      "                                 Dload  Upload   Total   Spent    Left  Speed\n",
      "\n",
      "  0     0    0     0    0     0      0      0 --:--:-- --:--:-- --:--:--     0\n",
      "  0     0    0     0    0     0      0      0 --:--:-- --:--:-- --:--:--     0\n",
      " 21 2892k   21  623k    0     0   476k      0  0:00:06  0:00:01  0:00:05  476k\n",
      "100 2892k  100 2892k    0     0  1363k      0  0:00:02  0:00:02 --:--:-- 1365k\n"
     ]
    },
    {
     "name": "stdout",
     "output_type": "stream",
     "text": [
      "31\n",
      "https://www.climatepolicyinitiative.org/publication/reservoir-methane-capture-mechanism/\n"
     ]
    },
    {
     "name": "stderr",
     "output_type": "stream",
     "text": [
      "  % Total    % Received % Xferd  Average Speed   Time    Time     Time  Current\n",
      "                                 Dload  Upload   Total   Spent    Left  Speed\n",
      "\n",
      "  0     0    0     0    0     0      0      0 --:--:-- --:--:-- --:--:--     0\n",
      "  0     0    0     0    0     0      0      0 --:--:-- --:--:-- --:--:--     0\n",
      " 30 3884k   30 1199k    0     0   760k      0  0:00:05  0:00:01  0:00:04  761k\n",
      " 81 3884k   81 3183k    0     0  1218k      0  0:00:03  0:00:02  0:00:01 1219k\n",
      "100 3884k  100 3884k    0     0  1424k      0  0:00:02  0:00:02 --:--:-- 1425k\n"
     ]
    },
    {
     "name": "stdout",
     "output_type": "stream",
     "text": [
      "32\n",
      "https://www.climatepolicyinitiative.org/publication/the-fund-for-nature/\n"
     ]
    },
    {
     "name": "stderr",
     "output_type": "stream",
     "text": [
      "  % Total    % Received % Xferd  Average Speed   Time    Time     Time  Current\n",
      "                                 Dload  Upload   Total   Spent    Left  Speed\n",
      "\n",
      "  0     0    0     0    0     0      0      0 --:--:-- --:--:-- --:--:--     0\n",
      "  0     0    0     0    0     0      0      0 --:--:--  0:00:01 --:--:--     0\n",
      " 28 4009k   28 1135k    0     0   624k      0  0:00:06  0:00:01  0:00:05  625k\n",
      " 84 4009k   84 3391k    0     0  1203k      0  0:00:03  0:00:02  0:00:01 1203k\n",
      "100 4009k  100 4009k    0     0  1367k      0  0:00:02  0:00:02 --:--:-- 1367k\n"
     ]
    },
    {
     "name": "stdout",
     "output_type": "stream",
     "text": [
      "33\n",
      "https://www.climatepolicyinitiative.org/publication/financing-steel-decarbonization/\n"
     ]
    },
    {
     "name": "stderr",
     "output_type": "stream",
     "text": [
      "  % Total    % Received % Xferd  Average Speed   Time    Time     Time  Current\n",
      "                                 Dload  Upload   Total   Spent    Left  Speed\n",
      "\n",
      "  0     0    0     0    0     0      0      0 --:--:-- --:--:-- --:--:--     0\n",
      "  2 3834k    2 81525    0     0  82686      0  0:00:47 --:--:--  0:00:47 82850\n",
      " 60 3834k   60 2319k    0     0  1168k      0  0:00:03  0:00:01  0:00:02 1169k\n",
      "100 3834k  100 3834k    0     0  1411k      0  0:00:02  0:00:02 --:--:-- 1412k\n"
     ]
    },
    {
     "name": "stdout",
     "output_type": "stream",
     "text": [
      "34\n",
      "https://www.climatepolicyinitiative.org/publication/green-affordable-housing-finance/\n"
     ]
    },
    {
     "name": "stderr",
     "output_type": "stream",
     "text": [
      "  % Total    % Received % Xferd  Average Speed   Time    Time     Time  Current\n",
      "                                 Dload  Upload   Total   Spent    Left  Speed\n",
      "\n",
      "  0     0    0     0    0     0      0      0 --:--:-- --:--:-- --:--:--     0\n",
      "  0     0    0     0    0     0      0      0 --:--:-- --:--:-- --:--:--     0\n",
      " 45 2936k   45 1327k    0     0   828k      0  0:00:03  0:00:01  0:00:02  829k\n",
      "100 2936k  100 2936k    0     0  1376k      0  0:00:02  0:00:02 --:--:-- 1378k\n"
     ]
    },
    {
     "name": "stdout",
     "output_type": "stream",
     "text": [
      "35\n",
      "https://www.climatepolicyinitiative.org/publication/the-green-guarantee-company-ggc/\n"
     ]
    },
    {
     "name": "stderr",
     "output_type": "stream",
     "text": [
      "  % Total    % Received % Xferd  Average Speed   Time    Time     Time  Current\n",
      "                                 Dload  Upload   Total   Spent    Left  Speed\n",
      "\n",
      "  0     0    0     0    0     0      0      0 --:--:-- --:--:-- --:--:--     0\n",
      "  0     0    0     0    0     0      0      0 --:--:-- --:--:-- --:--:--     0\n",
      " 15 2177k   15  335k    0     0   214k      0  0:00:10  0:00:01  0:00:09  214k\n",
      " 66 2177k   66 1439k    0     0   562k      0  0:00:03  0:00:02  0:00:01  563k\n",
      "100 2177k  100 2177k    0     0   737k      0  0:00:02  0:00:02 --:--:--  738k\n"
     ]
    },
    {
     "name": "stdout",
     "output_type": "stream",
     "text": [
      "36\n",
      "https://www.climatepolicyinitiative.org/publication/climate-smart-shrimp-fund/\n"
     ]
    },
    {
     "name": "stderr",
     "output_type": "stream",
     "text": [
      "  % Total    % Received % Xferd  Average Speed   Time    Time     Time  Current\n",
      "                                 Dload  Upload   Total   Spent    Left  Speed\n",
      "\n",
      "  0     0    0     0    0     0      0      0 --:--:-- --:--:-- --:--:--     0\n",
      "  0     0    0     0    0     0      0      0 --:--:-- --:--:-- --:--:--     0\n",
      " 11 2595k   11  287k    0     0   249k      0  0:00:10  0:00:01  0:00:09  249k\n",
      "100 2595k  100 2595k    0     0  1253k      0  0:00:02  0:00:02 --:--:-- 1255k\n"
     ]
    },
    {
     "name": "stdout",
     "output_type": "stream",
     "text": [
      "37\n",
      "https://www.climatepolicyinitiative.org/publication/climate-insurance-linked-resilient-infrastructure-financing-cilrif/\n"
     ]
    },
    {
     "name": "stderr",
     "output_type": "stream",
     "text": [
      "  % Total    % Received % Xferd  Average Speed   Time    Time     Time  Current\n",
      "                                 Dload  Upload   Total   Spent    Left  Speed\n",
      "\n",
      "  0     0    0     0    0     0      0      0 --:--:-- --:--:-- --:--:--     0\n",
      "  0     0    0     0    0     0      0      0 --:--:-- --:--:-- --:--:--     0\n",
      " 77 1411k   77 1087k    0     0   707k      0  0:00:01  0:00:01 --:--:--  708k\n",
      "100 1411k  100 1411k    0     0   875k      0  0:00:01  0:00:01 --:--:--  876k\n"
     ]
    },
    {
     "name": "stdout",
     "output_type": "stream",
     "text": [
      "38\n",
      "https://www.climatepolicyinitiative.org/publication/landscape-of-climate-finance-in-africa/\n"
     ]
    },
    {
     "name": "stderr",
     "output_type": "stream",
     "text": [
      "  % Total    % Received % Xferd  Average Speed   Time    Time     Time  Current\n",
      "                                 Dload  Upload   Total   Spent    Left  Speed\n",
      "\n",
      "  0     0    0     0    0     0      0      0 --:--:-- --:--:-- --:--:--     0\n",
      "  0 5238k    0 15989    0     0  13991      0  0:06:23  0:00:01  0:06:22 14025\n",
      " 16 5238k   16  847k    0     0   472k      0  0:00:11  0:00:01  0:00:10  472k\n",
      " 68 5238k   68 3583k    0     0  1309k      0  0:00:03  0:00:02  0:00:01 1310k\n",
      "100 5238k  100 5238k    0     0  1506k      0  0:00:03  0:00:03 --:--:-- 1507k\n"
     ]
    },
    {
     "name": "stdout",
     "output_type": "stream",
     "text": [
      "39\n",
      "https://www.climatepolicyinitiative.org/publication/bioeconomy-in-the-amazon-conceptual-regulatory-and-institutional-analysis/\n"
     ]
    },
    {
     "name": "stderr",
     "output_type": "stream",
     "text": [
      "  % Total    % Received % Xferd  Average Speed   Time    Time     Time  Current\n",
      "                                 Dload  Upload   Total   Spent    Left  Speed\n",
      "\n",
      "  0     0    0     0    0     0      0      0 --:--:-- --:--:-- --:--:--     0\n",
      "  0     0    0     0    0     0      0      0 --:--:-- --:--:-- --:--:--     0\n",
      "  1 3705k    1 48757    0     0  47553      0  0:01:19  0:00:01  0:01:18 47660\n",
      " 77 3705k   77 2879k    0     0  1270k      0  0:00:02  0:00:02 --:--:-- 1271k\n",
      "100 3705k  100 3705k    0     0  1502k      0  0:00:02  0:00:02 --:--:-- 1503k\n"
     ]
    },
    {
     "name": "stdout",
     "output_type": "stream",
     "text": [
      "40\n",
      "https://www.climatepolicyinitiative.org/publication/increasing-subnational-pension-funds-climate-investments/\n"
     ]
    },
    {
     "name": "stderr",
     "output_type": "stream",
     "text": [
      "  % Total    % Received % Xferd  Average Speed   Time    Time     Time  Current\n",
      "                                 Dload  Upload   Total   Spent    Left  Speed\n",
      "\n",
      "  0     0    0     0    0     0      0      0 --:--:-- --:--:-- --:--:--     0\n",
      "  0     0    0     0    0     0      0      0 --:--:-- --:--:-- --:--:--     0\n",
      "  1 5963k    1 65141    0     0  60151      0  0:01:41  0:00:01  0:01:40 60259\n",
      " 40 5963k   40 2415k    0     0  1175k      0  0:00:05  0:00:02  0:00:03 1176k\n",
      " 67 5963k   67 4047k    0     0  1278k      0  0:00:04  0:00:03  0:00:01 1279k\n",
      "100 5963k  100 5963k    0     0  1655k      0  0:00:03  0:00:03 --:--:-- 1656k\n"
     ]
    },
    {
     "name": "stdout",
     "output_type": "stream",
     "text": [
      "41\n",
      "https://www.climatepolicyinitiative.org/publication/the-state-of-global-air-quality-funding-2022/\n",
      "42\n",
      "https://www.climatepolicyinitiative.org/publication/revealing-incentives-implications-of-the-design-of-public-rural-insurance-policies-in-brazil/\n"
     ]
    },
    {
     "name": "stderr",
     "output_type": "stream",
     "text": [
      "  % Total    % Received % Xferd  Average Speed   Time    Time     Time  Current\n",
      "                                 Dload  Upload   Total   Spent    Left  Speed\n",
      "\n",
      "  0     0    0     0    0     0      0      0 --:--:-- --:--:-- --:--:--     0\n",
      "  0     0    0     0    0     0      0      0 --:--:-- --:--:-- --:--:--     0\n",
      " 30 1162k   30  351k    0     0   274k      0  0:00:04  0:00:01  0:00:03  275k\n",
      "100 1162k  100 1162k    0     0   668k      0  0:00:01  0:00:01 --:--:--  668k\n"
     ]
    },
    {
     "name": "stdout",
     "output_type": "stream",
     "text": [
      "43\n",
      "https://www.climatepolicyinitiative.org/publication/we-need-to-talk-about-forest-degradation-in-the-amazon-brazilian-public-policy-must-understand-and-address-this-threat/\n"
     ]
    },
    {
     "name": "stderr",
     "output_type": "stream",
     "text": [
      "  % Total    % Received % Xferd  Average Speed   Time    Time     Time  Current\n",
      "                                 Dload  Upload   Total   Spent    Left  Speed\n",
      "\n",
      "  0     0    0     0    0     0      0      0 --:--:-- --:--:-- --:--:--     0\n",
      "  0     0    0     0    0     0      0      0 --:--:-- --:--:-- --:--:--     0\n",
      " 24 2301k   24  559k    0     0   397k      0  0:00:05  0:00:01  0:00:04  397k\n",
      "100 2301k  100 2301k    0     0  1021k      0  0:00:02  0:00:02 --:--:-- 1022k\n"
     ]
    },
    {
     "name": "stdout",
     "output_type": "stream",
     "text": [
      "44\n",
      "https://www.climatepolicyinitiative.org/publication/climate-finance-innovation-for-africa/\n"
     ]
    },
    {
     "name": "stderr",
     "output_type": "stream",
     "text": [
      "  % Total    % Received % Xferd  Average Speed   Time    Time     Time  Current\n",
      "                                 Dload  Upload   Total   Spent    Left  Speed\n",
      "\n",
      "  0     0    0     0    0     0      0      0 --:--:-- --:--:-- --:--:--     0\n",
      "  0     0    0     0    0     0      0      0 --:--:-- --:--:-- --:--:--     0\n",
      " 70 2178k   70 1535k    0     0   881k      0  0:00:02  0:00:01  0:00:01  882k\n",
      "100 2178k  100 2178k    0     0  1032k      0  0:00:02  0:00:02 --:--:-- 1033k\n"
     ]
    },
    {
     "name": "stdout",
     "output_type": "stream",
     "text": [
      "45\n",
      "https://www.climatepolicyinitiative.org/publication/landscape-of-green-finance-in-india-2022/\n"
     ]
    },
    {
     "name": "stderr",
     "output_type": "stream",
     "text": [
      "  % Total    % Received % Xferd  Average Speed   Time    Time     Time  Current\n",
      "                                 Dload  Upload   Total   Spent    Left  Speed\n",
      "\n",
      "  0     0    0     0    0     0      0      0 --:--:-- --:--:-- --:--:--     0\n",
      "  0     0    0     0    0     0      0      0 --:--:-- --:--:-- --:--:--     0\n",
      " 34 2822k   34  975k    0     0   739k      0  0:00:03  0:00:01  0:00:02  741k\n",
      "100 2822k  100 2822k    0     0  1533k      0  0:00:01  0:00:01 --:--:-- 1536k\n"
     ]
    },
    {
     "name": "stdout",
     "output_type": "stream",
     "text": [
      "46\n",
      "https://www.climatepolicyinitiative.org/publication/busting-the-myths-around-public-investment-in-clean-energy/\n",
      "47\n",
      "https://www.climatepolicyinitiative.org/publication/financing-net-zero-carbon-buildings/\n"
     ]
    },
    {
     "name": "stderr",
     "output_type": "stream",
     "text": [
      "  % Total    % Received % Xferd  Average Speed   Time    Time     Time  Current\n",
      "                                 Dload  Upload   Total   Spent    Left  Speed\n",
      "\n",
      "  0     0    0     0    0     0      0      0 --:--:-- --:--:-- --:--:--     0\n",
      "  0     0    0     0    0     0      0      0 --:--:-- --:--:-- --:--:--     0\n",
      " 30 2168k   30  671k    0     0   385k      0  0:00:05  0:00:01  0:00:04  386k\n",
      " 91 2168k   91 1983k    0     0   726k      0  0:00:02  0:00:02 --:--:--  727k\n",
      "100 2168k  100 2168k    0     0   760k      0  0:00:02  0:00:02 --:--:--  761k\n"
     ]
    },
    {
     "name": "stdout",
     "output_type": "stream",
     "text": [
      "48\n",
      "https://www.climatepolicyinitiative.org/publication/the-landscape-of-methane-abatement-finance/\n"
     ]
    },
    {
     "name": "stderr",
     "output_type": "stream",
     "text": [
      "  % Total    % Received % Xferd  Average Speed   Time    Time     Time  Current\n",
      "                                 Dload  Upload   Total   Spent    Left  Speed\n",
      "\n",
      "  0     0    0     0    0     0      0      0 --:--:-- --:--:-- --:--:--     0\n",
      "  0     0    0     0    0     0      0      0 --:--:-- --:--:-- --:--:--     0\n",
      "  0 9381k    0 65141    0     0  58605      0  0:02:43  0:00:01  0:02:42 58738\n",
      " 19 9381k   19 1871k    0     0   885k      0  0:00:10  0:00:02  0:00:08  887k\n",
      " 33 9381k   33 3103k    0     0   996k      0  0:00:09  0:00:03  0:00:06  996k\n",
      " 55 9381k   55 5199k    0     0  1263k      0  0:00:07  0:00:04  0:00:03 1263k\n",
      " 75 9381k   75 7119k    0     0  1387k      0  0:00:06  0:00:05  0:00:01 1452k\n",
      " 94 9381k   94 8847k    0     0  1446k      0  0:00:06  0:00:06 --:--:-- 1754k\n",
      "100 9381k  100 9381k    0     0  1432k      0  0:00:06  0:00:06 --:--:-- 1692k\n"
     ]
    },
    {
     "name": "stdout",
     "output_type": "stream",
     "text": [
      "49\n",
      "https://www.climatepolicyinitiative.org/publication/mining-royalties-and-socioeconomic-development-in-para/\n"
     ]
    },
    {
     "name": "stderr",
     "output_type": "stream",
     "text": [
      "  % Total    % Received % Xferd  Average Speed   Time    Time     Time  Current\n",
      "                                 Dload  Upload   Total   Spent    Left  Speed\n",
      "\n",
      "  0     0    0     0    0     0      0      0 --:--:-- --:--:-- --:--:--     0\n",
      "  0     0    0     0    0     0      0      0 --:--:-- --:--:-- --:--:--     0\n",
      " 38 2994k   38 1151k    0     0   681k      0  0:00:04  0:00:01  0:00:03  681k\n",
      " 94 2994k   94 2815k    0     0  1044k      0  0:00:02  0:00:02 --:--:-- 1045k\n",
      "100 2994k  100 2994k    0     0  1032k      0  0:00:02  0:00:02 --:--:-- 1033k\n"
     ]
    },
    {
     "name": "stdout",
     "output_type": "stream",
     "text": [
      "50\n",
      "https://www.climatepolicyinitiative.org/publication/roadmap-for-sustainable-infrastructure-in-the-amazon/\n"
     ]
    },
    {
     "name": "stderr",
     "output_type": "stream",
     "text": [
      "  % Total    % Received % Xferd  Average Speed   Time    Time     Time  Current\n",
      "                                 Dload  Upload   Total   Spent    Left  Speed\n",
      "\n",
      "  0     0    0     0    0     0      0      0 --:--:-- --:--:-- --:--:--     0\n",
      "  0     0    0     0    0     0      0      0 --:--:-- --:--:-- --:--:--     0\n",
      " 19 1983k   19  383k    0     0   224k      0  0:00:08  0:00:01  0:00:07  224k\n",
      " 50 1983k   50  991k    0     0   358k      0  0:00:05  0:00:02  0:00:03  359k\n",
      "100 1983k  100 1983k    0     0   546k      0  0:00:03  0:00:03 --:--:--  546k\n"
     ]
    },
    {
     "name": "stdout",
     "output_type": "stream",
     "text": [
      "51\n",
      "https://www.climatepolicyinitiative.org/publication/financial-aggregation-for-cities/\n"
     ]
    },
    {
     "name": "stderr",
     "output_type": "stream",
     "text": [
      "  % Total    % Received % Xferd  Average Speed   Time    Time     Time  Current\n",
      "                                 Dload  Upload   Total   Spent    Left  Speed\n",
      "\n",
      "  0     0    0     0    0     0      0      0 --:--:-- --:--:-- --:--:--     0\n",
      "  0     0    0     0    0     0      0      0 --:--:-- --:--:-- --:--:--     0\n",
      "  2 8006k    2  223k    0     0   175k      0  0:00:45  0:00:01  0:00:44  176k\n",
      " 15 8006k   15 1279k    0     0   554k      0  0:00:14  0:00:02  0:00:12  555k\n",
      " 28 8006k   28 2319k    0     0   704k      0  0:00:11  0:00:03  0:00:08  705k\n",
      " 53 8006k   53 4255k    0     0   993k      0  0:00:08  0:00:04  0:00:04  993k\n",
      " 78 8006k   78 6287k    0     0  1190k      0  0:00:06  0:00:05  0:00:01 1261k\n",
      " 96 8006k   96 7759k    0     0  1236k      0  0:00:06  0:00:06 --:--:-- 1505k\n",
      "100 8006k  100 8006k    0     0  1257k      0  0:00:06  0:00:06 --:--:-- 1657k\n"
     ]
    },
    {
     "name": "stdout",
     "output_type": "stream",
     "text": [
      "52\n",
      "https://www.climatepolicyinitiative.org/publication/climate-finance-needs-of-african-countries/\n"
     ]
    },
    {
     "name": "stderr",
     "output_type": "stream",
     "text": [
      "  % Total    % Received % Xferd  Average Speed   Time    Time     Time  Current\n",
      "                                 Dload  Upload   Total   Spent    Left  Speed\n",
      "\n",
      "  0     0    0     0    0     0      0      0 --:--:-- --:--:-- --:--:--     0\n",
      "  0     0    0     0    0     0      0      0 --:--:-- --:--:-- --:--:--     0\n",
      "  0 6393k    0 65141    0     0  61097      0  0:01:47  0:00:01  0:01:46 61222\n",
      " 13 6393k   13  847k    0     0   395k      0  0:00:16  0:00:02  0:00:14  395k\n",
      " 28 6393k   28 1823k    0     0   587k      0  0:00:10  0:00:03  0:00:07  588k\n",
      " 44 6393k   44 2847k    0     0   700k      0  0:00:09  0:00:04  0:00:05  701k\n",
      " 63 6393k   63 4079k    0     0   806k      0  0:00:07  0:00:05  0:00:02  842k\n",
      " 79 6393k   79 5071k    0     0   836k      0  0:00:07  0:00:06  0:00:01 1002k\n",
      " 94 6393k   94 6031k    0     0   851k      0  0:00:07  0:00:07 --:--:-- 1049k\n",
      "100 6393k  100 6393k    0     0   830k      0  0:00:07  0:00:07 --:--:--  993k\n"
     ]
    },
    {
     "name": "stdout",
     "output_type": "stream",
     "text": [
      "53\n",
      "https://www.climatepolicyinitiative.org/publication/bndes-in-the-legal-amazon/\n"
     ]
    },
    {
     "name": "stderr",
     "output_type": "stream",
     "text": [
      "  % Total    % Received % Xferd  Average Speed   Time    Time     Time  Current\n",
      "                                 Dload  Upload   Total   Spent    Left  Speed\n",
      "\n",
      "  0     0    0     0    0     0      0      0 --:--:-- --:--:-- --:--:--     0\n",
      "  0     0    0     0    0     0      0      0 --:--:-- --:--:-- --:--:--     0\n",
      "  8 1786k    8  159k    0     0   101k      0  0:00:17  0:00:01  0:00:16  101k\n",
      " 85 1786k   85 1535k    0     0   555k      0  0:00:03  0:00:02  0:00:01  555k\n",
      "100 1786k  100 1786k    0     0   543k      0  0:00:03  0:00:03 --:--:--  543k\n"
     ]
    },
    {
     "name": "stdout",
     "output_type": "stream",
     "text": [
      "54\n",
      "https://www.climatepolicyinitiative.org/publication/indonesia-blue-finance-landscape/\n"
     ]
    },
    {
     "name": "stderr",
     "output_type": "stream",
     "text": [
      "  % Total    % Received % Xferd  Average Speed   Time    Time     Time  Current\n",
      "                                 Dload  Upload   Total   Spent    Left  Speed\n",
      "\n",
      "  0     0    0     0    0     0      0      0 --:--:-- --:--:-- --:--:--     0\n",
      "  0     0    0     0    0     0      0      0 --:--:-- --:--:-- --:--:--     0\n",
      " 26 1529k   26  399k    0     0   285k      0  0:00:05  0:00:01  0:00:04  285k\n",
      " 98 1529k   98 1503k    0     0   626k      0  0:00:02  0:00:02 --:--:--  627k\n",
      "100 1529k  100 1529k    0     0   608k      0  0:00:02  0:00:02 --:--:--  608k\n"
     ]
    },
    {
     "name": "stdout",
     "output_type": "stream",
     "text": [
      "55\n",
      "https://www.climatepolicyinitiative.org/publication/private-financial-institutions-paris-alignment-commitments-2022-update/\n"
     ]
    },
    {
     "name": "stderr",
     "output_type": "stream",
     "text": [
      "  % Total    % Received % Xferd  Average Speed   Time    Time     Time  Current\n",
      "                                 Dload  Upload   Total   Spent    Left  Speed\n",
      "\n",
      "  0     0    0     0    0     0      0      0 --:--:-- --:--:-- --:--:--     0\n",
      "  0     0    0     0    0     0      0      0 --:--:-- --:--:-- --:--:--     0\n",
      "  5 8467k    5  431k    0     0   276k      0  0:00:30  0:00:01  0:00:29  276k\n",
      " 15 8467k   15 1343k    0     0   514k      0  0:00:16  0:00:02  0:00:14  514k\n",
      " 25 8467k   25 2191k    0     0   618k      0  0:00:13  0:00:03  0:00:10  618k\n",
      " 37 8467k   37 3167k    0     0   697k      0  0:00:12  0:00:04  0:00:08  698k\n",
      " 47 8467k   47 4063k    0     0   733k      0  0:00:11  0:00:05  0:00:06  817k\n",
      " 60 8467k   60 5135k    0     0   785k      0  0:00:10  0:00:06  0:00:04  944k\n",
      " 77 8467k   77 6591k    0     0   868k      0  0:00:09  0:00:07  0:00:02 1054k\n",
      " 92 8467k   92 7855k    0     0   917k      0  0:00:09  0:00:08  0:00:01 1129k\n",
      "100 8467k  100 8467k    0     0   924k      0  0:00:09  0:00:09 --:--:-- 1146k\n"
     ]
    },
    {
     "name": "stdout",
     "output_type": "stream",
     "text": [
      "56\n",
      "https://www.climatepolicyinitiative.org/pt-br/publication/congresso-nacional-presenteia-o-codigo-florestal-com-cavalo-de-troia/\n"
     ]
    },
    {
     "name": "stderr",
     "output_type": "stream",
     "text": [
      "  % Total    % Received % Xferd  Average Speed   Time    Time     Time  Current\n",
      "                                 Dload  Upload   Total   Spent    Left  Speed\n",
      "\n",
      "  0     0    0     0    0     0      0      0 --:--:-- --:--:-- --:--:--     0\n",
      "  0     0    0     0    0     0      0      0 --:--:-- --:--:-- --:--:--     0\n",
      "100  271k  100  271k    0     0   179k      0  0:00:01  0:00:01 --:--:--  179k\n"
     ]
    },
    {
     "name": "stdout",
     "output_type": "stream",
     "text": [
      "57\n",
      "https://www.climatepolicyinitiative.org/publication/rivers-of-diesel-in-the-amazon-why-does-the-region-with-brazils-biggest-hydroelectric-plants-still-rely-on-expensive-dirty-fuel/\n"
     ]
    },
    {
     "name": "stderr",
     "output_type": "stream",
     "text": [
      "  % Total    % Received % Xferd  Average Speed   Time    Time     Time  Current\n",
      "                                 Dload  Upload   Total   Spent    Left  Speed\n",
      "\n",
      "  0     0    0     0    0     0      0      0 --:--:-- --:--:-- --:--:--     0\n",
      "  0     0    0     0    0     0      0      0 --:--:-- --:--:-- --:--:--     0\n",
      " 17 1567k   17  271k    0     0   184k      0  0:00:08  0:00:01  0:00:07  184k\n",
      " 54 1567k   54  847k    0     0   338k      0  0:00:04  0:00:02  0:00:02  338k\n",
      " 92 1567k   92 1455k    0     0   412k      0  0:00:03  0:00:03 --:--:--  412k\n",
      "100 1567k  100 1567k    0     0   439k      0  0:00:03  0:00:03 --:--:--  439k\n"
     ]
    },
    {
     "name": "stdout",
     "output_type": "stream",
     "text": [
      "58\n",
      "https://www.climatepolicyinitiative.org/pt-br/publication/barometro-do-codigo-florestal-no-legislativo/\n",
      "59\n",
      "https://www.climatepolicyinitiative.org/pt-br/publication/monitor-da-implementacao-do-codigo-florestal/\n",
      "60\n",
      "https://www.climatepolicyinitiative.org/pt-br/publication/onde-estamos-10-anos-da-implementacao-do-codigo-florestal/\n",
      "61\n",
      "https://www.climatepolicyinitiative.org/pt-br/publication/impactos-das-controversias-juridicas-na-implementacao-do-codigo-florestal/\n"
     ]
    },
    {
     "name": "stderr",
     "output_type": "stream",
     "text": [
      "  % Total    % Received % Xferd  Average Speed   Time    Time     Time  Current\n",
      "                                 Dload  Upload   Total   Spent    Left  Speed\n",
      "\n",
      "  0     0    0     0    0     0      0      0 --:--:-- --:--:-- --:--:--     0\n",
      "100   437    0   437    0     0    712      0 --:--:-- --:--:-- --:--:--   716\n"
     ]
    },
    {
     "name": "stdout",
     "output_type": "stream",
     "text": [
      "62\n",
      "https://www.climatepolicyinitiative.org/pt-br/publication/cancelamento-de-car-em-terras-indigenas-desafios-e-propostas-para-uma-melhor-implementacao/\n"
     ]
    },
    {
     "name": "stderr",
     "output_type": "stream",
     "text": [
      "  % Total    % Received % Xferd  Average Speed   Time    Time     Time  Current\n",
      "                                 Dload  Upload   Total   Spent    Left  Speed\n",
      "\n",
      "  0     0    0     0    0     0      0      0 --:--:-- --:--:-- --:--:--     0\n",
      "  0     0    0     0    0     0      0      0 --:--:--  0:00:01 --:--:--     0\n",
      " 52 1381k   52  719k    0     0   383k      0  0:00:03  0:00:01  0:00:02  383k\n",
      "100 1381k  100 1381k    0     0   637k      0  0:00:02  0:00:02 --:--:--  638k\n"
     ]
    },
    {
     "name": "stdout",
     "output_type": "stream",
     "text": [
      "63\n",
      "https://www.climatepolicyinitiative.org/publication/usicef-impacts-and-lessons-learned-2017-2021/\n"
     ]
    },
    {
     "name": "stderr",
     "output_type": "stream",
     "text": [
      "  % Total    % Received % Xferd  Average Speed   Time    Time     Time  Current\n",
      "                                 Dload  Upload   Total   Spent    Left  Speed\n",
      "\n",
      "  0     0    0     0    0     0      0      0 --:--:-- --:--:-- --:--:--     0\n",
      "  0     0    0     0    0     0      0      0 --:--:-- --:--:-- --:--:--     0\n",
      "  5 2416k    5  143k    0     0   109k      0  0:00:22  0:00:01  0:00:21  109k\n",
      " 94 2416k   94 2287k    0     0   991k      0  0:00:02  0:00:02 --:--:--  992k\n",
      "100 2416k  100 2416k    0     0   999k      0  0:00:02  0:00:02 --:--:--  999k\n"
     ]
    },
    {
     "name": "stdout",
     "output_type": "stream",
     "text": [
      "64\n",
      "https://www.climatepolicyinitiative.org/publication/rural-investment-bndes-credit-contributes-to-agricultural-intensification/\n"
     ]
    },
    {
     "name": "stderr",
     "output_type": "stream",
     "text": [
      "  % Total    % Received % Xferd  Average Speed   Time    Time     Time  Current\n",
      "                                 Dload  Upload   Total   Spent    Left  Speed\n",
      "\n",
      "  0     0    0     0    0     0      0      0 --:--:-- --:--:-- --:--:--     0\n",
      "  0     0    0     0    0     0      0      0 --:--:-- --:--:-- --:--:--     0\n",
      " 11 1235k   11  143k    0     0   109k      0  0:00:11  0:00:01  0:00:10  110k\n",
      "100 1235k  100 1235k    0     0   558k      0  0:00:02  0:00:02 --:--:--  558k\n"
     ]
    },
    {
     "name": "stdout",
     "output_type": "stream",
     "text": [
      "65\n",
      "https://www.climatepolicyinitiative.org/publication/redefining-priorities-in-infrastructure-development-in-the-amazon-evidence-from-the-state-of-para/\n"
     ]
    },
    {
     "name": "stderr",
     "output_type": "stream",
     "text": [
      "  % Total    % Received % Xferd  Average Speed   Time    Time     Time  Current\n",
      "                                 Dload  Upload   Total   Spent    Left  Speed\n",
      "\n",
      "  0     0    0     0    0     0      0      0 --:--:-- --:--:-- --:--:--     0\n",
      "  0     0    0     0    0     0      0      0 --:--:-- --:--:-- --:--:--     0\n",
      " 12 1117k   12  143k    0     0   110k      0  0:00:10  0:00:01  0:00:09  110k\n",
      "100 1117k  100 1117k    0     0   515k      0  0:00:02  0:00:02 --:--:--  516k\n"
     ]
    },
    {
     "name": "stdout",
     "output_type": "stream",
     "text": [
      "66\n",
      "https://www.climatepolicyinitiative.org/pt-br/publication/senado-presenteia-os-10-anos-do-codigo-florestal-com-mais-anistia-aos-desmatadores/\n"
     ]
    },
    {
     "name": "stderr",
     "output_type": "stream",
     "text": [
      "  % Total    % Received % Xferd  Average Speed   Time    Time     Time  Current\n",
      "                                 Dload  Upload   Total   Spent    Left  Speed\n",
      "\n",
      "  0     0    0     0    0     0      0      0 --:--:-- --:--:-- --:--:--     0\n",
      "  7  204k    7 15990    0     0  16633      0  0:00:12 --:--:--  0:00:12 16673\n",
      "100  204k  100  204k    0     0   172k      0  0:00:01  0:00:01 --:--:--  173k\n"
     ]
    },
    {
     "name": "stdout",
     "output_type": "stream",
     "text": [
      "67\n",
      "https://www.climatepolicyinitiative.org/publication/accessibility-in-the-legal-amazon-measuring-market-access/\n"
     ]
    },
    {
     "name": "stderr",
     "output_type": "stream",
     "text": [
      "  % Total    % Received % Xferd  Average Speed   Time    Time     Time  Current\n",
      "                                 Dload  Upload   Total   Spent    Left  Speed\n",
      "\n",
      "  0     0    0     0    0     0      0      0 --:--:-- --:--:-- --:--:--     0\n",
      "  0     0    0     0    0     0      0      0 --:--:-- --:--:-- --:--:--     0\n",
      " 65  736k   65  479k    0     0   377k      0  0:00:01  0:00:01 --:--:--  378k\n",
      "100  736k  100  736k    0     0   542k      0  0:00:01  0:00:01 --:--:--  542k\n"
     ]
    },
    {
     "name": "stdout",
     "output_type": "stream",
     "text": [
      "68\n",
      "https://www.climatepolicyinitiative.org/publication/accessibility-in-the-legal-amazon-delimiting-the-area-of-influence-and-environmental-risks/\n"
     ]
    },
    {
     "name": "stderr",
     "output_type": "stream",
     "text": [
      "  % Total    % Received % Xferd  Average Speed   Time    Time     Time  Current\n",
      "                                 Dload  Upload   Total   Spent    Left  Speed\n",
      "\n",
      "  0     0    0     0    0     0      0      0 --:--:-- --:--:-- --:--:--     0\n",
      " 13  689k   13 97910    0     0  99308      0  0:00:07 --:--:--  0:00:07 99502\n",
      "100  689k  100  689k    0     0   503k      0  0:00:01  0:00:01 --:--:--  504k\n"
     ]
    },
    {
     "name": "stdout",
     "output_type": "stream",
     "text": [
      "69\n",
      "https://www.climatepolicyinitiative.org/publication/accessibility-in-the-amazon-digital-solutions/\n"
     ]
    },
    {
     "name": "stderr",
     "output_type": "stream",
     "text": [
      "  % Total    % Received % Xferd  Average Speed   Time    Time     Time  Current\n",
      "                                 Dload  Upload   Total   Spent    Left  Speed\n",
      "\n",
      "  0     0    0     0    0     0      0      0 --:--:-- --:--:-- --:--:--     0\n",
      "  0     0    0     0    0     0      0      0 --:--:-- --:--:-- --:--:--     0\n",
      " 38  498k   38  191k    0     0   181k      0  0:00:02  0:00:01  0:00:01  181k\n",
      "100  498k  100  498k    0     0   407k      0  0:00:01  0:00:01 --:--:--  407k\n"
     ]
    },
    {
     "name": "stdout",
     "output_type": "stream",
     "text": [
      "70\n",
      "https://www.climatepolicyinitiative.org/publication/presidential-decrees-exacerbate-the-contradiction-in-mining-regulations-at-the-expense-of-the-environment/\n"
     ]
    },
    {
     "name": "stderr",
     "output_type": "stream",
     "text": [
      "  % Total    % Received % Xferd  Average Speed   Time    Time     Time  Current\n",
      "                                 Dload  Upload   Total   Spent    Left  Speed\n",
      "\n",
      "  0     0    0     0    0     0      0      0 --:--:-- --:--:-- --:--:--     0\n",
      "  0     0    0     0    0     0      0      0 --:--:-- --:--:-- --:--:--     0\n",
      "  0     0    0     0    0     0      0      0 --:--:--  0:00:01 --:--:--     0\n",
      " 22  724k   22  159k    0     0  77088      0  0:00:09  0:00:02  0:00:07 77133\n",
      "100  724k  100  724k    0     0   239k      0  0:00:03  0:00:03 --:--:--  239k\n"
     ]
    },
    {
     "name": "stdout",
     "output_type": "stream",
     "text": [
      "71\n",
      "https://www.climatepolicyinitiative.org/publication/the-role-of-end-user-subsidies-in-closing-the-affordability-gap/\n"
     ]
    },
    {
     "name": "stderr",
     "output_type": "stream",
     "text": [
      "  % Total    % Received % Xferd  Average Speed   Time    Time     Time  Current\n",
      "                                 Dload  Upload   Total   Spent    Left  Speed\n",
      "\n",
      "  0     0    0     0    0     0      0      0 --:--:-- --:--:-- --:--:--     0\n",
      "  0     0    0     0    0     0      0      0 --:--:-- --:--:-- --:--:--     0\n",
      " 17 2159k   17  383k    0     0   269k      0  0:00:08  0:00:01  0:00:07  269k\n",
      " 71 2159k   71 1535k    0     0   629k      0  0:00:03  0:00:02  0:00:01  630k\n",
      "100 2159k  100 2159k    0     0   784k      0  0:00:02  0:00:02 --:--:--  785k\n"
     ]
    },
    {
     "name": "stdout",
     "output_type": "stream",
     "text": [
      "72\n",
      "https://www.climatepolicyinitiative.org/publication/mobilizing-green-finance-while-managing-climate-finance-risk-in-india/\n"
     ]
    },
    {
     "name": "stderr",
     "output_type": "stream",
     "text": [
      "  % Total    % Received % Xferd  Average Speed   Time    Time     Time  Current\n",
      "                                 Dload  Upload   Total   Spent    Left  Speed\n",
      "\n",
      "  0     0    0     0    0     0      0      0 --:--:-- --:--:-- --:--:--     0\n",
      "  0     0    0     0    0     0      0      0 --:--:-- --:--:-- --:--:--     0\n",
      " 85 1572k   85 1343k    0     0   820k      0  0:00:01  0:00:01 --:--:--  820k\n",
      "100 1572k  100 1572k    0     0   936k      0  0:00:01  0:00:01 --:--:--  937k\n"
     ]
    },
    {
     "name": "stdout",
     "output_type": "stream",
     "text": [
      "73\n",
      "https://www.climatepolicyinitiative.org/publication/priorities-that-do-not-prioritize-the-mismatch-between-the-objectives-and-the-application-of-resources-from-constitutional-funds-leads-to-credit-concentration-in-the-rural-sector/\n"
     ]
    },
    {
     "name": "stderr",
     "output_type": "stream",
     "text": [
      "  % Total    % Received % Xferd  Average Speed   Time    Time     Time  Current\n",
      "                                 Dload  Upload   Total   Spent    Left  Speed\n",
      "\n",
      "  0     0    0     0    0     0      0      0 --:--:-- --:--:-- --:--:--     0\n",
      "  0     0    0     0    0     0      0      0 --:--:-- --:--:-- --:--:--     0\n",
      " 36 1669k   36  607k    0     0   480k      0  0:00:03  0:00:01  0:00:02  481k\n",
      "100 1669k  100 1669k    0     0   967k      0  0:00:01  0:00:01 --:--:--  969k\n"
     ]
    },
    {
     "name": "stdout",
     "output_type": "stream",
     "text": [
      "74\n",
      "https://www.climatepolicyinitiative.org/pt-br/publication/infraestrutura-de-transporte-e-emprego-uma-abordagem-de-acesso-ao-mercado/\n"
     ]
    },
    {
     "name": "stderr",
     "output_type": "stream",
     "text": [
      "  % Total    % Received % Xferd  Average Speed   Time    Time     Time  Current\n",
      "                                 Dload  Upload   Total   Spent    Left  Speed\n",
      "\n",
      "  0     0    0     0    0     0      0      0 --:--:-- --:--:-- --:--:--     0\n",
      "  0 2857k    0 15989    0     0  17668      0  0:02:45 --:--:--  0:02:45 17706\n",
      " 22 2857k   22  639k    0     0   383k      0  0:00:07  0:00:01  0:00:06  383k\n",
      " 64 2857k   64 1855k    0     0   694k      0  0:00:04  0:00:02  0:00:02  694k\n",
      "100 2857k  100 2857k    0     0   953k      0  0:00:02  0:00:02 --:--:--  954k\n"
     ]
    },
    {
     "name": "stdout",
     "output_type": "stream",
     "text": [
      "75\n",
      "https://www.climatepolicyinitiative.org/publication/what-makes-a-transition-plan-credible-considerations-for-financial-institutions/\n"
     ]
    },
    {
     "name": "stderr",
     "output_type": "stream",
     "text": [
      "  % Total    % Received % Xferd  Average Speed   Time    Time     Time  Current\n",
      "                                 Dload  Upload   Total   Spent    Left  Speed\n",
      "\n",
      "  0     0    0     0    0     0      0      0 --:--:-- --:--:-- --:--:--     0\n",
      "  0     0    0     0    0     0      0      0 --:--:-- --:--:-- --:--:--     0\n",
      " 44 2452k   44 1087k    0     0   685k      0  0:00:03  0:00:01  0:00:02  686k\n",
      "100 2452k  100 2452k    0     0  1064k      0  0:00:02  0:00:02 --:--:-- 1065k\n"
     ]
    },
    {
     "name": "stdout",
     "output_type": "stream",
     "text": [
      "76\n",
      "https://www.climatepolicyinitiative.org/publication/paris-alignment-of-power-sector-finance-flows-in-indonesia-challenges-opportunities-and-innovative-solutions/\n"
     ]
    },
    {
     "name": "stderr",
     "output_type": "stream",
     "text": [
      "  % Total    % Received % Xferd  Average Speed   Time    Time     Time  Current\n",
      "                                 Dload  Upload   Total   Spent    Left  Speed\n",
      "\n",
      "  0     0    0     0    0     0      0      0 --:--:-- --:--:-- --:--:--     0\n",
      "  1  785k    1 15990    0     0  18043      0  0:00:44 --:--:--  0:00:44 18088\n",
      "100  785k  100  785k    0     0   528k      0  0:00:01  0:00:01 --:--:--  529k\n"
     ]
    },
    {
     "name": "stdout",
     "output_type": "stream",
     "text": [
      "77\n",
      "https://www.climatepolicyinitiative.org/publication/paris-alignment-of-power-sector-finance-flows-in-india-challenges-opportunities-and-innovative-solutions/\n"
     ]
    },
    {
     "name": "stderr",
     "output_type": "stream",
     "text": [
      "  % Total    % Received % Xferd  Average Speed   Time    Time     Time  Current\n",
      "                                 Dload  Upload   Total   Spent    Left  Speed\n",
      "\n",
      "  0     0    0     0    0     0      0      0 --:--:-- --:--:-- --:--:--     0\n",
      "  0     0    0     0    0     0      0      0 --:--:--  0:00:01 --:--:--     0\n",
      "100  889k  100  889k    0     0   541k      0  0:00:01  0:00:01 --:--:--  543k\n"
     ]
    },
    {
     "name": "stdout",
     "output_type": "stream",
     "text": [
      "78\n",
      "https://www.climatepolicyinitiative.org/publication/blueprints-for-climate-finance-in-kenya/\n"
     ]
    },
    {
     "name": "stderr",
     "output_type": "stream",
     "text": [
      "  % Total    % Received % Xferd  Average Speed   Time    Time     Time  Current\n",
      "                                 Dload  Upload   Total   Spent    Left  Speed\n",
      "\n",
      "  0     0    0     0    0     0      0      0 --:--:-- --:--:-- --:--:--     0\n",
      "  0     0    0     0    0     0      0      0 --:--:-- --:--:-- --:--:--     0\n",
      "  7 2710k    7  191k    0     0   132k      0  0:00:20  0:00:01  0:00:19  132k\n",
      "100 2710k  100 2710k    0     0  1359k      0  0:00:01  0:00:01 --:--:-- 1360k\n"
     ]
    },
    {
     "name": "stdout",
     "output_type": "stream",
     "text": [
      "79\n",
      "https://www.climatepolicyinitiative.org/publication/alliance-highlights-and-impact-report-2019-2021/\n"
     ]
    },
    {
     "name": "stderr",
     "output_type": "stream",
     "text": [
      "  % Total    % Received % Xferd  Average Speed   Time    Time     Time  Current\n",
      "                                 Dload  Upload   Total   Spent    Left  Speed\n",
      "\n",
      "  0     0    0     0    0     0      0      0 --:--:-- --:--:-- --:--:--     0\n",
      "  0     0    0     0    0     0      0      0 --:--:-- --:--:-- --:--:--     0\n",
      "  5 7632k    5  447k    0     0   329k      0  0:00:23  0:00:01  0:00:22  329k\n",
      " 28 7632k   28 2207k    0     0   871k      0  0:00:08  0:00:02  0:00:06  871k\n",
      " 50 7632k   50 3839k    0     0  1143k      0  0:00:06  0:00:03  0:00:03 1144k\n",
      " 68 7632k   68 5215k    0     0  1192k      0  0:00:06  0:00:04  0:00:02 1193k\n",
      " 97 7632k   97 7439k    0     0  1387k      0  0:00:05  0:00:05 --:--:-- 1487k\n",
      "100 7632k  100 7632k    0     0  1408k      0  0:00:05  0:00:05 --:--:-- 1770k\n"
     ]
    },
    {
     "name": "stdout",
     "output_type": "stream",
     "text": [
      "80\n",
      "https://www.climatepolicyinitiative.org/publication/incremental-investments-in-energy-efficiency-in-green-buildings/\n"
     ]
    },
    {
     "name": "stderr",
     "output_type": "stream",
     "text": [
      "  % Total    % Received % Xferd  Average Speed   Time    Time     Time  Current\n",
      "                                 Dload  Upload   Total   Spent    Left  Speed\n",
      "\n",
      "  0     0    0     0    0     0      0      0 --:--:-- --:--:-- --:--:--     0\n",
      "  0     0    0     0    0     0      0      0 --:--:-- --:--:-- --:--:--     0\n",
      " 10 7373k   10  751k    0     0   507k      0  0:00:14  0:00:01  0:00:13  507k\n",
      " 56 7373k   56 4159k    0     0  1674k      0  0:00:04  0:00:02  0:00:02 1675k\n",
      " 86 7373k   86 6399k    0     0  1789k      0  0:00:04  0:00:03  0:00:01 1790k\n",
      "100 7373k  100 7373k    0     0  1990k      0  0:00:03  0:00:03 --:--:-- 1991k\n"
     ]
    },
    {
     "name": "stdout",
     "output_type": "stream",
     "text": [
      "81\n",
      "https://www.climatepolicyinitiative.org/publication/global-landscape-of-climate-finance-2021/\n"
     ]
    },
    {
     "name": "stderr",
     "output_type": "stream",
     "text": [
      "  % Total    % Received % Xferd  Average Speed   Time    Time     Time  Current\n",
      "                                 Dload  Upload   Total   Spent    Left  Speed\n",
      "\n",
      "  0     0    0     0    0     0      0      0 --:--:-- --:--:-- --:--:--     0\n",
      "  0     0    0     0    0     0      0      0 --:--:-- --:--:-- --:--:--     0\n",
      " 29 3166k   29  927k    0     0   650k      0  0:00:04  0:00:01  0:00:03  650k\n",
      "100 3166k  100 3166k    0     0  1384k      0  0:00:02  0:00:02 --:--:-- 1386k\n"
     ]
    },
    {
     "name": "stdout",
     "output_type": "stream",
     "text": [
      "82\n",
      "https://www.climatepolicyinitiative.org/pt-br/publication/conciliacao-ambiental-e-desmatamento-na-amazonia-implicacoes-e-desafios-a-partir-de-evidencias/\n"
     ]
    },
    {
     "name": "stderr",
     "output_type": "stream",
     "text": [
      "  % Total    % Received % Xferd  Average Speed   Time    Time     Time  Current\n",
      "                                 Dload  Upload   Total   Spent    Left  Speed\n",
      "\n",
      "  0     0    0     0    0     0      0      0 --:--:-- --:--:-- --:--:--     0\n",
      "  3 1286k    3 48757    0     0  49694      0  0:00:26 --:--:--  0:00:26 49752\n",
      "100 1286k  100 1286k    0     0   915k      0  0:00:01  0:00:01 --:--:--  917k\n"
     ]
    },
    {
     "name": "stdout",
     "output_type": "stream",
     "text": [
      "83\n",
      "https://www.climatepolicyinitiative.org/pt-br/publication/grilagem-a-vista-parecer-do-senador-carlos-favaro-aprova-mudancas-na-lei-fundiaria/\n"
     ]
    },
    {
     "name": "stderr",
     "output_type": "stream",
     "text": [
      "  % Total    % Received % Xferd  Average Speed   Time    Time     Time  Current\n",
      "                                 Dload  Upload   Total   Spent    Left  Speed\n",
      "\n",
      "  0     0    0     0    0     0      0      0 --:--:-- --:--:-- --:--:--     0\n",
      "  0     0    0     0    0     0      0      0 --:--:-- --:--:-- --:--:--     0\n",
      "100  749k  100  749k    0     0   503k      0  0:00:01  0:00:01 --:--:--  504k\n"
     ]
    },
    {
     "name": "stdout",
     "output_type": "stream",
     "text": [
      "84\n",
      "https://www.climatepolicyinitiative.org/publication/credit-for-investments-in-brazilian-agriculture-and-the-role-of-the-brazilian-development-bank/\n"
     ]
    },
    {
     "name": "stderr",
     "output_type": "stream",
     "text": [
      "  % Total    % Received % Xferd  Average Speed   Time    Time     Time  Current\n",
      "                                 Dload  Upload   Total   Spent    Left  Speed\n",
      "\n",
      "  0     0    0     0    0     0      0      0 --:--:-- --:--:-- --:--:--     0\n",
      "  0     0    0     0    0     0      0      0 --:--:-- --:--:-- --:--:--     0\n",
      "100  946k  100  946k    0     0   553k      0  0:00:01  0:00:01 --:--:--  554k\n",
      "100  946k  100  946k    0     0   553k      0  0:00:01  0:00:01 --:--:--  554k\n"
     ]
    },
    {
     "name": "stdout",
     "output_type": "stream",
     "text": [
      "85\n",
      "https://www.climatepolicyinitiative.org/publication/where-does-brazil-stand-with-the-implementation-of-the-forest-code-a-snapshot-of-the-car-and-the-pra-in-brazils-states-2021-edition/\n"
     ]
    },
    {
     "name": "stderr",
     "output_type": "stream",
     "text": [
      "  % Total    % Received % Xferd  Average Speed   Time    Time     Time  Current\n",
      "                                 Dload  Upload   Total   Spent    Left  Speed\n",
      "\n",
      "  0     0    0     0    0     0      0      0 --:--:-- --:--:-- --:--:--     0\n",
      "  0     0    0     0    0     0      0      0 --:--:-- --:--:-- --:--:--     0\n",
      " 28 2886k   28  831k    0     0   523k      0  0:00:05  0:00:01  0:00:04  523k\n",
      " 99 2886k   99 2879k    0     0  1100k      0  0:00:02  0:00:02 --:--:-- 1101k\n",
      "100 2886k  100 2886k    0     0  1090k      0  0:00:02  0:00:02 --:--:-- 1090k\n"
     ]
    },
    {
     "name": "stdout",
     "output_type": "stream",
     "text": [
      "86\n",
      "https://www.climatepolicyinitiative.org/publication/the-relationship-between-forest-fires-and-deforestation-in-the-amazon-phenomena-are-more-closely-related-in-rural-settlements-and-in-occupied-public-lands/\n"
     ]
    },
    {
     "name": "stderr",
     "output_type": "stream",
     "text": [
      "  % Total    % Received % Xferd  Average Speed   Time    Time     Time  Current\n",
      "                                 Dload  Upload   Total   Spent    Left  Speed\n",
      "\n",
      "  0     0    0     0    0     0      0      0 --:--:-- --:--:-- --:--:--     0\n",
      "  2  682k    2 15990    0     0  19396      0  0:00:36 --:--:--  0:00:36 19428\n",
      "100  682k  100  682k    0     0   479k      0  0:00:01  0:00:01 --:--:--  480k\n"
     ]
    },
    {
     "name": "stdout",
     "output_type": "stream",
     "text": [
      "87\n",
      "https://www.climatepolicyinitiative.org/publication/through-deters-lens-the-relationship-between-degradation-and-deforestation-in-the-amazon/\n"
     ]
    },
    {
     "name": "stderr",
     "output_type": "stream",
     "text": [
      "  % Total    % Received % Xferd  Average Speed   Time    Time     Time  Current\n",
      "                                 Dload  Upload   Total   Spent    Left  Speed\n",
      "\n",
      "  0     0    0     0    0     0      0      0 --:--:-- --:--:-- --:--:--     0\n",
      "  0     0    0     0    0     0      0      0 --:--:-- --:--:-- --:--:--     0\n",
      "  2  684k    2 15990    0     0  14846      0  0:00:47  0:00:01  0:00:46 14874\n",
      "100  684k  100  684k    0     0   445k      0  0:00:01  0:00:01 --:--:--  445k\n"
     ]
    },
    {
     "name": "stdout",
     "output_type": "stream",
     "text": [
      "88\n",
      "https://www.climatepolicyinitiative.org/publication/the-role-of-brazils-federal-court-of-accounts-in-managing-social-and-environmental-risks-for-federal-railway-and-highway-concessions/\n"
     ]
    },
    {
     "name": "stderr",
     "output_type": "stream",
     "text": [
      "  % Total    % Received % Xferd  Average Speed   Time    Time     Time  Current\n",
      "                                 Dload  Upload   Total   Spent    Left  Speed\n",
      "\n",
      "  0     0    0     0    0     0      0      0 --:--:-- --:--:-- --:--:--     0\n",
      "  0     0    0     0    0     0      0      0 --:--:-- --:--:-- --:--:--     0\n",
      " 20 3287k   20  671k    0     0   366k      0  0:00:08  0:00:01  0:00:07  366k\n",
      " 48 3287k   48 1599k    0     0   562k      0  0:00:05  0:00:02  0:00:03  562k\n",
      " 82 3287k   82 2719k    0     0   705k      0  0:00:04  0:00:03  0:00:01  705k\n",
      "100 3287k  100 3287k    0     0   710k      0  0:00:04  0:00:04 --:--:--  710k\n"
     ]
    },
    {
     "name": "stdout",
     "output_type": "stream",
     "text": [
      "89\n",
      "https://www.climatepolicyinitiative.org/pt-br/publication/cpi-puc-rio-responde-o-que-e-crise-energetica/\n",
      "90\n",
      "https://www.climatepolicyinitiative.org/publication/assessing-jakartas-climate-investments/\n"
     ]
    },
    {
     "name": "stderr",
     "output_type": "stream",
     "text": [
      "  % Total    % Received % Xferd  Average Speed   Time    Time     Time  Current\n",
      "                                 Dload  Upload   Total   Spent    Left  Speed\n",
      "\n",
      "  0     0    0     0    0     0      0      0 --:--:-- --:--:-- --:--:--     0\n",
      "  0     0    0     0    0     0      0      0 --:--:-- --:--:-- --:--:--     0\n",
      "  2 11.7M    2  255k    0     0   194k      0  0:01:01  0:00:01  0:01:00  194k\n",
      " 14 11.7M   14 1727k    0     0   755k      0  0:00:15  0:00:02  0:00:13  756k\n",
      " 23 11.7M   23 2847k    0     0   801k      0  0:00:15  0:00:03  0:00:12  801k\n",
      " 46 11.7M   46 5599k    0     0  1306k      0  0:00:09  0:00:04  0:00:05 1306k\n",
      " 71 11.7M   71 8655k    0     0  1604k      0  0:00:07  0:00:05  0:00:02 1730k\n",
      " 94 11.7M   94 11.1M    0     0  1804k      0  0:00:06  0:00:06 --:--:-- 2226k\n",
      "100 11.7M  100 11.7M    0     0  1830k      0  0:00:06  0:00:06 --:--:-- 2402k\n"
     ]
    },
    {
     "name": "stdout",
     "output_type": "stream",
     "text": [
      "91\n",
      "https://www.climatepolicyinitiative.org/publication/a-snapshot-of-urban-green-finance-in-two-indian-cities/\n"
     ]
    },
    {
     "name": "stderr",
     "output_type": "stream",
     "text": [
      "  % Total    % Received % Xferd  Average Speed   Time    Time     Time  Current\n",
      "                                 Dload  Upload   Total   Spent    Left  Speed\n",
      "\n",
      "  0     0    0     0    0     0      0      0 --:--:-- --:--:-- --:--:--     0\n",
      "  0     0    0     0    0     0      0      0 --:--:-- --:--:-- --:--:--     0\n",
      "  2 11.9M    2  319k    0     0   279k      0  0:00:43  0:00:01  0:00:42  279k\n",
      " 18 11.9M   18 2303k    0     0  1067k      0  0:00:11  0:00:02  0:00:09 1067k\n",
      " 36 11.9M   36 4431k    0     0  1427k      0  0:00:08  0:00:03  0:00:05 1428k\n",
      " 52 11.9M   52 6431k    0     0  1551k      0  0:00:07  0:00:04  0:00:03 1551k\n",
      " 82 11.9M   82  9.7M    0     0  1962k      0  0:00:06  0:00:05  0:00:01 2051k\n",
      "100 11.9M  100 11.9M    0     0  2153k      0  0:00:05  0:00:05 --:--:-- 2626k\n"
     ]
    },
    {
     "name": "stdout",
     "output_type": "stream",
     "text": [
      "92\n",
      "https://www.climatepolicyinitiative.org/publication/exploring-viable-energy-efficiency-business-models-in-indonesia/\n"
     ]
    },
    {
     "name": "stderr",
     "output_type": "stream",
     "text": [
      "  % Total    % Received % Xferd  Average Speed   Time    Time     Time  Current\n",
      "                                 Dload  Upload   Total   Spent    Left  Speed\n",
      "\n",
      "  0     0    0     0    0     0      0      0 --:--:-- --:--:-- --:--:--     0\n",
      "  0 3655k    0 32373    0     0  36358      0  0:01:42 --:--:--  0:01:42 36415\n",
      " 40 3655k   40 1471k    0     0   771k      0  0:00:04  0:00:01  0:00:03  772k\n",
      "100 3655k  100 3655k    0     0  1350k      0  0:00:02  0:00:02 --:--:-- 1352k\n"
     ]
    },
    {
     "name": "stdout",
     "output_type": "stream",
     "text": [
      "93\n",
      "https://www.climatepolicyinitiative.org/publication/idfc-green-finance-mapping-2021/\n"
     ]
    },
    {
     "name": "stderr",
     "output_type": "stream",
     "text": [
      "  % Total    % Received % Xferd  Average Speed   Time    Time     Time  Current\n",
      "                                 Dload  Upload   Total   Spent    Left  Speed\n",
      "\n",
      "  0     0    0     0    0     0      0      0 --:--:-- --:--:-- --:--:--     0\n",
      "  0     0    0     0    0     0      0      0 --:--:-- --:--:-- --:--:--     0\n",
      "  6 3450k    6  223k    0     0   178k      0  0:00:19  0:00:01  0:00:18  178k\n",
      " 42 3450k   42 1471k    0     0   653k      0  0:00:05  0:00:02  0:00:03  654k\n",
      " 97 3450k   97 3359k    0     0  1033k      0  0:00:03  0:00:03 --:--:-- 1034k\n",
      "100 3450k  100 3450k    0     0  1032k      0  0:00:03  0:00:03 --:--:-- 1032k\n"
     ]
    },
    {
     "name": "stdout",
     "output_type": "stream",
     "text": [
      "94\n",
      "https://www.climatepolicyinitiative.org/publication/framework-for-sustainable-finance-integrity/\n"
     ]
    },
    {
     "name": "stderr",
     "output_type": "stream",
     "text": [
      "  % Total    % Received % Xferd  Average Speed   Time    Time     Time  Current\n",
      "                                 Dload  Upload   Total   Spent    Left  Speed\n",
      "\n",
      "  0     0    0     0    0     0      0      0 --:--:-- --:--:-- --:--:--     0\n",
      "  0     0    0     0    0     0      0      0 --:--:-- --:--:-- --:--:--     0\n",
      " 16 8209k   16 1359k    0     0   814k      0  0:00:10  0:00:01  0:00:09  815k\n",
      " 45 8209k   45 3775k    0     0  1414k      0  0:00:05  0:00:02  0:00:03 1415k\n",
      " 82 8209k   82 6751k    0     0  1825k      0  0:00:04  0:00:03  0:00:01 1825k\n",
      "100 8209k  100 8209k    0     0  1994k      0  0:00:04  0:00:04 --:--:-- 1995k\n"
     ]
    },
    {
     "name": "stdout",
     "output_type": "stream",
     "text": [
      "95\n",
      "https://www.climatepolicyinitiative.org/publication/mapping-the-effect-of-deforestation-on-rainfall-a-case-study-from-the-state-of-mato-grosso/\n"
     ]
    },
    {
     "name": "stderr",
     "output_type": "stream",
     "text": [
      "  % Total    % Received % Xferd  Average Speed   Time    Time     Time  Current\n",
      "                                 Dload  Upload   Total   Spent    Left  Speed\n",
      "\n",
      "  0     0    0     0    0     0      0      0 --:--:-- --:--:-- --:--:--     0\n",
      "  0     0    0     0    0     0      0      0 --:--:-- --:--:-- --:--:--     0\n",
      "  4 11.3M    4  495k    0     0   335k      0  0:00:34  0:00:01  0:00:33  335k\n",
      " 30 11.3M   30 3519k    0     0  1422k      0  0:00:08  0:00:02  0:00:06 1423k\n",
      " 70 11.3M   70 8191k    0     0  2359k      0  0:00:04  0:00:03  0:00:01 2360k\n",
      "100 11.3M  100 11.3M    0     0  2781k      0  0:00:04  0:00:04 --:--:-- 2782k\n"
     ]
    },
    {
     "name": "stdout",
     "output_type": "stream",
     "text": [
      "96\n",
      "https://www.climatepolicyinitiative.org/publication/leveraging-policy-tools-to-improve-impact-of-financial-instruments-in-sustainable-agriculture-forestry-and-other-land-use-afolu/\n"
     ]
    },
    {
     "name": "stderr",
     "output_type": "stream",
     "text": [
      "  % Total    % Received % Xferd  Average Speed   Time    Time     Time  Current\n",
      "                                 Dload  Upload   Total   Spent    Left  Speed\n",
      "\n",
      "  0     0    0     0    0     0      0      0 --:--:-- --:--:-- --:--:--     0\n",
      "  0     0    0     0    0     0      0      0 --:--:-- --:--:-- --:--:--     0\n",
      " 60 1551k   60  943k    0     0   533k      0  0:00:02  0:00:01  0:00:01  534k\n",
      "100 1551k  100 1551k    0     0   740k      0  0:00:02  0:00:02 --:--:--  741k\n"
     ]
    },
    {
     "name": "stdout",
     "output_type": "stream",
     "text": [
      "97\n",
      "https://www.climatepolicyinitiative.org/publication/private-financial-institutions-commitments-to-paris-alignment/\n"
     ]
    },
    {
     "name": "stderr",
     "output_type": "stream",
     "text": [
      "  % Total    % Received % Xferd  Average Speed   Time    Time     Time  Current\n",
      "                                 Dload  Upload   Total   Spent    Left  Speed\n",
      "\n",
      "  0     0    0     0    0     0      0      0 --:--:-- --:--:-- --:--:--     0\n",
      "  0     0    0     0    0     0      0      0 --:--:-- --:--:-- --:--:--     0\n",
      " 75 1655k   75 1247k    0     0   769k      0  0:00:02  0:00:01  0:00:01  770k\n",
      "100 1655k  100 1655k    0     0   954k      0  0:00:01  0:00:01 --:--:--  956k\n"
     ]
    },
    {
     "name": "stdout",
     "output_type": "stream",
     "text": [
      "98\n",
      "https://www.climatepolicyinitiative.org/publication/energizing-finance-understanding-the-landscape-2021/\n"
     ]
    },
    {
     "name": "stderr",
     "output_type": "stream",
     "text": [
      "  % Total    % Received % Xferd  Average Speed   Time    Time     Time  Current\n",
      "                                 Dload  Upload   Total   Spent    Left  Speed\n",
      "\n",
      "  0     0    0     0    0     0      0      0 --:--:-- --:--:-- --:--:--     0\n",
      "  1 1425k    1 15989    0     0  17257      0  0:01:24 --:--:--  0:01:24 17304\n",
      "100 1425k  100 1425k    0     0   803k      0  0:00:01  0:00:01 --:--:--  804k\n"
     ]
    },
    {
     "name": "stdout",
     "output_type": "stream",
     "text": [
      "99\n",
      "https://www.climatepolicyinitiative.org/publication/public-policies-for-the-protection-of-the-amazon-forest-what-works-and-how-to-improve/\n"
     ]
    },
    {
     "name": "stderr",
     "output_type": "stream",
     "text": [
      "  % Total    % Received % Xferd  Average Speed   Time    Time     Time  Current\n",
      "                                 Dload  Upload   Total   Spent    Left  Speed\n",
      "\n",
      "  0     0    0     0    0     0      0      0 --:--:-- --:--:-- --:--:--     0\n",
      "  0     0    0     0    0     0      0      0 --:--:-- --:--:-- --:--:--     0\n",
      "  5 5021k    5  271k    0     0   183k      0  0:00:27  0:00:01  0:00:26  183k\n",
      " 44 5021k   44 2255k    0     0   934k      0  0:00:05  0:00:02  0:00:03  935k\n",
      " 97 5021k   97 4879k    0     0  1423k      0  0:00:03  0:00:03 --:--:-- 1423k\n",
      "100 5021k  100 5021k    0     0  1427k      0  0:00:03  0:00:03 --:--:-- 1428k\n"
     ]
    },
    {
     "name": "stdout",
     "output_type": "stream",
     "text": [
      "100\n",
      "https://www.climatepolicyinitiative.org/publication/the-economics-of-cattle-ranching-in-the-amazon-land-grabbing-or-pushing-the-agricultural-frontier/\n"
     ]
    },
    {
     "name": "stderr",
     "output_type": "stream",
     "text": [
      "  % Total    % Received % Xferd  Average Speed   Time    Time     Time  Current\n",
      "                                 Dload  Upload   Total   Spent    Left  Speed\n",
      "\n",
      "  0     0    0     0    0     0      0      0 --:--:-- --:--:-- --:--:--     0\n",
      "  0     0    0     0    0     0      0      0 --:--:-- --:--:-- --:--:--     0\n",
      " 31 1838k   31  575k    0     0   392k      0  0:00:04  0:00:01  0:00:03  392k\n",
      "100 1838k  100 1838k    0     0   869k      0  0:00:02  0:00:02 --:--:--  870k\n"
     ]
    },
    {
     "name": "stdout",
     "output_type": "stream",
     "text": [
      "101\n",
      "https://www.climatepolicyinitiative.org/publication/building-climate-resilience-in-cities-through-insurance/\n"
     ]
    },
    {
     "name": "stderr",
     "output_type": "stream",
     "text": [
      "  % Total    % Received % Xferd  Average Speed   Time    Time     Time  Current\n",
      "                                 Dload  Upload   Total   Spent    Left  Speed\n",
      "\n",
      "  0     0    0     0    0     0      0      0 --:--:-- --:--:-- --:--:--     0\n",
      "  0     0    0     0    0     0      0      0 --:--:-- --:--:-- --:--:--     0\n",
      "  2 9393k    2  239k    0     0   197k      0  0:00:47  0:00:01  0:00:46  197k\n",
      " 26 9393k   26 2463k    0     0   992k      0  0:00:09  0:00:02  0:00:07  993k\n",
      " 50 9393k   50 4719k    0     0  1452k      0  0:00:06  0:00:03  0:00:03 1453k\n",
      " 67 9393k   67 6367k    0     0  1490k      0  0:00:06  0:00:04  0:00:02 1490k\n",
      " 84 9393k   84 7935k    0     0  1512k      0  0:00:06  0:00:05  0:00:01 1579k\n",
      "100 9393k  100 9393k    0     0  1658k      0  0:00:05  0:00:05 --:--:-- 2056k\n"
     ]
    },
    {
     "name": "stdout",
     "output_type": "stream",
     "text": [
      "102\n",
      "https://www.climatepolicyinitiative.org/publication/cooling-as-a-service-with-virtual-cold-chain-assistant/\n"
     ]
    },
    {
     "name": "stderr",
     "output_type": "stream",
     "text": [
      "  % Total    % Received % Xferd  Average Speed   Time    Time     Time  Current\n",
      "                                 Dload  Upload   Total   Spent    Left  Speed\n",
      "\n",
      "  0     0    0     0    0     0      0      0 --:--:-- --:--:-- --:--:--     0\n",
      "  0     0    0     0    0     0      0      0 --:--:-- --:--:-- --:--:--     0\n",
      " 25 1051k   25  271k    0     0   233k      0  0:00:04  0:00:01  0:00:03  234k\n",
      "100 1051k  100 1051k    0     0   625k      0  0:00:01  0:00:01 --:--:--  625k\n"
     ]
    },
    {
     "name": "stdout",
     "output_type": "stream",
     "text": [
      "103\n",
      "https://www.climatepolicyinitiative.org/publication/the-smallholder-resilience-fund/\n"
     ]
    },
    {
     "name": "stderr",
     "output_type": "stream",
     "text": [
      "  % Total    % Received % Xferd  Average Speed   Time    Time     Time  Current\n",
      "                                 Dload  Upload   Total   Spent    Left  Speed\n",
      "\n",
      "  0     0    0     0    0     0      0      0 --:--:-- --:--:-- --:--:--     0\n",
      "  0     0    0     0    0     0      0      0 --:--:-- --:--:-- --:--:--     0\n",
      " 83 2070k   83 1727k    0     0   946k      0  0:00:02  0:00:01  0:00:01  947k\n",
      "100 2070k  100 2070k    0     0  1039k      0  0:00:01  0:00:01 --:--:-- 1039k\n"
     ]
    },
    {
     "name": "stdout",
     "output_type": "stream",
     "text": [
      "104\n",
      "https://www.climatepolicyinitiative.org/publication/the-act-fund/\n"
     ]
    },
    {
     "name": "stderr",
     "output_type": "stream",
     "text": [
      "  % Total    % Received % Xferd  Average Speed   Time    Time     Time  Current\n",
      "                                 Dload  Upload   Total   Spent    Left  Speed\n",
      "\n",
      "  0     0    0     0    0     0      0      0 --:--:-- --:--:-- --:--:--     0\n",
      "  0     0    0     0    0     0      0      0 --:--:-- --:--:-- --:--:--     0\n",
      " 19 5588k   19 1103k    0     0   615k      0  0:00:09  0:00:01  0:00:08  616k\n",
      " 60 5588k   60 3359k    0     0  1211k      0  0:00:04  0:00:02  0:00:02 1212k\n",
      "100 5588k  100 5588k    0     0  1580k      0  0:00:03  0:00:03 --:--:-- 1581k\n"
     ]
    },
    {
     "name": "stdout",
     "output_type": "stream",
     "text": [
      "105\n",
      "https://www.climatepolicyinitiative.org/publication/p-rec-aggregation-fund/\n"
     ]
    },
    {
     "name": "stderr",
     "output_type": "stream",
     "text": [
      "  % Total    % Received % Xferd  Average Speed   Time    Time     Time  Current\n",
      "                                 Dload  Upload   Total   Spent    Left  Speed\n",
      "\n",
      "  0     0    0     0    0     0      0      0 --:--:-- --:--:-- --:--:--     0\n",
      "  0 4858k    0 15989    0     0  15867      0  0:05:13  0:00:01  0:05:12 15909\n",
      " 25 4858k   25 1231k    0     0   618k      0  0:00:07  0:00:01  0:00:06  619k\n",
      " 69 4858k   69 3359k    0     0  1095k      0  0:00:04  0:00:03  0:00:01 1096k\n",
      "100 4858k  100 4858k    0     0  1410k      0  0:00:03  0:00:03 --:--:-- 1411k\n"
     ]
    },
    {
     "name": "stdout",
     "output_type": "stream",
     "text": [
      "106\n",
      "https://www.climatepolicyinitiative.org/publication/data-driven-energy-access-for-africa/\n"
     ]
    },
    {
     "name": "stderr",
     "output_type": "stream",
     "text": [
      "  % Total    % Received % Xferd  Average Speed   Time    Time     Time  Current\n",
      "                                 Dload  Upload   Total   Spent    Left  Speed\n",
      "\n",
      "  0     0    0     0    0     0      0      0 --:--:-- --:--:-- --:--:--     0\n",
      "  0 4048k    0 15989    0     0  16474      0  0:04:11 --:--:--  0:04:11 16500\n",
      " 58 4048k   58 2383k    0     0  1286k      0  0:00:03  0:00:01  0:00:02 1287k\n",
      "100 4048k  100 4048k    0     0  1761k      0  0:00:02  0:00:02 --:--:-- 1763k\n"
     ]
    },
    {
     "name": "stdout",
     "output_type": "stream",
     "text": [
      "107\n",
      "https://www.climatepolicyinitiative.org/publication/amazonia-sustainable-supply-chains-mechanism/\n"
     ]
    },
    {
     "name": "stderr",
     "output_type": "stream",
     "text": [
      "  % Total    % Received % Xferd  Average Speed   Time    Time     Time  Current\n",
      "                                 Dload  Upload   Total   Spent    Left  Speed\n",
      "\n",
      "  0     0    0     0    0     0      0      0 --:--:-- --:--:-- --:--:--     0\n",
      "  0 5016k    0 15989    0     0  15650      0  0:05:28  0:00:01  0:05:27 15706\n",
      " 30 5016k   30 1519k    0     0   766k      0  0:00:06  0:00:01  0:00:05  767k\n",
      " 90 5016k   90 4559k    0     0  1528k      0  0:00:03  0:00:02  0:00:01 1529k\n",
      "100 5016k  100 5016k    0     0  1584k      0  0:00:03  0:00:03 --:--:-- 1585k\n"
     ]
    },
    {
     "name": "stdout",
     "output_type": "stream",
     "text": [
      "108\n",
      "https://www.climatepolicyinitiative.org/publication/guarantee-fund-for-biogas/\n"
     ]
    },
    {
     "name": "stderr",
     "output_type": "stream",
     "text": [
      "  % Total    % Received % Xferd  Average Speed   Time    Time     Time  Current\n",
      "                                 Dload  Upload   Total   Spent    Left  Speed\n",
      "\n",
      "  0     0    0     0    0     0      0      0 --:--:-- --:--:-- --:--:--     0\n",
      "  0     0    0     0    0     0      0      0 --:--:-- --:--:-- --:--:--     0\n",
      "  1 1427k    1 15989    0     0  15586      0  0:01:33  0:00:01  0:01:32 15614\n",
      " 87 1427k   87 1247k    0     0   616k      0  0:00:02  0:00:02 --:--:--  616k\n",
      "100 1427k  100 1427k    0     0   663k      0  0:00:02  0:00:02 --:--:--  663k\n"
     ]
    },
    {
     "name": "stdout",
     "output_type": "stream",
     "text": [
      "109\n",
      "https://www.climatepolicyinitiative.org/publication/governance-area-of-influence-and-environmental-risks-of-transport-infrastructure-investments-case-studies-in-the-state-of-para-2/\n"
     ]
    },
    {
     "name": "stderr",
     "output_type": "stream",
     "text": [
      "  % Total    % Received % Xferd  Average Speed   Time    Time     Time  Current\n",
      "                                 Dload  Upload   Total   Spent    Left  Speed\n",
      "\n",
      "  0     0    0     0    0     0      0      0 --:--:-- --:--:-- --:--:--     0\n",
      "  0     0    0     0    0     0      0      0 --:--:-- --:--:-- --:--:--     0\n",
      "  5 7561k    5  415k    0     0   297k      0  0:00:25  0:00:01  0:00:24  297k\n",
      " 35 7561k   35 2687k    0     0  1024k      0  0:00:07  0:00:02  0:00:05 1025k\n",
      " 53 7561k   53 4015k    0     0  1118k      0  0:00:06  0:00:03  0:00:03 1118k\n",
      " 71 7561k   71 5391k    0     0  1171k      0  0:00:06  0:00:04  0:00:02 1171k\n",
      " 90 7561k   90 6815k    0     0  1210k      0  0:00:06  0:00:05  0:00:01 1302k\n",
      "100 7561k  100 7561k    0     0  1316k      0  0:00:05  0:00:05 --:--:-- 1644k\n"
     ]
    },
    {
     "name": "stdout",
     "output_type": "stream",
     "text": [
      "110\n",
      "https://www.climatepolicyinitiative.org/publication/the-new-legal-framework-for-railroad-authorizations-requires-adjustments-to-strengthen-the-socio-environmental-governance-and-transparency-aspects-of-projects-an-assessment-of-mp-no-1065-2021-and/\n"
     ]
    },
    {
     "name": "stderr",
     "output_type": "stream",
     "text": [
      "  % Total    % Received % Xferd  Average Speed   Time    Time     Time  Current\n",
      "                                 Dload  Upload   Total   Spent    Left  Speed\n",
      "\n",
      "  0     0    0     0    0     0      0      0 --:--:-- --:--:-- --:--:--     0\n",
      "  0     0    0     0    0     0      0      0 --:--:-- --:--:-- --:--:--     0\n",
      " 11 1725k   11  191k    0     0   161k      0  0:00:10  0:00:01  0:00:09  161k\n",
      " 81 1725k   81 1407k    0     0   643k      0  0:00:02  0:00:02 --:--:--  643k\n",
      "100 1725k  100 1725k    0     0   664k      0  0:00:02  0:00:02 --:--:--  664k\n"
     ]
    },
    {
     "name": "stdout",
     "output_type": "stream",
     "text": [
      "111\n",
      "https://www.climatepolicyinitiative.org/publication/coal-power-finance-in-high-impact-countries/\n"
     ]
    },
    {
     "name": "stderr",
     "output_type": "stream",
     "text": [
      "  % Total    % Received % Xferd  Average Speed   Time    Time     Time  Current\n",
      "                                 Dload  Upload   Total   Spent    Left  Speed\n",
      "\n",
      "  0     0    0     0    0     0      0      0 --:--:-- --:--:-- --:--:--     0\n",
      "  0     0    0     0    0     0      0      0 --:--:-- --:--:-- --:--:--     0\n",
      " 19 3403k   19  671k    0     0   549k      0  0:00:06  0:00:01  0:00:05  550k\n",
      "100 3403k  100 3403k    0     0  1633k      0  0:00:02  0:00:02 --:--:-- 1636k\n"
     ]
    },
    {
     "name": "stdout",
     "output_type": "stream",
     "text": [
      "112\n",
      "https://www.climatepolicyinitiative.org/publication/7-peculiarities-of-rural-credit-in-the-cerrado-private-resources-attracted-to-finance-large-producers-contrast-with-scarcity-of-credit-for-family-farming/\n"
     ]
    },
    {
     "name": "stderr",
     "output_type": "stream",
     "text": [
      "  % Total    % Received % Xferd  Average Speed   Time    Time     Time  Current\n",
      "                                 Dload  Upload   Total   Spent    Left  Speed\n",
      "\n",
      "  0     0    0     0    0     0      0      0 --:--:-- --:--:-- --:--:--     0\n",
      "  0     0    0     0    0     0      0      0 --:--:--  0:00:01 --:--:--     0\n",
      " 16 5000k   16  847k    0     0   457k      0  0:00:10  0:00:01  0:00:09  457k\n",
      " 51 5000k   51 2559k    0     0   897k      0  0:00:05  0:00:02  0:00:03  897k\n",
      " 99 5000k   99 4991k    0     0  1297k      0  0:00:03  0:00:03 --:--:-- 1298k\n",
      "100 5000k  100 5000k    0     0  1277k      0  0:00:03  0:00:03 --:--:-- 1277k\n"
     ]
    },
    {
     "name": "stdout",
     "output_type": "stream",
     "text": [
      "113\n",
      "https://www.climatepolicyinitiative.org/publication/regulating-forest-compensation-for-legal-deforestation-in-brazil/\n"
     ]
    },
    {
     "name": "stderr",
     "output_type": "stream",
     "text": [
      "  % Total    % Received % Xferd  Average Speed   Time    Time     Time  Current\n",
      "                                 Dload  Upload   Total   Spent    Left  Speed\n",
      "\n",
      "  0     0    0     0    0     0      0      0 --:--:-- --:--:-- --:--:--     0\n",
      "  1 1411k    1 15989    0     0  20564      0  0:01:10 --:--:--  0:01:10 20604\n",
      "100 1411k  100 1411k    0     0   841k      0  0:00:01  0:00:01 --:--:--  842k\n"
     ]
    },
    {
     "name": "stdout",
     "output_type": "stream",
     "text": [
      "114\n",
      "https://www.climatepolicyinitiative.org/pt-br/publication/areas-de-preservacao-permanente-podem-ser-reduzidas-pela-metade-e-agravar-o-desmatamento-substitutivo-ao-projeto-de-lei-no-1709-2019-altera-as-regras-de-app-em-todo-o-brasil/\n"
     ]
    },
    {
     "name": "stderr",
     "output_type": "stream",
     "text": [
      "  % Total    % Received % Xferd  Average Speed   Time    Time     Time  Current\n",
      "                                 Dload  Upload   Total   Spent    Left  Speed\n",
      "\n",
      "  0     0    0     0    0     0      0      0 --:--:-- --:--:-- --:--:--     0\n",
      "  0     0    0     0    0     0      0      0 --:--:-- --:--:-- --:--:--     0\n",
      " 10 6696k   10  671k    0     0   484k      0  0:00:13  0:00:01  0:00:12  484k\n",
      " 59 6696k   59 3983k    0     0  1665k      0  0:00:04  0:00:02  0:00:02 1666k\n",
      "100 6696k  100 6696k    0     0  2056k      0  0:00:03  0:00:03 --:--:-- 2058k\n"
     ]
    },
    {
     "name": "stdout",
     "output_type": "stream",
     "text": [
      "115\n",
      "https://www.climatepolicyinitiative.org/pt-br/publication/video-analise-do-novo-procedimento-administrativo-sancionador-do-ibama-e-seus-reflexos-no-combate-ao-desmatamento-na-amazonia/\n",
      "116\n",
      "https://www.climatepolicyinitiative.org/publication/accelerating-renewable-energy-finance-in-indonesia-the-potential-of-municipal-green-bonds/\n"
     ]
    },
    {
     "name": "stderr",
     "output_type": "stream",
     "text": [
      "  % Total    % Received % Xferd  Average Speed   Time    Time     Time  Current\n",
      "                                 Dload  Upload   Total   Spent    Left  Speed\n",
      "\n",
      "  0     0    0     0    0     0      0      0 --:--:-- --:--:-- --:--:--     0\n",
      "  0     0    0     0    0     0      0      0 --:--:-- --:--:-- --:--:--     0\n",
      " 14  9.9M   14 1471k    0     0   921k      0  0:00:11  0:00:01  0:00:10  922k\n",
      " 32  9.9M   32 3311k    0     0  1284k      0  0:00:07  0:00:02  0:00:05 1285k\n",
      " 61  9.9M   61 6255k    0     0  1743k      0  0:00:05  0:00:03  0:00:02 1743k\n",
      "100  9.9M  100  9.9M    0     0  2252k      0  0:00:04  0:00:04 --:--:-- 2253k\n"
     ]
    },
    {
     "name": "stdout",
     "output_type": "stream",
     "text": [
      "117\n",
      "https://www.climatepolicyinitiative.org/publication/the-state-of-cities-climate-finance/\n"
     ]
    },
    {
     "name": "stderr",
     "output_type": "stream",
     "text": [
      "  % Total    % Received % Xferd  Average Speed   Time    Time     Time  Current\n",
      "                                 Dload  Upload   Total   Spent    Left  Speed\n",
      "\n",
      "  0     0    0     0    0     0      0      0 --:--:-- --:--:-- --:--:--     0\n",
      "  0 11.7M    0 15988    0     0  17936      0  0:11:29 --:--:--  0:11:29 17964\n",
      " 17 11.7M   17 2079k    0     0  1112k      0  0:00:10  0:00:01  0:00:09 1113k\n",
      " 50 11.7M   50 6095k    0     0  2124k      0  0:00:05  0:00:02  0:00:03 2125k\n",
      " 74 11.7M   74 9007k    0     0  2243k      0  0:00:05  0:00:04  0:00:01 2245k\n",
      "100 11.7M  100 11.7M    0     0  2531k      0  0:00:04  0:00:04 --:--:-- 2532k\n"
     ]
    },
    {
     "name": "stdout",
     "output_type": "stream",
     "text": [
      "118\n",
      "https://www.climatepolicyinitiative.org/publication/net-zero-finance-tracker/\n",
      "119\n",
      "https://www.climatepolicyinitiative.org/publication/investing-in-nature-to-build-back-better/\n"
     ]
    },
    {
     "name": "stderr",
     "output_type": "stream",
     "text": [
      "  % Total    % Received % Xferd  Average Speed   Time    Time     Time  Current\n",
      "                                 Dload  Upload   Total   Spent    Left  Speed\n",
      "\n",
      "  0     0    0     0    0     0      0      0 --:--:-- --:--:-- --:--:--     0\n",
      "  0     0    0     0    0     0      0      0 --:--:-- --:--:-- --:--:--     0\n",
      " 10 6638k   10  687k    0     0   538k      0  0:00:12  0:00:01  0:00:11  539k\n",
      " 61 6638k   61 4111k    0     0  1790k      0  0:00:03  0:00:02  0:00:01 1792k\n",
      "100 6638k  100 6638k    0     0  2044k      0  0:00:03  0:00:03 --:--:-- 2046k\n"
     ]
    },
    {
     "name": "stdout",
     "output_type": "stream",
     "text": [
      "120\n",
      "https://www.climatepolicyinitiative.org/publication/increasing-cattle-productivity-in-the-amazon-requires-new-technologies/\n"
     ]
    },
    {
     "name": "stderr",
     "output_type": "stream",
     "text": [
      "  % Total    % Received % Xferd  Average Speed   Time    Time     Time  Current\n",
      "                                 Dload  Upload   Total   Spent    Left  Speed\n",
      "\n",
      "  0     0    0     0    0     0      0      0 --:--:-- --:--:-- --:--:--     0\n",
      "  0     0    0     0    0     0      0      0 --:--:-- --:--:-- --:--:--     0\n",
      "100  588k  100  588k    0     0   406k      0  0:00:01  0:00:01 --:--:--  407k\n"
     ]
    },
    {
     "name": "stdout",
     "output_type": "stream",
     "text": [
      "121\n",
      "https://www.climatepolicyinitiative.org/publication/strengthening-environmental-studies-for-federal-land-infrastructure-concessions/\n"
     ]
    },
    {
     "name": "stderr",
     "output_type": "stream",
     "text": [
      "  % Total    % Received % Xferd  Average Speed   Time    Time     Time  Current\n",
      "                                 Dload  Upload   Total   Spent    Left  Speed\n",
      "\n",
      "  0     0    0     0    0     0      0      0 --:--:-- --:--:-- --:--:--     0\n",
      "  0     0    0     0    0     0      0      0 --:--:-- --:--:-- --:--:--     0\n",
      " 13 1049k   13  143k    0     0   106k      0  0:00:09  0:00:01  0:00:08  106k\n",
      "100 1049k  100 1049k    0     0   610k      0  0:00:01  0:00:01 --:--:--  610k\n"
     ]
    },
    {
     "name": "stdout",
     "output_type": "stream",
     "text": [
      "122\n",
      "https://www.climatepolicyinitiative.org/pt-br/publication/aprimorando-a-zona-franca-de-manaus-licoes-da-experiencia-internacional/\n"
     ]
    },
    {
     "name": "stderr",
     "output_type": "stream",
     "text": [
      "  % Total    % Received % Xferd  Average Speed   Time    Time     Time  Current\n",
      "                                 Dload  Upload   Total   Spent    Left  Speed\n",
      "\n",
      "  0     0    0     0    0     0      0      0 --:--:-- --:--:-- --:--:--     0\n",
      "  1 1555k    1 15989    0     0  17842      0  0:01:29 --:--:--  0:01:29 17884\n",
      "100 1555k  100 1555k    0     0   902k      0  0:00:01  0:00:01 --:--:--  904k\n"
     ]
    },
    {
     "name": "stdout",
     "output_type": "stream",
     "text": [
      "123\n",
      "https://www.climatepolicyinitiative.org/publication/environmental-viability-of-land-transport-infrastructure-in-the-amazon/\n"
     ]
    },
    {
     "name": "stderr",
     "output_type": "stream",
     "text": [
      "  % Total    % Received % Xferd  Average Speed   Time    Time     Time  Current\n",
      "                                 Dload  Upload   Total   Spent    Left  Speed\n",
      "\n",
      "  0     0    0     0    0     0      0      0 --:--:-- --:--:-- --:--:--     0\n",
      "  0     0    0     0    0     0      0      0 --:--:-- --:--:-- --:--:--     0\n",
      " 30 2150k   30  655k    0     0   515k      0  0:00:04  0:00:01  0:00:03  516k\n",
      "100 2150k  100 2150k    0     0  1337k      0  0:00:01  0:00:01 --:--:-- 1339k\n"
     ]
    },
    {
     "name": "stdout",
     "output_type": "stream",
     "text": [
      "124\n",
      "https://www.climatepolicyinitiative.org/publication/recent-changes-to-legislation-may-increase-deforestation-and-impunity-in-the-brazilian-amazon-heres-how/\n"
     ]
    },
    {
     "name": "stderr",
     "output_type": "stream",
     "text": [
      "  % Total    % Received % Xferd  Average Speed   Time    Time     Time  Current\n",
      "                                 Dload  Upload   Total   Spent    Left  Speed\n",
      "\n",
      "  0     0    0     0    0     0      0      0 --:--:-- --:--:-- --:--:--     0\n",
      "  0     0    0     0    0     0      0      0 --:--:-- --:--:-- --:--:--     0\n",
      " 78 1821k   78 1423k    0     0   799k      0  0:00:02  0:00:01  0:00:01  800k\n",
      "100 1821k  100 1821k    0     0   928k      0  0:00:01  0:00:01 --:--:--  928k\n"
     ]
    },
    {
     "name": "stdout",
     "output_type": "stream",
     "text": [
      "125\n",
      "https://www.climatepolicyinitiative.org/publication/an-analysis-of-the-new-legal-framework-for-ibamas-administrative-sanctioning-procedure-and-its-effects-on-combating-deforestation-in-the-amazon/\n"
     ]
    },
    {
     "name": "stderr",
     "output_type": "stream",
     "text": [
      "  % Total    % Received % Xferd  Average Speed   Time    Time     Time  Current\n",
      "                                 Dload  Upload   Total   Spent    Left  Speed\n",
      "\n",
      "  0     0    0     0    0     0      0      0 --:--:-- --:--:-- --:--:--     0\n",
      "  0     0    0     0    0     0      0      0 --:--:-- --:--:-- --:--:--     0\n",
      "  4 4015k    4  191k    0     0   150k      0  0:00:26  0:00:01  0:00:25  150k\n",
      " 69 4015k   69 2783k    0     0  1217k      0  0:00:03  0:00:02  0:00:01 1218k\n",
      "100 4015k  100 4015k    0     0  1351k      0  0:00:02  0:00:02 --:--:-- 1352k\n"
     ]
    },
    {
     "name": "stdout",
     "output_type": "stream",
     "text": [
      "126\n",
      "https://www.climatepolicyinitiative.org/publication/leveraging-fiscal-stimulus-to-improve-energy-transition-case-of-south-korea-and-indonesia/\n"
     ]
    },
    {
     "name": "stderr",
     "output_type": "stream",
     "text": [
      "  % Total    % Received % Xferd  Average Speed   Time    Time     Time  Current\n",
      "                                 Dload  Upload   Total   Spent    Left  Speed\n",
      "\n",
      "  0     0    0     0    0     0      0      0 --:--:-- --:--:-- --:--:--     0\n",
      "  0     0    0     0    0     0      0      0 --:--:-- --:--:-- --:--:--     0\n",
      " 17 8226k   17 1439k    0     0   840k      0  0:00:09  0:00:01  0:00:08  841k\n",
      " 54 8226k   54 4447k    0     0  1586k      0  0:00:05  0:00:02  0:00:03 1587k\n",
      " 95 8226k   95 7855k    0     0  2116k      0  0:00:03  0:00:03 --:--:-- 2116k\n",
      "100 8226k  100 8226k    0     0  2138k      0  0:00:03  0:00:03 --:--:-- 2139k\n"
     ]
    },
    {
     "name": "stdout",
     "output_type": "stream",
     "text": [
      "127\n",
      "https://www.climatepolicyinitiative.org/publication/the-new-bidding-law-offers-opportunities-to-improve-infrastructure-projects-and-prevent-socio-environmental-impacts/\n"
     ]
    },
    {
     "name": "stderr",
     "output_type": "stream",
     "text": [
      "  % Total    % Received % Xferd  Average Speed   Time    Time     Time  Current\n",
      "                                 Dload  Upload   Total   Spent    Left  Speed\n",
      "\n",
      "  0     0    0     0    0     0      0      0 --:--:-- --:--:-- --:--:--     0\n",
      "  0     0    0     0    0     0      0      0 --:--:-- --:--:-- --:--:--     0\n",
      "100  132k  100  132k    0     0   141k      0 --:--:-- --:--:-- --:--:--  142k\n"
     ]
    },
    {
     "name": "stdout",
     "output_type": "stream",
     "text": [
      "128\n",
      "https://www.climatepolicyinitiative.org/publication/debt-for-climate-swaps/\n"
     ]
    },
    {
     "name": "stderr",
     "output_type": "stream",
     "text": [
      "  % Total    % Received % Xferd  Average Speed   Time    Time     Time  Current\n",
      "                                 Dload  Upload   Total   Spent    Left  Speed\n",
      "\n",
      "  0     0    0     0    0     0      0      0 --:--:-- --:--:-- --:--:--     0\n",
      "  0     0    0     0    0     0      0      0 --:--:-- --:--:-- --:--:--     0\n",
      "100  723k  100  723k    0     0   534k      0  0:00:01  0:00:01 --:--:--  536k\n"
     ]
    },
    {
     "name": "stdout",
     "output_type": "stream",
     "text": [
      "129\n",
      "https://www.climatepolicyinitiative.org/publication/results-based-financing/\n"
     ]
    },
    {
     "name": "stderr",
     "output_type": "stream",
     "text": [
      "  % Total    % Received % Xferd  Average Speed   Time    Time     Time  Current\n",
      "                                 Dload  Upload   Total   Spent    Left  Speed\n",
      "\n",
      "  0     0    0     0    0     0      0      0 --:--:-- --:--:-- --:--:--     0\n",
      "  0     0    0     0    0     0      0      0 --:--:-- --:--:-- --:--:--     0\n",
      " 92  833k   92  767k    0     0   440k      0  0:00:01  0:00:01 --:--:--  441k\n",
      "100  833k  100  833k    0     0   457k      0  0:00:01  0:00:01 --:--:--  457k\n"
     ]
    },
    {
     "name": "stdout",
     "output_type": "stream",
     "text": [
      "130\n",
      "https://www.climatepolicyinitiative.org/publication/recovery-bonds/\n"
     ]
    },
    {
     "name": "stderr",
     "output_type": "stream",
     "text": [
      "  % Total    % Received % Xferd  Average Speed   Time    Time     Time  Current\n",
      "                                 Dload  Upload   Total   Spent    Left  Speed\n",
      "\n",
      "  0     0    0     0    0     0      0      0 --:--:-- --:--:-- --:--:--     0\n",
      "  0     0    0     0    0     0      0      0 --:--:-- --:--:-- --:--:--     0\n",
      " 48  595k   48  287k    0     0   271k      0  0:00:02  0:00:01  0:00:01  272k\n",
      "100  595k  100  595k    0     0   494k      0  0:00:01  0:00:01 --:--:--  494k\n"
     ]
    },
    {
     "name": "stdout",
     "output_type": "stream",
     "text": [
      "131\n",
      "https://www.climatepolicyinitiative.org/publication/framework-for-sustainable-finance-integrity-consultation/\n"
     ]
    },
    {
     "name": "stderr",
     "output_type": "stream",
     "text": [
      "  % Total    % Received % Xferd  Average Speed   Time    Time     Time  Current\n",
      "                                 Dload  Upload   Total   Spent    Left  Speed\n",
      "\n",
      "  0     0    0     0    0     0      0      0 --:--:-- --:--:-- --:--:--     0\n",
      "  0     0    0     0    0     0      0      0 --:--:-- --:--:-- --:--:--     0\n",
      "100 1354k  100 1354k    0     0   846k      0  0:00:01  0:00:01 --:--:--  848k\n"
     ]
    },
    {
     "name": "stdout",
     "output_type": "stream",
     "text": [
      "132\n",
      "https://www.climatepolicyinitiative.org/publication/the-future-of-distributed-renewable-energy-in-india/\n"
     ]
    },
    {
     "name": "stderr",
     "output_type": "stream",
     "text": [
      "  % Total    % Received % Xferd  Average Speed   Time    Time     Time  Current\n",
      "                                 Dload  Upload   Total   Spent    Left  Speed\n",
      "\n",
      "  0     0    0     0    0     0      0      0 --:--:-- --:--:-- --:--:--     0\n",
      "  0     0    0     0    0     0      0      0 --:--:-- --:--:-- --:--:--     0\n",
      "100  333k  100  333k    0     0   285k      0  0:00:01  0:00:01 --:--:--  286k\n"
     ]
    },
    {
     "name": "stdout",
     "output_type": "stream",
     "text": [
      "133\n",
      "https://www.climatepolicyinitiative.org/publication/6-peculiarities-of-rural-credit-in-the-amazon-new-research-shows-credit-restrictions-and-extensive-land-use-in-agriculture/\n"
     ]
    },
    {
     "name": "stderr",
     "output_type": "stream",
     "text": [
      "  % Total    % Received % Xferd  Average Speed   Time    Time     Time  Current\n",
      "                                 Dload  Upload   Total   Spent    Left  Speed\n",
      "\n",
      "  0     0    0     0    0     0      0      0 --:--:-- --:--:-- --:--:--     0\n",
      "  0     0    0     0    0     0      0      0 --:--:-- --:--:-- --:--:--     0\n",
      "100  253k  100  253k    0     0   220k      0  0:00:01  0:00:01 --:--:--  221k\n"
     ]
    },
    {
     "name": "stdout",
     "output_type": "stream",
     "text": [
      "134\n",
      "https://www.climatepolicyinitiative.org/pt-br/publication/comentarios-ao-novo-substitutivo-do-pl-no-2633-2020-que-altera-as-regras-de-regularizacao-fundiaria/\n"
     ]
    },
    {
     "name": "stderr",
     "output_type": "stream",
     "text": [
      "  % Total    % Received % Xferd  Average Speed   Time    Time     Time  Current\n",
      "                                 Dload  Upload   Total   Spent    Left  Speed\n",
      "\n",
      "  0     0    0     0    0     0      0      0 --:--:-- --:--:-- --:--:--     0\n",
      "  4  354k    4 15990    0     0  16382      0  0:00:22 --:--:--  0:00:22 16416\n",
      "100  354k  100  354k    0     0   242k      0  0:00:01  0:00:01 --:--:--  243k\n"
     ]
    },
    {
     "name": "stdout",
     "output_type": "stream",
     "text": [
      "135\n",
      "https://www.climatepolicyinitiative.org/publication/the-landscape-of-climate-finance-in-kenya/\n"
     ]
    },
    {
     "name": "stderr",
     "output_type": "stream",
     "text": [
      "  % Total    % Received % Xferd  Average Speed   Time    Time     Time  Current\n",
      "                                 Dload  Upload   Total   Spent    Left  Speed\n",
      "\n",
      "  0     0    0     0    0     0      0      0 --:--:-- --:--:-- --:--:--     0\n",
      "  7 1337k    7 97909    0     0  98533      0  0:00:13 --:--:--  0:00:13 98698\n",
      "100 1337k  100 1337k    0     0   871k      0  0:00:01  0:00:01 --:--:--  873k\n"
     ]
    },
    {
     "name": "stdout",
     "output_type": "stream",
     "text": [
      "136\n",
      "https://www.climatepolicyinitiative.org/publication/konservasi-dan-efisiensi-energi-di-era-pandemi-covid-19-dan-adaptasi-kebiasaan-baru/\n"
     ]
    },
    {
     "name": "stderr",
     "output_type": "stream",
     "text": [
      "  % Total    % Received % Xferd  Average Speed   Time    Time     Time  Current\n",
      "                                 Dload  Upload   Total   Spent    Left  Speed\n",
      "\n",
      "  0     0    0     0    0     0      0      0 --:--:-- --:--:-- --:--:--     0\n",
      "  0     0    0     0    0     0      0      0 --:--:-- --:--:-- --:--:--     0\n",
      " 14 2355k   14  351k    0     0   260k      0  0:00:09  0:00:01  0:00:08  260k\n",
      " 40 2355k   40  959k    0     0   406k      0  0:00:05  0:00:02  0:00:03  406k\n",
      "100 2355k  100 2355k    0     0   765k      0  0:00:03  0:00:03 --:--:--  766k\n"
     ]
    },
    {
     "name": "stdout",
     "output_type": "stream",
     "text": [
      "137\n",
      "https://www.climatepolicyinitiative.org/publication/forest-degradation-in-the-brazilian-amazon-public-policy-must-target-phenomenon-related-to-deforestation/\n"
     ]
    },
    {
     "name": "stderr",
     "output_type": "stream",
     "text": [
      "  % Total    % Received % Xferd  Average Speed   Time    Time     Time  Current\n",
      "                                 Dload  Upload   Total   Spent    Left  Speed\n",
      "\n",
      "  0     0    0     0    0     0      0      0 --:--:-- --:--:-- --:--:--     0\n",
      "  0     0    0     0    0     0      0      0 --:--:-- --:--:-- --:--:--     0\n",
      " 21  588k   21  127k    0     0   118k      0  0:00:04  0:00:01  0:00:03  118k\n",
      "100  588k  100  588k    0     0   420k      0  0:00:01  0:00:01 --:--:--  420k\n"
     ]
    },
    {
     "name": "stdout",
     "output_type": "stream",
     "text": [
      "138\n",
      "https://www.climatepolicyinitiative.org/publication/leveraging-national-development-banks-to-enhance-financing-for-climate-smart-urban-infrastructure/\n"
     ]
    },
    {
     "name": "stderr",
     "output_type": "stream",
     "text": [
      "  % Total    % Received % Xferd  Average Speed   Time    Time     Time  Current\n",
      "                                 Dload  Upload   Total   Spent    Left  Speed\n",
      "\n",
      "  0     0    0     0    0     0      0      0 --:--:-- --:--:-- --:--:--     0\n",
      "  0     0    0     0    0     0      0      0 --:--:-- --:--:-- --:--:--     0\n",
      " 43 3501k   43 1519k    0     0   873k      0  0:00:04  0:00:01  0:00:03  874k\n",
      "100 3501k  100 3501k    0     0  1420k      0  0:00:02  0:00:02 --:--:-- 1422k\n"
     ]
    },
    {
     "name": "stdout",
     "output_type": "stream",
     "text": [
      "139\n",
      "https://www.climatepolicyinitiative.org/pt-br/publication/nova-investida-contra-legislacao-fundiaria-projeto-de-lei-no-510-2021-retoma-os-retrocessos-da-mp-no-910-2019-e-beneficia-invasores-de-terras-publicas/\n"
     ]
    },
    {
     "name": "stderr",
     "output_type": "stream",
     "text": [
      "  % Total    % Received % Xferd  Average Speed   Time    Time     Time  Current\n",
      "                                 Dload  Upload   Total   Spent    Left  Speed\n",
      "\n",
      "  0     0    0     0    0     0      0      0 --:--:-- --:--:-- --:--:--     0\n",
      " 16  694k   16  111k    0     0   114k      0  0:00:06 --:--:--  0:00:06  114k\n",
      "100  694k  100  694k    0     0   542k      0  0:00:01  0:00:01 --:--:--  543k\n"
     ]
    },
    {
     "name": "stdout",
     "output_type": "stream",
     "text": [
      "140\n",
      "https://www.climatepolicyinitiative.org/publication/a-framework-for-tracking-cooling-investment/\n"
     ]
    },
    {
     "name": "stderr",
     "output_type": "stream",
     "text": [
      "  % Total    % Received % Xferd  Average Speed   Time    Time     Time  Current\n",
      "                                 Dload  Upload   Total   Spent    Left  Speed\n",
      "\n",
      "  0     0    0     0    0     0      0      0 --:--:-- --:--:-- --:--:--     0\n",
      "  0     0    0     0    0     0      0      0 --:--:-- --:--:-- --:--:--     0\n",
      "  0 4181k    0 15989    0     0  14708      0  0:04:51  0:00:01  0:04:50 14736\n",
      " 16 4181k   16  671k    0     0   325k      0  0:00:12  0:00:02  0:00:10  325k\n",
      " 51 4181k   51 2143k    0     0   697k      0  0:00:05  0:00:03  0:00:02  698k\n",
      " 86 4181k   86 3631k    0     0   888k      0  0:00:04  0:00:04 --:--:--  888k\n",
      "100 4181k  100 4181k    0     0   910k      0  0:00:04  0:00:04 --:--:--  956k\n"
     ]
    },
    {
     "name": "stdout",
     "output_type": "stream",
     "text": [
      "141\n",
      "https://www.climatepolicyinitiative.org/publication/improving-the-impact-of-fiscal-stimulus-in-asia-an-analysis-of-green-recovery-investments-and-opportunities/\n"
     ]
    },
    {
     "name": "stderr",
     "output_type": "stream",
     "text": [
      "  % Total    % Received % Xferd  Average Speed   Time    Time     Time  Current\n",
      "                                 Dload  Upload   Total   Spent    Left  Speed\n",
      "\n",
      "  0     0    0     0    0     0      0      0 --:--:-- --:--:-- --:--:--     0\n",
      "  0     0    0     0    0     0      0      0 --:--:-- --:--:-- --:--:--     0\n",
      " 24 1770k   24  431k    0     0   250k      0  0:00:07  0:00:01  0:00:06  250k\n",
      "100 1770k  100 1770k    0     0   665k      0  0:00:02  0:00:02 --:--:--  666k\n"
     ]
    },
    {
     "name": "stdout",
     "output_type": "stream",
     "text": [
      "142\n",
      "https://www.climatepolicyinitiative.org/publication/improving-public-contracting-processces-of-socio-eviromental-studies-for-brazils-land-transportation-projects/\n"
     ]
    },
    {
     "name": "stderr",
     "output_type": "stream",
     "text": [
      "  % Total    % Received % Xferd  Average Speed   Time    Time     Time  Current\n",
      "                                 Dload  Upload   Total   Spent    Left  Speed\n",
      "\n",
      "  0     0    0     0    0     0      0      0 --:--:-- --:--:-- --:--:--     0\n",
      "  0     0    0     0    0     0      0      0 --:--:-- --:--:-- --:--:--     0\n",
      " 93  391k   93  367k    0     0   267k      0  0:00:01  0:00:01 --:--:--  267k\n",
      "100  391k  100  391k    0     0   279k      0  0:00:01  0:00:01 --:--:--  280k\n"
     ]
    },
    {
     "name": "stdout",
     "output_type": "stream",
     "text": [
      "143\n",
      "https://www.climatepolicyinitiative.org/pt-br/publication/avancos-ou-retrocessos-na-regularizacao-fundiaria-analise-do-projeto-de-lei-no-2633-2020-sob-o-enfoque-das-salvaguardas-ambientais/\n"
     ]
    },
    {
     "name": "stderr",
     "output_type": "stream",
     "text": [
      "  % Total    % Received % Xferd  Average Speed   Time    Time     Time  Current\n",
      "                                 Dload  Upload   Total   Spent    Left  Speed\n",
      "\n",
      "  0     0    0     0    0     0      0      0 --:--:-- --:--:-- --:--:--     0\n",
      "  0     0    0     0    0     0      0      0 --:--:-- --:--:-- --:--:--     0\n",
      " 47  569k   47  271k    0     0   236k      0  0:00:02  0:00:01  0:00:01  236k\n",
      "100  569k  100  569k    0     0   395k      0  0:00:01  0:00:01 --:--:--  395k\n"
     ]
    },
    {
     "name": "stdout",
     "output_type": "stream",
     "text": [
      "144\n",
      "https://www.climatepolicyinitiative.org/publication/an-analysis-of-urban-climate-adaptation-finance/\n"
     ]
    },
    {
     "name": "stderr",
     "output_type": "stream",
     "text": [
      "  % Total    % Received % Xferd  Average Speed   Time    Time     Time  Current\n",
      "                                 Dload  Upload   Total   Spent    Left  Speed\n",
      "\n",
      "  0     0    0     0    0     0      0      0 --:--:-- --:--:-- --:--:--     0\n",
      "  0     0    0     0    0     0      0      0 --:--:-- --:--:-- --:--:--     0\n",
      " 17 3051k   17  543k    0     0   368k      0  0:00:08  0:00:01  0:00:07  369k\n",
      " 85 3051k   85 2607k    0     0  1075k      0  0:00:02  0:00:02 --:--:-- 1076k\n",
      "100 3051k  100 3051k    0     0  1028k      0  0:00:02  0:00:02 --:--:-- 1028k\n"
     ]
    },
    {
     "name": "stdout",
     "output_type": "stream",
     "text": [
      "145\n",
      "https://www.climatepolicyinitiative.org/publication/the-potential-for-scaling-climate-finance-in-china/\n"
     ]
    },
    {
     "name": "stderr",
     "output_type": "stream",
     "text": [
      "  % Total    % Received % Xferd  Average Speed   Time    Time     Time  Current\n",
      "                                 Dload  Upload   Total   Spent    Left  Speed\n",
      "\n",
      "  0     0    0     0    0     0      0      0 --:--:-- --:--:-- --:--:--     0\n",
      "  0 3126k    0 15989    0     0  17641      0  0:03:01 --:--:--  0:03:01 17667\n",
      " 13 3126k   13  415k    0     0   232k      0  0:00:13  0:00:01  0:00:12  232k\n",
      " 49 3126k   49 1535k    0     0   550k      0  0:00:05  0:00:02  0:00:03  550k\n",
      "100 3126k  100 3126k    0     0   835k      0  0:00:03  0:00:03 --:--:--  835k\n"
     ]
    },
    {
     "name": "stdout",
     "output_type": "stream",
     "text": [
      "146\n",
      "https://www.climatepolicyinitiative.org/pt-br/publication/panorama-dos-direitos-de-propriedade-no-brasil-rural/\n"
     ]
    },
    {
     "name": "stderr",
     "output_type": "stream",
     "text": [
      "  % Total    % Received % Xferd  Average Speed   Time    Time     Time  Current\n",
      "                                 Dload  Upload   Total   Spent    Left  Speed\n",
      "\n",
      "  0     0    0     0    0     0      0      0 --:--:-- --:--:-- --:--:--     0\n",
      "  0 6752k    0 15989    0     0  17335      0  0:06:38 --:--:--  0:06:38 17379\n",
      " 11 6752k   11  783k    0     0   467k      0  0:00:14  0:00:01  0:00:13  467k\n",
      " 35 6752k   35 2399k    0     0   893k      0  0:00:07  0:00:02  0:00:05  894k\n",
      " 63 6752k   63 4271k    0     0  1082k      0  0:00:06  0:00:03  0:00:03 1083k\n",
      " 78 6752k   78 5327k    0     0  1129k      0  0:00:05  0:00:04  0:00:01 1130k\n",
      " 93 6752k   93 6319k    0     0  1113k      0  0:00:06  0:00:05  0:00:01 1326k\n",
      "100 6752k  100 6752k    0     0  1101k      0  0:00:06  0:00:06 --:--:-- 1341k\n"
     ]
    },
    {
     "name": "stdout",
     "output_type": "stream",
     "text": [
      "147\n",
      "https://www.climatepolicyinitiative.org/publication/south-african-climate-finance-landscape-2020/\n"
     ]
    },
    {
     "name": "stderr",
     "output_type": "stream",
     "text": [
      "  % Total    % Received % Xferd  Average Speed   Time    Time     Time  Current\n",
      "                                 Dload  Upload   Total   Spent    Left  Speed\n",
      "\n",
      "  0     0    0     0    0     0      0      0 --:--:-- --:--:-- --:--:--     0\n",
      "  0     0    0     0    0     0      0      0 --:--:-- --:--:-- --:--:--     0\n",
      " 48 1151k   48  559k    0     0   419k      0  0:00:02  0:00:01  0:00:01  420k\n",
      "100 1151k  100 1151k    0     0   633k      0  0:00:01  0:00:01 --:--:--  633k\n"
     ]
    },
    {
     "name": "stdout",
     "output_type": "stream",
     "text": [
      "148\n",
      "https://www.climatepolicyinitiative.org/publication/adaptation-finance-in-the-context-of-covid-19/\n",
      "149\n",
      "https://www.climatepolicyinitiative.org/publication/guidelines-for-building-a-national-landscape-of-climate-finance/\n"
     ]
    },
    {
     "name": "stderr",
     "output_type": "stream",
     "text": [
      "  % Total    % Received % Xferd  Average Speed   Time    Time     Time  Current\n",
      "                                 Dload  Upload   Total   Spent    Left  Speed\n",
      "\n",
      "  0     0    0     0    0     0      0      0 --:--:-- --:--:-- --:--:--     0\n",
      "  0     0    0     0    0     0      0      0 --:--:-- --:--:-- --:--:--     0\n",
      " 38 3240k   38 1263k    0     0   639k      0  0:00:05  0:00:01  0:00:04  639k\n",
      "100 3240k  100 3240k    0     0  1196k      0  0:00:02  0:00:02 --:--:-- 1197k\n"
     ]
    },
    {
     "name": "stdout",
     "output_type": "stream",
     "text": [
      "150\n",
      "https://www.climatepolicyinitiative.org/publication/the-impact-of-rural-credit-on-agriculture-and-land-use-an-analysis-of-brazilian-biomes/\n"
     ]
    },
    {
     "name": "stderr",
     "output_type": "stream",
     "text": [
      "  % Total    % Received % Xferd  Average Speed   Time    Time     Time  Current\n",
      "                                 Dload  Upload   Total   Spent    Left  Speed\n",
      "\n",
      "  0     0    0     0    0     0      0      0 --:--:-- --:--:-- --:--:--     0\n",
      "  0     0    0     0    0     0      0      0 --:--:-- --:--:-- --:--:--     0\n",
      " 49 2098k   49 1039k    0     0   596k      0  0:00:03  0:00:01  0:00:02  596k\n",
      "100 2098k  100 2098k    0     0   786k      0  0:00:02  0:00:02 --:--:--  787k\n"
     ]
    },
    {
     "name": "stdout",
     "output_type": "stream",
     "text": [
      "151\n",
      "https://www.climatepolicyinitiative.org/publication/usicef-2020-impact-report/\n"
     ]
    },
    {
     "name": "stderr",
     "output_type": "stream",
     "text": [
      "  % Total    % Received % Xferd  Average Speed   Time    Time     Time  Current\n",
      "                                 Dload  Upload   Total   Spent    Left  Speed\n",
      "\n",
      "  0     0    0     0    0     0      0      0 --:--:-- --:--:-- --:--:--     0\n",
      "  0     0    0     0    0     0      0      0 --:--:--  0:00:01 --:--:--     0\n",
      " 42 1387k   42  591k    0     0   305k      0  0:00:04  0:00:01  0:00:03  305k\n",
      "100 1387k  100 1387k    0     0   546k      0  0:00:02  0:00:02 --:--:--  546k\n"
     ]
    },
    {
     "name": "stdout",
     "output_type": "stream",
     "text": [
      "152\n",
      "https://www.climatepolicyinitiative.org/publication/electricity-market-reform-karnataka-case-study/\n"
     ]
    },
    {
     "name": "stderr",
     "output_type": "stream",
     "text": [
      "  % Total    % Received % Xferd  Average Speed   Time    Time     Time  Current\n",
      "                                 Dload  Upload   Total   Spent    Left  Speed\n",
      "\n",
      "  0     0    0     0    0     0      0      0 --:--:-- --:--:-- --:--:--     0\n",
      "  1 3519k    1 48757    0     0  48180      0  0:01:14  0:00:01  0:01:13 48274\n",
      " 43 3519k   43 1519k    0     0   757k      0  0:00:04  0:00:02  0:00:02  758k\n",
      "100 3519k  100 3519k    0     0  1216k      0  0:00:02  0:00:02 --:--:-- 1217k\n"
     ]
    },
    {
     "name": "stdout",
     "output_type": "stream",
     "text": [
      "153\n",
      "https://www.climatepolicyinitiative.org/publication/electricity-market-reform-tamil-nadu-case-study/\n"
     ]
    },
    {
     "name": "stderr",
     "output_type": "stream",
     "text": [
      "  % Total    % Received % Xferd  Average Speed   Time    Time     Time  Current\n",
      "                                 Dload  Upload   Total   Spent    Left  Speed\n",
      "\n",
      "  0     0    0     0    0     0      0      0 --:--:-- --:--:-- --:--:--     0\n",
      "  1 2819k    1 32373    0     0  33592      0  0:01:25 --:--:--  0:01:25 33651\n",
      " 48 2819k   48 1359k    0     0   698k      0  0:00:04  0:00:01  0:00:03  699k\n",
      "100 2819k  100 2819k    0     0  1184k      0  0:00:02  0:00:02 --:--:-- 1186k\n"
     ]
    },
    {
     "name": "stdout",
     "output_type": "stream",
     "text": [
      "154\n",
      "https://www.climatepolicyinitiative.org/publication/updated-view-on-the-global-landscape-of-climate-finance-2019/\n"
     ]
    },
    {
     "name": "stderr",
     "output_type": "stream",
     "text": [
      "  % Total    % Received % Xferd  Average Speed   Time    Time     Time  Current\n",
      "                                 Dload  Upload   Total   Spent    Left  Speed\n",
      "\n",
      "  0     0    0     0    0     0      0      0 --:--:-- --:--:-- --:--:--     0\n",
      "  0     0    0     0    0     0      0      0 --:--:-- --:--:-- --:--:--     0\n",
      "  5 1146k    5 65141    0     0  61393      0  0:00:19  0:00:01  0:00:18 61511\n",
      "100 1146k  100 1146k    0     0   660k      0  0:00:01  0:00:01 --:--:--  660k\n"
     ]
    },
    {
     "name": "stdout",
     "output_type": "stream",
     "text": [
      "155\n",
      "https://www.climatepolicyinitiative.org/publication/urban-climate-finance-in-the-wake-of-covid-19/\n"
     ]
    },
    {
     "name": "stderr",
     "output_type": "stream",
     "text": [
      "  % Total    % Received % Xferd  Average Speed   Time    Time     Time  Current\n",
      "                                 Dload  Upload   Total   Spent    Left  Speed\n",
      "\n",
      "  0     0    0     0    0     0      0      0 --:--:-- --:--:-- --:--:--     0\n",
      "  0     0    0     0    0     0      0      0 --:--:-- --:--:-- --:--:--     0\n",
      "  2 2389k    2 65141    0     0  58480      0  0:00:41  0:00:01  0:00:40 58580\n",
      " 64 2389k   64 1535k    0     0   710k      0  0:00:03  0:00:02  0:00:01  711k\n",
      "100 2389k  100 2389k    0     0   925k      0  0:00:02  0:00:02 --:--:--  926k\n"
     ]
    },
    {
     "name": "stdout",
     "output_type": "stream",
     "text": [
      "156\n",
      "https://www.climatepolicyinitiative.org/publication/where-are-we-at-implementing-the-forest-code-an-x-ray-of-the-car-and-the-pra-in-brazilian-states/\n"
     ]
    },
    {
     "name": "stderr",
     "output_type": "stream",
     "text": [
      "  % Total    % Received % Xferd  Average Speed   Time    Time     Time  Current\n",
      "                                 Dload  Upload   Total   Spent    Left  Speed\n",
      "\n",
      "  0     0    0     0    0     0      0      0 --:--:-- --:--:-- --:--:--     0\n",
      "  0     0    0     0    0     0      0      0 --:--:-- --:--:-- --:--:--     0\n",
      " 11 2664k   11  319k    0     0   237k      0  0:00:11  0:00:01  0:00:10  237k\n",
      "100 2664k  100 2664k    0     0  1220k      0  0:00:02  0:00:02 --:--:-- 1222k\n"
     ]
    },
    {
     "name": "stdout",
     "output_type": "stream",
     "text": [
      "157\n",
      "https://www.climatepolicyinitiative.org/publication/paris-misaligned/\n"
     ]
    },
    {
     "name": "stderr",
     "output_type": "stream",
     "text": [
      "  % Total    % Received % Xferd  Average Speed   Time    Time     Time  Current\n",
      "                                 Dload  Upload   Total   Spent    Left  Speed\n",
      "\n",
      "  0     0    0     0    0     0      0      0 --:--:-- --:--:-- --:--:--     0\n",
      "  0     0    0     0    0     0      0      0 --:--:-- --:--:-- --:--:--     0\n",
      "100  402k  100  402k    0     0   312k      0  0:00:01  0:00:01 --:--:--  313k\n"
     ]
    },
    {
     "name": "stdout",
     "output_type": "stream",
     "text": [
      "158\n",
      "https://www.climatepolicyinitiative.org/publication/rural-credit-policy-in-brazil-agriculture-environmental-protection-and-economic-development/\n"
     ]
    },
    {
     "name": "stderr",
     "output_type": "stream",
     "text": [
      "  % Total    % Received % Xferd  Average Speed   Time    Time     Time  Current\n",
      "                                 Dload  Upload   Total   Spent    Left  Speed\n",
      "\n",
      "  0     0    0     0    0     0      0      0 --:--:-- --:--:-- --:--:--     0\n",
      "  0     0    0     0    0     0      0      0 --:--:-- --:--:-- --:--:--     0\n",
      "  5 3273k    5  191k    0     0   123k      0  0:00:26  0:00:01  0:00:25  123k\n",
      " 74 3273k   74 2447k    0     0   959k      0  0:00:03  0:00:02  0:00:01  960k\n",
      "100 3273k  100 3273k    0     0  1106k      0  0:00:02  0:00:02 --:--:-- 1106k\n"
     ]
    },
    {
     "name": "stdout",
     "output_type": "stream",
     "text": [
      "159\n",
      "https://www.climatepolicyinitiative.org/publication/understanding-the-impact-of-a-low-carbon-transition-on-ugandas-plannedoil-industry/\n"
     ]
    },
    {
     "name": "stderr",
     "output_type": "stream",
     "text": [
      "  % Total    % Received % Xferd  Average Speed   Time    Time     Time  Current\n",
      "                                 Dload  Upload   Total   Spent    Left  Speed\n",
      "\n",
      "  0     0    0     0    0     0      0      0 --:--:-- --:--:-- --:--:--     0\n",
      "  0     0    0     0    0     0      0      0 --:--:-- --:--:-- --:--:--     0\n",
      " 65 1592k   65 1039k    0     0   694k      0  0:00:02  0:00:01  0:00:01  694k\n",
      "100 1592k  100 1592k    0     0   906k      0  0:00:01  0:00:01 --:--:--  907k\n"
     ]
    },
    {
     "name": "stdout",
     "output_type": "stream",
     "text": [
      "160\n",
      "https://www.climatepolicyinitiative.org/publication/sustainable-infrastructure-portfolio/\n",
      "161\n",
      "https://www.climatepolicyinitiative.org/publication/fostering-economic-resilience-in-berau-through-smallholder-crop-diversification/\n"
     ]
    },
    {
     "name": "stderr",
     "output_type": "stream",
     "text": [
      "  % Total    % Received % Xferd  Average Speed   Time    Time     Time  Current\n",
      "                                 Dload  Upload   Total   Spent    Left  Speed\n",
      "\n",
      "  0     0    0     0    0     0      0      0 --:--:-- --:--:-- --:--:--     0\n",
      "  0 8232k    0 15989    0     0  18694      0  0:07:30 --:--:--  0:07:30 18744\n",
      " 13 8232k   13 1071k    0     0   669k      0  0:00:12  0:00:01  0:00:11  669k\n",
      " 42 8232k   42 3471k    0     0  1334k      0  0:00:06  0:00:02  0:00:04 1335k\n",
      " 60 8232k   60 4991k    0     0  1384k      0  0:00:05  0:00:03  0:00:02 1385k\n",
      " 80 8232k   80 6655k    0     0  1446k      0  0:00:05  0:00:04  0:00:01 1446k\n",
      "100 8232k  100 8232k    0     0  1586k      0  0:00:05  0:00:05 --:--:-- 1896k\n"
     ]
    },
    {
     "name": "stdout",
     "output_type": "stream",
     "text": [
      "162\n",
      "https://www.climatepolicyinitiative.org/publication/energizing-finance-understanding-the-landscape-2020/\n"
     ]
    },
    {
     "name": "stderr",
     "output_type": "stream",
     "text": [
      "  % Total    % Received % Xferd  Average Speed   Time    Time     Time  Current\n",
      "                                 Dload  Upload   Total   Spent    Left  Speed\n",
      "\n",
      "  0     0    0     0    0     0      0      0 --:--:-- --:--:-- --:--:--     0\n",
      "  0     0    0     0    0     0      0      0 --:--:-- --:--:-- --:--:--     0\n",
      "  2 3901k    2 81525    0     0  55598      0  0:01:11  0:00:01  0:01:10 55686\n",
      " 71 3901k   71 2783k    0     0  1092k      0  0:00:03  0:00:02  0:00:01 1093k\n",
      "100 3901k  100 3901k    0     0  1298k      0  0:00:03  0:00:03 --:--:-- 1299k\n"
     ]
    },
    {
     "name": "stdout",
     "output_type": "stream",
     "text": [
      "163\n",
      "https://www.climatepolicyinitiative.org/publication/scaling-climate-finance/\n"
     ]
    },
    {
     "name": "stderr",
     "output_type": "stream",
     "text": [
      "  % Total    % Received % Xferd  Average Speed   Time    Time     Time  Current\n",
      "                                 Dload  Upload   Total   Spent    Left  Speed\n",
      "\n",
      "  0     0    0     0    0     0      0      0 --:--:-- --:--:-- --:--:--     0\n",
      "  0     0    0     0    0     0      0      0 --:--:-- --:--:-- --:--:--     0\n",
      " 78 3106k   78 2431k    0     0  1446k      0  0:00:02  0:00:01  0:00:01 1448k\n",
      "100 3106k  100 3106k    0     0  1741k      0  0:00:01  0:00:01 --:--:-- 1743k\n"
     ]
    },
    {
     "name": "stdout",
     "output_type": "stream",
     "text": [
      "164\n",
      "https://www.climatepolicyinitiative.org/publication/brazils-infrastructure-project-life-cycles-from-planning-to-viability-creation-of-a-new-phase-may-increase-project-quality/\n"
     ]
    },
    {
     "name": "stderr",
     "output_type": "stream",
     "text": [
      "  % Total    % Received % Xferd  Average Speed   Time    Time     Time  Current\n",
      "                                 Dload  Upload   Total   Spent    Left  Speed\n",
      "\n",
      "  0     0    0     0    0     0      0      0 --:--:-- --:--:-- --:--:--     0\n",
      "  0     0    0     0    0     0      0      0 --:--:-- --:--:-- --:--:--     0\n",
      " 30  686k   30  207k    0     0   138k      0  0:00:04  0:00:01  0:00:03  138k\n",
      "100  686k  100  686k    0     0   387k      0  0:00:01  0:00:01 --:--:--  387k\n"
     ]
    },
    {
     "name": "stdout",
     "output_type": "stream",
     "text": [
      "165\n",
      "https://www.climatepolicyinitiative.org/publication/climate-finance-small-scale-agriculture/\n"
     ]
    },
    {
     "name": "stderr",
     "output_type": "stream",
     "text": [
      "  % Total    % Received % Xferd  Average Speed   Time    Time     Time  Current\n",
      "                                 Dload  Upload   Total   Spent    Left  Speed\n",
      "\n",
      "  0     0    0     0    0     0      0      0 --:--:-- --:--:-- --:--:--     0\n",
      "  0 3395k    0 32373    0     0  35834      0  0:01:37 --:--:--  0:01:37 35890\n",
      " 89 3395k   89 3023k    0     0  1587k      0  0:00:02  0:00:01  0:00:01 1589k\n",
      "100 3395k  100 3395k    0     0  1421k      0  0:00:02  0:00:02 --:--:-- 1423k\n"
     ]
    },
    {
     "name": "stdout",
     "output_type": "stream",
     "text": [
      "166\n",
      "https://www.climatepolicyinitiative.org/publication/global-landscape-of-renewable-energy-finance-2020/\n"
     ]
    },
    {
     "name": "stderr",
     "output_type": "stream",
     "text": [
      "  % Total    % Received % Xferd  Average Speed   Time    Time     Time  Current\n",
      "                                 Dload  Upload   Total   Spent    Left  Speed\n",
      "\n",
      "  0     0    0     0    0     0      0      0 --:--:-- --:--:-- --:--:--     0\n",
      "  0     0    0     0    0     0      0      0 --:--:-- --:--:-- --:--:--     0\n",
      "  0 8081k    0 32373    0     0  31306      0  0:04:24  0:00:01  0:04:23 31338\n",
      " 14 8081k   14 1183k    0     0   573k      0  0:00:14  0:00:02  0:00:12  574k\n",
      " 46 8081k   46 3743k    0     0  1235k      0  0:00:06  0:00:03  0:00:03 1235k\n",
      " 81 8081k   81 6607k    0     0  1638k      0  0:00:04  0:00:04 --:--:-- 1639k\n",
      "100 8081k  100 8081k    0     0  1689k      0  0:00:04  0:00:04 --:--:-- 1770k\n"
     ]
    },
    {
     "name": "stdout",
     "output_type": "stream",
     "text": [
      "167\n",
      "https://www.climatepolicyinitiative.org/publication/idfc-green-finance-mapping-2020/\n"
     ]
    },
    {
     "name": "stderr",
     "output_type": "stream",
     "text": [
      "  % Total    % Received % Xferd  Average Speed   Time    Time     Time  Current\n",
      "                                 Dload  Upload   Total   Spent    Left  Speed\n",
      "\n",
      "  0     0    0     0    0     0      0      0 --:--:-- --:--:-- --:--:--     0\n",
      "  0     0    0     0    0     0      0      0 --:--:-- --:--:-- --:--:--     0\n",
      " 24  451k   24  111k    0     0   107k      0  0:00:04  0:00:01  0:00:03  108k\n",
      "100  451k  100  451k    0     0   323k      0  0:00:01  0:00:01 --:--:--  323k\n"
     ]
    },
    {
     "name": "stdout",
     "output_type": "stream",
     "text": [
      "168\n",
      "https://www.climatepolicyinitiative.org/publication/indeks-desa-membangun-plus-idm-enhancing-direct-incentives-for-sustainable-land-use-in-indonesian-villages/\n"
     ]
    },
    {
     "name": "stderr",
     "output_type": "stream",
     "text": [
      "  % Total    % Received % Xferd  Average Speed   Time    Time     Time  Current\n",
      "                                 Dload  Upload   Total   Spent    Left  Speed\n",
      "\n",
      "  0     0    0     0    0     0      0      0 --:--:-- --:--:-- --:--:--     0\n",
      "  0     0    0     0    0     0      0      0 --:--:-- --:--:-- --:--:--     0\n",
      "  3 4233k    3  127k    0     0  70860      0  0:01:01  0:00:01  0:01:00 70942\n",
      " 13 4233k   13  575k    0     0   217k      0  0:00:19  0:00:02  0:00:17  218k\n",
      " 23 4233k   23  991k    0     0   270k      0  0:00:15  0:00:03  0:00:12  270k\n",
      " 71 4233k   71 3007k    0     0   647k      0  0:00:06  0:00:04  0:00:02  647k\n",
      "100 4233k  100 4233k    0     0   784k      0  0:00:05  0:00:05 --:--:--  893k\n"
     ]
    },
    {
     "name": "stdout",
     "output_type": "stream",
     "text": [
      "169\n",
      "https://www.climatepolicyinitiative.org/publication/measuring-the-indirect-effects-of-transportation-infrastructure-in-the-amazon/\n"
     ]
    },
    {
     "name": "stderr",
     "output_type": "stream",
     "text": [
      "  % Total    % Received % Xferd  Average Speed   Time    Time     Time  Current\n",
      "                                 Dload  Upload   Total   Spent    Left  Speed\n",
      "\n",
      "  0     0    0     0    0     0      0      0 --:--:-- --:--:-- --:--:--     0\n",
      "  0     0    0     0    0     0      0      0 --:--:-- --:--:-- --:--:--     0\n",
      "  8  934k    8 81526    0     0  61060      0  0:00:15  0:00:01  0:00:14 61159\n",
      "100  934k  100  934k    0     0   422k      0  0:00:02  0:00:02 --:--:--  423k\n"
     ]
    },
    {
     "name": "stdout",
     "output_type": "stream",
     "text": [
      "170\n",
      "https://www.climatepolicyinitiative.org/publication/changes-in-energy-sector-financing-during-covid-19/\n"
     ]
    },
    {
     "name": "stderr",
     "output_type": "stream",
     "text": [
      "  % Total    % Received % Xferd  Average Speed   Time    Time     Time  Current\n",
      "                                 Dload  Upload   Total   Spent    Left  Speed\n",
      "\n",
      "  0     0    0     0    0     0      0      0 --:--:-- --:--:-- --:--:--     0\n",
      "  0     0    0     0    0     0      0      0 --:--:-- --:--:-- --:--:--     0\n",
      " 29 1364k   29  399k    0     0   306k      0  0:00:04  0:00:01  0:00:03  306k\n",
      "100 1364k  100 1364k    0     0   628k      0  0:00:02  0:00:02 --:--:--  628k\n"
     ]
    },
    {
     "name": "stdout",
     "output_type": "stream",
     "text": [
      "171\n",
      "https://www.climatepolicyinitiative.org/publication/sustainable-agriculture-finance-facility/\n"
     ]
    },
    {
     "name": "stderr",
     "output_type": "stream",
     "text": [
      "  % Total    % Received % Xferd  Average Speed   Time    Time     Time  Current\n",
      "                                 Dload  Upload   Total   Spent    Left  Speed\n",
      "\n",
      "  0     0    0     0    0     0      0      0 --:--:-- --:--:-- --:--:--     0\n",
      "  0     0    0     0    0     0      0      0 --:--:-- --:--:-- --:--:--     0\n",
      "100  164k  100  164k    0     0   124k      0  0:00:01  0:00:01 --:--:--  124k\n"
     ]
    },
    {
     "name": "stdout",
     "output_type": "stream",
     "text": [
      "172\n",
      "https://www.climatepolicyinitiative.org/publication/greenstreet-africa/\n"
     ]
    },
    {
     "name": "stderr",
     "output_type": "stream",
     "text": [
      "  % Total    % Received % Xferd  Average Speed   Time    Time     Time  Current\n",
      "                                 Dload  Upload   Total   Spent    Left  Speed\n",
      "\n",
      "  0     0    0     0    0     0      0      0 --:--:-- --:--:-- --:--:--     0\n",
      "  2  646k    2 15990    0     0  16146      0  0:00:41 --:--:--  0:00:41 16184\n",
      "100  646k  100  646k    0     0   437k      0  0:00:01  0:00:01 --:--:--  438k\n"
     ]
    },
    {
     "name": "stdout",
     "output_type": "stream",
     "text": [
      "173\n",
      "https://www.climatepolicyinitiative.org/publication/climate-adaptation-notes/\n"
     ]
    },
    {
     "name": "stderr",
     "output_type": "stream",
     "text": [
      "  % Total    % Received % Xferd  Average Speed   Time    Time     Time  Current\n",
      "                                 Dload  Upload   Total   Spent    Left  Speed\n",
      "\n",
      "  0     0    0     0    0     0      0      0 --:--:-- --:--:-- --:--:--     0\n",
      "  2  590k    2 15990    0     0  15789      0  0:00:38  0:00:01  0:00:37 15831\n",
      "100  590k  100  590k    0     0   386k      0  0:00:01  0:00:01 --:--:--  387k\n"
     ]
    },
    {
     "name": "stdout",
     "output_type": "stream",
     "text": [
      "174\n",
      "https://www.climatepolicyinitiative.org/publication/sub-national-climate-finance-initiative/\n"
     ]
    },
    {
     "name": "stderr",
     "output_type": "stream",
     "text": [
      "  % Total    % Received % Xferd  Average Speed   Time    Time     Time  Current\n",
      "                                 Dload  Upload   Total   Spent    Left  Speed\n",
      "\n",
      "  0     0    0     0    0     0      0      0 --:--:-- --:--:-- --:--:--     0\n",
      "  0     0    0     0    0     0      0      0 --:--:-- --:--:-- --:--:--     0\n",
      "100  159k  100  159k    0     0   130k      0  0:00:01  0:00:01 --:--:--  130k\n"
     ]
    },
    {
     "name": "stdout",
     "output_type": "stream",
     "text": [
      "175\n",
      "https://www.climatepolicyinitiative.org/publication/rural-prosperity-bond/\n"
     ]
    },
    {
     "name": "stderr",
     "output_type": "stream",
     "text": [
      "  % Total    % Received % Xferd  Average Speed   Time    Time     Time  Current\n",
      "                                 Dload  Upload   Total   Spent    Left  Speed\n",
      "\n",
      "  0     0    0     0    0     0      0      0 --:--:-- --:--:-- --:--:--     0\n",
      "  4 1158k    4 48757    0     0  50661      0  0:00:23 --:--:--  0:00:23 50735\n",
      " 98 1158k   98 1135k    0     0   570k      0  0:00:02  0:00:01  0:00:01  571k\n",
      "100 1158k  100 1158k    0     0   576k      0  0:00:02  0:00:02 --:--:--  577k\n"
     ]
    },
    {
     "name": "stdout",
     "output_type": "stream",
     "text": [
      "176\n",
      "https://www.climatepolicyinitiative.org/publication/monetizing-water-savings/\n"
     ]
    },
    {
     "name": "stderr",
     "output_type": "stream",
     "text": [
      "  % Total    % Received % Xferd  Average Speed   Time    Time     Time  Current\n",
      "                                 Dload  Upload   Total   Spent    Left  Speed\n",
      "\n",
      "  0     0    0     0    0     0      0      0 --:--:-- --:--:-- --:--:--     0\n",
      "  0     0    0     0    0     0      0      0 --:--:--  0:00:01 --:--:--     0\n",
      "100  136k  100  136k    0     0  96077      0  0:00:01  0:00:01 --:--:-- 96235\n"
     ]
    },
    {
     "name": "stdout",
     "output_type": "stream",
     "text": [
      "177\n",
      "https://www.climatepolicyinitiative.org/publication/grove/\n"
     ]
    },
    {
     "name": "stderr",
     "output_type": "stream",
     "text": [
      "  % Total    % Received % Xferd  Average Speed   Time    Time     Time  Current\n",
      "                                 Dload  Upload   Total   Spent    Left  Speed\n",
      "\n",
      "  0     0    0     0    0     0      0      0 --:--:-- --:--:-- --:--:--     0\n",
      "  0     0    0     0    0     0      0      0 --:--:-- --:--:-- --:--:--     0\n",
      " 56  682k   56  383k    0     0   270k      0  0:00:02  0:00:01  0:00:01  270k\n",
      "100  682k  100  682k    0     0   396k      0  0:00:01  0:00:01 --:--:--  397k\n"
     ]
    },
    {
     "name": "stdout",
     "output_type": "stream",
     "text": [
      "178\n",
      "https://www.climatepolicyinitiative.org/publication/conexsus-impact-fund/\n"
     ]
    },
    {
     "name": "stderr",
     "output_type": "stream",
     "text": [
      "  % Total    % Received % Xferd  Average Speed   Time    Time     Time  Current\n",
      "                                 Dload  Upload   Total   Spent    Left  Speed\n",
      "\n",
      "  0     0    0     0    0     0      0      0 --:--:-- --:--:-- --:--:--     0\n",
      "  0     0    0     0    0     0      0      0 --:--:-- --:--:-- --:--:--     0\n",
      " 49  781k   49  383k    0     0   262k      0  0:00:02  0:00:01  0:00:01  262k\n",
      "100  781k  100  781k    0     0   417k      0  0:00:01  0:00:01 --:--:--  417k\n"
     ]
    },
    {
     "name": "stdout",
     "output_type": "stream",
     "text": [
      "179\n",
      "https://www.climatepolicyinitiative.org/publication/ferrograo-weaknesses-and-lessons-learned-in-implementing-a-sustainable-infrastructure-agenda/\n"
     ]
    },
    {
     "name": "stderr",
     "output_type": "stream",
     "text": [
      "  % Total    % Received % Xferd  Average Speed   Time    Time     Time  Current\n",
      "                                 Dload  Upload   Total   Spent    Left  Speed\n",
      "\n",
      "  0     0    0     0    0     0      0      0 --:--:-- --:--:-- --:--:--     0\n",
      "  0     0    0     0    0     0      0      0 --:--:-- --:--:-- --:--:--     0\n",
      "100  136k  100  136k    0     0   107k      0  0:00:01  0:00:01 --:--:--  107k\n"
     ]
    },
    {
     "name": "stdout",
     "output_type": "stream",
     "text": [
      "180\n",
      "https://www.climatepolicyinitiative.org/publication/landscape-of-green-finance/\n"
     ]
    },
    {
     "name": "stderr",
     "output_type": "stream",
     "text": [
      "  % Total    % Received % Xferd  Average Speed   Time    Time     Time  Current\n",
      "                                 Dload  Upload   Total   Spent    Left  Speed\n",
      "\n",
      "  0     0    0     0    0     0      0      0 --:--:-- --:--:-- --:--:--     0\n",
      "  0     0    0     0    0     0      0      0 --:--:-- --:--:-- --:--:--     0\n",
      "  1 10.7M    1  175k    0     0   133k      0  0:01:22  0:00:01  0:01:21  133k\n",
      " 15 10.7M   15 1743k    0     0   756k      0  0:00:14  0:00:02  0:00:12  756k\n",
      " 30 10.7M   30 3343k    0     0  1007k      0  0:00:10  0:00:03  0:00:07 1008k\n",
      " 46 10.7M   46 5103k    0     0  1185k      0  0:00:09  0:00:04  0:00:05 1185k\n",
      " 57 10.7M   57 6287k    0     0  1184k      0  0:00:09  0:00:05  0:00:04 1272k\n",
      " 76 10.7M   76 8383k    0     0  1329k      0  0:00:08  0:00:06  0:00:02 1645k\n",
      " 97 10.7M   97 10.4M    0     0  1454k      0  0:00:07  0:00:07 --:--:-- 1774k\n",
      "100 10.7M  100 10.7M    0     0  1465k      0  0:00:07  0:00:07 --:--:-- 1830k\n"
     ]
    },
    {
     "name": "stdout",
     "output_type": "stream",
     "text": [
      "181\n",
      "https://www.climatepolicyinitiative.org/pt-br/publication/projetos-de-lei-ameacam-codigo-florestal-propostas-podem-reduzir-protecao-a-floresta/\n"
     ]
    },
    {
     "name": "stderr",
     "output_type": "stream",
     "text": [
      "  % Total    % Received % Xferd  Average Speed   Time    Time     Time  Current\n",
      "                                 Dload  Upload   Total   Spent    Left  Speed\n",
      "\n",
      "  0     0    0     0    0     0      0      0 --:--:-- --:--:-- --:--:--     0\n",
      " 34  323k   34  111k    0     0   112k      0  0:00:02 --:--:--  0:00:02  112k\n",
      "100  323k  100  323k    0     0   272k      0  0:00:01  0:00:01 --:--:--  272k\n"
     ]
    },
    {
     "name": "stdout",
     "output_type": "stream",
     "text": [
      "182\n",
      "https://www.climatepolicyinitiative.org/publication/potential-implementation-risks-in-the-pilot-energy-efficiency-auction-in-roraima/\n"
     ]
    },
    {
     "name": "stderr",
     "output_type": "stream",
     "text": [
      "  % Total    % Received % Xferd  Average Speed   Time    Time     Time  Current\n",
      "                                 Dload  Upload   Total   Spent    Left  Speed\n",
      "\n",
      "  0     0    0     0    0     0      0      0 --:--:-- --:--:-- --:--:--     0\n",
      "  0     0    0     0    0     0      0      0 --:--:-- --:--:-- --:--:--     0\n",
      "  5  288k    5 15990    0     0  13396      0  0:00:22  0:00:01  0:00:21 13414\n",
      "100  288k  100  288k    0     0   186k      0  0:00:01  0:00:01 --:--:--  187k\n"
     ]
    },
    {
     "name": "stdout",
     "output_type": "stream",
     "text": [
      "183\n",
      "https://www.climatepolicyinitiative.org/publication/developing-a-roadmap-to-a-flexiblelow%e2%80%90carbon-indian-electricity-system/\n"
     ]
    },
    {
     "name": "stderr",
     "output_type": "stream",
     "text": [
      "  % Total    % Received % Xferd  Average Speed   Time    Time     Time  Current\n",
      "                                 Dload  Upload   Total   Spent    Left  Speed\n",
      "\n",
      "  0     0    0     0    0     0      0      0 --:--:-- --:--:-- --:--:--     0\n",
      "  0     0    0     0    0     0      0      0 --:--:-- --:--:-- --:--:--     0\n",
      "  0 6950k    0 32373    0     0  25046      0  0:04:44  0:00:01  0:04:43 25075\n",
      " 11 6950k   11  831k    0     0   355k      0  0:00:19  0:00:02  0:00:17  356k\n",
      " 27 6950k   27 1903k    0     0   574k      0  0:00:12  0:00:03  0:00:09  574k\n",
      " 63 6950k   63 4415k    0     0   999k      0  0:00:06  0:00:04  0:00:02  999k\n",
      " 97 6950k   97 6751k    0     0  1274k      0  0:00:05  0:00:05 --:--:-- 1348k\n",
      "100 6950k  100 6950k    0     0  1296k      0  0:00:05  0:00:05 --:--:-- 1700k\n"
     ]
    },
    {
     "name": "stdout",
     "output_type": "stream",
     "text": [
      "184\n",
      "https://www.climatepolicyinitiative.org/publication/risk-management-in-brazilian-agriculture-instruments-public-policy-and-perspectives/\n"
     ]
    },
    {
     "name": "stderr",
     "output_type": "stream",
     "text": [
      "  % Total    % Received % Xferd  Average Speed   Time    Time     Time  Current\n",
      "                                 Dload  Upload   Total   Spent    Left  Speed\n",
      "\n",
      "  0     0    0     0    0     0      0      0 --:--:-- --:--:-- --:--:--     0\n",
      "  0     0    0     0    0     0      0      0 --:--:-- --:--:-- --:--:--     0\n",
      "100   367    0   367    0     0    553      0 --:--:-- --:--:-- --:--:--   554\n"
     ]
    },
    {
     "name": "stdout",
     "output_type": "stream",
     "text": [
      "185\n",
      "https://www.climatepolicyinitiative.org/publication/green-banking-in-china-emerging-trends/\n"
     ]
    },
    {
     "name": "stderr",
     "output_type": "stream",
     "text": [
      "  % Total    % Received % Xferd  Average Speed   Time    Time     Time  Current\n",
      "                                 Dload  Upload   Total   Spent    Left  Speed\n",
      "\n",
      "  0     0    0     0    0     0      0      0 --:--:-- --:--:-- --:--:--     0\n",
      "  2  585k    2 15990    0     0  20053      0  0:00:29 --:--:--  0:00:29 20087\n",
      "100  585k  100  585k    0     0   398k      0  0:00:01  0:00:01 --:--:--  399k\n"
     ]
    },
    {
     "name": "stdout",
     "output_type": "stream",
     "text": [
      "186\n",
      "https://www.climatepolicyinitiative.org/publication/the-need-to-better-define-and-delimit-area-of-influence-for-infrastructure-projects/\n"
     ]
    },
    {
     "name": "stderr",
     "output_type": "stream",
     "text": [
      "  % Total    % Received % Xferd  Average Speed   Time    Time     Time  Current\n",
      "                                 Dload  Upload   Total   Spent    Left  Speed\n",
      "\n",
      "  0     0    0     0    0     0      0      0 --:--:-- --:--:-- --:--:--     0\n",
      "  0     0    0     0    0     0      0      0 --:--:-- --:--:-- --:--:--     0\n",
      "100  109k  100  109k    0     0   114k      0 --:--:-- --:--:-- --:--:--  114k\n"
     ]
    },
    {
     "name": "stdout",
     "output_type": "stream",
     "text": [
      "187\n",
      "https://www.climatepolicyinitiative.org/publication/enhancing-the-role-of-national-development-banks-in-supporting-climate-smart-urban-infrastructure/\n"
     ]
    },
    {
     "name": "stderr",
     "output_type": "stream",
     "text": [
      "  % Total    % Received % Xferd  Average Speed   Time    Time     Time  Current\n",
      "                                 Dload  Upload   Total   Spent    Left  Speed\n",
      "\n",
      "  0     0    0     0    0     0      0      0 --:--:-- --:--:-- --:--:--     0\n",
      "  0     0    0     0    0     0      0      0 --:--:-- --:--:-- --:--:--     0\n",
      "100  484k  100  484k    0     0   451k      0  0:00:01  0:00:01 --:--:--  452k\n"
     ]
    },
    {
     "name": "stdout",
     "output_type": "stream",
     "text": [
      "188\n",
      "https://www.climatepolicyinitiative.org/publication/the-role-of-cooperatives-in-rural-credit-cooperative-credit-grows-during-the-economic-crisis-and-supports-the-inclusion-of-small-scale-producers/\n"
     ]
    },
    {
     "name": "stderr",
     "output_type": "stream",
     "text": [
      "  % Total    % Received % Xferd  Average Speed   Time    Time     Time  Current\n",
      "                                 Dload  Upload   Total   Spent    Left  Speed\n",
      "\n",
      "  0     0    0     0    0     0      0      0 --:--:-- --:--:-- --:--:--     0\n",
      "  0     0    0     0    0     0      0      0 --:--:-- --:--:-- --:--:--     0\n",
      " 12 12.2M   12 1551k    0     0   873k      0  0:00:14  0:00:01  0:00:13  874k\n",
      " 31 12.2M   31 3983k    0     0  1283k      0  0:00:09  0:00:03  0:00:06 1284k\n",
      " 46 12.2M   46 5887k    0     0  1558k      0  0:00:08  0:00:03  0:00:05 1559k\n",
      " 59 12.2M   59 7519k    0     0  1459k      0  0:00:08  0:00:05  0:00:03 1459k\n",
      " 72 12.2M   72 9055k    0     0  1567k      0  0:00:08  0:00:05  0:00:03 1861k\n",
      " 75 12.2M   75 9503k    0     0  1402k      0  0:00:08  0:00:06  0:00:02 1590k\n",
      " 96 12.2M   96 11.8M    0     0  1561k      0  0:00:08  0:00:07  0:00:01 1745k\n",
      "100 12.2M  100 12.2M    0     0  1567k      0  0:00:07  0:00:07 --:--:-- 1576k\n"
     ]
    },
    {
     "name": "stdout",
     "output_type": "stream",
     "text": [
      "189\n",
      "https://www.climatepolicyinitiative.org/publication/brazil-needs-to-monitor-its-tropical-regeneration/\n"
     ]
    },
    {
     "name": "stderr",
     "output_type": "stream",
     "text": [
      "  % Total    % Received % Xferd  Average Speed   Time    Time     Time  Current\n",
      "                                 Dload  Upload   Total   Spent    Left  Speed\n",
      "\n",
      "  0     0    0     0    0     0      0      0 --:--:-- --:--:-- --:--:--     0\n",
      "  0     0    0     0    0     0      0      0 --:--:-- --:--:-- --:--:--     0\n",
      " 75  571k   75  431k    0     0   312k      0  0:00:01  0:00:01 --:--:--  313k\n",
      "100  571k  100  571k    0     0   392k      0  0:00:01  0:00:01 --:--:--  392k\n"
     ]
    },
    {
     "name": "stdout",
     "output_type": "stream",
     "text": [
      "190\n",
      "https://www.climatepolicyinitiative.org/publication/green-finance-in-china-achieving-sustainability-through-finance/\n"
     ]
    },
    {
     "name": "stderr",
     "output_type": "stream",
     "text": [
      "  % Total    % Received % Xferd  Average Speed   Time    Time     Time  Current\n",
      "                                 Dload  Upload   Total   Spent    Left  Speed\n",
      "\n",
      "  0     0    0     0    0     0      0      0 --:--:-- --:--:-- --:--:--     0\n",
      "  0     0    0     0    0     0      0      0 --:--:-- --:--:-- --:--:--     0\n",
      "100  191k  100  191k    0     0   144k      0  0:00:01  0:00:01 --:--:--  144k\n"
     ]
    },
    {
     "name": "stdout",
     "output_type": "stream",
     "text": [
      "191\n",
      "https://www.climatepolicyinitiative.org/publication/economic-impacts-of-green-finance-is-it-possible-to-measure-the-productivity-of-green-bonds-in-china/\n"
     ]
    },
    {
     "name": "stderr",
     "output_type": "stream",
     "text": [
      "  % Total    % Received % Xferd  Average Speed   Time    Time     Time  Current\n",
      "                                 Dload  Upload   Total   Spent    Left  Speed\n",
      "\n",
      "  0     0    0     0    0     0      0      0 --:--:-- --:--:-- --:--:--     0\n",
      "  0     0    0     0    0     0      0      0 --:--:-- --:--:-- --:--:--     0\n",
      " 41  464k   41  191k    0     0   187k      0  0:00:02  0:00:01  0:00:01  187k\n",
      "100  464k  100  464k    0     0   374k      0  0:00:01  0:00:01 --:--:--  374k\n"
     ]
    },
    {
     "name": "stdout",
     "output_type": "stream",
     "text": [
      "192\n",
      "https://www.climatepolicyinitiative.org/publication/accelerating-green-finance-in-india-definitions-and-beyond/\n"
     ]
    },
    {
     "name": "stderr",
     "output_type": "stream",
     "text": [
      "  % Total    % Received % Xferd  Average Speed   Time    Time     Time  Current\n",
      "                                 Dload  Upload   Total   Spent    Left  Speed\n",
      "\n",
      "  0     0    0     0    0     0      0      0 --:--:-- --:--:-- --:--:--     0\n",
      "  0     0    0     0    0     0      0      0 --:--:-- --:--:-- --:--:--     0\n",
      "  8 5290k    8  431k    0     0   369k      0  0:00:14  0:00:01  0:00:13  369k\n",
      " 82 5290k   82 4351k    0     0  2002k      0  0:00:02  0:00:02 --:--:-- 2004k\n",
      "100 5290k  100 5290k    0     0  1994k      0  0:00:02  0:00:02 --:--:-- 1995k\n"
     ]
    },
    {
     "name": "stdout",
     "output_type": "stream",
     "text": [
      "193\n",
      "https://www.climatepolicyinitiative.org/publication/improving-efficiency-for-air-conditioners-the-role-of-the-manaus-free-trade-zone/\n"
     ]
    },
    {
     "name": "stderr",
     "output_type": "stream",
     "text": [
      "  % Total    % Received % Xferd  Average Speed   Time    Time     Time  Current\n",
      "                                 Dload  Upload   Total   Spent    Left  Speed\n",
      "\n",
      "  0     0    0     0    0     0      0      0 --:--:-- --:--:-- --:--:--     0\n",
      "  0     0    0     0    0     0      0      0 --:--:-- --:--:-- --:--:--     0\n",
      " 89  214k   89  191k    0     0   141k      0  0:00:01  0:00:01 --:--:--  141k\n",
      "100  214k  100  214k    0     0   157k      0  0:00:01  0:00:01 --:--:--  157k\n"
     ]
    },
    {
     "name": "stdout",
     "output_type": "stream",
     "text": [
      "194\n",
      "https://www.climatepolicyinitiative.org/publication/adjustments-to-the-new-concessions-law-bill-could-ensure-higher-quality-and-more-sustainable-infrastructure/\n"
     ]
    },
    {
     "name": "stderr",
     "output_type": "stream",
     "text": [
      "  % Total    % Received % Xferd  Average Speed   Time    Time     Time  Current\n",
      "                                 Dload  Upload   Total   Spent    Left  Speed\n",
      "\n",
      "  0     0    0     0    0     0      0      0 --:--:-- --:--:-- --:--:--     0\n",
      "  0     0    0     0    0     0      0      0 --:--:-- --:--:-- --:--:--     0\n",
      "100  485k  100  485k    0     0   310k      0  0:00:01  0:00:01 --:--:--  311k\n"
     ]
    },
    {
     "name": "stdout",
     "output_type": "stream",
     "text": [
      "195\n",
      "https://www.climatepolicyinitiative.org/publication/green-bonds-in-china-the-state-and-effectiveness-of-the-market/\n"
     ]
    },
    {
     "name": "stderr",
     "output_type": "stream",
     "text": [
      "  % Total    % Received % Xferd  Average Speed   Time    Time     Time  Current\n",
      "                                 Dload  Upload   Total   Spent    Left  Speed\n",
      "\n",
      "  0     0    0     0    0     0      0      0 --:--:-- --:--:-- --:--:--     0\n",
      "  0     0    0     0    0     0      0      0 --:--:-- --:--:-- --:--:--     0\n",
      "100  595k  100  595k    0     0   415k      0  0:00:01  0:00:01 --:--:--  416k\n"
     ]
    },
    {
     "name": "stdout",
     "output_type": "stream",
     "text": [
      "196\n",
      "https://www.climatepolicyinitiative.org/publication/protected-territories-though-critical-are-not-enough-to-slow-amazon-deforestation/\n"
     ]
    },
    {
     "name": "stderr",
     "output_type": "stream",
     "text": [
      "  % Total    % Received % Xferd  Average Speed   Time    Time     Time  Current\n",
      "                                 Dload  Upload   Total   Spent    Left  Speed\n",
      "\n",
      "  0     0    0     0    0     0      0      0 --:--:-- --:--:-- --:--:--     0\n",
      "  0     0    0     0    0     0      0      0 --:--:-- --:--:-- --:--:--     0\n",
      " 39  761k   39  303k    0     0   241k      0  0:00:03  0:00:01  0:00:02  242k\n",
      "100  761k  100  761k    0     0   524k      0  0:00:01  0:00:01 --:--:--  524k\n"
     ]
    },
    {
     "name": "stdout",
     "output_type": "stream",
     "text": [
      "197\n",
      "https://www.climatepolicyinitiative.org/publication/enhancing-decentralized-renewable-energy-investment-to-achieve-indonesias-nationally-determined-contribution/\n"
     ]
    },
    {
     "name": "stderr",
     "output_type": "stream",
     "text": [
      "  % Total    % Received % Xferd  Average Speed   Time    Time     Time  Current\n",
      "                                 Dload  Upload   Total   Spent    Left  Speed\n",
      "\n",
      "  0     0    0     0    0     0      0      0 --:--:-- --:--:-- --:--:--     0\n",
      "  0     0    0     0    0     0      0      0 --:--:-- --:--:-- --:--:--     0\n",
      "100   396    0   396    0     0    540      0 --:--:-- --:--:-- --:--:--   541\n"
     ]
    },
    {
     "name": "stdout",
     "output_type": "stream",
     "text": [
      "198\n",
      "https://www.climatepolicyinitiative.org/publication/indonesia-environment-fund-bridging-the-financing-gap-in-environmental-programs/\n"
     ]
    },
    {
     "name": "stderr",
     "output_type": "stream",
     "text": [
      "  % Total    % Received % Xferd  Average Speed   Time    Time     Time  Current\n",
      "                                 Dload  Upload   Total   Spent    Left  Speed\n",
      "\n",
      "  0     0    0     0    0     0      0      0 --:--:-- --:--:-- --:--:--     0\n",
      " 13  345k   13 48758    0     0  52827      0  0:00:06 --:--:--  0:00:06 52940\n",
      "100  345k  100  345k    0     0   251k      0  0:00:01  0:00:01 --:--:--  251k\n"
     ]
    },
    {
     "name": "stdout",
     "output_type": "stream",
     "text": [
      "199\n",
      "https://www.climatepolicyinitiative.org/publication/questions-and-answers-on-provisional-measure-910/\n"
     ]
    },
    {
     "name": "stderr",
     "output_type": "stream",
     "text": [
      "  % Total    % Received % Xferd  Average Speed   Time    Time     Time  Current\n",
      "                                 Dload  Upload   Total   Spent    Left  Speed\n",
      "\n",
      "  0     0    0     0    0     0      0      0 --:--:-- --:--:-- --:--:--     0\n",
      "  0     0    0     0    0     0      0      0 --:--:-- --:--:-- --:--:--     0\n",
      " 11  722k   11 81526    0     0  75585      0  0:00:09  0:00:01  0:00:08 75697\n",
      "100  722k  100  722k    0     0   481k      0  0:00:01  0:00:01 --:--:--  481k\n"
     ]
    },
    {
     "name": "stdout",
     "output_type": "stream",
     "text": [
      "200\n",
      "https://www.climatepolicyinitiative.org/publication/a-snapshot-of-global-adaptation-investment-and-tracking-methods/\n"
     ]
    },
    {
     "name": "stderr",
     "output_type": "stream",
     "text": [
      "  % Total    % Received % Xferd  Average Speed   Time    Time     Time  Current\n",
      "                                 Dload  Upload   Total   Spent    Left  Speed\n",
      "\n",
      "  0     0    0     0    0     0      0      0 --:--:-- --:--:-- --:--:--     0\n",
      "  2  597k    2 15990    0     0  19514      0  0:00:31 --:--:--  0:00:31 19547\n",
      "100  597k  100  597k    0     0   420k      0  0:00:01  0:00:01 --:--:--  421k\n"
     ]
    },
    {
     "name": "stdout",
     "output_type": "stream",
     "text": [
      "201\n",
      "https://www.climatepolicyinitiative.org/publication/targeting-deforestation-boosting-regeneration/\n"
     ]
    },
    {
     "name": "stderr",
     "output_type": "stream",
     "text": [
      "  % Total    % Received % Xferd  Average Speed   Time    Time     Time  Current\n",
      "                                 Dload  Upload   Total   Spent    Left  Speed\n",
      "\n",
      "  0     0    0     0    0     0      0      0 --:--:-- --:--:-- --:--:--     0\n",
      "  0     0    0     0    0     0      0      0 --:--:-- --:--:-- --:--:--     0\n",
      " 77  842k   77  655k    0     0   452k      0  0:00:01  0:00:01 --:--:--  453k\n",
      "100  842k  100  842k    0     0   506k      0  0:00:01  0:00:01 --:--:--  507k\n"
     ]
    },
    {
     "name": "stdout",
     "output_type": "stream",
     "text": [
      "202\n",
      "https://www.climatepolicyinitiative.org/pt-br/publication/novo-relatorio-do-senador-iraja-abreu-sobre-a-mp-910-2019-mantem-regras-prejudiciais-a-regularizacao-fundiaria/\n"
     ]
    },
    {
     "name": "stderr",
     "output_type": "stream",
     "text": [
      "  % Total    % Received % Xferd  Average Speed   Time    Time     Time  Current\n",
      "                                 Dload  Upload   Total   Spent    Left  Speed\n",
      "\n",
      "  0     0    0     0    0     0      0      0 --:--:-- --:--:-- --:--:--     0\n",
      "  0     0    0     0    0     0      0      0 --:--:-- --:--:-- --:--:--     0\n",
      " 85  710k   85  607k    0     0   527k      0  0:00:01  0:00:01 --:--:--  527k\n",
      "100  710k  100  710k    0     0   588k      0  0:00:01  0:00:01 --:--:--  589k\n"
     ]
    },
    {
     "name": "stdout",
     "output_type": "stream",
     "text": [
      "203\n",
      "https://www.climatepolicyinitiative.org/publication/does-the-manaus-free-trade-zone-have-an-impact-on-industry-efficiency/\n"
     ]
    },
    {
     "name": "stderr",
     "output_type": "stream",
     "text": [
      "  % Total    % Received % Xferd  Average Speed   Time    Time     Time  Current\n",
      "                                 Dload  Upload   Total   Spent    Left  Speed\n",
      "\n",
      "  0     0    0     0    0     0      0      0 --:--:-- --:--:-- --:--:--     0\n",
      "  0     0    0     0    0     0      0      0 --:--:-- --:--:-- --:--:--     0\n",
      "  5 21.4M    5 1215k    0     0   706k      0  0:00:31  0:00:01  0:00:30  707k\n",
      " 13 21.4M   13 2863k    0     0  1051k      0  0:00:20  0:00:02  0:00:18 1052k\n",
      " 22 21.4M   22 4991k    0     0  1334k      0  0:00:16  0:00:03  0:00:13 1335k\n",
      " 28 21.4M   28 6223k    0     0  1309k      0  0:00:16  0:00:04  0:00:12 1309k\n",
      " 35 21.4M   35 7903k    0     0  1381k      0  0:00:15  0:00:05  0:00:10 1604k\n",
      " 44 21.4M   44 9823k    0     0  1460k      0  0:00:15  0:00:06  0:00:09 1719k\n",
      " 55 21.4M   55 11.9M    0     0  1568k      0  0:00:14  0:00:07  0:00:07 1847k\n",
      " 63 21.4M   63 13.6M    0     0  1606k      0  0:00:13  0:00:08  0:00:05 1810k\n",
      " 72 21.4M   72 15.5M    0     0  1637k      0  0:00:13  0:00:09  0:00:04 1951k\n",
      " 81 21.4M   81 17.4M    0     0  1668k      0  0:00:13  0:00:10  0:00:03 1996k\n",
      " 86 21.4M   86 18.6M    0     0  1625k      0  0:00:13  0:00:11  0:00:02 1846k\n",
      " 97 21.4M   97 20.8M    0     0  1674k      0  0:00:13  0:00:12  0:00:01 1838k\n",
      "100 21.4M  100 21.4M    0     0  1717k      0  0:00:12  0:00:12 --:--:-- 1955k\n"
     ]
    },
    {
     "name": "stdout",
     "output_type": "stream",
     "text": [
      "204\n",
      "https://www.climatepolicyinitiative.org/publication/the-impacts-of-rural-credit-on-agricultural-outcomes-and-land-use/\n"
     ]
    },
    {
     "name": "stderr",
     "output_type": "stream",
     "text": [
      "  % Total    % Received % Xferd  Average Speed   Time    Time     Time  Current\n",
      "                                 Dload  Upload   Total   Spent    Left  Speed\n",
      "\n",
      "  0     0    0     0    0     0      0      0 --:--:-- --:--:-- --:--:--     0\n",
      "  0     0    0     0    0     0      0      0 --:--:-- --:--:-- --:--:--     0\n",
      "100  149k  100  149k    0     0   148k      0  0:00:01  0:00:01 --:--:--  148k\n"
     ]
    },
    {
     "name": "stdout",
     "output_type": "stream",
     "text": [
      "205\n",
      "https://www.climatepolicyinitiative.org/pt-br/publication/relator-da-mp-910-2019-flexibiliza-ainda-mais-a-regularizacao-fundiaria-2/\n"
     ]
    },
    {
     "name": "stderr",
     "output_type": "stream",
     "text": [
      "  % Total    % Received % Xferd  Average Speed   Time    Time     Time  Current\n",
      "                                 Dload  Upload   Total   Spent    Left  Speed\n",
      "\n",
      "  0     0    0     0    0     0      0      0 --:--:-- --:--:-- --:--:--     0\n",
      "  0     0    0     0    0     0      0      0 --:--:-- --:--:-- --:--:--     0\n",
      " 61  700k   61  431k    0     0   305k      0  0:00:02  0:00:01  0:00:01  305k\n",
      "100  700k  100  700k    0     0   413k      0  0:00:01  0:00:01 --:--:--  413k\n"
     ]
    },
    {
     "name": "stdout",
     "output_type": "stream",
     "text": [
      "206\n",
      "https://www.climatepolicyinitiative.org/publication/the-environmental-impacts-of-the-ferrograo-railroad/\n"
     ]
    },
    {
     "name": "stderr",
     "output_type": "stream",
     "text": [
      "  % Total    % Received % Xferd  Average Speed   Time    Time     Time  Current\n",
      "                                 Dload  Upload   Total   Spent    Left  Speed\n",
      "\n",
      "  0     0    0     0    0     0      0      0 --:--:-- --:--:-- --:--:--     0\n",
      "  0     0    0     0    0     0      0      0 --:--:-- --:--:-- --:--:--     0\n",
      "100  250k  100  250k    0     0   211k      0  0:00:01  0:00:01 --:--:--  212k\n"
     ]
    },
    {
     "name": "stdout",
     "output_type": "stream",
     "text": [
      "207\n",
      "https://www.climatepolicyinitiative.org/pt-br/publication/jabuti-em-medida-provisoria-enfraquece-a-protecao-da-floresta-amazonica-no-codigo-florestal/\n"
     ]
    },
    {
     "name": "stderr",
     "output_type": "stream",
     "text": [
      "  % Total    % Received % Xferd  Average Speed   Time    Time     Time  Current\n",
      "                                 Dload  Upload   Total   Spent    Left  Speed\n",
      "\n",
      "  0     0    0     0    0     0      0      0 --:--:-- --:--:-- --:--:--     0\n",
      "  0     0    0     0    0     0      0      0 --:--:-- --:--:-- --:--:--     0\n",
      "100  727k  100  727k    0     0   487k      0  0:00:01  0:00:01 --:--:--  488k\n"
     ]
    },
    {
     "name": "stdout",
     "output_type": "stream",
     "text": [
      "208\n",
      "https://www.climatepolicyinitiative.org/pt-br/publication/medida-provisoria-recompensa-atividades-criminosas-2/\n"
     ]
    },
    {
     "name": "stderr",
     "output_type": "stream",
     "text": [
      "  % Total    % Received % Xferd  Average Speed   Time    Time     Time  Current\n",
      "                                 Dload  Upload   Total   Spent    Left  Speed\n",
      "\n",
      "  0     0    0     0    0     0      0      0 --:--:-- --:--:-- --:--:--     0\n",
      "  0     0    0     0    0     0      0      0 --:--:-- --:--:-- --:--:--     0\n",
      "  5 3266k    5  191k    0     0   178k      0  0:00:18  0:00:01  0:00:17  179k\n",
      " 86 3266k   86 2815k    0     0  1362k      0  0:00:02  0:00:02 --:--:-- 1363k\n",
      "100 3266k  100 3266k    0     0  1503k      0  0:00:02  0:00:02 --:--:-- 1504k\n"
     ]
    },
    {
     "name": "stdout",
     "output_type": "stream",
     "text": [
      "209\n",
      "https://www.climatepolicyinitiative.org/publication/tracking-adaptation-finance-advancing-methods-to-capture-finance-flows-in-the-landscape/\n"
     ]
    },
    {
     "name": "stderr",
     "output_type": "stream",
     "text": [
      "  % Total    % Received % Xferd  Average Speed   Time    Time     Time  Current\n",
      "                                 Dload  Upload   Total   Spent    Left  Speed\n",
      "\n",
      "  0     0    0     0    0     0      0      0 --:--:-- --:--:-- --:--:--     0\n",
      "  0     0    0     0    0     0      0      0 --:--:-- --:--:-- --:--:--     0\n",
      "100  413k  100  413k    0     0   273k      0  0:00:01  0:00:01 --:--:--  273k\n"
     ]
    },
    {
     "name": "stdout",
     "output_type": "stream",
     "text": [
      "210\n",
      "https://www.climatepolicyinitiative.org/publication/where-does-brazil-stand-with-the-implementation-of-the-forest-code-a-snapshot-of-the-car-and-the-pra-in-brazils-states/\n"
     ]
    },
    {
     "name": "stderr",
     "output_type": "stream",
     "text": [
      "  % Total    % Received % Xferd  Average Speed   Time    Time     Time  Current\n",
      "                                 Dload  Upload   Total   Spent    Left  Speed\n",
      "\n",
      "  0     0    0     0    0     0      0      0 --:--:-- --:--:-- --:--:--     0\n",
      "  0     0    0     0    0     0      0      0 --:--:-- --:--:-- --:--:--     0\n",
      " 77 1088k   77  847k    0     0   658k      0  0:00:01  0:00:01 --:--:--  658k\n",
      "100 1088k  100 1088k    0     0   754k      0  0:00:01  0:00:01 --:--:--  755k\n"
     ]
    },
    {
     "name": "stdout",
     "output_type": "stream",
     "text": [
      "211\n",
      "https://www.climatepolicyinitiative.org/publication/idfc-green-finance-mapping-report-2019/\n"
     ]
    },
    {
     "name": "stderr",
     "output_type": "stream",
     "text": [
      "  % Total    % Received % Xferd  Average Speed   Time    Time     Time  Current\n",
      "                                 Dload  Upload   Total   Spent    Left  Speed\n",
      "\n",
      "  0     0    0     0    0     0      0      0 --:--:-- --:--:-- --:--:--     0\n",
      " 26  236k   26 65142    0     0  73190      0  0:00:03 --:--:--  0:00:03 73275\n",
      "100  236k  100  236k    0     0   237k      0 --:--:-- --:--:-- --:--:--  237k\n"
     ]
    },
    {
     "name": "stdout",
     "output_type": "stream",
     "text": [
      "212\n",
      "https://www.climatepolicyinitiative.org/publication/productivity-for-cattle-ranching-in-brazil/\n"
     ]
    },
    {
     "name": "stderr",
     "output_type": "stream",
     "text": [
      "  % Total    % Received % Xferd  Average Speed   Time    Time     Time  Current\n",
      "                                 Dload  Upload   Total   Spent    Left  Speed\n",
      "\n",
      "  0     0    0     0    0     0      0      0 --:--:-- --:--:-- --:--:--     0\n",
      "  0     0    0     0    0     0      0      0 --:--:-- --:--:-- --:--:--     0\n",
      "100  634k  100  634k    0     0   499k      0  0:00:01  0:00:01 --:--:--  499k\n",
      "100  634k  100  634k    0     0   499k      0  0:00:01  0:00:01 --:--:--  499k\n"
     ]
    },
    {
     "name": "stdout",
     "output_type": "stream",
     "text": [
      "213\n",
      "https://www.climatepolicyinitiative.org/publication/brazil-knows-what-to-do-to-fight-deforestation-in-the-amazon/\n"
     ]
    },
    {
     "name": "stderr",
     "output_type": "stream",
     "text": [
      "  % Total    % Received % Xferd  Average Speed   Time    Time     Time  Current\n",
      "                                 Dload  Upload   Total   Spent    Left  Speed\n",
      "\n",
      "  0     0    0     0    0     0      0      0 --:--:-- --:--:-- --:--:--     0\n",
      "  0     0    0     0    0     0      0      0 --:--:-- --:--:-- --:--:--     0\n",
      "100 1257k  100 1257k    0     0   849k      0  0:00:01  0:00:01 --:--:--  850k\n"
     ]
    },
    {
     "name": "stdout",
     "output_type": "stream",
     "text": [
      "214\n",
      "https://www.climatepolicyinitiative.org/publication/por-que-proteger-a-amazonia/\n"
     ]
    },
    {
     "name": "stderr",
     "output_type": "stream",
     "text": [
      "  % Total    % Received % Xferd  Average Speed   Time    Time     Time  Current\n",
      "                                 Dload  Upload   Total   Spent    Left  Speed\n",
      "\n",
      "  0     0    0     0    0     0      0      0 --:--:-- --:--:-- --:--:--     0\n",
      "  2 1823k    2 48757    0     0  54695      0  0:00:34 --:--:--  0:00:34 54783\n",
      "100 1823k  100 1823k    0     0   966k      0  0:00:01  0:00:01 --:--:--  967k\n"
     ]
    },
    {
     "name": "stdout",
     "output_type": "stream",
     "text": [
      "215\n",
      "https://www.climatepolicyinitiative.org/publication/global-landscape-of-climate-finance-2019/\n"
     ]
    },
    {
     "name": "stderr",
     "output_type": "stream",
     "text": [
      "  % Total    % Received % Xferd  Average Speed   Time    Time     Time  Current\n",
      "                                 Dload  Upload   Total   Spent    Left  Speed\n",
      "\n",
      "  0     0    0     0    0     0      0      0 --:--:-- --:--:-- --:--:--     0\n",
      "  0     0    0     0    0     0      0      0 --:--:-- --:--:-- --:--:--     0\n",
      "100  301k  100  301k    0     0   281k      0  0:00:01  0:00:01 --:--:--  282k\n"
     ]
    },
    {
     "name": "stdout",
     "output_type": "stream",
     "text": [
      "216\n",
      "https://www.climatepolicyinitiative.org/publication/sustainable-infrastructure-in-the-amazon/\n"
     ]
    },
    {
     "name": "stderr",
     "output_type": "stream",
     "text": [
      "  % Total    % Received % Xferd  Average Speed   Time    Time     Time  Current\n",
      "                                 Dload  Upload   Total   Spent    Left  Speed\n",
      "\n",
      "  0     0    0     0    0     0      0      0 --:--:-- --:--:-- --:--:--     0\n",
      "  0     0    0     0    0     0      0      0 --:--:-- --:--:-- --:--:--     0\n",
      "100  296k  100  296k    0     0   229k      0  0:00:01  0:00:01 --:--:--  230k\n"
     ]
    },
    {
     "name": "stdout",
     "output_type": "stream",
     "text": [
      "217\n",
      "https://www.climatepolicyinitiative.org/publication/measuring-the-private-capital-response-to-climate-change-a-proposed-dashboard/\n"
     ]
    },
    {
     "name": "stderr",
     "output_type": "stream",
     "text": [
      "  % Total    % Received % Xferd  Average Speed   Time    Time     Time  Current\n",
      "                                 Dload  Upload   Total   Spent    Left  Speed\n",
      "\n",
      "  0     0    0     0    0     0      0      0 --:--:-- --:--:-- --:--:--     0\n",
      " 10  152k   10 15990    0     0  17697      0  0:00:08 --:--:--  0:00:08 17727\n",
      "100  152k  100  152k    0     0   142k      0  0:00:01  0:00:01 --:--:--  142k\n"
     ]
    },
    {
     "name": "stdout",
     "output_type": "stream",
     "text": [
      "218\n",
      "https://www.climatepolicyinitiative.org/pt-br/publication/alteracoes-no-car-e-no-pra-o-que-muda-para-os-produtores-rurais/\n"
     ]
    },
    {
     "name": "stderr",
     "output_type": "stream",
     "text": [
      "  % Total    % Received % Xferd  Average Speed   Time    Time     Time  Current\n",
      "                                 Dload  Upload   Total   Spent    Left  Speed\n",
      "\n",
      "  0     0    0     0    0     0      0      0 --:--:-- --:--:-- --:--:--     0\n",
      "  0     0    0     0    0     0      0      0 --:--:-- --:--:-- --:--:--     0\n",
      "  8  746k    8 65142    0     0  64230      0  0:00:11  0:00:01  0:00:10 64306\n",
      "100  746k  100  746k    0     0   511k      0  0:00:01  0:00:01 --:--:--  511k\n"
     ]
    },
    {
     "name": "stdout",
     "output_type": "stream",
     "text": [
      "219\n",
      "https://www.climatepolicyinitiative.org/publication/energizing-finance-understanding-the-landscape-2019/\n"
     ]
    },
    {
     "name": "stderr",
     "output_type": "stream",
     "text": [
      "  % Total    % Received % Xferd  Average Speed   Time    Time     Time  Current\n",
      "                                 Dload  Upload   Total   Spent    Left  Speed\n",
      "\n",
      "  0     0    0     0    0     0      0      0 --:--:-- --:--:-- --:--:--     0\n",
      "  0     0    0     0    0     0      0      0 --:--:-- --:--:-- --:--:--     0\n",
      " 33 2678k   33  895k    0     0   608k      0  0:00:04  0:00:01  0:00:03  608k\n",
      "100 2678k  100 2678k    0     0  1285k      0  0:00:02  0:00:02 --:--:-- 1286k\n"
     ]
    },
    {
     "name": "stdout",
     "output_type": "stream",
     "text": [
      "220\n",
      "https://www.climatepolicyinitiative.org/pt-br/publication/congresso-nacional-aprova-alteracoes-ao-codigo-florestal-mudancas-na-lei-trazem-mais-seguranca-juridica-para-o-car-e-o-pra/\n"
     ]
    },
    {
     "name": "stderr",
     "output_type": "stream",
     "text": [
      "  % Total    % Received % Xferd  Average Speed   Time    Time     Time  Current\n",
      "                                 Dload  Upload   Total   Spent    Left  Speed\n",
      "\n",
      "  0     0    0     0    0     0      0      0 --:--:-- --:--:-- --:--:--     0\n",
      " 13  723k   13 97910    0     0   104k      0  0:00:06 --:--:--  0:00:06  104k\n",
      "100  723k  100  723k    0     0   524k      0  0:00:01  0:00:01 --:--:--  525k\n"
     ]
    },
    {
     "name": "stdout",
     "output_type": "stream",
     "text": [
      "221\n",
      "https://www.climatepolicyinitiative.org/publication/the-future-of-infrastructure-in-brazil-under-discussion/\n"
     ]
    },
    {
     "name": "stderr",
     "output_type": "stream",
     "text": [
      "  % Total    % Received % Xferd  Average Speed   Time    Time     Time  Current\n",
      "                                 Dload  Upload   Total   Spent    Left  Speed\n",
      "\n",
      "  0     0    0     0    0     0      0      0 --:--:-- --:--:-- --:--:--     0\n",
      "100   371    0   371    0     0    512      0 --:--:-- --:--:-- --:--:--   513\n"
     ]
    },
    {
     "name": "stdout",
     "output_type": "stream",
     "text": [
      "222\n",
      "https://www.climatepolicyinitiative.org/publication/the-lab-2018-2019-cycle-instrument-analysis/\n"
     ]
    },
    {
     "name": "stderr",
     "output_type": "stream",
     "text": [
      "  % Total    % Received % Xferd  Average Speed   Time    Time     Time  Current\n",
      "                                 Dload  Upload   Total   Spent    Left  Speed\n",
      "\n",
      "  0     0    0     0    0     0      0      0 --:--:-- --:--:-- --:--:--     0\n",
      "  0     0    0     0    0     0      0      0 --:--:-- --:--:-- --:--:--     0\n",
      " 45  627k   45  287k    0     0   237k      0  0:00:02  0:00:01  0:00:01  238k\n",
      "100  627k  100  627k    0     0   419k      0  0:00:01  0:00:01 --:--:--  419k\n"
     ]
    },
    {
     "name": "stdout",
     "output_type": "stream",
     "text": [
      "223\n",
      "https://www.climatepolicyinitiative.org/publication/the-breathe-better-bond-initiative/\n"
     ]
    },
    {
     "name": "stderr",
     "output_type": "stream",
     "text": [
      "  % Total    % Received % Xferd  Average Speed   Time    Time     Time  Current\n",
      "                                 Dload  Upload   Total   Spent    Left  Speed\n",
      "\n",
      "  0     0    0     0    0     0      0      0 --:--:-- --:--:-- --:--:--     0\n",
      "  2  527k    2 15990    0     0  18394      0  0:00:29 --:--:--  0:00:29 18421\n",
      "100  527k  100  527k    0     0   363k      0  0:00:01  0:00:01 --:--:--  363k\n"
     ]
    },
    {
     "name": "stdout",
     "output_type": "stream",
     "text": [
      "224\n",
      "https://www.climatepolicyinitiative.org/publication/cooling-as-a-service-caas/\n"
     ]
    },
    {
     "name": "stderr",
     "output_type": "stream",
     "text": [
      "  % Total    % Received % Xferd  Average Speed   Time    Time     Time  Current\n",
      "                                 Dload  Upload   Total   Spent    Left  Speed\n",
      "\n",
      "  0     0    0     0    0     0      0      0 --:--:-- --:--:-- --:--:--     0\n",
      "  0     0    0     0    0     0      0      0 --:--:-- --:--:-- --:--:--     0\n",
      " 89  627k   89  559k    0     0   406k      0  0:00:01  0:00:01 --:--:--  406k\n",
      "100  627k  100  627k    0     0   443k      0  0:00:01  0:00:01 --:--:--  444k\n"
     ]
    },
    {
     "name": "stdout",
     "output_type": "stream",
     "text": [
      "225\n",
      "https://www.climatepolicyinitiative.org/publication/restoration-insurance-service-company-risco/\n"
     ]
    },
    {
     "name": "stderr",
     "output_type": "stream",
     "text": [
      "  % Total    % Received % Xferd  Average Speed   Time    Time     Time  Current\n",
      "                                 Dload  Upload   Total   Spent    Left  Speed\n",
      "\n",
      "  0     0    0     0    0     0      0      0 --:--:-- --:--:-- --:--:--     0\n",
      "  0     0    0     0    0     0      0      0 --:--:-- --:--:-- --:--:--     0\n",
      " 76  209k   76  159k    0     0   142k      0  0:00:01  0:00:01 --:--:--  142k\n",
      "100  209k  100  209k    0     0   184k      0  0:00:01  0:00:01 --:--:--  184k\n"
     ]
    },
    {
     "name": "stdout",
     "output_type": "stream",
     "text": [
      "226\n",
      "https://www.climatepolicyinitiative.org/publication/solar-securitization-for-rwanda/\n"
     ]
    },
    {
     "name": "stderr",
     "output_type": "stream",
     "text": [
      "  % Total    % Received % Xferd  Average Speed   Time    Time     Time  Current\n",
      "                                 Dload  Upload   Total   Spent    Left  Speed\n",
      "\n",
      "  0     0    0     0    0     0      0      0 --:--:-- --:--:-- --:--:--     0\n",
      "  0     0    0     0    0     0      0      0 --:--:-- --:--:-- --:--:--     0\n",
      " 59  693k   59  415k    0     0   308k      0  0:00:02  0:00:01  0:00:01  308k\n",
      "100  693k  100  693k    0     0   432k      0  0:00:01  0:00:01 --:--:--  432k\n"
     ]
    },
    {
     "name": "stdout",
     "output_type": "stream",
     "text": [
      "227\n",
      "https://www.climatepolicyinitiative.org/publication/blockchain-climate-risk-crop-insurance/\n"
     ]
    },
    {
     "name": "stderr",
     "output_type": "stream",
     "text": [
      "  % Total    % Received % Xferd  Average Speed   Time    Time     Time  Current\n",
      "                                 Dload  Upload   Total   Spent    Left  Speed\n",
      "\n",
      "  0     0    0     0    0     0      0      0 --:--:-- --:--:-- --:--:--     0\n",
      "  0     0    0     0    0     0      0      0 --:--:-- --:--:-- --:--:--     0\n",
      " 19  559k   19  111k    0     0    99k      0  0:00:05  0:00:01  0:00:04   99k\n",
      "100  559k  100  559k    0     0   368k      0  0:00:01  0:00:01 --:--:--  368k\n"
     ]
    },
    {
     "name": "stdout",
     "output_type": "stream",
     "text": [
      "228\n",
      "https://www.climatepolicyinitiative.org/publication/implementing-alignment-recommendations-for-the-international-development-finance-club/\n"
     ]
    },
    {
     "name": "stderr",
     "output_type": "stream",
     "text": [
      "  % Total    % Received % Xferd  Average Speed   Time    Time     Time  Current\n",
      "                                 Dload  Upload   Total   Spent    Left  Speed\n",
      "\n",
      "  0     0    0     0    0     0      0      0 --:--:-- --:--:-- --:--:--     0\n",
      "  0     0    0     0    0     0      0      0 --:--:-- --:--:-- --:--:--     0\n",
      " 89  195k   89  175k    0     0   138k      0  0:00:01  0:00:01 --:--:--  138k\n",
      "100  195k  100  195k    0     0   152k      0  0:00:01  0:00:01 --:--:--  152k\n"
     ]
    },
    {
     "name": "stdout",
     "output_type": "stream",
     "text": [
      "229\n",
      "https://www.climatepolicyinitiative.org/pt-br/publication/projeto-de-lei-de-conversao-da-mp-884-2019-inviabiliza-a-regularizacao-ambiental-de-propriedades-rurais/\n"
     ]
    },
    {
     "name": "stderr",
     "output_type": "stream",
     "text": [
      "  % Total    % Received % Xferd  Average Speed   Time    Time     Time  Current\n",
      "                                 Dload  Upload   Total   Spent    Left  Speed\n",
      "\n",
      "  0     0    0     0    0     0      0      0 --:--:-- --:--:-- --:--:--     0\n",
      "  0     0    0     0    0     0      0      0 --:--:-- --:--:-- --:--:--     0\n",
      "100  590k  100  590k    0     0   444k      0  0:00:01  0:00:01 --:--:--  445k\n"
     ]
    },
    {
     "name": "stdout",
     "output_type": "stream",
     "text": [
      "230\n",
      "https://www.climatepolicyinitiative.org/publication/from-digging-to-planting-a-sustainable-economic-transition-for-berau-east-kalimantan/\n"
     ]
    },
    {
     "name": "stderr",
     "output_type": "stream",
     "text": [
      "  % Total    % Received % Xferd  Average Speed   Time    Time     Time  Current\n",
      "                                 Dload  Upload   Total   Spent    Left  Speed\n",
      "\n",
      "  0     0    0     0    0     0      0      0 --:--:-- --:--:-- --:--:--     0\n",
      "  0     0    0     0    0     0      0      0 --:--:-- --:--:-- --:--:--     0\n",
      " 64  444k   64  287k    0     0   257k      0  0:00:01  0:00:01 --:--:--  257k\n",
      "100  444k  100  444k    0     0   344k      0  0:00:01  0:00:01 --:--:--  345k\n"
     ]
    },
    {
     "name": "stdout",
     "output_type": "stream",
     "text": [
      "231\n",
      "https://www.climatepolicyinitiative.org/pt-br/publication/nova-proposta-de-alteracao-do-codigo-florestal-traz-ameacas-a-sua-implementacao-medida-provisoria-884-2019-possui-implicacoes-que-vao-alem-do-car/\n"
     ]
    },
    {
     "name": "stderr",
     "output_type": "stream",
     "text": [
      "  % Total    % Received % Xferd  Average Speed   Time    Time     Time  Current\n",
      "                                 Dload  Upload   Total   Spent    Left  Speed\n",
      "\n",
      "  0     0    0     0    0     0      0      0 --:--:-- --:--:-- --:--:--     0\n",
      "  0     0    0     0    0     0      0      0 --:--:-- --:--:-- --:--:--     0\n",
      " 12  743k   12 97910    0     0  95608      0  0:00:07  0:00:01  0:00:06 95802\n",
      "100  743k  100  743k    0     0   512k      0  0:00:01  0:00:01 --:--:--  512k\n"
     ]
    },
    {
     "name": "stdout",
     "output_type": "stream",
     "text": [
      "232\n",
      "https://www.climatepolicyinitiative.org/publication/from-banks-to-capital-markets-alternative-investment-funds-as-a-potential-pathway-for-refinancing-clean-energy-debt-in-india/\n"
     ]
    },
    {
     "name": "stderr",
     "output_type": "stream",
     "text": [
      "  % Total    % Received % Xferd  Average Speed   Time    Time     Time  Current\n",
      "                                 Dload  Upload   Total   Spent    Left  Speed\n",
      "\n",
      "  0     0    0     0    0     0      0      0 --:--:-- --:--:-- --:--:--     0\n",
      "  0     0    0     0    0     0      0      0 --:--:-- --:--:-- --:--:--     0\n",
      "100  155k  100  155k    0     0   139k      0  0:00:01  0:00:01 --:--:--  139k\n"
     ]
    },
    {
     "name": "stdout",
     "output_type": "stream",
     "text": [
      "233\n",
      "https://www.climatepolicyinitiative.org/publication/pathways-for-sustainable-agricultural-production-in-brazil/\n"
     ]
    },
    {
     "name": "stderr",
     "output_type": "stream",
     "text": [
      "  % Total    % Received % Xferd  Average Speed   Time    Time     Time  Current\n",
      "                                 Dload  Upload   Total   Spent    Left  Speed\n",
      "\n",
      "  0     0    0     0    0     0      0      0 --:--:-- --:--:-- --:--:--     0\n",
      "  2  648k    2 15990    0     0  20301      0  0:00:32 --:--:--  0:00:32 20343\n",
      "100  648k  100  648k    0     0   489k      0  0:00:01  0:00:01 --:--:--  490k\n"
     ]
    },
    {
     "name": "stdout",
     "output_type": "stream",
     "text": [
      "234\n",
      "https://www.climatepolicyinitiative.org/publication/aligning-rural-credit-with-the-forest-code/\n"
     ]
    },
    {
     "name": "stderr",
     "output_type": "stream",
     "text": [
      "  % Total    % Received % Xferd  Average Speed   Time    Time     Time  Current\n",
      "                                 Dload  Upload   Total   Spent    Left  Speed\n",
      "\n",
      "  0     0    0     0    0     0      0      0 --:--:-- --:--:-- --:--:--     0\n",
      "  0     0    0     0    0     0      0      0 --:--:-- --:--:-- --:--:--     0\n",
      "100  672k  100  672k    0     0   547k      0  0:00:01  0:00:01 --:--:--  549k\n"
     ]
    },
    {
     "name": "stdout",
     "output_type": "stream",
     "text": [
      "235\n",
      "https://www.climatepolicyinitiative.org/publication/developing-a-guarantee-instrument-to-catalyze-renewable-energy-investments-in-indonesia/\n"
     ]
    },
    {
     "name": "stderr",
     "output_type": "stream",
     "text": [
      "  % Total    % Received % Xferd  Average Speed   Time    Time     Time  Current\n",
      "                                 Dload  Upload   Total   Spent    Left  Speed\n",
      "\n",
      "  0     0    0     0    0     0      0      0 --:--:-- --:--:-- --:--:--     0\n",
      "  0     0    0     0    0     0      0      0 --:--:-- --:--:-- --:--:--     0\n",
      " 26 6854k   26 1791k    0     0  1089k      0  0:00:06  0:00:01  0:00:05 1090k\n",
      " 78 6854k   78 5359k    0     0  2024k      0  0:00:03  0:00:02  0:00:01 2026k\n",
      "100 6854k  100 6854k    0     0  2079k      0  0:00:03  0:00:03 --:--:-- 2080k\n"
     ]
    },
    {
     "name": "stdout",
     "output_type": "stream",
     "text": [
      "236\n",
      "https://www.climatepolicyinitiative.org/pt-br/publication/proposta-do-relator-da-mpv-867-2018-coloca-em-risco-o-novo-codigo-florestal/\n"
     ]
    },
    {
     "name": "stderr",
     "output_type": "stream",
     "text": [
      "  % Total    % Received % Xferd  Average Speed   Time    Time     Time  Current\n",
      "                                 Dload  Upload   Total   Spent    Left  Speed\n",
      "\n",
      "  0     0    0     0    0     0      0      0 --:--:-- --:--:-- --:--:--     0\n",
      "  0     0    0     0    0     0      0      0 --:--:-- --:--:-- --:--:--     0\n",
      " 50  629k   50  319k    0     0   265k      0  0:00:02  0:00:01  0:00:01  265k\n",
      "100  629k  100  629k    0     0   471k      0  0:00:01  0:00:01 --:--:--  471k\n"
     ]
    },
    {
     "name": "stdout",
     "output_type": "stream",
     "text": [
      "237\n",
      "https://www.climatepolicyinitiative.org/publication/the-impact-od-rural-credit-on-brazilian-agriculture-and-the-environment/\n"
     ]
    },
    {
     "name": "stderr",
     "output_type": "stream",
     "text": [
      "  % Total    % Received % Xferd  Average Speed   Time    Time     Time  Current\n",
      "                                 Dload  Upload   Total   Spent    Left  Speed\n",
      "\n",
      "  0     0    0     0    0     0      0      0 --:--:-- --:--:-- --:--:--     0\n",
      "  0     0    0     0    0     0      0      0 --:--:-- --:--:-- --:--:--     0\n",
      "100  649k  100  649k    0     0   543k      0  0:00:01  0:00:01 --:--:--  544k\n"
     ]
    },
    {
     "name": "stdout",
     "output_type": "stream",
     "text": [
      "238\n",
      "https://www.climatepolicyinitiative.org/pt-br/publication/decreto-no-9-760-2019-altera-regras-de-conversao-de-multa-ambiental-em-prestacao-de-servicos-ambientais/\n"
     ]
    },
    {
     "name": "stderr",
     "output_type": "stream",
     "text": [
      "  % Total    % Received % Xferd  Average Speed   Time    Time     Time  Current\n",
      "                                 Dload  Upload   Total   Spent    Left  Speed\n",
      "\n",
      "  0     0    0     0    0     0      0      0 --:--:-- --:--:-- --:--:--     0\n",
      "  2  627k    2 15990    0     0  18726      0  0:00:34 --:--:--  0:00:34 18767\n",
      "100  627k  100  627k    0     0   469k      0  0:00:01  0:00:01 --:--:--  470k\n"
     ]
    },
    {
     "name": "stdout",
     "output_type": "stream",
     "text": [
      "239\n",
      "https://www.climatepolicyinitiative.org/publication/combating-illegal-deforestation/\n"
     ]
    },
    {
     "name": "stderr",
     "output_type": "stream",
     "text": [
      "  % Total    % Received % Xferd  Average Speed   Time    Time     Time  Current\n",
      "                                 Dload  Upload   Total   Spent    Left  Speed\n",
      "\n",
      "  0     0    0     0    0     0      0      0 --:--:-- --:--:-- --:--:--     0\n",
      "  0     0    0     0    0     0      0      0 --:--:-- --:--:-- --:--:--     0\n",
      "100  428k  100  428k    0     0   375k      0  0:00:01  0:00:01 --:--:--  376k\n"
     ]
    },
    {
     "name": "stdout",
     "output_type": "stream",
     "text": [
      "240\n",
      "https://www.climatepolicyinitiative.org/pt-br/publication/oportunidades-economicas-para-o-cumprimento-das-metas-climaticas-do-pais/\n"
     ]
    },
    {
     "name": "stderr",
     "output_type": "stream",
     "text": [
      "  % Total    % Received % Xferd  Average Speed   Time    Time     Time  Current\n",
      "                                 Dload  Upload   Total   Spent    Left  Speed\n",
      "\n",
      "  0     0    0     0    0     0      0      0 --:--:-- --:--:-- --:--:--     0\n",
      "  0     0    0     0    0     0      0      0 --:--:-- --:--:-- --:--:--     0\n",
      " 18 6149k   18 1151k    0     0   653k      0  0:00:09  0:00:01  0:00:08  654k\n",
      " 47 6149k   47 2943k    0     0  1076k      0  0:00:05  0:00:02  0:00:03 1077k\n",
      "100 6149k  100 6149k    0     0  1726k      0  0:00:03  0:00:03 --:--:-- 1727k\n"
     ]
    },
    {
     "name": "stdout",
     "output_type": "stream",
     "text": [
      "241\n",
      "https://www.climatepolicyinitiative.org/publication/understanding-the-impact-of-a-low-carbon-transition-on-south-africa/\n"
     ]
    },
    {
     "name": "stderr",
     "output_type": "stream",
     "text": [
      "  % Total    % Received % Xferd  Average Speed   Time    Time     Time  Current\n",
      "                                 Dload  Upload   Total   Spent    Left  Speed\n",
      "\n",
      "  0     0    0     0    0     0      0      0 --:--:-- --:--:-- --:--:--     0\n",
      "  0     0    0     0    0     0      0      0 --:--:-- --:--:-- --:--:--     0\n",
      " 67  705k   67  479k    0     0   448k      0  0:00:01  0:00:01 --:--:--  449k\n",
      "100  705k  100  705k    0     0   627k      0  0:00:01  0:00:01 --:--:--  628k\n"
     ]
    },
    {
     "name": "stdout",
     "output_type": "stream",
     "text": [
      "242\n",
      "https://www.climatepolicyinitiative.org/publication/amendments-of-a-provisional-measure-threaten-the-implementation-of-brazils-new-forest-code/\n"
     ]
    },
    {
     "name": "stderr",
     "output_type": "stream",
     "text": [
      "  % Total    % Received % Xferd  Average Speed   Time    Time     Time  Current\n",
      "                                 Dload  Upload   Total   Spent    Left  Speed\n",
      "\n",
      "  0     0    0     0    0     0      0      0 --:--:-- --:--:-- --:--:--     0\n",
      "100   382    0   382    0     0    676      0 --:--:-- --:--:-- --:--:--   679\n"
     ]
    },
    {
     "name": "stdout",
     "output_type": "stream",
     "text": [
      "243\n",
      "https://www.climatepolicyinitiative.org/publication/developing-a-roadmap-to-a-flexible-low-carbon-indian-electricity-system-interim-findings/\n"
     ]
    },
    {
     "name": "stderr",
     "output_type": "stream",
     "text": [
      "  % Total    % Received % Xferd  Average Speed   Time    Time     Time  Current\n",
      "                                 Dload  Upload   Total   Spent    Left  Speed\n",
      "\n",
      "  0     0    0     0    0     0      0      0 --:--:-- --:--:-- --:--:--     0\n",
      "  0     0    0     0    0     0      0      0 --:--:-- --:--:-- --:--:--     0\n",
      "  7 7205k    7  575k    0     0   395k      0  0:00:18  0:00:01  0:00:17  396k\n",
      " 37 7205k   37 2735k    0     0  1160k      0  0:00:06  0:00:02  0:00:04 1161k\n",
      " 72 7205k   72 5215k    0     0  1554k      0  0:00:04  0:00:03  0:00:01 1555k\n",
      "100 7205k  100 7205k    0     0  1695k      0  0:00:04  0:00:04 --:--:-- 1696k\n"
     ]
    },
    {
     "name": "stdout",
     "output_type": "stream",
     "text": [
      "244\n",
      "https://www.climatepolicyinitiative.org/publication/the-land-use-finance-toolbox/\n",
      "245\n",
      "https://www.climatepolicyinitiative.org/publication/large-scale-reforestation-starting-with-public-lands-in-the-brazilian-amazon/\n"
     ]
    },
    {
     "name": "stderr",
     "output_type": "stream",
     "text": [
      "  % Total    % Received % Xferd  Average Speed   Time    Time     Time  Current\n",
      "                                 Dload  Upload   Total   Spent    Left  Speed\n",
      "\n",
      "  0     0    0     0    0     0      0      0 --:--:-- --:--:-- --:--:--     0\n",
      "  0     0    0     0    0     0      0      0 --:--:-- --:--:-- --:--:--     0\n",
      "100  853k  100  853k    0     0   596k      0  0:00:01  0:00:01 --:--:--  597k\n"
     ]
    },
    {
     "name": "stdout",
     "output_type": "stream",
     "text": [
      "246\n",
      "https://www.climatepolicyinitiative.org/publication/understanding-and-increasing-finance-for-climate-adaptation-in-developing-countries/\n"
     ]
    },
    {
     "name": "stderr",
     "output_type": "stream",
     "text": [
      "  % Total    % Received % Xferd  Average Speed   Time    Time     Time  Current\n",
      "                                 Dload  Upload   Total   Spent    Left  Speed\n",
      "\n",
      "  0     0    0     0    0     0      0      0 --:--:-- --:--:-- --:--:--     0\n",
      "  0     0    0     0    0     0      0      0 --:--:-- --:--:-- --:--:--     0\n",
      "100  307k  100  307k    0     0   265k      0  0:00:01  0:00:01 --:--:--  266k\n"
     ]
    },
    {
     "name": "stdout",
     "output_type": "stream",
     "text": [
      "247\n",
      "https://www.climatepolicyinitiative.org/publication/assessing-the-capital-costs-of-maximizing-sustainable-agricultural-production-in-brazil/\n"
     ]
    },
    {
     "name": "stderr",
     "output_type": "stream",
     "text": [
      "  % Total    % Received % Xferd  Average Speed   Time    Time     Time  Current\n",
      "                                 Dload  Upload   Total   Spent    Left  Speed\n",
      "\n",
      "  0     0    0     0    0     0      0      0 --:--:-- --:--:-- --:--:--     0\n",
      "  0     0    0     0    0     0      0      0 --:--:-- --:--:-- --:--:--     0\n",
      " 31 3020k   31  943k    0     0   677k      0  0:00:04  0:00:01  0:00:03  678k\n",
      " 97 3020k   97 2943k    0     0  1206k      0  0:00:02  0:00:02 --:--:-- 1207k\n",
      "100 3020k  100 3020k    0     0  1163k      0  0:00:02  0:00:02 --:--:-- 1164k\n"
     ]
    },
    {
     "name": "stdout",
     "output_type": "stream",
     "text": [
      "248\n",
      "https://www.climatepolicyinitiative.org/publication/financial-challenges-and-proposals-for-sustainable-production-in-brazil/\n"
     ]
    },
    {
     "name": "stderr",
     "output_type": "stream",
     "text": [
      "  % Total    % Received % Xferd  Average Speed   Time    Time     Time  Current\n",
      "                                 Dload  Upload   Total   Spent    Left  Speed\n",
      "\n",
      "  0     0    0     0    0     0      0      0 --:--:-- --:--:-- --:--:--     0\n",
      "  0     0    0     0    0     0      0      0 --:--:-- --:--:-- --:--:--     0\n",
      "  1 12.5M    1  159k    0     0   150k      0  0:01:25  0:00:01  0:01:24  150k\n",
      " 20 12.5M   20 2607k    0     0  1257k      0  0:00:10  0:00:02  0:00:08 1258k\n",
      " 42 12.5M   42 5439k    0     0  1776k      0  0:00:07  0:00:03  0:00:04 1777k\n",
      " 65 12.5M   65 8383k    0     0  2052k      0  0:00:06  0:00:04  0:00:02 2053k\n",
      " 92 12.5M   92 11.5M    0     0  2344k      0  0:00:05  0:00:05 --:--:-- 2451k\n",
      "100 12.5M  100 12.5M    0     0  2247k      0  0:00:05  0:00:05 --:--:-- 2728k\n"
     ]
    },
    {
     "name": "stdout",
     "output_type": "stream",
     "text": [
      "249\n",
      "https://www.climatepolicyinitiative.org/publication/global-climate-finance-an-updated-view-2018/\n"
     ]
    },
    {
     "name": "stderr",
     "output_type": "stream",
     "text": [
      "  % Total    % Received % Xferd  Average Speed   Time    Time     Time  Current\n",
      "                                 Dload  Upload   Total   Spent    Left  Speed\n",
      "\n",
      "  0     0    0     0    0     0      0      0 --:--:-- --:--:-- --:--:--     0\n",
      "  0     0    0     0    0     0      0      0 --:--:-- --:--:-- --:--:--     0\n",
      " 72  199k   72  143k    0     0   123k      0  0:00:01  0:00:01 --:--:--  123k\n",
      "100  199k  100  199k    0     0   165k      0  0:00:01  0:00:01 --:--:--  165k\n"
     ]
    },
    {
     "name": "stdout",
     "output_type": "stream",
     "text": [
      "250\n",
      "https://www.climatepolicyinitiative.org/publication/energizing-renewables-in-indonesia-optimizing-public-finance-levers-to-drive-private-investment/\n"
     ]
    },
    {
     "name": "stderr",
     "output_type": "stream",
     "text": [
      "  % Total    % Received % Xferd  Average Speed   Time    Time     Time  Current\n",
      "                                 Dload  Upload   Total   Spent    Left  Speed\n",
      "\n",
      "  0     0    0     0    0     0      0      0 --:--:-- --:--:-- --:--:--     0\n",
      "  0     0    0     0    0     0      0      0 --:--:-- --:--:-- --:--:--     0\n",
      "100  205k  100  205k    0     0   193k      0  0:00:01  0:00:01 --:--:--  193k\n"
     ]
    },
    {
     "name": "stdout",
     "output_type": "stream",
     "text": [
      "251\n",
      "https://www.climatepolicyinitiative.org/publication/understanding-the-landscape-2018-tracking-finance-for-electricity-and-clean-cooking-access-in-high-impact-countries/\n"
     ]
    },
    {
     "name": "stderr",
     "output_type": "stream",
     "text": [
      "  % Total    % Received % Xferd  Average Speed   Time    Time     Time  Current\n",
      "                                 Dload  Upload   Total   Spent    Left  Speed\n",
      "\n",
      "  0     0    0     0    0     0      0      0 --:--:-- --:--:-- --:--:--     0\n",
      "  0     0    0     0    0     0      0      0 --:--:-- --:--:-- --:--:--     0\n",
      "100 3168k  100 3168k    0     0  1791k      0  0:00:01  0:00:01 --:--:-- 1794k\n"
     ]
    },
    {
     "name": "stdout",
     "output_type": "stream",
     "text": [
      "252\n",
      "https://www.climatepolicyinitiative.org/publication/ensuring-greener-economic-growth-for-brazil/\n"
     ]
    },
    {
     "name": "stderr",
     "output_type": "stream",
     "text": [
      "  % Total    % Received % Xferd  Average Speed   Time    Time     Time  Current\n",
      "                                 Dload  Upload   Total   Spent    Left  Speed\n",
      "\n",
      "  0     0    0     0    0     0      0      0 --:--:-- --:--:-- --:--:--     0\n",
      "  0     0    0     0    0     0      0      0 --:--:-- --:--:-- --:--:--     0\n",
      "  6 31.1M    6 2207k    0     0  1438k      0  0:00:22  0:00:01  0:00:21 1440k\n",
      " 16 31.1M   16 5391k    0     0  2123k      0  0:00:15  0:00:02  0:00:13 2125k\n",
      " 27 31.1M   27 8831k    0     0  2468k      0  0:00:12  0:00:03  0:00:09 2469k\n",
      " 44 31.1M   44 13.7M    0     0  3025k      0  0:00:10  0:00:04  0:00:06 3026k\n",
      " 54 31.1M   54 16.9M    0     0  3136k      0  0:00:10  0:00:05  0:00:05 3476k\n",
      " 74 31.1M   74 23.1M    0     0  3590k      0  0:00:08  0:00:06  0:00:02 4244k\n",
      " 89 31.1M   89 27.9M    0     0  3745k      0  0:00:08  0:00:07  0:00:01 4553k\n",
      "100 31.1M  100 31.1M    0     0  3957k      0  0:00:08  0:00:08 --:--:-- 5144k\n"
     ]
    },
    {
     "name": "stdout",
     "output_type": "stream",
     "text": [
      "253\n",
      "https://www.climatepolicyinitiative.org/publication/drivers-and-challenges-for-rooftop-solar-loans-to-small-and-medium-enterprises/\n"
     ]
    },
    {
     "name": "stderr",
     "output_type": "stream",
     "text": [
      "  % Total    % Received % Xferd  Average Speed   Time    Time     Time  Current\n",
      "                                 Dload  Upload   Total   Spent    Left  Speed\n",
      "\n",
      "  0     0    0     0    0     0      0      0 --:--:-- --:--:-- --:--:--     0\n",
      "  0     0    0     0    0     0      0      0 --:--:-- --:--:-- --:--:--     0\n",
      "100  205k  100  205k    0     0   215k      0 --:--:-- --:--:-- --:--:--  215k\n"
     ]
    },
    {
     "name": "stdout",
     "output_type": "stream",
     "text": [
      "254\n",
      "https://www.climatepolicyinitiative.org/publication/empowering-oil-palm-smallholder-farmers-through-alternative-livelihoods-a-business-case-study-of-beef-cattle-farming-and-fish-cultivation-in-central-kalimantan/\n"
     ]
    },
    {
     "name": "stderr",
     "output_type": "stream",
     "text": [
      "  % Total    % Received % Xferd  Average Speed   Time    Time     Time  Current\n",
      "                                 Dload  Upload   Total   Spent    Left  Speed\n",
      "\n",
      "  0     0    0     0    0     0      0      0 --:--:-- --:--:-- --:--:--     0\n",
      "  0     0    0     0    0     0      0      0 --:--:-- --:--:-- --:--:--     0\n",
      "100  316k  100  316k    0     0   301k      0  0:00:01  0:00:01 --:--:--  302k\n"
     ]
    },
    {
     "name": "stdout",
     "output_type": "stream",
     "text": [
      "255\n",
      "https://www.climatepolicyinitiative.org/publication/the-lab-2017-2018-cycle-instrument-analysis/\n"
     ]
    },
    {
     "name": "stderr",
     "output_type": "stream",
     "text": [
      "  % Total    % Received % Xferd  Average Speed   Time    Time     Time  Current\n",
      "                                 Dload  Upload   Total   Spent    Left  Speed\n",
      "\n",
      "  0     0    0     0    0     0      0      0 --:--:-- --:--:-- --:--:--     0\n",
      "  0     0    0     0    0     0      0      0 --:--:-- --:--:-- --:--:--     0\n",
      "100  854k  100  854k    0     0   700k      0  0:00:01  0:00:01 --:--:--  701k\n"
     ]
    },
    {
     "name": "stdout",
     "output_type": "stream",
     "text": [
      "256\n",
      "https://www.climatepolicyinitiative.org/publication/credit-support-pathways-for-rooftop-solar-projects-in-india/\n"
     ]
    },
    {
     "name": "stderr",
     "output_type": "stream",
     "text": [
      "  % Total    % Received % Xferd  Average Speed   Time    Time     Time  Current\n",
      "                                 Dload  Upload   Total   Spent    Left  Speed\n",
      "\n",
      "  0     0    0     0    0     0      0      0 --:--:-- --:--:-- --:--:--     0\n",
      "  0     0    0     0    0     0      0      0 --:--:-- --:--:-- --:--:--     0\n",
      "100  480k  100  480k    0     0   397k      0  0:00:01  0:00:01 --:--:--  398k\n"
     ]
    },
    {
     "name": "stdout",
     "output_type": "stream",
     "text": [
      "257\n",
      "https://www.climatepolicyinitiative.org/publication/the-dynamics-of-agricultural-technology-adoption-in-brazil/\n"
     ]
    },
    {
     "name": "stderr",
     "output_type": "stream",
     "text": [
      "  % Total    % Received % Xferd  Average Speed   Time    Time     Time  Current\n",
      "                                 Dload  Upload   Total   Spent    Left  Speed\n",
      "\n",
      "  0     0    0     0    0     0      0      0 --:--:-- --:--:-- --:--:--     0\n",
      "  0     0    0     0    0     0      0      0 --:--:-- --:--:-- --:--:--     0\n",
      " 72  487k   72  351k    0     0   186k      0  0:00:02  0:00:01  0:00:01  186k\n",
      "100  487k  100  487k    0     0   235k      0  0:00:02  0:00:02 --:--:--  235k\n"
     ]
    },
    {
     "name": "stdout",
     "output_type": "stream",
     "text": [
      "258\n",
      "https://www.climatepolicyinitiative.org/publication/responsible-commodities-facility/\n"
     ]
    },
    {
     "name": "stderr",
     "output_type": "stream",
     "text": [
      "  % Total    % Received % Xferd  Average Speed   Time    Time     Time  Current\n",
      "                                 Dload  Upload   Total   Spent    Left  Speed\n",
      "\n",
      "  0     0    0     0    0     0      0      0 --:--:-- --:--:-- --:--:--     0\n",
      " 12  126k   12 15990    0     0  19296      0  0:00:06 --:--:--  0:00:06 19334\n",
      "100  126k  100  126k    0     0   131k      0 --:--:-- --:--:-- --:--:--  131k\n"
     ]
    },
    {
     "name": "stdout",
     "output_type": "stream",
     "text": [
      "259\n",
      "https://www.climatepolicyinitiative.org/publication/caapora-the-socio-climate-benefits-fund/\n"
     ]
    },
    {
     "name": "stderr",
     "output_type": "stream",
     "text": [
      "  % Total    % Received % Xferd  Average Speed   Time    Time     Time  Current\n",
      "                                 Dload  Upload   Total   Spent    Left  Speed\n",
      "\n",
      "  0     0    0     0    0     0      0      0 --:--:-- --:--:-- --:--:--     0\n",
      "  0     0    0     0    0     0      0      0 --:--:-- --:--:-- --:--:--     0\n",
      "100   377    0   377    0     0    633      0 --:--:-- --:--:-- --:--:--   634\n"
     ]
    },
    {
     "name": "stdout",
     "output_type": "stream",
     "text": [
      "260\n",
      "https://www.climatepolicyinitiative.org/publication/smallholder-forestry-vehicle-2/\n"
     ]
    },
    {
     "name": "stderr",
     "output_type": "stream",
     "text": [
      "  % Total    % Received % Xferd  Average Speed   Time    Time     Time  Current\n",
      "                                 Dload  Upload   Total   Spent    Left  Speed\n",
      "\n",
      "  0     0    0     0    0     0      0      0 --:--:-- --:--:-- --:--:--     0\n",
      "  8  928k    8 81526    0     0  94561      0  0:00:10 --:--:--  0:00:10 94687\n",
      "100  928k  100  928k    0     0   781k      0  0:00:01  0:00:01 --:--:--  782k\n"
     ]
    },
    {
     "name": "stdout",
     "output_type": "stream",
     "text": [
      "261\n",
      "https://www.climatepolicyinitiative.org/publication/green-aggregation-tech-enterprise-gate/\n"
     ]
    },
    {
     "name": "stderr",
     "output_type": "stream",
     "text": [
      "  % Total    % Received % Xferd  Average Speed   Time    Time     Time  Current\n",
      "                                 Dload  Upload   Total   Spent    Left  Speed\n",
      "\n",
      "  0     0    0     0    0     0      0      0 --:--:-- --:--:-- --:--:--     0\n",
      "  0     0    0     0    0     0      0      0 --:--:-- --:--:-- --:--:--     0\n",
      "100 1308k  100 1308k    0     0   935k      0  0:00:01  0:00:01 --:--:--  937k\n"
     ]
    },
    {
     "name": "stdout",
     "output_type": "stream",
     "text": [
      "262\n",
      "https://www.climatepolicyinitiative.org/publication/pay-as-you-save-for-clean-transport/\n"
     ]
    },
    {
     "name": "stderr",
     "output_type": "stream",
     "text": [
      "  % Total    % Received % Xferd  Average Speed   Time    Time     Time  Current\n",
      "                                 Dload  Upload   Total   Spent    Left  Speed\n",
      "\n",
      "  0     0    0     0    0     0      0      0 --:--:-- --:--:-- --:--:--     0\n",
      "  0     0    0     0    0     0      0      0 --:--:-- --:--:-- --:--:--     0\n",
      " 48  695k   48  335k    0     0   294k      0  0:00:02  0:00:01  0:00:01  294k\n",
      "100  695k  100  695k    0     0   522k      0  0:00:01  0:00:01 --:--:--  523k\n"
     ]
    },
    {
     "name": "stdout",
     "output_type": "stream",
     "text": [
      "263\n",
      "https://www.climatepolicyinitiative.org/publication/the-residential-rooftop-solar-accelerator/\n"
     ]
    },
    {
     "name": "stderr",
     "output_type": "stream",
     "text": [
      "  % Total    % Received % Xferd  Average Speed   Time    Time     Time  Current\n",
      "                                 Dload  Upload   Total   Spent    Left  Speed\n",
      "\n",
      "  0     0    0     0    0     0      0      0 --:--:-- --:--:-- --:--:--     0\n",
      "  0     0    0     0    0     0      0      0 --:--:-- --:--:-- --:--:--     0\n",
      "100  924k  100  924k    0     0   724k      0  0:00:01  0:00:01 --:--:--  726k\n"
     ]
    },
    {
     "name": "stdout",
     "output_type": "stream",
     "text": [
      "264\n",
      "https://www.climatepolicyinitiative.org/publication/battery-subscription-facility/\n"
     ]
    },
    {
     "name": "stderr",
     "output_type": "stream",
     "text": [
      "  % Total    % Received % Xferd  Average Speed   Time    Time     Time  Current\n",
      "                                 Dload  Upload   Total   Spent    Left  Speed\n",
      "\n",
      "  0     0    0     0    0     0      0      0 --:--:-- --:--:-- --:--:--     0\n",
      "  0     0    0     0    0     0      0      0 --:--:-- --:--:-- --:--:--     0\n",
      "100  173k  100  173k    0     0   184k      0 --:--:-- --:--:-- --:--:--  184k\n"
     ]
    },
    {
     "name": "stdout",
     "output_type": "stream",
     "text": [
      "265\n",
      "https://www.climatepolicyinitiative.org/publication/challenges-and-opportunities-of-energy-efficiency-a-look-at-brazilian-industry/\n"
     ]
    },
    {
     "name": "stderr",
     "output_type": "stream",
     "text": [
      "  % Total    % Received % Xferd  Average Speed   Time    Time     Time  Current\n",
      "                                 Dload  Upload   Total   Spent    Left  Speed\n",
      "\n",
      "  0     0    0     0    0     0      0      0 --:--:-- --:--:-- --:--:--     0\n",
      "  0     0    0     0    0     0      0      0 --:--:-- --:--:-- --:--:--     0\n",
      "100  139k  100  139k    0     0   149k      0 --:--:-- --:--:-- --:--:--  150k\n"
     ]
    },
    {
     "name": "stdout",
     "output_type": "stream",
     "text": [
      "266\n",
      "https://www.climatepolicyinitiative.org/publication/smallholder-forestry-vehicle/\n"
     ]
    },
    {
     "name": "stderr",
     "output_type": "stream",
     "text": [
      "  % Total    % Received % Xferd  Average Speed   Time    Time     Time  Current\n",
      "                                 Dload  Upload   Total   Spent    Left  Speed\n",
      "\n",
      "  0     0    0     0    0     0      0      0 --:--:-- --:--:-- --:--:--     0\n",
      "  5  928k    5 48758    0     0  55666      0  0:00:17 --:--:--  0:00:17 55787\n",
      "100  928k  100  928k    0     0   602k      0  0:00:01  0:00:01 --:--:--  603k\n"
     ]
    },
    {
     "name": "stdout",
     "output_type": "stream",
     "text": [
      "267\n",
      "https://www.climatepolicyinitiative.org/publication/financing-for-low-carbon-auto-rickshaws/\n"
     ]
    },
    {
     "name": "stderr",
     "output_type": "stream",
     "text": [
      "  % Total    % Received % Xferd  Average Speed   Time    Time     Time  Current\n",
      "                                 Dload  Upload   Total   Spent    Left  Speed\n",
      "\n",
      "  0     0    0     0    0     0      0      0 --:--:-- --:--:-- --:--:--     0\n",
      "  0     0    0     0    0     0      0      0 --:--:-- --:--:-- --:--:--     0\n",
      "100  465k  100  465k    0     0   383k      0  0:00:01  0:00:01 --:--:--  384k\n"
     ]
    },
    {
     "name": "stdout",
     "output_type": "stream",
     "text": [
      "268\n",
      "https://www.climatepolicyinitiative.org/publication/popluz-distributed-energy-for-social-housing-desh/\n"
     ]
    },
    {
     "name": "stderr",
     "output_type": "stream",
     "text": [
      "  % Total    % Received % Xferd  Average Speed   Time    Time     Time  Current\n",
      "                                 Dload  Upload   Total   Spent    Left  Speed\n",
      "\n",
      "  0     0    0     0    0     0      0      0 --:--:-- --:--:-- --:--:--     0\n",
      "  0     0    0     0    0     0      0      0 --:--:-- --:--:-- --:--:--     0\n",
      " 95  854k   95  815k    0     0   570k      0  0:00:01  0:00:01 --:--:--  571k\n",
      "100  854k  100  854k    0     0   570k      0  0:00:01  0:00:01 --:--:--  570k\n"
     ]
    },
    {
     "name": "stdout",
     "output_type": "stream",
     "text": [
      "269\n",
      "https://www.climatepolicyinitiative.org/publication/climate-investment-research-collaborative-on-long-term-effectiveness-circle/\n"
     ]
    },
    {
     "name": "stderr",
     "output_type": "stream",
     "text": [
      "  % Total    % Received % Xferd  Average Speed   Time    Time     Time  Current\n",
      "                                 Dload  Upload   Total   Spent    Left  Speed\n",
      "\n",
      "  0     0    0     0    0     0      0      0 --:--:-- --:--:-- --:--:--     0\n",
      "  0     0    0     0    0     0      0      0 --:--:-- --:--:-- --:--:--     0\n",
      "100  403k  100  403k    0     0   324k      0  0:00:01  0:00:01 --:--:--  325k\n"
     ]
    },
    {
     "name": "stdout",
     "output_type": "stream",
     "text": [
      "270\n",
      "https://www.climatepolicyinitiative.org/publication/towards-a-more-sustainable-and-efficient-palm-oil-supply-chain-in-berau-east-kalimantan/\n"
     ]
    },
    {
     "name": "stderr",
     "output_type": "stream",
     "text": [
      "  % Total    % Received % Xferd  Average Speed   Time    Time     Time  Current\n",
      "                                 Dload  Upload   Total   Spent    Left  Speed\n",
      "\n",
      "  0     0    0     0    0     0      0      0 --:--:-- --:--:-- --:--:--     0\n",
      "  0 7576k    0 15989    0     0  16909      0  0:07:38 --:--:--  0:07:38 16937\n",
      " 38 7576k   38 2927k    0     0  1498k      0  0:00:05  0:00:01  0:00:04 1499k\n",
      " 86 7576k   86 6527k    0     0  2118k      0  0:00:03  0:00:03 --:--:-- 2120k\n",
      "100 7576k  100 7576k    0     0  2370k      0  0:00:03  0:00:03 --:--:-- 2372k\n"
     ]
    },
    {
     "name": "stdout",
     "output_type": "stream",
     "text": [
      "271\n",
      "https://www.climatepolicyinitiative.org/publication/the-fragmented-rules-of-brazilian-rural-credit/\n"
     ]
    },
    {
     "name": "stderr",
     "output_type": "stream",
     "text": [
      "  % Total    % Received % Xferd  Average Speed   Time    Time     Time  Current\n",
      "                                 Dload  Upload   Total   Spent    Left  Speed\n",
      "\n",
      "  0     0    0     0    0     0      0      0 --:--:-- --:--:-- --:--:--     0\n",
      "  0     0    0     0    0     0      0      0 --:--:-- --:--:-- --:--:--     0\n",
      "  1 40.5M    1  591k    0     0   451k      0  0:01:31  0:00:01  0:01:30  451k\n",
      "  9 40.5M    9 3951k    0     0  1709k      0  0:00:24  0:00:02  0:00:22 1710k\n",
      " 15 40.5M   15 6559k    0     0  1954k      0  0:00:21  0:00:03  0:00:18 1955k\n",
      " 29 40.5M   29 11.8M    0     0  2810k      0  0:00:14  0:00:04  0:00:10 2811k\n",
      " 38 40.5M   38 15.4M    0     0  2981k      0  0:00:13  0:00:05  0:00:08 3196k\n",
      " 49 40.5M   49 20.1M    0     0  3264k      0  0:00:12  0:00:06  0:00:06 4002k\n",
      " 60 40.5M   60 24.3M    0     0  3404k      0  0:00:12  0:00:07  0:00:05 4187k\n",
      " 71 40.5M   71 28.8M    0     0  3463k      0  0:00:11  0:00:08  0:00:03 4439k\n",
      " 77 40.5M   77 31.3M    0     0  3403k      0  0:00:12  0:00:09  0:00:03 3906k\n",
      " 89 40.5M   89 36.2M    0     0  3600k      0  0:00:11  0:00:10  0:00:01 4259k\n",
      " 95 40.5M   95 38.7M    0     0  3501k      0  0:00:11  0:00:11 --:--:-- 3798k\n",
      "100 40.5M  100 40.5M    0     0  3598k      0  0:00:11  0:00:11 --:--:-- 3935k\n"
     ]
    },
    {
     "name": "stdout",
     "output_type": "stream",
     "text": [
      "272\n",
      "https://www.climatepolicyinitiative.org/publication/transitional-foreign-exchange-debt-platform-paths-to-enable-foreign-currency-debt-to-the-rooftop-solar-sector-in-india/\n"
     ]
    },
    {
     "name": "stderr",
     "output_type": "stream",
     "text": [
      "  % Total    % Received % Xferd  Average Speed   Time    Time     Time  Current\n",
      "                                 Dload  Upload   Total   Spent    Left  Speed\n",
      "\n",
      "  0     0    0     0    0     0      0      0 --:--:-- --:--:-- --:--:--     0\n",
      "  0     0    0     0    0     0      0      0 --:--:-- --:--:-- --:--:--     0\n",
      " 70  431k   70  303k    0     0   290k      0  0:00:01  0:00:01 --:--:--  290k\n",
      "100  431k  100  431k    0     0   368k      0  0:00:01  0:00:01 --:--:--  369k\n"
     ]
    },
    {
     "name": "stdout",
     "output_type": "stream",
     "text": [
      "273\n",
      "https://www.climatepolicyinitiative.org/publication/designing-technical-assistance-activities-for-adaptation-and-resilience-companies/\n"
     ]
    },
    {
     "name": "stderr",
     "output_type": "stream",
     "text": [
      "  % Total    % Received % Xferd  Average Speed   Time    Time     Time  Current\n",
      "                                 Dload  Upload   Total   Spent    Left  Speed\n",
      "\n",
      "  0     0    0     0    0     0      0      0 --:--:-- --:--:-- --:--:--     0\n",
      " 26  416k   26  111k    0     0   112k      0  0:00:03 --:--:--  0:00:03  112k\n",
      "100  416k  100  416k    0     0   357k      0  0:00:01  0:00:01 --:--:--  358k\n"
     ]
    },
    {
     "name": "stdout",
     "output_type": "stream",
     "text": [
      "274\n",
      "https://www.climatepolicyinitiative.org/publication/an-assessment-of-indias-energy-choices/\n"
     ]
    },
    {
     "name": "stderr",
     "output_type": "stream",
     "text": [
      "  % Total    % Received % Xferd  Average Speed   Time    Time     Time  Current\n",
      "                                 Dload  Upload   Total   Spent    Left  Speed\n",
      "\n",
      "  0     0    0     0    0     0      0      0 --:--:-- --:--:-- --:--:--     0\n",
      "  0     0    0     0    0     0      0      0 --:--:-- --:--:-- --:--:--     0\n",
      "100 88335  100 88335    0     0  91357      0 --:--:-- --:--:-- --:--:-- 91538\n"
     ]
    },
    {
     "name": "stdout",
     "output_type": "stream",
     "text": [
      "275\n",
      "https://www.climatepolicyinitiative.org/publication/addressing-off-taker-risk-in-renewable-projects-in-india-a-framework-for-designing-a-payment-security-mechanism-as-a-credit-enhancement-device/\n"
     ]
    },
    {
     "name": "stderr",
     "output_type": "stream",
     "text": [
      "  % Total    % Received % Xferd  Average Speed   Time    Time     Time  Current\n",
      "                                 Dload  Upload   Total   Spent    Left  Speed\n",
      "\n",
      "  0     0    0     0    0     0      0      0 --:--:-- --:--:-- --:--:--     0\n",
      " 26  239k   26 65142    0     0  71415      0  0:00:03 --:--:--  0:00:03 71506\n",
      "100  239k  100  239k    0     0   230k      0  0:00:01  0:00:01 --:--:--  230k\n"
     ]
    },
    {
     "name": "stdout",
     "output_type": "stream",
     "text": [
      "276\n",
      "https://www.climatepolicyinitiative.org/publication/indonesias-village-fund-an-important-lever-for-better-land-use-and-economic-growth-at-the-local-level/\n"
     ]
    },
    {
     "name": "stderr",
     "output_type": "stream",
     "text": [
      "  % Total    % Received % Xferd  Average Speed   Time    Time     Time  Current\n",
      "                                 Dload  Upload   Total   Spent    Left  Speed\n",
      "\n",
      "  0     0    0     0    0     0      0      0 --:--:-- --:--:-- --:--:--     0\n",
      "100   422    0   422    0     0    738      0 --:--:-- --:--:-- --:--:--   741\n"
     ]
    },
    {
     "name": "stdout",
     "output_type": "stream",
     "text": [
      "277\n",
      "https://www.climatepolicyinitiative.org/publication/approaches-to-assess-the-additionality-of-climate-investments-findings-from-the-evaluation-of-the-climate-public-private-partnership-programme-cp3/\n"
     ]
    },
    {
     "name": "stderr",
     "output_type": "stream",
     "text": [
      "  % Total    % Received % Xferd  Average Speed   Time    Time     Time  Current\n",
      "                                 Dload  Upload   Total   Spent    Left  Speed\n",
      "\n",
      "  0     0    0     0    0     0      0      0 --:--:-- --:--:-- --:--:--     0\n",
      "  0     0    0     0    0     0      0      0 --:--:-- --:--:-- --:--:--     0\n",
      " 43  404k   43  175k    0     0   149k      0  0:00:02  0:00:01  0:00:01  149k\n",
      "100  404k  100  404k    0     0   290k      0  0:00:01  0:00:01 --:--:--  290k\n"
     ]
    },
    {
     "name": "stdout",
     "output_type": "stream",
     "text": [
      "278\n",
      "https://www.climatepolicyinitiative.org/publication/the-brazilian-forest-code-finally-can-be-implemented-whats-next/\n"
     ]
    },
    {
     "name": "stderr",
     "output_type": "stream",
     "text": [
      "  % Total    % Received % Xferd  Average Speed   Time    Time     Time  Current\n",
      "                                 Dload  Upload   Total   Spent    Left  Speed\n",
      "\n",
      "  0     0    0     0    0     0      0      0 --:--:-- --:--:-- --:--:--     0\n",
      "  0     0    0     0    0     0      0      0 --:--:-- --:--:-- --:--:--     0\n",
      "100  612k  100  612k    0     0   493k      0  0:00:01  0:00:01 --:--:--  494k\n"
     ]
    },
    {
     "name": "stdout",
     "output_type": "stream",
     "text": [
      "279\n",
      "https://www.climatepolicyinitiative.org/publication/getting-to-indias-renewable-energy-targets-a-business-case-for-institutional-investment/\n"
     ]
    },
    {
     "name": "stderr",
     "output_type": "stream",
     "text": [
      "  % Total    % Received % Xferd  Average Speed   Time    Time     Time  Current\n",
      "                                 Dload  Upload   Total   Spent    Left  Speed\n",
      "\n",
      "  0     0    0     0    0     0      0      0 --:--:-- --:--:-- --:--:--     0\n",
      "  0     0    0     0    0     0      0      0 --:--:-- --:--:-- --:--:--     0\n",
      "100  265k  100  265k    0     0   259k      0  0:00:01  0:00:01 --:--:--  260k\n"
     ]
    },
    {
     "name": "stdout",
     "output_type": "stream",
     "text": [
      "280\n",
      "https://www.climatepolicyinitiative.org/publication/supporting-the-momentum-of-paris-a-systems-approach-to-accelerating-climate-finance/\n"
     ]
    },
    {
     "name": "stderr",
     "output_type": "stream",
     "text": [
      "  % Total    % Received % Xferd  Average Speed   Time    Time     Time  Current\n",
      "                                 Dload  Upload   Total   Spent    Left  Speed\n",
      "\n",
      "  0     0    0     0    0     0      0      0 --:--:-- --:--:-- --:--:--     0\n",
      "  0     0    0     0    0     0      0      0 --:--:-- --:--:-- --:--:--     0\n",
      " 25  431k   25  111k    0     0   103k      0  0:00:04  0:00:01  0:00:03  103k\n",
      "100  431k  100  431k    0     0   308k      0  0:00:01  0:00:01 --:--:--  308k\n"
     ]
    },
    {
     "name": "stdout",
     "output_type": "stream",
     "text": [
      "281\n",
      "https://www.climatepolicyinitiative.org/pt-br/publication/decisao-do-stf-sobre-o-novo-codigo-florestal-enfraquece-a-cota-de-reserva-ambiental-cra/\n"
     ]
    },
    {
     "name": "stderr",
     "output_type": "stream",
     "text": [
      "  % Total    % Received % Xferd  Average Speed   Time    Time     Time  Current\n",
      "                                 Dload  Upload   Total   Spent    Left  Speed\n",
      "\n",
      "  0     0    0     0    0     0      0      0 --:--:-- --:--:-- --:--:--     0\n",
      "100   418    0   418    0     0    612      0 --:--:-- --:--:-- --:--:--   613\n",
      "100   418    0   418    0     0    612      0 --:--:-- --:--:-- --:--:--   613\n"
     ]
    },
    {
     "name": "stdout",
     "output_type": "stream",
     "text": [
      "282\n",
      "https://www.climatepolicyinitiative.org/pt-br/publication/nota-tecnica-sobre-o-julgamento-do-novo-codigo-florestal/\n"
     ]
    },
    {
     "name": "stderr",
     "output_type": "stream",
     "text": [
      "  % Total    % Received % Xferd  Average Speed   Time    Time     Time  Current\n",
      "                                 Dload  Upload   Total   Spent    Left  Speed\n",
      "\n",
      "  0     0    0     0    0     0      0      0 --:--:-- --:--:-- --:--:--     0\n",
      "  0     0    0     0    0     0      0      0 --:--:-- --:--:-- --:--:--     0\n",
      "100  584k  100  584k    0     0   431k      0  0:00:01  0:00:01 --:--:--  432k\n"
     ]
    },
    {
     "name": "stdout",
     "output_type": "stream",
     "text": [
      "283\n",
      "https://www.climatepolicyinitiative.org/publication/distribution-channels-rural-credit/\n"
     ]
    },
    {
     "name": "stderr",
     "output_type": "stream",
     "text": [
      "  % Total    % Received % Xferd  Average Speed   Time    Time     Time  Current\n",
      "                                 Dload  Upload   Total   Spent    Left  Speed\n",
      "\n",
      "  0     0    0     0    0     0      0      0 --:--:-- --:--:-- --:--:--     0\n",
      "  0     0    0     0    0     0      0      0 --:--:-- --:--:-- --:--:--     0\n",
      " 25 1655k   25  415k    0     0   343k      0  0:00:04  0:00:01  0:00:03  344k\n",
      "100 1655k  100 1655k    0     0  1018k      0  0:00:01  0:00:01 --:--:-- 1019k\n"
     ]
    },
    {
     "name": "stdout",
     "output_type": "stream",
     "text": [
      "284\n",
      "https://www.climatepolicyinitiative.org/publication/scaling-rooftop-solar-power-india-potential-solar-municipal-bonds/\n"
     ]
    },
    {
     "name": "stderr",
     "output_type": "stream",
     "text": [
      "  % Total    % Received % Xferd  Average Speed   Time    Time     Time  Current\n",
      "                                 Dload  Upload   Total   Spent    Left  Speed\n",
      "\n",
      "  0     0    0     0    0     0      0      0 --:--:-- --:--:-- --:--:--     0\n",
      "  0     0    0     0    0     0      0      0 --:--:-- --:--:-- --:--:--     0\n",
      "100  257k  100  257k    0     0   270k      0 --:--:-- --:--:-- --:--:--  270k\n"
     ]
    },
    {
     "name": "stdout",
     "output_type": "stream",
     "text": [
      "285\n",
      "https://www.climatepolicyinitiative.org/publication/blended-finance-clean-energy-experiences-opportunities/\n"
     ]
    },
    {
     "name": "stderr",
     "output_type": "stream",
     "text": [
      "  % Total    % Received % Xferd  Average Speed   Time    Time     Time  Current\n",
      "                                 Dload  Upload   Total   Spent    Left  Speed\n",
      "\n",
      "  0     0    0     0    0     0      0      0 --:--:-- --:--:-- --:--:--     0\n",
      "  0     0    0     0    0     0      0      0 --:--:-- --:--:-- --:--:--     0\n",
      "100  315k  100  315k    0     0   310k      0  0:00:01  0:00:01 --:--:--  311k\n"
     ]
    },
    {
     "name": "stdout",
     "output_type": "stream",
     "text": [
      "286\n",
      "https://www.climatepolicyinitiative.org/publication/global-landscape-renewable-energy-finance-2018/\n",
      "287\n",
      "https://www.climatepolicyinitiative.org/pt-br/publication/comentarios-ao-voto-do-ministro-luiz-fux-adis-codigo-florestal/\n"
     ]
    },
    {
     "name": "stderr",
     "output_type": "stream",
     "text": [
      "  % Total    % Received % Xferd  Average Speed   Time    Time     Time  Current\n",
      "                                 Dload  Upload   Total   Spent    Left  Speed\n",
      "\n",
      "  0     0    0     0    0     0      0      0 --:--:-- --:--:-- --:--:--     0\n",
      " 17  620k   17  111k    0     0   116k      0  0:00:05 --:--:--  0:00:05  116k\n",
      "100  620k  100  620k    0     0   519k      0  0:00:01  0:00:01 --:--:--  520k\n"
     ]
    },
    {
     "name": "stdout",
     "output_type": "stream",
     "text": [
      "288\n",
      "https://www.climatepolicyinitiative.org/publication/recent-hydropower-plants-brazil-lead-varying-local-economics-effects/\n"
     ]
    },
    {
     "name": "stderr",
     "output_type": "stream",
     "text": [
      "  % Total    % Received % Xferd  Average Speed   Time    Time     Time  Current\n",
      "                                 Dload  Upload   Total   Spent    Left  Speed\n",
      "\n",
      "  0     0    0     0    0     0      0      0 --:--:-- --:--:-- --:--:--     0\n",
      "  0     0    0     0    0     0      0      0 --:--:-- --:--:-- --:--:--     0\n",
      "100  632k  100  632k    0     0   468k      0  0:00:01  0:00:01 --:--:--  469k\n"
     ]
    },
    {
     "name": "stdout",
     "output_type": "stream",
     "text": [
      "289\n",
      "https://www.climatepolicyinitiative.org/publication/global-landscape-of-climate-finance-2017/\n"
     ]
    },
    {
     "name": "stderr",
     "output_type": "stream",
     "text": [
      "  % Total    % Received % Xferd  Average Speed   Time    Time     Time  Current\n",
      "                                 Dload  Upload   Total   Spent    Left  Speed\n",
      "\n",
      "  0     0    0     0    0     0      0      0 --:--:-- --:--:-- --:--:--     0\n",
      "  0     0    0     0    0     0      0      0 --:--:-- --:--:-- --:--:--     0\n",
      " 86  741k   86  639k    0     0   501k      0  0:00:01  0:00:01 --:--:--  502k\n",
      "100  741k  100  741k    0     0   559k      0  0:00:01  0:00:01 --:--:--  559k\n"
     ]
    },
    {
     "name": "stdout",
     "output_type": "stream",
     "text": [
      "290\n",
      "https://www.climatepolicyinitiative.org/publication/forest-land-use-policies-private-lands-international-comparison/\n"
     ]
    },
    {
     "name": "stderr",
     "output_type": "stream",
     "text": [
      "  % Total    % Received % Xferd  Average Speed   Time    Time     Time  Current\n",
      "                                 Dload  Upload   Total   Spent    Left  Speed\n",
      "\n",
      "  0     0    0     0    0     0      0      0 --:--:-- --:--:-- --:--:--     0\n",
      "  6  768k    6 48758    0     0  58207      0  0:00:13 --:--:--  0:00:13 58322\n",
      "100  768k  100  768k    0     0   583k      0  0:00:01  0:00:01 --:--:--  584k\n"
     ]
    },
    {
     "name": "stdout",
     "output_type": "stream",
     "text": [
      "291\n",
      "https://www.climatepolicyinitiative.org/publication/developing-brazils-market-distributed-solar-generation/\n"
     ]
    },
    {
     "name": "stderr",
     "output_type": "stream",
     "text": [
      "  % Total    % Received % Xferd  Average Speed   Time    Time     Time  Current\n",
      "                                 Dload  Upload   Total   Spent    Left  Speed\n",
      "\n",
      "  0     0    0     0    0     0      0      0 --:--:-- --:--:-- --:--:--     0\n",
      "100   393    0   393    0     0    666      0 --:--:-- --:--:-- --:--:--   669\n"
     ]
    },
    {
     "name": "stdout",
     "output_type": "stream",
     "text": [
      "292\n",
      "https://www.climatepolicyinitiative.org/publication/markets-low-carbon-low-cost-electricity-systems-working-paper/\n"
     ]
    },
    {
     "name": "stderr",
     "output_type": "stream",
     "text": [
      "  % Total    % Received % Xferd  Average Speed   Time    Time     Time  Current\n",
      "                                 Dload  Upload   Total   Spent    Left  Speed\n",
      "\n",
      "  0     0    0     0    0     0      0      0 --:--:-- --:--:-- --:--:--     0\n",
      "  0     0    0     0    0     0      0      0 --:--:-- --:--:-- --:--:--     0\n",
      "100  236k  100  236k    0     0   210k      0  0:00:01  0:00:01 --:--:--  211k\n"
     ]
    },
    {
     "name": "stdout",
     "output_type": "stream",
     "text": [
      "293\n",
      "https://www.climatepolicyinitiative.org/publication/lab-2016-2017-cycle-instrument-analysis/\n"
     ]
    },
    {
     "name": "stderr",
     "output_type": "stream",
     "text": [
      "  % Total    % Received % Xferd  Average Speed   Time    Time     Time  Current\n",
      "                                 Dload  Upload   Total   Spent    Left  Speed\n",
      "\n",
      "  0     0    0     0    0     0      0      0 --:--:-- --:--:-- --:--:--     0\n",
      "  0     0    0     0    0     0      0      0 --:--:-- --:--:-- --:--:--     0\n",
      " 30 1099k   30  335k    0     0   292k      0  0:00:03  0:00:01  0:00:02  292k\n",
      "100 1099k  100 1099k    0     0   782k      0  0:00:01  0:00:01 --:--:--  782k\n"
     ]
    },
    {
     "name": "stdout",
     "output_type": "stream",
     "text": [
      "294\n",
      "https://www.climatepolicyinitiative.org/publication/lab-instrument-analysis-green-fidc/\n"
     ]
    },
    {
     "name": "stderr",
     "output_type": "stream",
     "text": [
      "  % Total    % Received % Xferd  Average Speed   Time    Time     Time  Current\n",
      "                                 Dload  Upload   Total   Spent    Left  Speed\n",
      "\n",
      "  0     0    0     0    0     0      0      0 --:--:-- --:--:-- --:--:--     0\n",
      "  0     0    0     0    0     0      0      0 --:--:-- --:--:-- --:--:--     0\n",
      "100  686k  100  686k    0     0   557k      0  0:00:01  0:00:01 --:--:--  559k\n"
     ]
    },
    {
     "name": "stdout",
     "output_type": "stream",
     "text": [
      "295\n",
      "https://www.climatepolicyinitiative.org/publication/cloud-forest-blue-energy-mechanism/\n"
     ]
    },
    {
     "name": "stderr",
     "output_type": "stream",
     "text": [
      "  % Total    % Received % Xferd  Average Speed   Time    Time     Time  Current\n",
      "                                 Dload  Upload   Total   Spent    Left  Speed\n",
      "\n",
      "  0     0    0     0    0     0      0      0 --:--:-- --:--:-- --:--:--     0\n",
      " 17  274k   17 48758    0     0  56782      0  0:00:04 --:--:--  0:00:04 56893\n",
      "100  274k  100  274k    0     0   264k      0  0:00:01  0:00:01 --:--:--  264k\n"
     ]
    },
    {
     "name": "stdout",
     "output_type": "stream",
     "text": [
      "296\n",
      "https://www.climatepolicyinitiative.org/publication/craft/\n"
     ]
    },
    {
     "name": "stderr",
     "output_type": "stream",
     "text": [
      "  % Total    % Received % Xferd  Average Speed   Time    Time     Time  Current\n",
      "                                 Dload  Upload   Total   Spent    Left  Speed\n",
      "\n",
      "  0     0    0     0    0     0      0      0 --:--:-- --:--:-- --:--:--     0\n",
      "  0     0    0     0    0     0      0      0 --:--:-- --:--:-- --:--:--     0\n",
      "100  769k  100  769k    0     0   631k      0  0:00:01  0:00:01 --:--:--  633k\n"
     ]
    },
    {
     "name": "stdout",
     "output_type": "stream",
     "text": [
      "297\n",
      "https://www.climatepolicyinitiative.org/publication/understanding-landscape-tracking-finance-electricity-clean-cooking-access-high-impact-countries/\n"
     ]
    },
    {
     "name": "stderr",
     "output_type": "stream",
     "text": [
      "  % Total    % Received % Xferd  Average Speed   Time    Time     Time  Current\n",
      "                                 Dload  Upload   Total   Spent    Left  Speed\n",
      "\n",
      "  0     0    0     0    0     0      0      0 --:--:-- --:--:-- --:--:--     0\n",
      "  0 8699k    0 32373    0     0  36033      0  0:04:07 --:--:--  0:04:07 36090\n",
      " 19 8699k   19 1663k    0     0   875k      0  0:00:09  0:00:01  0:00:08  876k\n",
      " 64 8699k   64 5615k    0     0  1733k      0  0:00:05  0:00:03  0:00:02 1734k\n",
      " 84 8699k   84 7375k    0     0  1892k      0  0:00:04  0:00:03  0:00:01 1893k\n",
      "100 8699k  100 8699k    0     0  1969k      0  0:00:04  0:00:04 --:--:-- 1970k\n"
     ]
    },
    {
     "name": "stdout",
     "output_type": "stream",
     "text": [
      "298\n",
      "https://www.climatepolicyinitiative.org/publication/supporting-national-development-banks-drive-investment-nationally-determined-contributions-brazil-mexico-chile/\n"
     ]
    },
    {
     "name": "stderr",
     "output_type": "stream",
     "text": [
      "  % Total    % Received % Xferd  Average Speed   Time    Time     Time  Current\n",
      "                                 Dload  Upload   Total   Spent    Left  Speed\n",
      "\n",
      "  0     0    0     0    0     0      0      0 --:--:-- --:--:-- --:--:--     0\n",
      "  0     0    0     0    0     0      0      0 --:--:-- --:--:-- --:--:--     0\n",
      "100 1011k  100 1011k    0     0   671k      0  0:00:01  0:00:01 --:--:--  672k\n"
     ]
    },
    {
     "name": "stdout",
     "output_type": "stream",
     "text": [
      "299\n",
      "https://www.climatepolicyinitiative.org/pt-br/publication/nota-tecnica-sobre-areas-anistiadas-pelo-novo-codigo-florestal/\n"
     ]
    },
    {
     "name": "stderr",
     "output_type": "stream",
     "text": [
      "  % Total    % Received % Xferd  Average Speed   Time    Time     Time  Current\n",
      "                                 Dload  Upload   Total   Spent    Left  Speed\n",
      "\n",
      "  0     0    0     0    0     0      0      0 --:--:-- --:--:-- --:--:--     0\n",
      "  0     0    0     0    0     0      0      0 --:--:-- --:--:-- --:--:--     0\n",
      "100   462    0   462    0     0    683      0 --:--:-- --:--:-- --:--:--   685\n"
     ]
    },
    {
     "name": "stdout",
     "output_type": "stream",
     "text": [
      "300\n",
      "https://www.climatepolicyinitiative.org/publication/financing-clean-power-risk-based-approach-choosing-ownership-models-policy-finance-instruments/\n"
     ]
    },
    {
     "name": "stderr",
     "output_type": "stream",
     "text": [
      "  % Total    % Received % Xferd  Average Speed   Time    Time     Time  Current\n",
      "                                 Dload  Upload   Total   Spent    Left  Speed\n",
      "\n",
      "  0     0    0     0    0     0      0      0 --:--:-- --:--:-- --:--:--     0\n",
      "  0     0    0     0    0     0      0      0 --:--:-- --:--:-- --:--:--     0\n",
      "100  921k  100  921k    0     0   689k      0  0:00:01  0:00:01 --:--:--  690k\n",
      "100  921k  100  921k    0     0   689k      0  0:00:01  0:00:01 --:--:--  690k\n"
     ]
    },
    {
     "name": "stdout",
     "output_type": "stream",
     "text": [
      "301\n",
      "https://www.climatepolicyinitiative.org/publication/building-resilience-brazils-biofuel-market/\n"
     ]
    },
    {
     "name": "stderr",
     "output_type": "stream",
     "text": [
      "  % Total    % Received % Xferd  Average Speed   Time    Time     Time  Current\n",
      "                                 Dload  Upload   Total   Spent    Left  Speed\n",
      "\n",
      "  0     0    0     0    0     0      0      0 --:--:-- --:--:-- --:--:--     0\n",
      " 19 80855   19 15991    0     0  17258      0  0:00:04 --:--:--  0:00:04 17287\n",
      "100 80855  100 80855    0     0  70595      0  0:00:01  0:00:01 --:--:-- 70739\n"
     ]
    },
    {
     "name": "stdout",
     "output_type": "stream",
     "text": [
      "302\n",
      "https://www.climatepolicyinitiative.org/publication/overcoming-barriers-institutional-investments-renewables/\n"
     ]
    },
    {
     "name": "stderr",
     "output_type": "stream",
     "text": [
      "  % Total    % Received % Xferd  Average Speed   Time    Time     Time  Current\n",
      "                                 Dload  Upload   Total   Spent    Left  Speed\n",
      "\n",
      "  0     0    0     0    0     0      0      0 --:--:-- --:--:-- --:--:--     0\n",
      "  0     0    0     0    0     0      0      0 --:--:-- --:--:-- --:--:--     0\n",
      "100  159k  100  159k    0     0   157k      0  0:00:01  0:00:01 --:--:--  157k\n"
     ]
    },
    {
     "name": "stdout",
     "output_type": "stream",
     "text": [
      "303\n",
      "https://www.climatepolicyinitiative.org/publication/clean-energy-investment-trust-financial-innovation-renewables/\n"
     ]
    },
    {
     "name": "stderr",
     "output_type": "stream",
     "text": [
      "  % Total    % Received % Xferd  Average Speed   Time    Time     Time  Current\n",
      "                                 Dload  Upload   Total   Spent    Left  Speed\n",
      "\n",
      "  0     0    0     0    0     0      0      0 --:--:-- --:--:-- --:--:--     0\n",
      "  0     0    0     0    0     0      0      0 --:--:-- --:--:-- --:--:--     0\n",
      "100  359k  100  359k    0     0   285k      0  0:00:01  0:00:01 --:--:--  286k\n"
     ]
    },
    {
     "name": "stdout",
     "output_type": "stream",
     "text": [
      "304\n",
      "https://www.climatepolicyinitiative.org/pt-br/publication/cota-de-reserva-ambiental-melhor-opcao-para-compensar-reserva-legal/\n"
     ]
    },
    {
     "name": "stderr",
     "output_type": "stream",
     "text": [
      "  % Total    % Received % Xferd  Average Speed   Time    Time     Time  Current\n",
      "                                 Dload  Upload   Total   Spent    Left  Speed\n",
      "\n",
      "  0     0    0     0    0     0      0      0 --:--:-- --:--:-- --:--:--     0\n",
      "  0     0    0     0    0     0      0      0 --:--:-- --:--:-- --:--:--     0\n",
      " 40  943k   40  383k    0     0   276k      0  0:00:03  0:00:01  0:00:02  276k\n",
      "100  943k  100  943k    0     0   573k      0  0:00:01  0:00:01 --:--:--  574k\n"
     ]
    },
    {
     "name": "stdout",
     "output_type": "stream",
     "text": [
      "305\n",
      "https://www.climatepolicyinitiative.org/publication/surge-amazon-regeneration-mean-brazil/\n"
     ]
    },
    {
     "name": "stderr",
     "output_type": "stream",
     "text": [
      "  % Total    % Received % Xferd  Average Speed   Time    Time     Time  Current\n",
      "                                 Dload  Upload   Total   Spent    Left  Speed\n",
      "\n",
      "  0     0    0     0    0     0      0      0 --:--:-- --:--:-- --:--:--     0\n",
      "  0     0    0     0    0     0      0      0 --:--:-- --:--:-- --:--:--     0\n",
      " 59 1148k   59  687k    0     0   521k      0  0:00:02  0:00:01  0:00:01  522k\n",
      "100 1148k  100 1148k    0     0   750k      0  0:00:01  0:00:01 --:--:--  751k\n"
     ]
    },
    {
     "name": "stdout",
     "output_type": "stream",
     "text": [
      "306\n",
      "https://www.climatepolicyinitiative.org/publication/land-rights-important-brazil/\n"
     ]
    },
    {
     "name": "stderr",
     "output_type": "stream",
     "text": [
      "  % Total    % Received % Xferd  Average Speed   Time    Time     Time  Current\n",
      "                                 Dload  Upload   Total   Spent    Left  Speed\n",
      "\n",
      "  0     0    0     0    0     0      0      0 --:--:-- --:--:-- --:--:--     0\n",
      "  0     0    0     0    0     0      0      0 --:--:-- --:--:-- --:--:--     0\n",
      " 30  472k   30  143k    0     0   131k      0  0:00:03  0:00:01  0:00:02  131k\n",
      "100  472k  100  472k    0     0   353k      0  0:00:01  0:00:01 --:--:--  354k\n"
     ]
    },
    {
     "name": "stdout",
     "output_type": "stream",
     "text": [
      "307\n",
      "https://www.climatepolicyinitiative.org/publication/evolution-of-land-rights-in-rural-brazil/\n"
     ]
    },
    {
     "name": "stderr",
     "output_type": "stream",
     "text": [
      "  % Total    % Received % Xferd  Average Speed   Time    Time     Time  Current\n",
      "                                 Dload  Upload   Total   Spent    Left  Speed\n",
      "\n",
      "  0     0    0     0    0     0      0      0 --:--:-- --:--:-- --:--:--     0\n",
      "  0 5264k    0 15989    0     0  16568      0  0:05:25 --:--:--  0:05:25 16603\n",
      " 67 5264k   67 3535k    0     0  1817k      0  0:00:02  0:00:01  0:00:01 1819k\n",
      "100 5264k  100 5264k    0     0  2233k      0  0:00:02  0:00:02 --:--:-- 2235k\n"
     ]
    },
    {
     "name": "stdout",
     "output_type": "stream",
     "text": [
      "308\n",
      "https://www.climatepolicyinitiative.org/publication/next-step-towards-climate-change-mitigation-improving-productivity-brazils-agricultural-lands/\n"
     ]
    },
    {
     "name": "stderr",
     "output_type": "stream",
     "text": [
      "  % Total    % Received % Xferd  Average Speed   Time    Time     Time  Current\n",
      "                                 Dload  Upload   Total   Spent    Left  Speed\n",
      "\n",
      "  0     0    0     0    0     0      0      0 --:--:-- --:--:-- --:--:--     0\n",
      " 14 1012k   14  143k    0     0   144k      0  0:00:06 --:--:--  0:00:06  145k\n",
      "100 1012k  100 1012k    0     0   723k      0  0:00:01  0:00:01 --:--:--  725k\n"
     ]
    },
    {
     "name": "stdout",
     "output_type": "stream",
     "text": [
      "309\n",
      "https://www.climatepolicyinitiative.org/publication/eletrification-agricultural-productivity-deforestation-brazil/\n"
     ]
    },
    {
     "name": "stderr",
     "output_type": "stream",
     "text": [
      "  % Total    % Received % Xferd  Average Speed   Time    Time     Time  Current\n",
      "                                 Dload  Upload   Total   Spent    Left  Speed\n",
      "\n",
      "  0     0    0     0    0     0      0      0 --:--:-- --:--:-- --:--:--     0\n",
      "  0     0    0     0    0     0      0      0 --:--:-- --:--:-- --:--:--     0\n",
      "100  771k  100  771k    0     0   643k      0  0:00:01  0:00:01 --:--:--  645k\n"
     ]
    },
    {
     "name": "stdout",
     "output_type": "stream",
     "text": [
      "310\n",
      "https://www.climatepolicyinitiative.org/publication/flexibility-path-low-carbon-low-cost-electricity-grids/\n"
     ]
    },
    {
     "name": "stderr",
     "output_type": "stream",
     "text": [
      "  % Total    % Received % Xferd  Average Speed   Time    Time     Time  Current\n",
      "                                 Dload  Upload   Total   Spent    Left  Speed\n",
      "\n",
      "  0     0    0     0    0     0      0      0 --:--:-- --:--:-- --:--:--     0\n",
      " 13  457k   13 65142    0     0  71951      0  0:00:06 --:--:--  0:00:06 72139\n",
      "100  457k  100  457k    0     0   380k      0  0:00:01  0:00:01 --:--:--  381k\n"
     ]
    },
    {
     "name": "stdout",
     "output_type": "stream",
     "text": [
      "311\n",
      "https://www.climatepolicyinitiative.org/pt-br/publication/conversao-de-multas-ambientais-em-prestacao-de-servicos-ambientais/\n"
     ]
    },
    {
     "name": "stderr",
     "output_type": "stream",
     "text": [
      "  % Total    % Received % Xferd  Average Speed   Time    Time     Time  Current\n",
      "                                 Dload  Upload   Total   Spent    Left  Speed\n",
      "\n",
      "  0     0    0     0    0     0      0      0 --:--:-- --:--:-- --:--:--     0\n",
      "  7  668k    7 48758    0     0  51459      0  0:00:13 --:--:--  0:00:13 51541\n",
      "100  668k  100  668k    0     0   381k      0  0:00:01  0:00:01 --:--:--  382k\n"
     ]
    },
    {
     "name": "stdout",
     "output_type": "stream",
     "text": [
      "312\n",
      "https://www.climatepolicyinitiative.org/publication/decarbonization-indian-railways-assessing-balancing-costs-policy-risks/\n"
     ]
    },
    {
     "name": "stderr",
     "output_type": "stream",
     "text": [
      "  % Total    % Received % Xferd  Average Speed   Time    Time     Time  Current\n",
      "                                 Dload  Upload   Total   Spent    Left  Speed\n",
      "\n",
      "  0     0    0     0    0     0      0      0 --:--:-- --:--:-- --:--:--     0\n",
      "  0     0    0     0    0     0      0      0 --:--:-- --:--:-- --:--:--     0\n",
      "  9  683k    9 65142    0     0  63365      0  0:00:11  0:00:01  0:00:10 63429\n",
      "100  683k  100  683k    0     0   528k      0  0:00:01  0:00:01 --:--:--  529k\n"
     ]
    },
    {
     "name": "stdout",
     "output_type": "stream",
     "text": [
      "313\n",
      "https://www.climatepolicyinitiative.org/publication/lessons-innovations-spur-green-investment-developing-countries/\n"
     ]
    },
    {
     "name": "stderr",
     "output_type": "stream",
     "text": [
      "  % Total    % Received % Xferd  Average Speed   Time    Time     Time  Current\n",
      "                                 Dload  Upload   Total   Spent    Left  Speed\n",
      "\n",
      "  0     0    0     0    0     0      0      0 --:--:-- --:--:-- --:--:--     0\n",
      "  0     0    0     0    0     0      0      0 --:--:-- --:--:-- --:--:--     0\n",
      "100  133k  100  133k    0     0   138k      0 --:--:-- --:--:-- --:--:--  138k\n"
     ]
    },
    {
     "name": "stdout",
     "output_type": "stream",
     "text": [
      "314\n",
      "https://www.climatepolicyinitiative.org/publication/the-productivity-of-international-financial-institutions-energy-interventions/\n"
     ]
    },
    {
     "name": "stderr",
     "output_type": "stream",
     "text": [
      "  % Total    % Received % Xferd  Average Speed   Time    Time     Time  Current\n",
      "                                 Dload  Upload   Total   Spent    Left  Speed\n",
      "\n",
      "  0     0    0     0    0     0      0      0 --:--:-- --:--:-- --:--:--     0\n",
      "  0     0    0     0    0     0      0      0 --:--:-- --:--:-- --:--:--     0\n",
      "100   396    0   396    0     0    637      0 --:--:-- --:--:-- --:--:--   638\n"
     ]
    },
    {
     "name": "stdout",
     "output_type": "stream",
     "text": [
      "315\n",
      "https://www.climatepolicyinitiative.org/publication/landscape-redd-aligned-finance-cote-divoire/\n"
     ]
    },
    {
     "name": "stderr",
     "output_type": "stream",
     "text": [
      "  % Total    % Received % Xferd  Average Speed   Time    Time     Time  Current\n",
      "                                 Dload  Upload   Total   Spent    Left  Speed\n",
      "\n",
      "  0     0    0     0    0     0      0      0 --:--:-- --:--:-- --:--:--     0\n",
      "  4  974k    4 48758    0     0  49659      0  0:00:20 --:--:--  0:00:20 49753\n",
      "100  974k  100  974k    0     0   676k      0  0:00:01  0:00:01 --:--:--  677k\n"
     ]
    },
    {
     "name": "stdout",
     "output_type": "stream",
     "text": [
      "316\n",
      "https://www.climatepolicyinitiative.org/publication/reaching-indias-renewable-energy-targets-role-institutional-investors/\n"
     ]
    },
    {
     "name": "stderr",
     "output_type": "stream",
     "text": [
      "  % Total    % Received % Xferd  Average Speed   Time    Time     Time  Current\n",
      "                                 Dload  Upload   Total   Spent    Left  Speed\n",
      "\n",
      "  0     0    0     0    0     0      0      0 --:--:-- --:--:-- --:--:--     0\n",
      "  0     0    0     0    0     0      0      0 --:--:-- --:--:-- --:--:--     0\n",
      "100  558k  100  558k    0     0   441k      0  0:00:01  0:00:01 --:--:--  442k\n"
     ]
    },
    {
     "name": "stdout",
     "output_type": "stream",
     "text": [
      "317\n",
      "https://www.climatepolicyinitiative.org/publication/rural-settlements-deforestation-amazon/\n"
     ]
    },
    {
     "name": "stderr",
     "output_type": "stream",
     "text": [
      "  % Total    % Received % Xferd  Average Speed   Time    Time     Time  Current\n",
      "                                 Dload  Upload   Total   Spent    Left  Speed\n",
      "\n",
      "  0     0    0     0    0     0      0      0 --:--:-- --:--:-- --:--:--     0\n",
      " 18  790k   18  143k    0     0   143k      0  0:00:05 --:--:--  0:00:05  144k\n",
      "100  790k  100  790k    0     0   636k      0  0:00:01  0:00:01 --:--:--  638k\n"
     ]
    },
    {
     "name": "stdout",
     "output_type": "stream",
     "text": [
      "318\n",
      "https://www.climatepolicyinitiative.org/publication/green-bonds-guide-city-policymakers-developing-countries/\n"
     ]
    },
    {
     "name": "stderr",
     "output_type": "stream",
     "text": [
      "  % Total    % Received % Xferd  Average Speed   Time    Time     Time  Current\n",
      "                                 Dload  Upload   Total   Spent    Left  Speed\n",
      "\n",
      "  0     0    0     0    0     0      0      0 --:--:-- --:--:-- --:--:--     0\n",
      "  0     0    0     0    0     0      0      0 --:--:-- --:--:-- --:--:--     0\n",
      "100  168k  100  168k    0     0   164k      0  0:00:01  0:00:01 --:--:--  165k\n"
     ]
    },
    {
     "name": "stdout",
     "output_type": "stream",
     "text": [
      "319\n",
      "https://www.climatepolicyinitiative.org/publication/european-renewable-energy-policy-investment/\n"
     ]
    },
    {
     "name": "stderr",
     "output_type": "stream",
     "text": [
      "  % Total    % Received % Xferd  Average Speed   Time    Time     Time  Current\n",
      "                                 Dload  Upload   Total   Spent    Left  Speed\n",
      "\n",
      "  0     0    0     0    0     0      0      0 --:--:-- --:--:-- --:--:--     0\n",
      "  0     0    0     0    0     0      0      0 --:--:-- --:--:-- --:--:--     0\n",
      "100  694k  100  694k    0     0   545k      0  0:00:01  0:00:01 --:--:--  546k\n"
     ]
    },
    {
     "name": "stdout",
     "output_type": "stream",
     "text": [
      "320\n",
      "https://www.climatepolicyinitiative.org/pt-br/publication/panorama-dos-direitos-de-propriedade-no-brasil-rural-legislacao-gestao-fundiaria-e-codigo-florestal/\n"
     ]
    },
    {
     "name": "stderr",
     "output_type": "stream",
     "text": [
      "  % Total    % Received % Xferd  Average Speed   Time    Time     Time  Current\n",
      "                                 Dload  Upload   Total   Spent    Left  Speed\n",
      "\n",
      "  0     0    0     0    0     0      0      0 --:--:-- --:--:-- --:--:--     0\n",
      "  0     0    0     0    0     0      0      0 --:--:-- --:--:-- --:--:--     0\n",
      "  8 15.4M    8 1311k    0     0   928k      0  0:00:17  0:00:01  0:00:16  929k\n",
      " 20 15.4M   20 3311k    0     0  1349k      0  0:00:11  0:00:02  0:00:09 1350k\n",
      " 38 15.4M   38 6031k    0     0  1728k      0  0:00:09  0:00:03  0:00:06 1728k\n",
      " 61 15.4M   61 9727k    0     0  2204k      0  0:00:07  0:00:04  0:00:03 2205k\n",
      " 82 15.4M   82 12.7M    0     0  2381k      0  0:00:06  0:00:05  0:00:01 2598k\n",
      "100 15.4M  100 15.4M    0     0  2531k      0  0:00:06  0:00:06 --:--:-- 2997k\n"
     ]
    },
    {
     "name": "stdout",
     "output_type": "stream",
     "text": [
      "321\n",
      "https://www.climatepolicyinitiative.org/publication/india-innovation-lab-green-finance-2015-2016-cycle-instrument-analysis/\n"
     ]
    },
    {
     "name": "stderr",
     "output_type": "stream",
     "text": [
      "  % Total    % Received % Xferd  Average Speed   Time    Time     Time  Current\n",
      "                                 Dload  Upload   Total   Spent    Left  Speed\n",
      "\n",
      "  0     0    0     0    0     0      0      0 --:--:-- --:--:-- --:--:--     0\n",
      "  0     0    0     0    0     0      0      0 --:--:-- --:--:-- --:--:--     0\n",
      " 87  912k   87  799k    0     0   525k      0  0:00:01  0:00:01 --:--:--  526k\n",
      "100  912k  100  912k    0     0   570k      0  0:00:01  0:00:01 --:--:--  570k\n"
     ]
    },
    {
     "name": "stdout",
     "output_type": "stream",
     "text": [
      "322\n",
      "https://www.climatepolicyinitiative.org/publication/central-kalimantan-high-conservation-value-provincial-assessment/\n"
     ]
    },
    {
     "name": "stderr",
     "output_type": "stream",
     "text": [
      "  % Total    % Received % Xferd  Average Speed   Time    Time     Time  Current\n",
      "                                 Dload  Upload   Total   Spent    Left  Speed\n",
      "\n",
      "  0     0    0     0    0     0      0      0 --:--:-- --:--:-- --:--:--     0\n",
      "  0     0    0     0    0     0      0      0 --:--:-- --:--:-- --:--:--     0\n",
      "  2 32.4M    2  735k    0     0   509k      0  0:01:05  0:00:01  0:01:04  510k\n",
      "  9 32.4M    9 3039k    0     0  1241k      0  0:00:26  0:00:02  0:00:24 1242k\n",
      " 13 32.4M   13 4527k    0     0  1312k      0  0:00:25  0:00:03  0:00:22 1313k\n",
      " 16 32.4M   16 5487k    0     0  1214k      0  0:00:27  0:00:04  0:00:23 1214k\n",
      " 23 32.4M   23 7759k    0     0  1427k      0  0:00:23  0:00:05  0:00:18 1577k\n",
      " 31 32.4M   31 10.1M    0     0  1610k      0  0:00:20  0:00:06  0:00:14 1927k\n",
      " 35 32.4M   35 11.5M    0     0  1591k      0  0:00:20  0:00:07  0:00:13 1761k\n",
      " 40 32.4M   40 13.2M    0     0  1609k      0  0:00:20  0:00:08  0:00:12 1814k\n",
      " 46 32.4M   46 15.1M    0     0  1641k      0  0:00:20  0:00:09  0:00:11 2033k\n",
      " 50 32.4M   50 16.4M    0     0  1619k      0  0:00:20  0:00:10  0:00:10 1827k\n",
      " 54 32.4M   54 17.5M    0     0  1572k      0  0:00:21  0:00:11  0:00:10 1524k\n",
      " 60 32.4M   60 19.5M    0     0  1610k      0  0:00:20  0:00:12  0:00:08 1640k\n",
      " 64 32.4M   64 20.9M    0     0  1597k      0  0:00:20  0:00:13  0:00:07 1578k\n",
      " 69 32.4M   69 22.4M    0     0  1595k      0  0:00:20  0:00:14  0:00:06 1508k\n",
      " 73 32.4M   73 24.0M    0     0  1592k      0  0:00:20  0:00:15  0:00:05 1537k\n",
      " 80 32.4M   80 26.0M    0     0  1621k      0  0:00:20  0:00:16  0:00:04 1733k\n",
      " 85 32.4M   85 27.6M    0     0  1622k      0  0:00:20  0:00:17  0:00:03 1650k\n",
      " 89 32.4M   89 28.9M    0     0  1604k      0  0:00:20  0:00:18  0:00:02 1622k\n",
      " 96 32.4M   96 31.3M    0     0  1653k      0  0:00:20  0:00:19  0:00:01 1821k\n",
      "100 32.4M  100 32.4M    0     0  1644k      0  0:00:20  0:00:20 --:--:-- 1810k\n"
     ]
    },
    {
     "name": "stdout",
     "output_type": "stream",
     "text": [
      "323\n",
      "https://www.climatepolicyinitiative.org/publication/design-district-level-natural-capital-assessment-central-kalimantan/\n"
     ]
    },
    {
     "name": "stderr",
     "output_type": "stream",
     "text": [
      "  % Total    % Received % Xferd  Average Speed   Time    Time     Time  Current\n",
      "                                 Dload  Upload   Total   Spent    Left  Speed\n",
      "\n",
      "  0     0    0     0    0     0      0      0 --:--:-- --:--:-- --:--:--     0\n",
      "  0     0    0     0    0     0      0      0 --:--:-- --:--:-- --:--:--     0\n",
      "  6 5141k    6  319k    0     0   256k      0  0:00:20  0:00:01  0:00:19  257k\n",
      " 99 5141k   99 5135k    0     0  2253k      0  0:00:02  0:00:02 --:--:-- 2255k\n",
      "100 5141k  100 5141k    0     0  2137k      0  0:00:02  0:00:02 --:--:-- 2138k\n"
     ]
    },
    {
     "name": "stdout",
     "output_type": "stream",
     "text": [
      "324\n",
      "https://www.climatepolicyinitiative.org/publication/challenges-opportunities-efficient-land-use-mozambique-taxes-financing-infrastructure/\n"
     ]
    },
    {
     "name": "stderr",
     "output_type": "stream",
     "text": [
      "  % Total    % Received % Xferd  Average Speed   Time    Time     Time  Current\n",
      "                                 Dload  Upload   Total   Spent    Left  Speed\n",
      "\n",
      "  0     0    0     0    0     0      0      0 --:--:-- --:--:-- --:--:--     0\n",
      "  0     0    0     0    0     0      0      0 --:--:-- --:--:-- --:--:--     0\n",
      " 39  202k   39 81526    0     0  72062      0  0:00:02  0:00:01  0:00:01 72146\n",
      "100  202k  100  202k    0     0   161k      0  0:00:01  0:00:01 --:--:--  161k\n"
     ]
    },
    {
     "name": "stdout",
     "output_type": "stream",
     "text": [
      "325\n",
      "https://www.climatepolicyinitiative.org/publication/sunshift-global-fleet-of-modular-moveable-megawatt-scale-solar-assets/\n",
      "326\n",
      "https://www.climatepolicyinitiative.org/publication/the-matchmaker-service/\n"
     ]
    },
    {
     "name": "stderr",
     "output_type": "stream",
     "text": [
      "  % Total    % Received % Xferd  Average Speed   Time    Time     Time  Current\n",
      "                                 Dload  Upload   Total   Spent    Left  Speed\n",
      "\n",
      "  0     0    0     0    0     0      0      0 --:--:-- --:--:-- --:--:--     0\n",
      "  0     0    0     0    0     0      0      0 --:--:-- --:--:-- --:--:--     0\n",
      "100  256k  100  256k    0     0   232k      0  0:00:01  0:00:01 --:--:--  233k\n"
     ]
    },
    {
     "name": "stdout",
     "output_type": "stream",
     "text": [
      "327\n",
      "https://www.climatepolicyinitiative.org/publication/renewable-energy-scale-up-facility-resf/\n"
     ]
    },
    {
     "name": "stderr",
     "output_type": "stream",
     "text": [
      "  % Total    % Received % Xferd  Average Speed   Time    Time     Time  Current\n",
      "                                 Dload  Upload   Total   Spent    Left  Speed\n",
      "\n",
      "  0     0    0     0    0     0      0      0 --:--:-- --:--:-- --:--:--     0\n",
      "  0     0    0     0    0     0      0      0 --:--:-- --:--:-- --:--:--     0\n",
      " 87  309k   87  271k    0     0   245k      0  0:00:01  0:00:01 --:--:--  246k\n",
      "100  309k  100  309k    0     0   273k      0  0:00:01  0:00:01 --:--:--  274k\n"
     ]
    },
    {
     "name": "stdout",
     "output_type": "stream",
     "text": [
      "328\n",
      "https://www.climatepolicyinitiative.org/publication/distributed-energy-generation-for-cooperatives-dgc/\n"
     ]
    },
    {
     "name": "stderr",
     "output_type": "stream",
     "text": [
      "  % Total    % Received % Xferd  Average Speed   Time    Time     Time  Current\n",
      "                                 Dload  Upload   Total   Spent    Left  Speed\n",
      "\n",
      "  0     0    0     0    0     0      0      0 --:--:-- --:--:-- --:--:--     0\n",
      "  0     0    0     0    0     0      0      0 --:--:-- --:--:-- --:--:--     0\n",
      "100  127k  100  127k    0     0   113k      0  0:00:01  0:00:01 --:--:--  113k\n"
     ]
    },
    {
     "name": "stdout",
     "output_type": "stream",
     "text": [
      "329\n",
      "https://www.climatepolicyinitiative.org/publication/31556/\n"
     ]
    },
    {
     "name": "stderr",
     "output_type": "stream",
     "text": [
      "  % Total    % Received % Xferd  Average Speed   Time    Time     Time  Current\n",
      "                                 Dload  Upload   Total   Spent    Left  Speed\n",
      "\n",
      "  0     0    0     0    0     0      0      0 --:--:-- --:--:-- --:--:--     0\n",
      " 25  185k   25 48758    0     0  53195      0  0:00:03 --:--:--  0:00:03 53287\n",
      "100  185k  100  185k    0     0   174k      0  0:00:01  0:00:01 --:--:--  174k\n"
     ]
    },
    {
     "name": "stdout",
     "output_type": "stream",
     "text": [
      "330\n",
      "https://www.climatepolicyinitiative.org/publication/sustainable-energy-bonds-sebs/\n"
     ]
    },
    {
     "name": "stderr",
     "output_type": "stream",
     "text": [
      "  % Total    % Received % Xferd  Average Speed   Time    Time     Time  Current\n",
      "                                 Dload  Upload   Total   Spent    Left  Speed\n",
      "\n",
      "  0     0    0     0    0     0      0      0 --:--:-- --:--:-- --:--:--     0\n",
      "  0     0    0     0    0     0      0      0 --:--:-- --:--:-- --:--:--     0\n",
      "100  186k  100  186k    0     0   190k      0 --:--:-- --:--:-- --:--:--  190k\n"
     ]
    },
    {
     "name": "stdout",
     "output_type": "stream",
     "text": [
      "331\n",
      "https://www.climatepolicyinitiative.org/publication/solar-investment-trusts-seits/\n"
     ]
    },
    {
     "name": "stderr",
     "output_type": "stream",
     "text": [
      "  % Total    % Received % Xferd  Average Speed   Time    Time     Time  Current\n",
      "                                 Dload  Upload   Total   Spent    Left  Speed\n",
      "\n",
      "  0     0    0     0    0     0      0      0 --:--:-- --:--:-- --:--:--     0\n",
      "  0     0    0     0    0     0      0      0 --:--:-- --:--:-- --:--:--     0\n",
      "100  265k  100  265k    0     0   227k      0  0:00:01  0:00:01 --:--:--  227k\n"
     ]
    },
    {
     "name": "stdout",
     "output_type": "stream",
     "text": [
      "332\n",
      "https://www.climatepolicyinitiative.org/publication/global-climate-finance-updated-view-2013-2014-flows/\n"
     ]
    },
    {
     "name": "stderr",
     "output_type": "stream",
     "text": [
      "  % Total    % Received % Xferd  Average Speed   Time    Time     Time  Current\n",
      "                                 Dload  Upload   Total   Spent    Left  Speed\n",
      "\n",
      "  0     0    0     0    0     0      0      0 --:--:-- --:--:-- --:--:--     0\n",
      "  0     0    0     0    0     0      0      0 --:--:-- --:--:-- --:--:--     0\n",
      "100  153k  100  153k    0     0   137k      0  0:00:01  0:00:01 --:--:--  138k\n"
     ]
    },
    {
     "name": "stdout",
     "output_type": "stream",
     "text": [
      "333\n",
      "https://www.climatepolicyinitiative.org/publication/third-party-financing-rooftop-solar-power-india/\n"
     ]
    },
    {
     "name": "stderr",
     "output_type": "stream",
     "text": [
      "  % Total    % Received % Xferd  Average Speed   Time    Time     Time  Current\n",
      "                                 Dload  Upload   Total   Spent    Left  Speed\n",
      "\n",
      "  0     0    0     0    0     0      0      0 --:--:-- --:--:-- --:--:--     0\n",
      "  0     0    0     0    0     0      0      0 --:--:-- --:--:-- --:--:--     0\n",
      "100  240k  100  240k    0     0   193k      0  0:00:01  0:00:01 --:--:--  194k\n"
     ]
    },
    {
     "name": "stdout",
     "output_type": "stream",
     "text": [
      "334\n",
      "https://www.climatepolicyinitiative.org/publication/insecure-land-rights-brazil-consequences-rural-areas-challenges-improvement/\n"
     ]
    },
    {
     "name": "stderr",
     "output_type": "stream",
     "text": [
      "  % Total    % Received % Xferd  Average Speed   Time    Time     Time  Current\n",
      "                                 Dload  Upload   Total   Spent    Left  Speed\n",
      "\n",
      "  0     0    0     0    0     0      0      0 --:--:-- --:--:-- --:--:--     0\n",
      "  0     0    0     0    0     0      0      0 --:--:-- --:--:-- --:--:--     0\n",
      "100  448k  100  448k    0     0   401k      0  0:00:01  0:00:01 --:--:--  402k\n"
     ]
    },
    {
     "name": "stdout",
     "output_type": "stream",
     "text": [
      "335\n",
      "https://www.climatepolicyinitiative.org/publication/agricultural-production-surges-matopiba-consequences-local-economy/\n"
     ]
    },
    {
     "name": "stderr",
     "output_type": "stream",
     "text": [
      "  % Total    % Received % Xferd  Average Speed   Time    Time     Time  Current\n",
      "                                 Dload  Upload   Total   Spent    Left  Speed\n",
      "\n",
      "  0     0    0     0    0     0      0      0 --:--:-- --:--:-- --:--:--     0\n",
      "  0     0    0     0    0     0      0      0 --:--:-- --:--:-- --:--:--     0\n",
      " 35 1050k   35  367k    0     0   291k      0  0:00:03  0:00:01  0:00:02  291k\n",
      "100 1050k  100 1050k    0     0   577k      0  0:00:01  0:00:01 --:--:--  578k\n"
     ]
    },
    {
     "name": "stdout",
     "output_type": "stream",
     "text": [
      "336\n",
      "https://www.climatepolicyinitiative.org/publication/decarbonization-indian-railways/\n"
     ]
    },
    {
     "name": "stderr",
     "output_type": "stream",
     "text": [
      "  % Total    % Received % Xferd  Average Speed   Time    Time     Time  Current\n",
      "                                 Dload  Upload   Total   Spent    Left  Speed\n",
      "\n",
      "  0     0    0     0    0     0      0      0 --:--:-- --:--:-- --:--:--     0\n",
      "  0     0    0     0    0     0      0      0 --:--:-- --:--:-- --:--:--     0\n",
      " 82  251k   82  207k    0     0   198k      0  0:00:01  0:00:01 --:--:--  199k\n",
      "100  251k  100  251k    0     0   236k      0  0:00:01  0:00:01 --:--:--  237k\n"
     ]
    },
    {
     "name": "stdout",
     "output_type": "stream",
     "text": [
      "337\n",
      "https://www.climatepolicyinitiative.org/publication/sugarcanes-role-fueling-economy/\n"
     ]
    },
    {
     "name": "stderr",
     "output_type": "stream",
     "text": [
      "  % Total    % Received % Xferd  Average Speed   Time    Time     Time  Current\n",
      "                                 Dload  Upload   Total   Spent    Left  Speed\n",
      "\n",
      "  0     0    0     0    0     0      0      0 --:--:-- --:--:-- --:--:--     0\n",
      "  5  855k    5 48758    0     0  47986      0  0:00:18  0:00:01  0:00:17 48084\n",
      "100  855k  100  855k    0     0   510k      0  0:00:01  0:00:01 --:--:--  510k\n"
     ]
    },
    {
     "name": "stdout",
     "output_type": "stream",
     "text": [
      "338\n",
      "https://www.climatepolicyinitiative.org/publication/improving-brazils-agricultural-productivity-targeting-infrastructure/\n"
     ]
    },
    {
     "name": "stderr",
     "output_type": "stream",
     "text": [
      "  % Total    % Received % Xferd  Average Speed   Time    Time     Time  Current\n",
      "                                 Dload  Upload   Total   Spent    Left  Speed\n",
      "\n",
      "  0     0    0     0    0     0      0      0 --:--:-- --:--:-- --:--:--     0\n",
      "  0     0    0     0    0     0      0      0 --:--:-- --:--:-- --:--:--     0\n",
      "100 1204k  100 1204k    0     0   798k      0  0:00:01  0:00:01 --:--:--  799k\n"
     ]
    },
    {
     "name": "stdout",
     "output_type": "stream",
     "text": [
      "339\n",
      "https://www.climatepolicyinitiative.org/pt-br/publication/codigo-florestal-e-credito-rural-como-aperfeicoar-a-integracao-de-duas-importantes-politicas/\n"
     ]
    },
    {
     "name": "stderr",
     "output_type": "stream",
     "text": [
      "  % Total    % Received % Xferd  Average Speed   Time    Time     Time  Current\n",
      "                                 Dload  Upload   Total   Spent    Left  Speed\n",
      "\n",
      "  0     0    0     0    0     0      0      0 --:--:-- --:--:-- --:--:--     0\n",
      "  0     0    0     0    0     0      0      0 --:--:-- --:--:-- --:--:--     0\n",
      "100  634k  100  634k    0     0   491k      0  0:00:01  0:00:01 --:--:--  491k\n"
     ]
    },
    {
     "name": "stdout",
     "output_type": "stream",
     "text": [
      "340\n",
      "https://www.climatepolicyinitiative.org/publication/global-innovation-lab-climate-finance-2015-2016-cycle-instrument-analyses/\n"
     ]
    },
    {
     "name": "stderr",
     "output_type": "stream",
     "text": [
      "  % Total    % Received % Xferd  Average Speed   Time    Time     Time  Current\n",
      "                                 Dload  Upload   Total   Spent    Left  Speed\n",
      "\n",
      "  0     0    0     0    0     0      0      0 --:--:-- --:--:-- --:--:--     0\n",
      "  0     0    0     0    0     0      0      0 --:--:-- --:--:-- --:--:--     0\n",
      " 31  356k   31  111k    0     0  74202      0  0:00:04  0:00:01  0:00:03 74265\n",
      "100  356k  100  356k    0     0   155k      0  0:00:02  0:00:02 --:--:--  155k\n"
     ]
    },
    {
     "name": "stdout",
     "output_type": "stream",
     "text": [
      "341\n",
      "https://www.climatepolicyinitiative.org/publication/energy-efficiency-enabling-initiative/\n"
     ]
    },
    {
     "name": "stderr",
     "output_type": "stream",
     "text": [
      "  % Total    % Received % Xferd  Average Speed   Time    Time     Time  Current\n",
      "                                 Dload  Upload   Total   Spent    Left  Speed\n",
      "\n",
      "  0     0    0     0    0     0      0      0 --:--:-- --:--:-- --:--:--     0\n",
      "  0     0    0     0    0     0      0      0 --:--:-- --:--:-- --:--:--     0\n",
      " 63  376k   63  239k    0     0   175k      0  0:00:02  0:00:01  0:00:01  175k\n",
      "100  376k  100  376k    0     0   256k      0  0:00:01  0:00:01 --:--:--  256k\n"
     ]
    },
    {
     "name": "stdout",
     "output_type": "stream",
     "text": [
      "342\n",
      "https://www.climatepolicyinitiative.org/publication/beyond-yieldcos/\n"
     ]
    },
    {
     "name": "stderr",
     "output_type": "stream",
     "text": [
      "  % Total    % Received % Xferd  Average Speed   Time    Time     Time  Current\n",
      "                                 Dload  Upload   Total   Spent    Left  Speed\n",
      "\n",
      "  0     0    0     0    0     0      0      0 --:--:-- --:--:-- --:--:--     0\n",
      "  0     0    0     0    0     0      0      0 --:--:-- --:--:-- --:--:--     0\n",
      "100  308k  100  308k    0     0   230k      0  0:00:01  0:00:01 --:--:--  231k\n"
     ]
    },
    {
     "name": "stdout",
     "output_type": "stream",
     "text": [
      "343\n",
      "https://www.climatepolicyinitiative.org/publication/role-climate-investment-funds-meeting-investment/\n"
     ]
    },
    {
     "name": "stderr",
     "output_type": "stream",
     "text": [
      "  % Total    % Received % Xferd  Average Speed   Time    Time     Time  Current\n",
      "                                 Dload  Upload   Total   Spent    Left  Speed\n",
      "\n",
      "  0     0    0     0    0     0      0      0 --:--:-- --:--:-- --:--:--     0\n",
      " 14  332k   14 48758    0     0  55756      0  0:00:06 --:--:--  0:00:06 55851\n",
      "100  332k  100  332k    0     0   271k      0  0:00:01  0:00:01 --:--:--  271k\n"
     ]
    },
    {
     "name": "stdout",
     "output_type": "stream",
     "text": [
      "344\n",
      "https://www.climatepolicyinitiative.org/publication/key-issues-for-property-rights-in-brazil-implications-for-the-forest-code/\n"
     ]
    },
    {
     "name": "stderr",
     "output_type": "stream",
     "text": [
      "  % Total    % Received % Xferd  Average Speed   Time    Time     Time  Current\n",
      "                                 Dload  Upload   Total   Spent    Left  Speed\n",
      "\n",
      "  0     0    0     0    0     0      0      0 --:--:-- --:--:-- --:--:--     0\n",
      "  0     0    0     0    0     0      0      0 --:--:-- --:--:-- --:--:--     0\n",
      "100  297k  100  297k    0     0   201k      0  0:00:01  0:00:01 --:--:--  201k\n"
     ]
    },
    {
     "name": "stdout",
     "output_type": "stream",
     "text": [
      "345\n",
      "https://www.climatepolicyinitiative.org/publication/driving-foreign-investment-renewable-energy-india-payment-security-mechanism-address-off-taker-risk/\n"
     ]
    },
    {
     "name": "stderr",
     "output_type": "stream",
     "text": [
      "  % Total    % Received % Xferd  Average Speed   Time    Time     Time  Current\n",
      "                                 Dload  Upload   Total   Spent    Left  Speed\n",
      "\n",
      "  0     0    0     0    0     0      0      0 --:--:-- --:--:-- --:--:--     0\n",
      " 83 38699   83 32375    0     0  36362      0  0:00:01 --:--:--  0:00:01 36417\n",
      "100 38699  100 38699    0     0  43287      0 --:--:-- --:--:-- --:--:-- 43384\n"
     ]
    },
    {
     "name": "stdout",
     "output_type": "stream",
     "text": [
      "346\n",
      "https://www.climatepolicyinitiative.org/publication/regulierungen-und-investitionen-fur-die-energiewende/\n"
     ]
    },
    {
     "name": "stderr",
     "output_type": "stream",
     "text": [
      "  % Total    % Received % Xferd  Average Speed   Time    Time     Time  Current\n",
      "                                 Dload  Upload   Total   Spent    Left  Speed\n",
      "\n",
      "  0     0    0     0    0     0      0      0 --:--:-- --:--:-- --:--:--     0\n",
      "100   398    0   398    0     0    612      0 --:--:-- --:--:-- --:--:--   615\n"
     ]
    },
    {
     "name": "stdout",
     "output_type": "stream",
     "text": [
      "347\n",
      "https://www.climatepolicyinitiative.org/publication/policy-investment-german-renewables/\n"
     ]
    },
    {
     "name": "stderr",
     "output_type": "stream",
     "text": [
      "  % Total    % Received % Xferd  Average Speed   Time    Time     Time  Current\n",
      "                                 Dload  Upload   Total   Spent    Left  Speed\n",
      "\n",
      "  0     0    0     0    0     0      0      0 --:--:-- --:--:-- --:--:--     0\n",
      "  0     0    0     0    0     0      0      0 --:--:-- --:--:-- --:--:--     0\n",
      " 99  565k   99  559k    0     0   340k      0  0:00:01  0:00:01 --:--:--  340k\n",
      "100  565k  100  565k    0     0   338k      0  0:00:01  0:00:01 --:--:--  339k\n"
     ]
    },
    {
     "name": "stdout",
     "output_type": "stream",
     "text": [
      "348\n",
      "https://www.climatepolicyinitiative.org/publication/government-assets-risks-opportunities-changing-climate-policy-landscape/\n"
     ]
    },
    {
     "name": "stderr",
     "output_type": "stream",
     "text": [
      "  % Total    % Received % Xferd  Average Speed   Time    Time     Time  Current\n",
      "                                 Dload  Upload   Total   Spent    Left  Speed\n",
      "\n",
      "  0     0    0     0    0     0      0      0 --:--:-- --:--:-- --:--:--     0\n",
      "  0     0    0     0    0     0      0      0 --:--:-- --:--:-- --:--:--     0\n",
      "  1 15.6M    1  287k    0     0   239k      0  0:01:06  0:00:01  0:01:05  239k\n",
      " 14 15.6M   14 2239k    0     0   932k      0  0:00:17  0:00:02  0:00:15  933k\n",
      " 20 15.6M   20 3263k    0     0   914k      0  0:00:17  0:00:03  0:00:14  914k\n",
      " 29 15.6M   29 4767k    0     0  1108k      0  0:00:14  0:00:04  0:00:10 1108k\n",
      " 43 15.6M   43 6991k    0     0  1346k      0  0:00:11  0:00:05  0:00:06 1407k\n",
      " 63 15.6M   63  9.9M    0     0  1644k      0  0:00:09  0:00:06  0:00:03 1982k\n",
      " 82 15.6M   82 12.8M    0     0  1826k      0  0:00:08  0:00:07  0:00:01 2274k\n",
      " 96 15.6M   96 15.1M    0     0  1848k      0  0:00:08  0:00:08 --:--:-- 2540k\n",
      "100 15.6M  100 15.6M    0     0  1878k      0  0:00:08  0:00:08 --:--:-- 2665k\n"
     ]
    },
    {
     "name": "stdout",
     "output_type": "stream",
     "text": [
      "349\n",
      "https://www.climatepolicyinitiative.org/pt-br/publication/comentarios-a-resolucao-conjunta-sma-saa-no-1-2016-sobre-o-pra-de-sao-paulo/\n"
     ]
    },
    {
     "name": "stderr",
     "output_type": "stream",
     "text": [
      "  % Total    % Received % Xferd  Average Speed   Time    Time     Time  Current\n",
      "                                 Dload  Upload   Total   Spent    Left  Speed\n",
      "\n",
      "  0     0    0     0    0     0      0      0 --:--:-- --:--:-- --:--:--     0\n",
      "  0     0    0     0    0     0      0      0 --:--:-- --:--:-- --:--:--     0\n",
      " 10  748k   10 81526    0     0  76545      0  0:00:10  0:00:01  0:00:09 76694\n",
      "100  748k  100  748k    0     0   446k      0  0:00:01  0:00:01 --:--:--  446k\n"
     ]
    },
    {
     "name": "stdout",
     "output_type": "stream",
     "text": [
      "350\n",
      "https://www.climatepolicyinitiative.org/publication/taking-stock-of-international-contributions-to-low-carbon-climate-resilient-land-use-in-indonesia/\n"
     ]
    },
    {
     "name": "stderr",
     "output_type": "stream",
     "text": [
      "  % Total    % Received % Xferd  Average Speed   Time    Time     Time  Current\n",
      "                                 Dload  Upload   Total   Spent    Left  Speed\n",
      "\n",
      "  0     0    0     0    0     0      0      0 --:--:-- --:--:-- --:--:--     0\n",
      "  0     0    0     0    0     0      0      0 --:--:-- --:--:-- --:--:--     0\n",
      "100  236k  100  236k    0     0   190k      0  0:00:01  0:00:01 --:--:--  190k\n"
     ]
    },
    {
     "name": "stdout",
     "output_type": "stream",
     "text": [
      "351\n",
      "https://www.climatepolicyinitiative.org/publication/improving-land-productivity-through-fiscal-policy/\n"
     ]
    },
    {
     "name": "stderr",
     "output_type": "stream",
     "text": [
      "  % Total    % Received % Xferd  Average Speed   Time    Time     Time  Current\n",
      "                                 Dload  Upload   Total   Spent    Left  Speed\n",
      "\n",
      "  0     0    0     0    0     0      0      0 --:--:-- --:--:-- --:--:--     0\n",
      "  0     0    0     0    0     0      0      0 --:--:-- --:--:-- --:--:--     0\n",
      "100  222k  100  222k    0     0   183k      0  0:00:01  0:00:01 --:--:--  183k\n"
     ]
    },
    {
     "name": "stdout",
     "output_type": "stream",
     "text": [
      "352\n",
      "https://www.climatepolicyinitiative.org/publication/forest-code-compliance-flowcharts-for-rural-properties/\n"
     ]
    },
    {
     "name": "stderr",
     "output_type": "stream",
     "text": [
      "  % Total    % Received % Xferd  Average Speed   Time    Time     Time  Current\n",
      "                                 Dload  Upload   Total   Spent    Left  Speed\n",
      "\n",
      "  0     0    0     0    0     0      0      0 --:--:-- --:--:-- --:--:--     0\n",
      "  0     0    0     0    0     0      0      0 --:--:-- --:--:-- --:--:--     0\n",
      " 51  530k   51  271k    0     0   196k      0  0:00:02  0:00:01  0:00:01  196k\n",
      "100  530k  100  530k    0     0   311k      0  0:00:01  0:00:01 --:--:--  311k\n"
     ]
    },
    {
     "name": "stdout",
     "output_type": "stream",
     "text": [
      "353\n",
      "https://www.climatepolicyinitiative.org/publication/slowing-the-growth-of-coal-power-in-china-the-role-of-finance-in-state-owned-enterprises/\n"
     ]
    },
    {
     "name": "stderr",
     "output_type": "stream",
     "text": [
      "  % Total    % Received % Xferd  Average Speed   Time    Time     Time  Current\n",
      "                                 Dload  Upload   Total   Spent    Left  Speed\n",
      "\n",
      "  0     0    0     0    0     0      0      0 --:--:-- --:--:-- --:--:--     0\n",
      "  0     0    0     0    0     0      0      0 --:--:-- --:--:-- --:--:--     0\n",
      "100   408    0   408    0     0    540      0 --:--:-- --:--:-- --:--:--   541\n"
     ]
    },
    {
     "name": "stdout",
     "output_type": "stream",
     "text": [
      "354\n",
      "https://www.climatepolicyinitiative.org/publication/getting-the-most-from-your-green-an-approach-to-using-public-money-effectively-through-green-banks-and-other-low-carbon-financing/\n"
     ]
    },
    {
     "name": "stderr",
     "output_type": "stream",
     "text": [
      "  % Total    % Received % Xferd  Average Speed   Time    Time     Time  Current\n",
      "                                 Dload  Upload   Total   Spent    Left  Speed\n",
      "\n",
      "  0     0    0     0    0     0      0      0 --:--:-- --:--:-- --:--:--     0\n",
      "  0     0    0     0    0     0      0      0 --:--:-- --:--:-- --:--:--     0\n",
      "100  178k  100  178k    0     0   158k      0  0:00:01  0:00:01 --:--:--  158k\n"
     ]
    },
    {
     "name": "stdout",
     "output_type": "stream",
     "text": [
      "355\n",
      "https://www.climatepolicyinitiative.org/publication/charting-a-path-for-finance-policy-in-clean-infrastructure/\n"
     ]
    },
    {
     "name": "stderr",
     "output_type": "stream",
     "text": [
      "  % Total    % Received % Xferd  Average Speed   Time    Time     Time  Current\n",
      "                                 Dload  Upload   Total   Spent    Left  Speed\n",
      "\n",
      "  0     0    0     0    0     0      0      0 --:--:-- --:--:-- --:--:--     0\n",
      "  0     0    0     0    0     0      0      0 --:--:-- --:--:-- --:--:--     0\n",
      "100   401    0   401    0     0    602      0 --:--:-- --:--:-- --:--:--   603\n"
     ]
    },
    {
     "name": "stdout",
     "output_type": "stream",
     "text": [
      "356\n",
      "https://www.climatepolicyinitiative.org/publication/what-is-happening-in-amazon-deforestation/\n"
     ]
    },
    {
     "name": "stderr",
     "output_type": "stream",
     "text": [
      "  % Total    % Received % Xferd  Average Speed   Time    Time     Time  Current\n",
      "                                 Dload  Upload   Total   Spent    Left  Speed\n",
      "\n",
      "  0     0    0     0    0     0      0      0 --:--:-- --:--:-- --:--:--     0\n",
      "  0     0    0     0    0     0      0      0 --:--:-- --:--:-- --:--:--     0\n",
      "100 98010  100 98010    0     0  74945      0  0:00:01  0:00:01 --:--:-- 75103\n"
     ]
    },
    {
     "name": "stdout",
     "output_type": "stream",
     "text": [
      "357\n",
      "https://www.climatepolicyinitiative.org/publication/brazils-new-forest-code-part-i-how-to-navigate-the-complexity-2/\n"
     ]
    },
    {
     "name": "stderr",
     "output_type": "stream",
     "text": [
      "  % Total    % Received % Xferd  Average Speed   Time    Time     Time  Current\n",
      "                                 Dload  Upload   Total   Spent    Left  Speed\n",
      "\n",
      "  0     0    0     0    0     0      0      0 --:--:-- --:--:-- --:--:--     0\n",
      "  0     0    0     0    0     0      0      0 --:--:-- --:--:-- --:--:--     0\n",
      "100 1556k  100 1556k    0     0  1130k      0  0:00:01  0:00:01 --:--:-- 1132k\n"
     ]
    },
    {
     "name": "stdout",
     "output_type": "stream",
     "text": [
      "358\n",
      "https://www.climatepolicyinitiative.org/publication/brazils-new-forest-code-how-to-navigate-the-complexity/\n"
     ]
    },
    {
     "name": "stderr",
     "output_type": "stream",
     "text": [
      "  % Total    % Received % Xferd  Average Speed   Time    Time     Time  Current\n",
      "                                 Dload  Upload   Total   Spent    Left  Speed\n",
      "\n",
      "  0     0    0     0    0     0      0      0 --:--:-- --:--:-- --:--:--     0\n",
      "  0     0    0     0    0     0      0      0 --:--:-- --:--:-- --:--:--     0\n",
      " 35 1555k   35  559k    0     0   475k      0  0:00:03  0:00:01  0:00:02  475k\n",
      "100 1555k  100 1555k    0     0   768k      0  0:00:02  0:00:02 --:--:--  769k\n"
     ]
    },
    {
     "name": "stdout",
     "output_type": "stream",
     "text": [
      "359\n",
      "https://www.climatepolicyinitiative.org/publication/slowing-the-growth-of-coal-power-outside-china-the-role-of-chinese-finance/\n"
     ]
    },
    {
     "name": "stderr",
     "output_type": "stream",
     "text": [
      "  % Total    % Received % Xferd  Average Speed   Time    Time     Time  Current\n",
      "                                 Dload  Upload   Total   Spent    Left  Speed\n",
      "\n",
      "  0     0    0     0    0     0      0      0 --:--:-- --:--:-- --:--:--     0\n",
      "  0     0    0     0    0     0      0      0 --:--:-- --:--:-- --:--:--     0\n",
      "100  270k  100  270k    0     0   251k      0  0:00:01  0:00:01 --:--:--  251k\n"
     ]
    },
    {
     "name": "stdout",
     "output_type": "stream",
     "text": [
      "360\n",
      "https://www.climatepolicyinitiative.org/publication/estimating-mobilized-private-finance-for-adaptation-exploring-data-and-methods/\n"
     ]
    },
    {
     "name": "stderr",
     "output_type": "stream",
     "text": [
      "  % Total    % Received % Xferd  Average Speed   Time    Time     Time  Current\n",
      "                                 Dload  Upload   Total   Spent    Left  Speed\n",
      "\n",
      "  0     0    0     0    0     0      0      0 --:--:-- --:--:-- --:--:--     0\n",
      "  0     0    0     0    0     0      0      0 --:--:-- --:--:-- --:--:--     0\n",
      "100  136k  100  136k    0     0   124k      0  0:00:01  0:00:01 --:--:--  124k\n"
     ]
    },
    {
     "name": "stdout",
     "output_type": "stream",
     "text": [
      "361\n",
      "https://www.climatepolicyinitiative.org/publication/global-landscape-of-climate-finance-2015/\n"
     ]
    },
    {
     "name": "stderr",
     "output_type": "stream",
     "text": [
      "  % Total    % Received % Xferd  Average Speed   Time    Time     Time  Current\n",
      "                                 Dload  Upload   Total   Spent    Left  Speed\n",
      "\n",
      "  0     0    0     0    0     0      0      0 --:--:-- --:--:-- --:--:--     0\n",
      "  0     0    0     0    0     0      0      0 --:--:-- --:--:-- --:--:--     0\n",
      " 26  176k   26 48758    0     0  47720      0  0:00:03  0:00:01  0:00:02 47801\n",
      "100  176k  100  176k    0     0   150k      0  0:00:01  0:00:01 --:--:--  150k\n"
     ]
    },
    {
     "name": "stdout",
     "output_type": "stream",
     "text": [
      "362\n",
      "https://www.climatepolicyinitiative.org/publication/central-kalimantans-oil-palm-value-chain-opportunities-for-productivity-profitability-and-sustainability-gains/\n"
     ]
    },
    {
     "name": "stderr",
     "output_type": "stream",
     "text": [
      "  % Total    % Received % Xferd  Average Speed   Time    Time     Time  Current\n",
      "                                 Dload  Upload   Total   Spent    Left  Speed\n",
      "\n",
      "  0     0    0     0    0     0      0      0 --:--:-- --:--:-- --:--:--     0\n",
      "  0     0    0     0    0     0      0      0 --:--:-- --:--:-- --:--:--     0\n",
      " 20 1304k   20  271k    0     0   187k      0  0:00:06  0:00:01  0:00:05  187k\n",
      "100 1304k  100 1304k    0     0   603k      0  0:00:02  0:00:02 --:--:--  604k\n"
     ]
    },
    {
     "name": "stdout",
     "output_type": "stream",
     "text": [
      "363\n",
      "https://www.climatepolicyinitiative.org/publication/climate-finance-in-2013-14-and-the-usd-100-billion-goal/\n"
     ]
    },
    {
     "name": "stderr",
     "output_type": "stream",
     "text": [
      "  % Total    % Received % Xferd  Average Speed   Time    Time     Time  Current\n",
      "                                 Dload  Upload   Total   Spent    Left  Speed\n",
      "\n",
      "  0     0    0     0    0     0      0      0 --:--:-- --:--:-- --:--:--     0\n",
      "  0     0    0     0    0     0      0      0 --:--:-- --:--:-- --:--:--     0\n",
      "  2 2748k    2 81525    0     0  70126      0  0:00:40  0:00:01  0:00:39 70219\n",
      " 74 2748k   74 2047k    0     0   946k      0  0:00:02  0:00:02 --:--:--  946k\n",
      "100 2748k  100 2748k    0     0  1056k      0  0:00:02  0:00:02 --:--:-- 1056k\n"
     ]
    },
    {
     "name": "stdout",
     "output_type": "stream",
     "text": [
      "364\n",
      "https://www.climatepolicyinitiative.org/publication/the-role-of-technical-assistance-in-mobilizing-climate-finance-insights-from-giz-programs-2/\n"
     ]
    },
    {
     "name": "stderr",
     "output_type": "stream",
     "text": [
      "  % Total    % Received % Xferd  Average Speed   Time    Time     Time  Current\n",
      "                                 Dload  Upload   Total   Spent    Left  Speed\n",
      "\n",
      "  0     0    0     0    0     0      0      0 --:--:-- --:--:-- --:--:--     0\n",
      "  0     0    0     0    0     0      0      0 --:--:-- --:--:-- --:--:--     0\n",
      "100   409    0   409    0     0    602      0 --:--:-- --:--:-- --:--:--   604\n"
     ]
    },
    {
     "name": "stdout",
     "output_type": "stream",
     "text": [
      "365\n",
      "https://www.climatepolicyinitiative.org/publication/towards-efficient-land-use-in-brazil/\n"
     ]
    },
    {
     "name": "stderr",
     "output_type": "stream",
     "text": [
      "  % Total    % Received % Xferd  Average Speed   Time    Time     Time  Current\n",
      "                                 Dload  Upload   Total   Spent    Left  Speed\n",
      "\n",
      "  0     0    0     0    0     0      0      0 --:--:-- --:--:-- --:--:--     0\n",
      "  0     0    0     0    0     0      0      0 --:--:-- --:--:-- --:--:--     0\n",
      " 34 1053k   34  367k    0     0   311k      0  0:00:03  0:00:01  0:00:02  311k\n",
      "100 1053k  100 1053k    0     0   650k      0  0:00:01  0:00:01 --:--:--  651k\n"
     ]
    },
    {
     "name": "stdout",
     "output_type": "stream",
     "text": [
      "366\n",
      "https://www.climatepolicyinitiative.org/publication/what-counts-tools-to-help-define-and-understand-progress-towards-the-100-billion-climate-finance-commitment/\n"
     ]
    },
    {
     "name": "stderr",
     "output_type": "stream",
     "text": [
      "  % Total    % Received % Xferd  Average Speed   Time    Time     Time  Current\n",
      "                                 Dload  Upload   Total   Spent    Left  Speed\n",
      "\n",
      "  0     0    0     0    0     0      0      0 --:--:-- --:--:-- --:--:--     0\n",
      "  0     0    0     0    0     0      0      0 --:--:-- --:--:-- --:--:--     0\n",
      "100  428k  100  428k    0     0   343k      0  0:00:01  0:00:01 --:--:--  344k\n"
     ]
    },
    {
     "name": "stdout",
     "output_type": "stream",
     "text": [
      "367\n",
      "https://www.climatepolicyinitiative.org/publication/lessons-role-public-finance-deploying-geothermal-energy-developing-countries/\n"
     ]
    },
    {
     "name": "stderr",
     "output_type": "stream",
     "text": [
      "  % Total    % Received % Xferd  Average Speed   Time    Time     Time  Current\n",
      "                                 Dload  Upload   Total   Spent    Left  Speed\n",
      "\n",
      "  0     0    0     0    0     0      0      0 --:--:-- --:--:-- --:--:--     0\n",
      "  0     0    0     0    0     0      0      0 --:--:-- --:--:-- --:--:--     0\n",
      "100  183k  100  183k    0     0   172k      0  0:00:01  0:00:01 --:--:--  172k\n"
     ]
    },
    {
     "name": "stdout",
     "output_type": "stream",
     "text": [
      "368\n",
      "https://www.climatepolicyinitiative.org/publication/landscape-climate-exposure-investors/\n"
     ]
    },
    {
     "name": "stderr",
     "output_type": "stream",
     "text": [
      "  % Total    % Received % Xferd  Average Speed   Time    Time     Time  Current\n",
      "                                 Dload  Upload   Total   Spent    Left  Speed\n",
      "\n",
      "  0     0    0     0    0     0      0      0 --:--:-- --:--:-- --:--:--     0\n",
      "  0     0    0     0    0     0      0      0 --:--:-- --:--:-- --:--:--     0\n",
      "100  431k  100  431k    0     0   322k      0  0:00:01  0:00:01 --:--:--  322k\n"
     ]
    },
    {
     "name": "stdout",
     "output_type": "stream",
     "text": [
      "369\n",
      "https://www.climatepolicyinitiative.org/publication/strengthening-brazils-forest-protection-in-a-changing-landscape/\n"
     ]
    },
    {
     "name": "stderr",
     "output_type": "stream",
     "text": [
      "  % Total    % Received % Xferd  Average Speed   Time    Time     Time  Current\n",
      "                                 Dload  Upload   Total   Spent    Left  Speed\n",
      "\n",
      "  0     0    0     0    0     0      0      0 --:--:-- --:--:-- --:--:--     0\n",
      "  0     0    0     0    0     0      0      0 --:--:-- --:--:-- --:--:--     0\n",
      " 53 1277k   53  687k    0     0   432k      0  0:00:02  0:00:01  0:00:01  432k\n",
      "100 1277k  100 1277k    0     0   575k      0  0:00:02  0:00:02 --:--:--  576k\n"
     ]
    },
    {
     "name": "stdout",
     "output_type": "stream",
     "text": [
      "370\n",
      "https://www.climatepolicyinitiative.org/publication/technological-change-and-deforestation-evidence-from-the-brazilian-soybean-revolution/\n"
     ]
    },
    {
     "name": "stderr",
     "output_type": "stream",
     "text": [
      "  % Total    % Received % Xferd  Average Speed   Time    Time     Time  Current\n",
      "                                 Dload  Upload   Total   Spent    Left  Speed\n",
      "\n",
      "  0     0    0     0    0     0      0      0 --:--:-- --:--:-- --:--:--     0\n",
      "  0     0    0     0    0     0      0      0 --:--:-- --:--:-- --:--:--     0\n",
      "100  547k  100  547k    0     0   437k      0  0:00:01  0:00:01 --:--:--  438k\n"
     ]
    },
    {
     "name": "stdout",
     "output_type": "stream",
     "text": [
      "371\n",
      "https://www.climatepolicyinitiative.org/publication/prices-land-use-and-deforestation-evidence-from-the-tapajos-basin/\n"
     ]
    },
    {
     "name": "stderr",
     "output_type": "stream",
     "text": [
      "  % Total    % Received % Xferd  Average Speed   Time    Time     Time  Current\n",
      "                                 Dload  Upload   Total   Spent    Left  Speed\n",
      "\n",
      "  0     0    0     0    0     0      0      0 --:--:-- --:--:-- --:--:--     0\n",
      "  0     0    0     0    0     0      0      0 --:--:-- --:--:-- --:--:--     0\n",
      " 42 1548k   42  655k    0     0   506k      0  0:00:03  0:00:01  0:00:02  507k\n",
      "100 1548k  100 1548k    0     0   843k      0  0:00:01  0:00:01 --:--:--  844k\n"
     ]
    },
    {
     "name": "stdout",
     "output_type": "stream",
     "text": [
      "372\n",
      "https://www.climatepolicyinitiative.org/publication/lab-instrument-analysis-energy-savings-insurance/\n",
      "373\n",
      "https://www.climatepolicyinitiative.org/publication/risk-mitigation-instruments-for-renewable-energy-in-developing-countries-a-case-study-on-hydropower-in-africa/\n"
     ]
    },
    {
     "name": "stderr",
     "output_type": "stream",
     "text": [
      "  % Total    % Received % Xferd  Average Speed   Time    Time     Time  Current\n",
      "                                 Dload  Upload   Total   Spent    Left  Speed\n",
      "\n",
      "  0     0    0     0    0     0      0      0 --:--:-- --:--:-- --:--:--     0\n",
      "100   429    0   429    0     0    713      0 --:--:-- --:--:-- --:--:--   717\n"
     ]
    },
    {
     "name": "stdout",
     "output_type": "stream",
     "text": [
      "374\n",
      "https://www.climatepolicyinitiative.org/publication/three-tools-to-unlock-finance-for-land-use-mitigation-and-adaptation/\n"
     ]
    },
    {
     "name": "stderr",
     "output_type": "stream",
     "text": [
      "  % Total    % Received % Xferd  Average Speed   Time    Time     Time  Current\n",
      "                                 Dload  Upload   Total   Spent    Left  Speed\n",
      "\n",
      "  0     0    0     0    0     0      0      0 --:--:-- --:--:-- --:--:--     0\n",
      "  0     0    0     0    0     0      0      0 --:--:-- --:--:-- --:--:--     0\n",
      " 62  998k   62  623k    0     0   499k      0  0:00:01  0:00:01 --:--:--  500k\n",
      "100  998k  100  998k    0     0   695k      0  0:00:01  0:00:01 --:--:--  696k\n"
     ]
    },
    {
     "name": "stdout",
     "output_type": "stream",
     "text": [
      "375\n",
      "https://www.climatepolicyinitiative.org/publication/reaching-indias-renewable-energy-targets-cost-effectively-a-foreign-exchange-hedging-facility/\n"
     ]
    },
    {
     "name": "stderr",
     "output_type": "stream",
     "text": [
      "  % Total    % Received % Xferd  Average Speed   Time    Time     Time  Current\n",
      "                                 Dload  Upload   Total   Spent    Left  Speed\n",
      "\n",
      "  0     0    0     0    0     0      0      0 --:--:-- --:--:-- --:--:--     0\n",
      "  0     0    0     0    0     0      0      0 --:--:-- --:--:-- --:--:--     0\n",
      "100 68541  100 68541    0     0  75610      0 --:--:-- --:--:-- --:--:-- 75735\n"
     ]
    },
    {
     "name": "stdout",
     "output_type": "stream",
     "text": [
      "376\n",
      "https://www.climatepolicyinitiative.org/publication/using-private-finance-to-accelerate-geothermal-deployment-sarulla-geothermal-power-plant-indonesia/\n"
     ]
    },
    {
     "name": "stderr",
     "output_type": "stream",
     "text": [
      "  % Total    % Received % Xferd  Average Speed   Time    Time     Time  Current\n",
      "                                 Dload  Upload   Total   Spent    Left  Speed\n",
      "\n",
      "  0     0    0     0    0     0      0      0 --:--:-- --:--:-- --:--:--     0\n",
      "  0     0    0     0    0     0      0      0 --:--:-- --:--:-- --:--:--     0\n",
      "100  212k  100  212k    0     0   189k      0  0:00:01  0:00:01 --:--:--  189k\n"
     ]
    },
    {
     "name": "stdout",
     "output_type": "stream",
     "text": [
      "377\n",
      "https://www.climatepolicyinitiative.org/publication/emerging-solutions-to-drive-private-investment-in-climate-resilience/\n"
     ]
    },
    {
     "name": "stderr",
     "output_type": "stream",
     "text": [
      "  % Total    % Received % Xferd  Average Speed   Time    Time     Time  Current\n",
      "                                 Dload  Upload   Total   Spent    Left  Speed\n",
      "\n",
      "  0     0    0     0    0     0      0      0 --:--:-- --:--:-- --:--:--     0\n",
      "  0     0    0     0    0     0      0      0 --:--:-- --:--:-- --:--:--     0\n",
      "100  599k  100  599k    0     0   446k      0  0:00:01  0:00:01 --:--:--  446k\n"
     ]
    },
    {
     "name": "stdout",
     "output_type": "stream",
     "text": [
      "378\n",
      "https://www.climatepolicyinitiative.org/publication/achieving-a-high-productivity-sustainable-palm-oil-sector-in-indonesia-a-landscape-management-approach/\n"
     ]
    },
    {
     "name": "stderr",
     "output_type": "stream",
     "text": [
      "  % Total    % Received % Xferd  Average Speed   Time    Time     Time  Current\n",
      "                                 Dload  Upload   Total   Spent    Left  Speed\n",
      "\n",
      "  0     0    0     0    0     0      0      0 --:--:-- --:--:-- --:--:--     0\n",
      "  0     0    0     0    0     0      0      0 --:--:-- --:--:-- --:--:--     0\n",
      "100  266k  100  266k    0     0   250k      0  0:00:01  0:00:01 --:--:--  251k\n"
     ]
    },
    {
     "name": "stdout",
     "output_type": "stream",
     "text": [
      "379\n",
      "https://www.climatepolicyinitiative.org/publication/background-report-for-g7-on-long-term-climate-finance/\n"
     ]
    },
    {
     "name": "stderr",
     "output_type": "stream",
     "text": [
      "  % Total    % Received % Xferd  Average Speed   Time    Time     Time  Current\n",
      "                                 Dload  Upload   Total   Spent    Left  Speed\n",
      "\n",
      "  0     0    0     0    0     0      0      0 --:--:-- --:--:-- --:--:--     0\n",
      "  3 1298k    3 48757    0     0  56267      0  0:00:23 --:--:--  0:00:23 56366\n",
      "100 1298k  100 1298k    0     0   765k      0  0:00:01  0:00:01 --:--:--  767k\n"
     ]
    },
    {
     "name": "stdout",
     "output_type": "stream",
     "text": [
      "380\n",
      "https://www.climatepolicyinitiative.org/publication/using-public-finance-to-attract-private-investment-in-geothermal-olkaria-iii-case-study-kenya/\n"
     ]
    },
    {
     "name": "stderr",
     "output_type": "stream",
     "text": [
      "  % Total    % Received % Xferd  Average Speed   Time    Time     Time  Current\n",
      "                                 Dload  Upload   Total   Spent    Left  Speed\n",
      "\n",
      "  0     0    0     0    0     0      0      0 --:--:-- --:--:-- --:--:--     0\n",
      " 49  255k   49  127k    0     0   132k      0  0:00:01 --:--:--  0:00:01  133k\n",
      "100  255k  100  255k    0     0   245k      0  0:00:01  0:00:01 --:--:--  246k\n"
     ]
    },
    {
     "name": "stdout",
     "output_type": "stream",
     "text": [
      "381\n",
      "https://www.climatepolicyinitiative.org/publication/reaching-indias-renewable-energy-targets-effective-project-allocation-mechanisms/\n"
     ]
    },
    {
     "name": "stderr",
     "output_type": "stream",
     "text": [
      "  % Total    % Received % Xferd  Average Speed   Time    Time     Time  Current\n",
      "                                 Dload  Upload   Total   Spent    Left  Speed\n",
      "\n",
      "  0     0    0     0    0     0      0      0 --:--:-- --:--:-- --:--:--     0\n",
      "  0     0    0     0    0     0      0      0 --:--:-- --:--:-- --:--:--     0\n",
      " 57  221k   57  127k    0     0   122k      0  0:00:01  0:00:01 --:--:--  123k\n",
      "100  221k  100  221k    0     0   202k      0  0:00:01  0:00:01 --:--:--  202k\n"
     ]
    },
    {
     "name": "stdout",
     "output_type": "stream",
     "text": [
      "382\n",
      "https://www.climatepolicyinitiative.org/publication/oil-palm-smallholder-farmers-study/\n"
     ]
    },
    {
     "name": "stderr",
     "output_type": "stream",
     "text": [
      "  % Total    % Received % Xferd  Average Speed   Time    Time     Time  Current\n",
      "                                 Dload  Upload   Total   Spent    Left  Speed\n",
      "\n",
      "  0     0    0     0    0     0      0      0 --:--:-- --:--:-- --:--:--     0\n",
      "  8  953k    8 81526    0     0  90650      0  0:00:10 --:--:--  0:00:10 90786\n",
      "100  953k  100  953k    0     0   634k      0  0:00:01  0:00:01 --:--:--  634k\n"
     ]
    },
    {
     "name": "stdout",
     "output_type": "stream",
     "text": [
      "383\n",
      "https://www.climatepolicyinitiative.org/publication/the-global-innovation-lab-for-climate-finance-phase-3-instrument-reports/\n"
     ]
    },
    {
     "name": "stderr",
     "output_type": "stream",
     "text": [
      "  % Total    % Received % Xferd  Average Speed   Time    Time     Time  Current\n",
      "                                 Dload  Upload   Total   Spent    Left  Speed\n",
      "\n",
      "  0     0    0     0    0     0      0      0 --:--:-- --:--:-- --:--:--     0\n",
      "  0     0    0     0    0     0      0      0 --:--:-- --:--:-- --:--:--     0\n",
      " 26 7530k   26 1999k    0     0  1229k      0  0:00:06  0:00:01  0:00:05 1231k\n",
      " 57 7530k   57 4335k    0     0  1649k      0  0:00:04  0:00:02  0:00:02 1651k\n",
      " 85 7530k   85 6431k    0     0  1774k      0  0:00:04  0:00:03  0:00:01 1775k\n",
      "100 7530k  100 7530k    0     0  1938k      0  0:00:03  0:00:03 --:--:-- 1939k\n"
     ]
    },
    {
     "name": "stdout",
     "output_type": "stream",
     "text": [
      "384\n",
      "https://www.climatepolicyinitiative.org/publication/reaching-indias-renewable-energy-targets-cost-effectively/\n"
     ]
    },
    {
     "name": "stderr",
     "output_type": "stream",
     "text": [
      "  % Total    % Received % Xferd  Average Speed   Time    Time     Time  Current\n",
      "                                 Dload  Upload   Total   Spent    Left  Speed\n",
      "\n",
      "  0     0    0     0    0     0      0      0 --:--:-- --:--:-- --:--:--     0\n",
      " 45  282k   45  127k    0     0   129k      0  0:00:02 --:--:--  0:00:02  129k\n",
      "100  282k  100  282k    0     0   263k      0  0:00:01  0:00:01 --:--:--  264k\n"
     ]
    },
    {
     "name": "stdout",
     "output_type": "stream",
     "text": [
      "385\n",
      "https://www.climatepolicyinitiative.org/publication/lab-instrument-analysis-climate-investor-one/\n"
     ]
    },
    {
     "name": "stderr",
     "output_type": "stream",
     "text": [
      "  % Total    % Received % Xferd  Average Speed   Time    Time     Time  Current\n",
      "                                 Dload  Upload   Total   Spent    Left  Speed\n",
      "\n",
      "  0     0    0     0    0     0      0      0 --:--:-- --:--:-- --:--:--     0\n",
      "  0     0    0     0    0     0      0      0 --:--:-- --:--:-- --:--:--     0\n",
      "100  406k  100  406k    0     0   348k      0  0:00:01  0:00:01 --:--:--  348k\n"
     ]
    },
    {
     "name": "stdout",
     "output_type": "stream",
     "text": [
      "386\n",
      "https://www.climatepolicyinitiative.org/publication/public-finance-and-private-exploration-in-geothermal-gumuskoy-case-study-turkey/\n"
     ]
    },
    {
     "name": "stderr",
     "output_type": "stream",
     "text": [
      "  % Total    % Received % Xferd  Average Speed   Time    Time     Time  Current\n",
      "                                 Dload  Upload   Total   Spent    Left  Speed\n",
      "\n",
      "  0     0    0     0    0     0      0      0 --:--:-- --:--:-- --:--:--     0\n",
      "  6  245k    6 15990    0     0  15467      0  0:00:16  0:00:01  0:00:15 15509\n",
      "100  245k  100  245k    0     0   170k      0  0:00:01  0:00:01 --:--:--  171k\n"
     ]
    },
    {
     "name": "stdout",
     "output_type": "stream",
     "text": [
      "387\n",
      "https://www.climatepolicyinitiative.org/publication/deforestation-slowdown-in-the-brazilian-amazon-prices-or-policies/\n"
     ]
    },
    {
     "name": "stderr",
     "output_type": "stream",
     "text": [
      "  % Total    % Received % Xferd  Average Speed   Time    Time     Time  Current\n",
      "                                 Dload  Upload   Total   Spent    Left  Speed\n",
      "\n",
      "  0     0    0     0    0     0      0      0 --:--:-- --:--:-- --:--:--     0\n",
      "  0     0    0     0    0     0      0      0 --:--:-- --:--:-- --:--:--     0\n",
      "100  188k  100  188k    0     0   178k      0  0:00:01  0:00:01 --:--:--  179k\n"
     ]
    },
    {
     "name": "stdout",
     "output_type": "stream",
     "text": [
      "388\n",
      "https://www.climatepolicyinitiative.org/publication/improving-agricultural-productivity-in-brazil-the-unmet-potential-of-price-risk-policy/\n"
     ]
    },
    {
     "name": "stderr",
     "output_type": "stream",
     "text": [
      "  % Total    % Received % Xferd  Average Speed   Time    Time     Time  Current\n",
      "                                 Dload  Upload   Total   Spent    Left  Speed\n",
      "\n",
      "  0     0    0     0    0     0      0      0 --:--:-- --:--:-- --:--:--     0\n",
      "  0     0    0     0    0     0      0      0 --:--:-- --:--:-- --:--:--     0\n",
      " 65  440k   65  287k    0     0   252k      0  0:00:01  0:00:01 --:--:--  253k\n",
      "100  440k  100  440k    0     0   368k      0  0:00:01  0:00:01 --:--:--  368k\n"
     ]
    },
    {
     "name": "stdout",
     "output_type": "stream",
     "text": [
      "389\n",
      "https://www.climatepolicyinitiative.org/publication/global-innovation-lab-climate-finance-phase-2-instrument-synthesis-reports/\n"
     ]
    },
    {
     "name": "stderr",
     "output_type": "stream",
     "text": [
      "  % Total    % Received % Xferd  Average Speed   Time    Time     Time  Current\n",
      "                                 Dload  Upload   Total   Spent    Left  Speed\n",
      "\n",
      "  0     0    0     0    0     0      0      0 --:--:-- --:--:-- --:--:--     0\n",
      "  6  249k    6 15990    0     0  18563      0  0:00:13 --:--:--  0:00:13 18593\n",
      "100  249k  100  249k    0     0   229k      0  0:00:01  0:00:01 --:--:--  230k\n"
     ]
    },
    {
     "name": "stdout",
     "output_type": "stream",
     "text": [
      "390\n",
      "https://www.climatepolicyinitiative.org/publication/global-landscape-of-climate-finance-2014/\n"
     ]
    },
    {
     "name": "stderr",
     "output_type": "stream",
     "text": [
      "  % Total    % Received % Xferd  Average Speed   Time    Time     Time  Current\n",
      "                                 Dload  Upload   Total   Spent    Left  Speed\n",
      "\n",
      "  0     0    0     0    0     0      0      0 --:--:-- --:--:-- --:--:--     0\n",
      "  4  383k    4 15990    0     0  18692      0  0:00:21 --:--:--  0:00:21 18745\n",
      "100  383k  100  383k    0     0   291k      0  0:00:01  0:00:01 --:--:--  292k\n"
     ]
    },
    {
     "name": "stdout",
     "output_type": "stream",
     "text": [
      "391\n",
      "https://www.climatepolicyinitiative.org/publication/fact-sheet-supporting-sustainable-development-in-central-kalimantan-with-the-palangkaraya-institute-for-land-and-agricultural-research/\n"
     ]
    },
    {
     "name": "stderr",
     "output_type": "stream",
     "text": [
      "  % Total    % Received % Xferd  Average Speed   Time    Time     Time  Current\n",
      "                                 Dload  Upload   Total   Spent    Left  Speed\n",
      "\n",
      "  0     0    0     0    0     0      0      0 --:--:-- --:--:-- --:--:--     0\n",
      "  0     0    0     0    0     0      0      0 --:--:-- --:--:-- --:--:--     0\n",
      "100  121k  100  121k    0     0   116k      0  0:00:01  0:00:01 --:--:--  116k\n"
     ]
    },
    {
     "name": "stdout",
     "output_type": "stream",
     "text": [
      "392\n",
      "https://www.climatepolicyinitiative.org/publication/fact-sheet-the-production-protection-strategy-in-indonesia/\n"
     ]
    },
    {
     "name": "stderr",
     "output_type": "stream",
     "text": [
      "  % Total    % Received % Xferd  Average Speed   Time    Time     Time  Current\n",
      "                                 Dload  Upload   Total   Spent    Left  Speed\n",
      "\n",
      "  0     0    0     0    0     0      0      0 --:--:-- --:--:-- --:--:--     0\n",
      "  0     0    0     0    0     0      0      0 --:--:-- --:--:-- --:--:--     0\n",
      "100 30780  100 30780    0     0  40058      0 --:--:-- --:--:-- --:--:-- 40130\n"
     ]
    },
    {
     "name": "stdout",
     "output_type": "stream",
     "text": [
      "393\n",
      "https://www.climatepolicyinitiative.org/publication/san-giorgio-group-report-role-public-finance-deploying-geothermal-background-paper/\n"
     ]
    },
    {
     "name": "stderr",
     "output_type": "stream",
     "text": [
      "  % Total    % Received % Xferd  Average Speed   Time    Time     Time  Current\n",
      "                                 Dload  Upload   Total   Spent    Left  Speed\n",
      "\n",
      "  0     0    0     0    0     0      0      0 --:--:-- --:--:-- --:--:--     0\n",
      "  0     0    0     0    0     0      0      0 --:--:-- --:--:-- --:--:--     0\n",
      "100  236k  100  236k    0     0   191k      0  0:00:01  0:00:01 --:--:--  191k\n"
     ]
    },
    {
     "name": "stdout",
     "output_type": "stream",
     "text": [
      "394\n",
      "https://www.climatepolicyinitiative.org/publication/moving-to-a-low-carbon-economy/\n"
     ]
    },
    {
     "name": "stderr",
     "output_type": "stream",
     "text": [
      "  % Total    % Received % Xferd  Average Speed   Time    Time     Time  Current\n",
      "                                 Dload  Upload   Total   Spent    Left  Speed\n",
      "\n",
      "  0     0    0     0    0     0      0      0 --:--:-- --:--:-- --:--:--     0\n",
      "  0     0    0     0    0     0      0      0 --:--:-- --:--:-- --:--:--     0\n",
      "100 29618  100 29618    0     0  41341      0 --:--:-- --:--:-- --:--:-- 41423\n"
     ]
    },
    {
     "name": "stdout",
     "output_type": "stream",
     "text": [
      "395\n",
      "https://www.climatepolicyinitiative.org/publication/getting-greener-going-black-priority-municipalities-brazil/\n"
     ]
    },
    {
     "name": "stderr",
     "output_type": "stream",
     "text": [
      "  % Total    % Received % Xferd  Average Speed   Time    Time     Time  Current\n",
      "                                 Dload  Upload   Total   Spent    Left  Speed\n",
      "\n",
      "  0     0    0     0    0     0      0      0 --:--:-- --:--:-- --:--:--     0\n",
      "  0     0    0     0    0     0      0      0 --:--:-- --:--:-- --:--:--     0\n",
      "  9 6050k    9  559k    0     0   332k      0  0:00:18  0:00:01  0:00:17  332k\n",
      " 27 6050k   27 1663k    0     0   629k      0  0:00:09  0:00:02  0:00:07  629k\n",
      " 50 6050k   50 3039k    0     0   834k      0  0:00:07  0:00:03  0:00:04  834k\n",
      " 80 6050k   80 4863k    0     0  1046k      0  0:00:05  0:00:04  0:00:01 1046k\n",
      "100 6050k  100 6050k    0     0  1158k      0  0:00:05  0:00:05 --:--:-- 1362k\n"
     ]
    },
    {
     "name": "stdout",
     "output_type": "stream",
     "text": [
      "396\n",
      "https://www.climatepolicyinitiative.org/publication/early-lessons-energy-performance-contracts-italy-milan-energy-efficiency/\n"
     ]
    },
    {
     "name": "stderr",
     "output_type": "stream",
     "text": [
      "  % Total    % Received % Xferd  Average Speed   Time    Time     Time  Current\n",
      "                                 Dload  Upload   Total   Spent    Left  Speed\n",
      "\n",
      "  0     0    0     0    0     0      0      0 --:--:-- --:--:-- --:--:--     0\n",
      "  0     0    0     0    0     0      0      0 --:--:-- --:--:-- --:--:--     0\n",
      "100  109k  100  109k    0     0   113k      0 --:--:-- --:--:-- --:--:--  113k\n"
     ]
    },
    {
     "name": "stdout",
     "output_type": "stream",
     "text": [
      "397\n",
      "https://www.climatepolicyinitiative.org/publication/san-giorgio-group-brief-spain-created-world-leading-csp-industry-shattered-investor-confidence/\n"
     ]
    },
    {
     "name": "stderr",
     "output_type": "stream",
     "text": [
      "  % Total    % Received % Xferd  Average Speed   Time    Time     Time  Current\n",
      "                                 Dload  Upload   Total   Spent    Left  Speed\n",
      "\n",
      "  0     0    0     0    0     0      0      0 --:--:-- --:--:-- --:--:--     0\n",
      "100   473    0   473    0     0    775      0 --:--:-- --:--:-- --:--:--   777\n",
      "100   473    0   473    0     0    775      0 --:--:-- --:--:-- --:--:--   777\n"
     ]
    },
    {
     "name": "stdout",
     "output_type": "stream",
     "text": [
      "398\n",
      "https://www.climatepolicyinitiative.org/publication/climate-finance-definitions-improve-tracking-scale-climate-finance/\n"
     ]
    },
    {
     "name": "stderr",
     "output_type": "stream",
     "text": [
      "  % Total    % Received % Xferd  Average Speed   Time    Time     Time  Current\n",
      "                                 Dload  Upload   Total   Spent    Left  Speed\n",
      "\n",
      "  0     0    0     0    0     0      0      0 --:--:-- --:--:-- --:--:--     0\n",
      "  0     0    0     0    0     0      0      0 --:--:-- --:--:-- --:--:--     0\n",
      "100  150k  100  150k    0     0   154k      0 --:--:-- --:--:-- --:--:--  155k\n"
     ]
    },
    {
     "name": "stdout",
     "output_type": "stream",
     "text": [
      "399\n",
      "https://www.climatepolicyinitiative.org/publication/landscape-of-public-climate-finance-in-indonesia-3/\n"
     ]
    },
    {
     "name": "stderr",
     "output_type": "stream",
     "text": [
      "  % Total    % Received % Xferd  Average Speed   Time    Time     Time  Current\n",
      "                                 Dload  Upload   Total   Spent    Left  Speed\n",
      "\n",
      "  0     0    0     0    0     0      0      0 --:--:-- --:--:-- --:--:--     0\n",
      " 25  311k   25 81526    0     0  89547      0  0:00:03 --:--:--  0:00:03 89687\n",
      "100  311k  100  311k    0     0   286k      0  0:00:01  0:00:01 --:--:--  286k\n"
     ]
    },
    {
     "name": "stdout",
     "output_type": "stream",
     "text": [
      "400\n",
      "https://www.climatepolicyinitiative.org/publication/pemetaan-pendanaan-publik-untuk-perubahan-iklim-di-indonesia/\n"
     ]
    },
    {
     "name": "stderr",
     "output_type": "stream",
     "text": [
      "  % Total    % Received % Xferd  Average Speed   Time    Time     Time  Current\n",
      "                                 Dload  Upload   Total   Spent    Left  Speed\n",
      "\n",
      "  0     0    0     0    0     0      0      0 --:--:-- --:--:-- --:--:--     0\n",
      "  0     0    0     0    0     0      0      0 --:--:-- --:--:-- --:--:--     0\n",
      "100  112k  100  112k    0     0  92529      0  0:00:01  0:00:01 --:--:-- 92707\n"
     ]
    },
    {
     "name": "stdout",
     "output_type": "stream",
     "text": [
      "401\n",
      "https://www.climatepolicyinitiative.org/publication/cap-and-trade-in-practice-barriers-and-opportunities-for-industrial-emissions-reductions-in-california/\n"
     ]
    },
    {
     "name": "stderr",
     "output_type": "stream",
     "text": [
      "  % Total    % Received % Xferd  Average Speed   Time    Time     Time  Current\n",
      "                                 Dload  Upload   Total   Spent    Left  Speed\n",
      "\n",
      "  0     0    0     0    0     0      0      0 --:--:-- --:--:-- --:--:--     0\n",
      "  0     0    0     0    0     0      0      0 --:--:-- --:--:-- --:--:--     0\n",
      "100  237k  100  237k    0     0   192k      0  0:00:01  0:00:01 --:--:--  193k\n"
     ]
    },
    {
     "name": "stdout",
     "output_type": "stream",
     "text": [
      "402\n",
      "https://www.climatepolicyinitiative.org/publication/getting-the-most-from-your-green-a-case-study-for-using-public-money-effectively-for-large-scale-renewable-energy-in-california/\n"
     ]
    },
    {
     "name": "stderr",
     "output_type": "stream",
     "text": [
      "  % Total    % Received % Xferd  Average Speed   Time    Time     Time  Current\n",
      "                                 Dload  Upload   Total   Spent    Left  Speed\n",
      "\n",
      "  0     0    0     0    0     0      0      0 --:--:-- --:--:-- --:--:--     0\n",
      "  0     0    0     0    0     0      0      0 --:--:-- --:--:-- --:--:--     0\n",
      "100  276k  100  276k    0     0   226k      0  0:00:01  0:00:01 --:--:--  227k\n"
     ]
    },
    {
     "name": "stdout",
     "output_type": "stream",
     "text": [
      "403\n",
      "https://www.climatepolicyinitiative.org/publication/land-rental-markets-in-brazil-a-missed-opportunity/\n"
     ]
    },
    {
     "name": "stderr",
     "output_type": "stream",
     "text": [
      "  % Total    % Received % Xferd  Average Speed   Time    Time     Time  Current\n",
      "                                 Dload  Upload   Total   Spent    Left  Speed\n",
      "\n",
      "  0     0    0     0    0     0      0      0 --:--:-- --:--:-- --:--:--     0\n",
      "  0     0    0     0    0     0      0      0 --:--:-- --:--:-- --:--:--     0\n",
      "100  560k  100  560k    0     0   477k      0  0:00:01  0:00:01 --:--:--  478k\n"
     ]
    },
    {
     "name": "stdout",
     "output_type": "stream",
     "text": [
      "404\n",
      "https://www.climatepolicyinitiative.org/publication/role-of-public-finance-in-csp-lessons-learned/\n"
     ]
    },
    {
     "name": "stderr",
     "output_type": "stream",
     "text": [
      "  % Total    % Received % Xferd  Average Speed   Time    Time     Time  Current\n",
      "                                 Dload  Upload   Total   Spent    Left  Speed\n",
      "\n",
      "  0     0    0     0    0     0      0      0 --:--:-- --:--:-- --:--:--     0\n",
      "  0     0    0     0    0     0      0      0 --:--:-- --:--:-- --:--:--     0\n",
      "100  211k  100  211k    0     0   187k      0  0:00:01  0:00:01 --:--:--  187k\n"
     ]
    },
    {
     "name": "stdout",
     "output_type": "stream",
     "text": [
      "405\n",
      "https://www.climatepolicyinitiative.org/publication/roadmap-to-a-low-carbon-electricity-system-in-the-u-s-and-europe/\n"
     ]
    },
    {
     "name": "stderr",
     "output_type": "stream",
     "text": [
      "  % Total    % Received % Xferd  Average Speed   Time    Time     Time  Current\n",
      "                                 Dload  Upload   Total   Spent    Left  Speed\n",
      "\n",
      "  0     0    0     0    0     0      0      0 --:--:-- --:--:-- --:--:--     0\n",
      "100 37058  100 37058    0     0  47252      0 --:--:-- --:--:-- --:--:-- 47388\n"
     ]
    },
    {
     "name": "stdout",
     "output_type": "stream",
     "text": [
      "406\n",
      "https://www.climatepolicyinitiative.org/publication/san-giorgio-group-case-study-eskom-csp-100mw-plant-south-africa/\n"
     ]
    },
    {
     "name": "stderr",
     "output_type": "stream",
     "text": [
      "  % Total    % Received % Xferd  Average Speed   Time    Time     Time  Current\n",
      "                                 Dload  Upload   Total   Spent    Left  Speed\n",
      "\n",
      "  0     0    0     0    0     0      0      0 --:--:-- --:--:-- --:--:--     0\n",
      "  0     0    0     0    0     0      0      0 --:--:-- --:--:-- --:--:--     0\n",
      "100  303k  100  303k    0     0   217k      0  0:00:01  0:00:01 --:--:--  217k\n"
     ]
    },
    {
     "name": "stdout",
     "output_type": "stream",
     "text": [
      "407\n",
      "https://www.climatepolicyinitiative.org/publication/misreporting-in-wind-power-contracts-evidence-from-a-feed-in-tariff-in-brazil/\n"
     ]
    },
    {
     "name": "stderr",
     "output_type": "stream",
     "text": [
      "  % Total    % Received % Xferd  Average Speed   Time    Time     Time  Current\n",
      "                                 Dload  Upload   Total   Spent    Left  Speed\n",
      "\n",
      "  0     0    0     0    0     0      0      0 --:--:-- --:--:-- --:--:--     0\n",
      "  0     0    0     0    0     0      0      0 --:--:-- --:--:-- --:--:--     0\n",
      " 95  167k   95  159k    0     0   145k      0  0:00:01  0:00:01 --:--:--  145k\n",
      "100  167k  100  167k    0     0   145k      0  0:00:01  0:00:01 --:--:--  145k\n"
     ]
    },
    {
     "name": "stdout",
     "output_type": "stream",
     "text": [
      "408\n",
      "https://www.climatepolicyinitiative.org/publication/operationalizing-the-private-sector-facility-of-the-green-climate-fund-addressing-investor-risk/\n"
     ]
    },
    {
     "name": "stderr",
     "output_type": "stream",
     "text": [
      "  % Total    % Received % Xferd  Average Speed   Time    Time     Time  Current\n",
      "                                 Dload  Upload   Total   Spent    Left  Speed\n",
      "\n",
      "  0     0    0     0    0     0      0      0 --:--:-- --:--:-- --:--:--     0\n",
      "  0     0    0     0    0     0      0      0 --:--:-- --:--:-- --:--:--     0\n",
      "100  156k  100  156k    0     0   153k      0  0:00:01  0:00:01 --:--:--  154k\n"
     ]
    },
    {
     "name": "stdout",
     "output_type": "stream",
     "text": [
      "409\n",
      "https://www.climatepolicyinitiative.org/publication/solving-indias-renewable-energy-financing-challenge-instruments-to-provide-low-cost-long-term-debt/\n"
     ]
    },
    {
     "name": "stderr",
     "output_type": "stream",
     "text": [
      "  % Total    % Received % Xferd  Average Speed   Time    Time     Time  Current\n",
      "                                 Dload  Upload   Total   Spent    Left  Speed\n",
      "\n",
      "  0     0    0     0    0     0      0      0 --:--:-- --:--:-- --:--:--     0\n",
      "  0     0    0     0    0     0      0      0 --:--:-- --:--:-- --:--:--     0\n",
      "100  310k  100  310k    0     0   256k      0  0:00:01  0:00:01 --:--:--  256k\n"
     ]
    },
    {
     "name": "stdout",
     "output_type": "stream",
     "text": [
      "410\n",
      "https://www.climatepolicyinitiative.org/publication/solving-indias-renewable-energy-financing-challenge-which-federal-policies-can-be-most-effective/\n"
     ]
    },
    {
     "name": "stderr",
     "output_type": "stream",
     "text": [
      "  % Total    % Received % Xferd  Average Speed   Time    Time     Time  Current\n",
      "                                 Dload  Upload   Total   Spent    Left  Speed\n",
      "\n",
      "  0     0    0     0    0     0      0      0 --:--:-- --:--:-- --:--:--     0\n",
      " 69  206k   69  143k    0     0   146k      0  0:00:01 --:--:--  0:00:01  147k\n",
      "100  206k  100  206k    0     0   193k      0  0:00:01  0:00:01 --:--:--  193k\n"
     ]
    },
    {
     "name": "stdout",
     "output_type": "stream",
     "text": [
      "411\n",
      "https://www.climatepolicyinitiative.org/publication/san-giorgio-group-case-study-the-role-of-public-finance-in-csp-india-rajasthan-sun-technique/\n"
     ]
    },
    {
     "name": "stderr",
     "output_type": "stream",
     "text": [
      "  % Total    % Received % Xferd  Average Speed   Time    Time     Time  Current\n",
      "                                 Dload  Upload   Total   Spent    Left  Speed\n",
      "\n",
      "  0     0    0     0    0     0      0      0 --:--:-- --:--:-- --:--:--     0\n",
      "  0     0    0     0    0     0      0      0 --:--:-- --:--:-- --:--:--     0\n",
      "  0     0    0     0    0     0      0      0 --:--:--  0:00:01 --:--:--     0\n",
      "100  239k  100  239k    0     0   118k      0  0:00:02  0:00:02 --:--:--  118k\n"
     ]
    },
    {
     "name": "stdout",
     "output_type": "stream",
     "text": [
      "412\n",
      "https://www.climatepolicyinitiative.org/publication/finance-mechanisms-for-lowering-the-cost-of-renewable-energy-in-rapidly-developing-countries/\n"
     ]
    },
    {
     "name": "stderr",
     "output_type": "stream",
     "text": [
      "  % Total    % Received % Xferd  Average Speed   Time    Time     Time  Current\n",
      "                                 Dload  Upload   Total   Spent    Left  Speed\n",
      "\n",
      "  0     0    0     0    0     0      0      0 --:--:-- --:--:-- --:--:--     0\n",
      "  0     0    0     0    0     0      0      0 --:--:-- --:--:-- --:--:--     0\n",
      "100  207k  100  207k    0     0   214k      0 --:--:-- --:--:-- --:--:--  214k\n"
     ]
    },
    {
     "name": "stdout",
     "output_type": "stream",
     "text": [
      "413\n",
      "https://www.climatepolicyinitiative.org/publication/san-giorgio-group-brief-the-role-of-public-finance-in-csp-background-and-approach-to-measure-its-effectiveness/\n"
     ]
    },
    {
     "name": "stderr",
     "output_type": "stream",
     "text": [
      "  % Total    % Received % Xferd  Average Speed   Time    Time     Time  Current\n",
      "                                 Dload  Upload   Total   Spent    Left  Speed\n",
      "\n",
      "  0     0    0     0    0     0      0      0 --:--:-- --:--:-- --:--:--     0\n",
      "  0     0    0     0    0     0      0      0 --:--:-- --:--:-- --:--:--     0\n",
      "100  207k  100  207k    0     0   193k      0  0:00:01  0:00:01 --:--:--  194k\n"
     ]
    },
    {
     "name": "stdout",
     "output_type": "stream",
     "text": [
      "414\n",
      "https://www.climatepolicyinitiative.org/publication/opportunities-for-a-green-bank-in-california/\n"
     ]
    },
    {
     "name": "stderr",
     "output_type": "stream",
     "text": [
      "  % Total    % Received % Xferd  Average Speed   Time    Time     Time  Current\n",
      "                                 Dload  Upload   Total   Spent    Left  Speed\n",
      "\n",
      "  0     0    0     0    0     0      0      0 --:--:-- --:--:-- --:--:--     0\n",
      "  0     0    0     0    0     0      0      0 --:--:-- --:--:-- --:--:--     0\n",
      "100  473k  100  473k    0     0   387k      0  0:00:01  0:00:01 --:--:--  388k\n"
     ]
    },
    {
     "name": "stdout",
     "output_type": "stream",
     "text": [
      "415\n",
      "https://www.climatepolicyinitiative.org/publication/raising-the-stakes-for-energy-efficiency-californias-riskreward-incentive-mechanism/\n"
     ]
    },
    {
     "name": "stderr",
     "output_type": "stream",
     "text": [
      "  % Total    % Received % Xferd  Average Speed   Time    Time     Time  Current\n",
      "                                 Dload  Upload   Total   Spent    Left  Speed\n",
      "\n",
      "  0     0    0     0    0     0      0      0 --:--:-- --:--:-- --:--:--     0\n",
      "  0     0    0     0    0     0      0      0 --:--:-- --:--:-- --:--:--     0\n",
      "100  597k  100  597k    0     0   524k      0  0:00:01  0:00:01 --:--:--  525k\n"
     ]
    },
    {
     "name": "stdout",
     "output_type": "stream",
     "text": [
      "416\n",
      "https://www.climatepolicyinitiative.org/publication/making-adaptation-a-private-sector-business-insights-from-nepal-pilot-program-for-climate-resilience/\n"
     ]
    },
    {
     "name": "stderr",
     "output_type": "stream",
     "text": [
      "  % Total    % Received % Xferd  Average Speed   Time    Time     Time  Current\n",
      "                                 Dload  Upload   Total   Spent    Left  Speed\n",
      "\n",
      "  0     0    0     0    0     0      0      0 --:--:-- --:--:-- --:--:--     0\n",
      "  6  513k    6 32374    0     0  33473      0  0:00:15 --:--:--  0:00:15 33548\n",
      "100  513k  100  513k    0     0   304k      0  0:00:01  0:00:01 --:--:--  304k\n"
     ]
    },
    {
     "name": "stdout",
     "output_type": "stream",
     "text": [
      "417\n",
      "https://www.climatepolicyinitiative.org/publication/production-protection-a-first-look-at-key-challenges-in-brazil/\n"
     ]
    },
    {
     "name": "stderr",
     "output_type": "stream",
     "text": [
      "  % Total    % Received % Xferd  Average Speed   Time    Time     Time  Current\n",
      "                                 Dload  Upload   Total   Spent    Left  Speed\n",
      "\n",
      "  0     0    0     0    0     0      0      0 --:--:-- --:--:-- --:--:--     0\n",
      "  6  229k    6 15990    0     0  19899      0  0:00:11 --:--:--  0:00:11 19937\n",
      "100  229k  100  229k    0     0   188k      0  0:00:01  0:00:01 --:--:--  189k\n"
     ]
    },
    {
     "name": "stdout",
     "output_type": "stream",
     "text": [
      "418\n",
      "https://www.climatepolicyinitiative.org/publication/sgg-case-study-kfcp/\n"
     ]
    },
    {
     "name": "stderr",
     "output_type": "stream",
     "text": [
      "  % Total    % Received % Xferd  Average Speed   Time    Time     Time  Current\n",
      "                                 Dload  Upload   Total   Spent    Left  Speed\n",
      "\n",
      "  0     0    0     0    0     0      0      0 --:--:-- --:--:-- --:--:--     0\n",
      "  0     0    0     0    0     0      0      0 --:--:-- --:--:-- --:--:--     0\n",
      "100  300k  100  300k    0     0   280k      0  0:00:01  0:00:01 --:--:--  281k\n"
     ]
    },
    {
     "name": "stdout",
     "output_type": "stream",
     "text": [
      "419\n",
      "https://www.climatepolicyinitiative.org/publication/high-productivity-agricultural-techniques-in-brazil-adoption-barriers-and-potential-solutions/\n"
     ]
    },
    {
     "name": "stderr",
     "output_type": "stream",
     "text": [
      "  % Total    % Received % Xferd  Average Speed   Time    Time     Time  Current\n",
      "                                 Dload  Upload   Total   Spent    Left  Speed\n",
      "\n",
      "  0     0    0     0    0     0      0      0 --:--:-- --:--:-- --:--:--     0\n",
      "  0     0    0     0    0     0      0      0 --:--:-- --:--:-- --:--:--     0\n",
      "100   408    0   408    0     0    602      0 --:--:-- --:--:-- --:--:--   603\n"
     ]
    },
    {
     "name": "stdout",
     "output_type": "stream",
     "text": [
      "420\n",
      "https://www.climatepolicyinitiative.org/publication/california-carbon-dashboard/\n",
      "421\n",
      "https://www.climatepolicyinitiative.org/publication/global-landscape-of-climate-finance-2013/\n"
     ]
    },
    {
     "name": "stderr",
     "output_type": "stream",
     "text": [
      "  % Total    % Received % Xferd  Average Speed   Time    Time     Time  Current\n",
      "                                 Dload  Upload   Total   Spent    Left  Speed\n",
      "\n",
      "  0     0    0     0    0     0      0      0 --:--:-- --:--:-- --:--:--     0\n",
      "  0     0    0     0    0     0      0      0 --:--:-- --:--:-- --:--:--     0\n",
      " 64  746k   64  479k    0     0   363k      0  0:00:02  0:00:01  0:00:01  363k\n",
      "100  746k  100  746k    0     0   526k      0  0:00:01  0:00:01 --:--:--  527k\n"
     ]
    },
    {
     "name": "stdout",
     "output_type": "stream",
     "text": [
      "422\n",
      "https://www.climatepolicyinitiative.org/publication/mapping-the-world-bank-group-risk-mitigation-instruments-for-climate-change/\n"
     ]
    },
    {
     "name": "stderr",
     "output_type": "stream",
     "text": [
      "  % Total    % Received % Xferd  Average Speed   Time    Time     Time  Current\n",
      "                                 Dload  Upload   Total   Spent    Left  Speed\n",
      "\n",
      "  0     0    0     0    0     0      0      0 --:--:-- --:--:-- --:--:--     0\n",
      "  0     0    0     0    0     0      0      0 --:--:-- --:--:-- --:--:--     0\n",
      "100  167k  100  167k    0     0   158k      0  0:00:01  0:00:01 --:--:--  159k\n"
     ]
    },
    {
     "name": "stdout",
     "output_type": "stream",
     "text": [
      "423\n",
      "https://www.climatepolicyinitiative.org/publication/san-giorgio-group-case-study-jadraas-onshore-windfarm/\n"
     ]
    },
    {
     "name": "stderr",
     "output_type": "stream",
     "text": [
      "  % Total    % Received % Xferd  Average Speed   Time    Time     Time  Current\n",
      "                                 Dload  Upload   Total   Spent    Left  Speed\n",
      "\n",
      "  0     0    0     0    0     0      0      0 --:--:-- --:--:-- --:--:--     0\n",
      " 33  665k   33  223k    0     0   224k      0  0:00:02 --:--:--  0:00:02  225k\n",
      "100  665k  100  665k    0     0   507k      0  0:00:01  0:00:01 --:--:--  508k\n"
     ]
    },
    {
     "name": "stdout",
     "output_type": "stream",
     "text": [
      "424\n",
      "https://www.climatepolicyinitiative.org/publication/the-role-of-development-finance-of-institutions-and-development-banks-in-scaling-up-green-and-climate-investments/\n"
     ]
    },
    {
     "name": "stderr",
     "output_type": "stream",
     "text": [
      "  % Total    % Received % Xferd  Average Speed   Time    Time     Time  Current\n",
      "                                 Dload  Upload   Total   Spent    Left  Speed\n",
      "\n",
      "  0     0    0     0    0     0      0      0 --:--:-- --:--:-- --:--:--     0\n",
      "  0     0    0     0    0     0      0      0 --:--:-- --:--:-- --:--:--     0\n",
      " 43 1169k   43  511k    0     0   432k      0  0:00:02  0:00:01  0:00:01  433k\n",
      "100 1169k  100 1169k    0     0   810k      0  0:00:01  0:00:01 --:--:--  811k\n"
     ]
    },
    {
     "name": "stdout",
     "output_type": "stream",
     "text": [
      "425\n",
      "https://www.climatepolicyinitiative.org/publication/improving-solar-policy-lessons-from-the-solar-leasing-boom-in-california/\n"
     ]
    },
    {
     "name": "stderr",
     "output_type": "stream",
     "text": [
      "  % Total    % Received % Xferd  Average Speed   Time    Time     Time  Current\n",
      "                                 Dload  Upload   Total   Spent    Left  Speed\n",
      "\n",
      "  0     0    0     0    0     0      0      0 --:--:-- --:--:-- --:--:--     0\n",
      "  0     0    0     0    0     0      0      0 --:--:-- --:--:-- --:--:--     0\n",
      "100  910k  100  910k    0     0   589k      0  0:00:01  0:00:01 --:--:--  591k\n"
     ]
    },
    {
     "name": "stdout",
     "output_type": "stream",
     "text": [
      "426\n",
      "https://www.climatepolicyinitiative.org/publication/using-data-tools-to-optimize-indonesias-land-resources-an-overview-of-natural-capital-assessment/\n"
     ]
    },
    {
     "name": "stderr",
     "output_type": "stream",
     "text": [
      "  % Total    % Received % Xferd  Average Speed   Time    Time     Time  Current\n",
      "                                 Dload  Upload   Total   Spent    Left  Speed\n",
      "\n",
      "  0     0    0     0    0     0      0      0 --:--:-- --:--:-- --:--:--     0\n",
      "100   415    0   415    0     0    749      0 --:--:-- --:--:-- --:--:--   751\n",
      "100   415    0   415    0     0    748      0 --:--:-- --:--:-- --:--:--   750\n"
     ]
    },
    {
     "name": "stdout",
     "output_type": "stream",
     "text": [
      "427\n",
      "https://www.climatepolicyinitiative.org/publication/targeting-proposition-39-to-help-californias-schools-save-energy-and-money/\n"
     ]
    },
    {
     "name": "stderr",
     "output_type": "stream",
     "text": [
      "  % Total    % Received % Xferd  Average Speed   Time    Time     Time  Current\n",
      "                                 Dload  Upload   Total   Spent    Left  Speed\n",
      "\n",
      "  0     0    0     0    0     0      0      0 --:--:-- --:--:-- --:--:--     0\n",
      "  0     0    0     0    0     0      0      0 --:--:-- --:--:-- --:--:--     0\n",
      "100   393    0   393    0     0    636      0 --:--:-- --:--:-- --:--:--   637\n"
     ]
    },
    {
     "name": "stdout",
     "output_type": "stream",
     "text": [
      "428\n",
      "https://www.climatepolicyinitiative.org/publication/deterring-deforestation-in-the-brazilian-amazon-environmental-monitoring-and-law-enforcement/\n"
     ]
    },
    {
     "name": "stderr",
     "output_type": "stream",
     "text": [
      "  % Total    % Received % Xferd  Average Speed   Time    Time     Time  Current\n",
      "                                 Dload  Upload   Total   Spent    Left  Speed\n",
      "\n",
      "  0     0    0     0    0     0      0      0 --:--:-- --:--:-- --:--:--     0\n",
      "  7  606k    7 48758    0     0  52169      0  0:00:11 --:--:--  0:00:11 52259\n",
      "100  606k  100  606k    0     0   402k      0  0:00:01  0:00:01 --:--:--  403k\n"
     ]
    },
    {
     "name": "stdout",
     "output_type": "stream",
     "text": [
      "429\n",
      "https://www.climatepolicyinitiative.org/publication/the-policy-climate/\n"
     ]
    },
    {
     "name": "stderr",
     "output_type": "stream",
     "text": [
      "  % Total    % Received % Xferd  Average Speed   Time    Time     Time  Current\n",
      "                                 Dload  Upload   Total   Spent    Left  Speed\n",
      "\n",
      "  0     0    0     0    0     0      0      0 --:--:-- --:--:-- --:--:--     0\n",
      "  0     0    0     0    0     0      0      0 --:--:-- --:--:-- --:--:--     0\n",
      "  5 5307k    5  287k    0     0   226k      0  0:00:23  0:00:01  0:00:22  226k\n",
      " 30 5307k   30 1615k    0     0   713k      0  0:00:07  0:00:02  0:00:05  713k\n",
      " 78 5307k   78 4143k    0     0  1270k      0  0:00:04  0:00:03  0:00:01 1270k\n",
      "100 5307k  100 5307k    0     0  1443k      0  0:00:03  0:00:03 --:--:-- 1443k\n"
     ]
    },
    {
     "name": "stdout",
     "output_type": "stream",
     "text": [
      "430\n",
      "https://www.climatepolicyinitiative.org/publication/buildings-energy-efficiency-in-china-germany-and-the-united-states/\n"
     ]
    },
    {
     "name": "stderr",
     "output_type": "stream",
     "text": [
      "  % Total    % Received % Xferd  Average Speed   Time    Time     Time  Current\n",
      "                                 Dload  Upload   Total   Spent    Left  Speed\n",
      "\n",
      "  0     0    0     0    0     0      0      0 --:--:-- --:--:-- --:--:--     0\n",
      "  0     0    0     0    0     0      0      0 --:--:-- --:--:-- --:--:--     0\n",
      "100  608k  100  608k    0     0   514k      0  0:00:01  0:00:01 --:--:--  515k\n"
     ]
    },
    {
     "name": "stdout",
     "output_type": "stream",
     "text": [
      "431\n",
      "https://www.climatepolicyinitiative.org/publication/the-role-of-national-development-banks-in-catalyzing-international-climate-finance/\n"
     ]
    },
    {
     "name": "stderr",
     "output_type": "stream",
     "text": [
      "  % Total    % Received % Xferd  Average Speed   Time    Time     Time  Current\n",
      "                                 Dload  Upload   Total   Spent    Left  Speed\n",
      "\n",
      "  0     0    0     0    0     0      0      0 --:--:-- --:--:-- --:--:--     0\n",
      "  0     0    0     0    0     0      0      0 --:--:-- --:--:-- --:--:--     0\n",
      "100  644k  100  644k    0     0   415k      0  0:00:01  0:00:01 --:--:--  416k\n"
     ]
    },
    {
     "name": "stdout",
     "output_type": "stream",
     "text": [
      "432\n",
      "https://www.climatepolicyinitiative.org/publication/the-challenge-of-institutional-investment-in-renewable-energy/\n"
     ]
    },
    {
     "name": "stderr",
     "output_type": "stream",
     "text": [
      "  % Total    % Received % Xferd  Average Speed   Time    Time     Time  Current\n",
      "                                 Dload  Upload   Total   Spent    Left  Speed\n",
      "\n",
      "  0     0    0     0    0     0      0      0 --:--:-- --:--:-- --:--:--     0\n",
      "  0     0    0     0    0     0      0      0 --:--:-- --:--:-- --:--:--     0\n",
      " 68  835k   68  575k    0     0   410k      0  0:00:02  0:00:01  0:00:01  410k\n",
      "100  835k  100  835k    0     0   538k      0  0:00:01  0:00:01 --:--:--  539k\n"
     ]
    },
    {
     "name": "stdout",
     "output_type": "stream",
     "text": [
      "433\n",
      "https://www.climatepolicyinitiative.org/publication/does-credit-affect-deforestation-evidence-from-a-rural-credit-policy-in-the-brazilian-amazon/\n"
     ]
    },
    {
     "name": "stderr",
     "output_type": "stream",
     "text": [
      "  % Total    % Received % Xferd  Average Speed   Time    Time     Time  Current\n",
      "                                 Dload  Upload   Total   Spent    Left  Speed\n",
      "\n",
      "  0     0    0     0    0     0      0      0 --:--:-- --:--:-- --:--:--     0\n",
      "  2  530k    2 15990    0     0  19446      0  0:00:27 --:--:--  0:00:27 19476\n",
      "100  530k  100  530k    0     0   356k      0  0:00:01  0:00:01 --:--:--  357k\n"
     ]
    },
    {
     "name": "stdout",
     "output_type": "stream",
     "text": [
      "434\n",
      "https://www.climatepolicyinitiative.org/publication/risk-gaps/\n"
     ]
    },
    {
     "name": "stderr",
     "output_type": "stream",
     "text": [
      "  % Total    % Received % Xferd  Average Speed   Time    Time     Time  Current\n",
      "                                 Dload  Upload   Total   Spent    Left  Speed\n",
      "\n",
      "  0     0    0     0    0     0      0      0 --:--:-- --:--:-- --:--:--     0\n",
      " 17  458k   17 81526    0     0  91191      0  0:00:05 --:--:--  0:00:05 91396\n",
      "100  458k  100  458k    0     0   376k      0  0:00:01  0:00:01 --:--:--  377k\n"
     ]
    },
    {
     "name": "stdout",
     "output_type": "stream",
     "text": [
      "435\n",
      "https://www.climatepolicyinitiative.org/publication/effective-green-financing-what-have-we-learned-so-far/\n"
     ]
    },
    {
     "name": "stderr",
     "output_type": "stream",
     "text": [
      "  % Total    % Received % Xferd  Average Speed   Time    Time     Time  Current\n",
      "                                 Dload  Upload   Total   Spent    Left  Speed\n",
      "\n",
      "  0     0    0     0    0     0      0      0 --:--:-- --:--:-- --:--:--     0\n",
      "  0     0    0     0    0     0      0      0 --:--:-- --:--:-- --:--:--     0\n",
      "100  143k  100  143k    0     0   151k      0 --:--:-- --:--:-- --:--:--  152k\n"
     ]
    },
    {
     "name": "stdout",
     "output_type": "stream",
     "text": [
      "436\n",
      "https://www.climatepolicyinitiative.org/publication/meeting-indias-renewable-energy-targets-the-financing-challenge/\n"
     ]
    },
    {
     "name": "stderr",
     "output_type": "stream",
     "text": [
      "  % Total    % Received % Xferd  Average Speed   Time    Time     Time  Current\n",
      "                                 Dload  Upload   Total   Spent    Left  Speed\n",
      "\n",
      "  0     0    0     0    0     0      0      0 --:--:-- --:--:-- --:--:--     0\n",
      "  0     0    0     0    0     0      0      0 --:--:-- --:--:-- --:--:--     0\n",
      "100  286k  100  286k    0     0   259k      0  0:00:01  0:00:01 --:--:--  260k\n"
     ]
    },
    {
     "name": "stdout",
     "output_type": "stream",
     "text": [
      "437\n",
      "https://www.climatepolicyinitiative.org/publication/falling-short-an-evaluation-of-the-indian-renewable-certificate-market/\n"
     ]
    },
    {
     "name": "stderr",
     "output_type": "stream",
     "text": [
      "  % Total    % Received % Xferd  Average Speed   Time    Time     Time  Current\n",
      "                                 Dload  Upload   Total   Spent    Left  Speed\n",
      "\n",
      "  0     0    0     0    0     0      0      0 --:--:-- --:--:-- --:--:--     0\n",
      "  0     0    0     0    0     0      0      0 --:--:-- --:--:-- --:--:--     0\n",
      "100  176k  100  176k    0     0   175k      0  0:00:01  0:00:01 --:--:--  176k\n"
     ]
    },
    {
     "name": "stdout",
     "output_type": "stream",
     "text": [
      "438\n",
      "https://www.climatepolicyinitiative.org/publication/global-landscape-of-climate-finance-2012/\n"
     ]
    },
    {
     "name": "stderr",
     "output_type": "stream",
     "text": [
      "  % Total    % Received % Xferd  Average Speed   Time    Time     Time  Current\n",
      "                                 Dload  Upload   Total   Spent    Left  Speed\n",
      "\n",
      "  0     0    0     0    0     0      0      0 --:--:-- --:--:-- --:--:--     0\n",
      "  0     0    0     0    0     0      0      0 --:--:-- --:--:-- --:--:--     0\n",
      "100  599k  100  599k    0     0   455k      0  0:00:01  0:00:01 --:--:--  456k\n"
     ]
    },
    {
     "name": "stdout",
     "output_type": "stream",
     "text": [
      "439\n",
      "https://www.climatepolicyinitiative.org/publication/german-landscape-of-climate-finance/\n"
     ]
    },
    {
     "name": "stderr",
     "output_type": "stream",
     "text": [
      "  % Total    % Received % Xferd  Average Speed   Time    Time     Time  Current\n",
      "                                 Dload  Upload   Total   Spent    Left  Speed\n",
      "\n",
      "  0     0    0     0    0     0      0      0 --:--:-- --:--:-- --:--:--     0\n",
      "100   243    0   243    0     0    335      0 --:--:-- --:--:-- --:--:--   335\n",
      "100   243    0   243    0     0    334      0 --:--:-- --:--:-- --:--:--   335\n"
     ]
    },
    {
     "name": "stdout",
     "output_type": "stream",
     "text": [
      "440\n",
      "https://www.climatepolicyinitiative.org/publication/die-deutsche-landschaft-der-klimafinanzierung/\n"
     ]
    },
    {
     "name": "stderr",
     "output_type": "stream",
     "text": [
      "  % Total    % Received % Xferd  Average Speed   Time    Time     Time  Current\n",
      "                                 Dload  Upload   Total   Spent    Left  Speed\n",
      "\n",
      "  0     0    0     0    0     0      0      0 --:--:-- --:--:-- --:--:--     0\n",
      "  0     0    0     0    0     0      0      0 --:--:-- --:--:-- --:--:--     0\n",
      " 27  116k   27 32374    0     0  30526      0  0:00:03  0:00:01  0:00:02 30570\n",
      "100  116k  100  116k    0     0    99k      0  0:00:01  0:00:01 --:--:--   99k\n"
     ]
    },
    {
     "name": "stdout",
     "output_type": "stream",
     "text": [
      "441\n",
      "https://www.climatepolicyinitiative.org/publication/tracking-emissions-and-mitigation-actions-mrv-systems-in-china-germany-italy-and-the-united-states/\n"
     ]
    },
    {
     "name": "stderr",
     "output_type": "stream",
     "text": [
      "  % Total    % Received % Xferd  Average Speed   Time    Time     Time  Current\n",
      "                                 Dload  Upload   Total   Spent    Left  Speed\n",
      "\n",
      "  0     0    0     0    0     0      0      0 --:--:-- --:--:-- --:--:--     0\n",
      "  0     0    0     0    0     0      0      0 --:--:-- --:--:-- --:--:--     0\n",
      "100 92634  100 92634    0     0  90674      0  0:00:01  0:00:01 --:--:-- 90906\n"
     ]
    },
    {
     "name": "stdout",
     "output_type": "stream",
     "text": [
      "442\n",
      "https://www.climatepolicyinitiative.org/publication/clearing-the-air-carbon-pricing-and-local-air-pollution-in-california/\n"
     ]
    },
    {
     "name": "stderr",
     "output_type": "stream",
     "text": [
      "  % Total    % Received % Xferd  Average Speed   Time    Time     Time  Current\n",
      "                                 Dload  Upload   Total   Spent    Left  Speed\n",
      "\n",
      "  0     0    0     0    0     0      0      0 --:--:-- --:--:-- --:--:--     0\n",
      "  0     0    0     0    0     0      0      0 --:--:-- --:--:-- --:--:--     0\n",
      "100  199k  100  199k    0     0   166k      0  0:00:01  0:00:01 --:--:--  167k\n"
     ]
    },
    {
     "name": "stdout",
     "output_type": "stream",
     "text": [
      "443\n",
      "https://www.climatepolicyinitiative.org/publication/supporting-renewables-while-saving-taxpayers-money/\n"
     ]
    },
    {
     "name": "stderr",
     "output_type": "stream",
     "text": [
      "  % Total    % Received % Xferd  Average Speed   Time    Time     Time  Current\n",
      "                                 Dload  Upload   Total   Spent    Left  Speed\n",
      "\n",
      "  0     0    0     0    0     0      0      0 --:--:-- --:--:-- --:--:--     0\n",
      "  0     0    0     0    0     0      0      0 --:--:-- --:--:-- --:--:--     0\n",
      "100  271k  100  271k    0     0   222k      0  0:00:01  0:00:01 --:--:--  223k\n"
     ]
    },
    {
     "name": "stdout",
     "output_type": "stream",
     "text": [
      "444\n",
      "https://www.climatepolicyinitiative.org/publication/san-giorgio-group-case-study-ouarzazate-i-csp/\n"
     ]
    },
    {
     "name": "stderr",
     "output_type": "stream",
     "text": [
      "  % Total    % Received % Xferd  Average Speed   Time    Time     Time  Current\n",
      "                                 Dload  Upload   Total   Spent    Left  Speed\n",
      "\n",
      "  0     0    0     0    0     0      0      0 --:--:-- --:--:-- --:--:--     0\n",
      "  0     0    0     0    0     0      0      0 --:--:-- --:--:-- --:--:--     0\n",
      "100  467k  100  467k    0     0   302k      0  0:00:01  0:00:01 --:--:--  303k\n"
     ]
    },
    {
     "name": "stdout",
     "output_type": "stream",
     "text": [
      "445\n",
      "https://www.climatepolicyinitiative.org/publication/public-climate-finance-a-survey-of-systems-to-monitor-and-evaluate-climate-finance-effectiveness/\n"
     ]
    },
    {
     "name": "stderr",
     "output_type": "stream",
     "text": [
      "  % Total    % Received % Xferd  Average Speed   Time    Time     Time  Current\n",
      "                                 Dload  Upload   Total   Spent    Left  Speed\n",
      "\n",
      "  0     0    0     0    0     0      0      0 --:--:-- --:--:-- --:--:--     0\n",
      "  0     0    0     0    0     0      0      0 --:--:-- --:--:-- --:--:--     0\n",
      " 92  382k   92  351k    0     0   203k      0  0:00:01  0:00:01 --:--:--  203k\n",
      "100  382k  100  382k    0     0   213k      0  0:00:01  0:00:01 --:--:--  213k\n"
     ]
    },
    {
     "name": "stdout",
     "output_type": "stream",
     "text": [
      "446\n",
      "https://www.climatepolicyinitiative.org/publication/limiting-the-cost-of-renewables-lessons-for-california/\n"
     ]
    },
    {
     "name": "stderr",
     "output_type": "stream",
     "text": [
      "  % Total    % Received % Xferd  Average Speed   Time    Time     Time  Current\n",
      "                                 Dload  Upload   Total   Spent    Left  Speed\n",
      "\n",
      "  0     0    0     0    0     0      0      0 --:--:-- --:--:-- --:--:--     0\n",
      "  0     0    0     0    0     0      0      0 --:--:-- --:--:-- --:--:--     0\n",
      "100  226k  100  226k    0     0   163k      0  0:00:01  0:00:01 --:--:--  163k\n"
     ]
    },
    {
     "name": "stdout",
     "output_type": "stream",
     "text": [
      "447\n",
      "https://www.climatepolicyinitiative.org/publication/san-giorgio-group-case-studies-walney-offshore-windfarms/\n"
     ]
    },
    {
     "name": "stderr",
     "output_type": "stream",
     "text": [
      "  % Total    % Received % Xferd  Average Speed   Time    Time     Time  Current\n",
      "                                 Dload  Upload   Total   Spent    Left  Speed\n",
      "\n",
      "  0     0    0     0    0     0      0      0 --:--:-- --:--:-- --:--:--     0\n",
      "  0     0    0     0    0     0      0      0 --:--:-- --:--:-- --:--:--     0\n",
      "100  641k  100  641k    0     0   430k      0  0:00:01  0:00:01 --:--:--  430k\n"
     ]
    },
    {
     "name": "stdout",
     "output_type": "stream",
     "text": [
      "448\n",
      "https://www.climatepolicyinitiative.org/publication/san-giorgio-group-case-study-prosol/\n"
     ]
    },
    {
     "name": "stderr",
     "output_type": "stream",
     "text": [
      "  % Total    % Received % Xferd  Average Speed   Time    Time     Time  Current\n",
      "                                 Dload  Upload   Total   Spent    Left  Speed\n",
      "\n",
      "  0     0    0     0    0     0      0      0 --:--:-- --:--:-- --:--:--     0\n",
      "  0     0    0     0    0     0      0      0 --:--:-- --:--:-- --:--:--     0\n",
      " 14  454k   14 65142    0     0  39022      0  0:00:11  0:00:01  0:00:10 39053\n",
      "100  454k  100  454k    0     0   196k      0  0:00:02  0:00:02 --:--:--  196k\n"
     ]
    },
    {
     "name": "stdout",
     "output_type": "stream",
     "text": [
      "449\n",
      "https://www.climatepolicyinitiative.org/publication/energy-the-u-s-budget-and-climate-change/\n"
     ]
    },
    {
     "name": "stderr",
     "output_type": "stream",
     "text": [
      "  % Total    % Received % Xferd  Average Speed   Time    Time     Time  Current\n",
      "                                 Dload  Upload   Total   Spent    Left  Speed\n",
      "\n",
      "  0     0    0     0    0     0      0      0 --:--:-- --:--:-- --:--:--     0\n",
      "  0     0    0     0    0     0      0      0 --:--:-- --:--:-- --:--:--     0\n",
      "100  254k  100  254k    0     0   198k      0  0:00:01  0:00:01 --:--:--  198k\n"
     ]
    },
    {
     "name": "stdout",
     "output_type": "stream",
     "text": [
      "450\n",
      "https://www.climatepolicyinitiative.org/publication/deforestation-slowdown-in-the-legal-amazon-prices-or-policie/\n"
     ]
    },
    {
     "name": "stderr",
     "output_type": "stream",
     "text": [
      "  % Total    % Received % Xferd  Average Speed   Time    Time     Time  Current\n",
      "                                 Dload  Upload   Total   Spent    Left  Speed\n",
      "\n",
      "  0     0    0     0    0     0      0      0 --:--:-- --:--:-- --:--:--     0\n",
      "  0     0    0     0    0     0      0      0 --:--:-- --:--:-- --:--:--     0\n",
      "100  104k  100  104k    0     0   100k      0  0:00:01  0:00:01 --:--:--  100k\n"
     ]
    },
    {
     "name": "stdout",
     "output_type": "stream",
     "text": [
      "451\n",
      "https://www.climatepolicyinitiative.org/publication/european-electricity-infrastructure-planning-regulation-and-financing/\n"
     ]
    },
    {
     "name": "stderr",
     "output_type": "stream",
     "text": [
      "  % Total    % Received % Xferd  Average Speed   Time    Time     Time  Current\n",
      "                                 Dload  Upload   Total   Spent    Left  Speed\n",
      "\n",
      "  0     0    0     0    0     0      0      0 --:--:-- --:--:-- --:--:--     0\n",
      "  0     0    0     0    0     0      0      0 --:--:-- --:--:-- --:--:--     0\n",
      "  6  226k    6 15990    0     0  15013      0  0:00:15  0:00:01  0:00:14 15042\n",
      "100  226k  100  226k    0     0   130k      0  0:00:01  0:00:01 --:--:--  131k\n"
     ]
    },
    {
     "name": "stdout",
     "output_type": "stream",
     "text": [
      "452\n",
      "https://www.climatepolicyinitiative.org/publication/tax-incentives-for-thermal-retrofits-in-germany-experiences-from-practicioners/\n"
     ]
    },
    {
     "name": "stderr",
     "output_type": "stream",
     "text": [
      "  % Total    % Received % Xferd  Average Speed   Time    Time     Time  Current\n",
      "                                 Dload  Upload   Total   Spent    Left  Speed\n",
      "\n",
      "  0     0    0     0    0     0      0      0 --:--:-- --:--:-- --:--:--     0\n",
      "100   371    0   371    0     0    555      0 --:--:-- --:--:-- --:--:--   557\n",
      "100   371    0   371    0     0    555      0 --:--:-- --:--:-- --:--:--   557\n"
     ]
    },
    {
     "name": "stdout",
     "output_type": "stream",
     "text": [
      "453\n",
      "https://www.climatepolicyinitiative.org/publication/san-giorgio-group-inaugural-meeting-proposed-analytical-program-2/\n"
     ]
    },
    {
     "name": "stderr",
     "output_type": "stream",
     "text": [
      "  % Total    % Received % Xferd  Average Speed   Time    Time     Time  Current\n",
      "                                 Dload  Upload   Total   Spent    Left  Speed\n",
      "\n",
      "  0     0    0     0    0     0      0      0 --:--:-- --:--:-- --:--:--     0\n",
      "  0     0    0     0    0     0      0      0 --:--:-- --:--:-- --:--:--     0\n",
      "100  112k  100  112k    0     0  99202      0  0:00:01  0:00:01 --:--:-- 99389\n"
     ]
    },
    {
     "name": "stdout",
     "output_type": "stream",
     "text": [
      "454\n",
      "https://www.climatepolicyinitiative.org/publication/improving-the-effectiveness-of-climate-finance-key-lessons/\n"
     ]
    },
    {
     "name": "stderr",
     "output_type": "stream",
     "text": [
      "  % Total    % Received % Xferd  Average Speed   Time    Time     Time  Current\n",
      "                                 Dload  Upload   Total   Spent    Left  Speed\n",
      "\n",
      "  0     0    0     0    0     0      0      0 --:--:-- --:--:-- --:--:--     0\n",
      "  0     0    0     0    0     0      0      0 --:--:-- --:--:-- --:--:--     0\n",
      " 39  160k   39 65142    0     0  57224      0  0:00:02  0:00:01  0:00:01 57292\n",
      "100  160k  100  160k    0     0   108k      0  0:00:01  0:00:01 --:--:--  108k\n"
     ]
    },
    {
     "name": "stdout",
     "output_type": "stream",
     "text": [
      "455\n",
      "https://www.climatepolicyinitiative.org/publication/china-annual-review-2011-2012/\n"
     ]
    },
    {
     "name": "stderr",
     "output_type": "stream",
     "text": [
      "  % Total    % Received % Xferd  Average Speed   Time    Time     Time  Current\n",
      "                                 Dload  Upload   Total   Spent    Left  Speed\n",
      "\n",
      "  0     0    0     0    0     0      0      0 --:--:-- --:--:-- --:--:--     0\n",
      "  0     0    0     0    0     0      0      0 --:--:-- --:--:-- --:--:--     0\n",
      "100 60553  100 60553    0     0  68241      0 --:--:-- --:--:-- --:--:-- 68344\n"
     ]
    },
    {
     "name": "stdout",
     "output_type": "stream",
     "text": [
      "456\n",
      "https://www.climatepolicyinitiative.org/publication/the-landscape-of-climate-finance/\n"
     ]
    },
    {
     "name": "stderr",
     "output_type": "stream",
     "text": [
      "  % Total    % Received % Xferd  Average Speed   Time    Time     Time  Current\n",
      "                                 Dload  Upload   Total   Spent    Left  Speed\n",
      "\n",
      "  0     0    0     0    0     0      0      0 --:--:-- --:--:-- --:--:--     0\n",
      " 18 85757   18 15991    0     0  16435      0  0:00:05 --:--:--  0:00:05 16451\n",
      "100 85757  100 85757    0     0  75534      0  0:00:01  0:00:01 --:--:-- 75690\n"
     ]
    },
    {
     "name": "stdout",
     "output_type": "stream",
     "text": [
      "457\n",
      "https://www.climatepolicyinitiative.org/publication/the-impacts-of-policy-on-the-financing-of-renewable-projects-a-case-study-analysis/\n"
     ]
    },
    {
     "name": "stderr",
     "output_type": "stream",
     "text": [
      "  % Total    % Received % Xferd  Average Speed   Time    Time     Time  Current\n",
      "                                 Dload  Upload   Total   Spent    Left  Speed\n",
      "\n",
      "  0     0    0     0    0     0      0      0 --:--:-- --:--:-- --:--:--     0\n",
      "  0     0    0     0    0     0      0      0 --:--:-- --:--:-- --:--:--     0\n",
      "  5  291k    5 15990    0     0  12305      0  0:00:24  0:00:01  0:00:23 12318\n",
      "100  291k  100  291k    0     0   169k      0  0:00:01  0:00:01 --:--:--  169k\n"
     ]
    },
    {
     "name": "stdout",
     "output_type": "stream",
     "text": [
      "458\n",
      "https://www.climatepolicyinitiative.org/publication/smart-power-market-project/\n"
     ]
    },
    {
     "name": "stderr",
     "output_type": "stream",
     "text": [
      "  % Total    % Received % Xferd  Average Speed   Time    Time     Time  Current\n",
      "                                 Dload  Upload   Total   Spent    Left  Speed\n",
      "\n",
      "  0     0    0     0    0     0      0      0 --:--:-- --:--:-- --:--:--     0\n",
      "  0     0    0     0    0     0      0      0 --:--:-- --:--:-- --:--:--     0\n",
      "100  484k  100  484k    0     0   350k      0  0:00:01  0:00:01 --:--:--  351k\n"
     ]
    },
    {
     "name": "stdout",
     "output_type": "stream",
     "text": [
      "459\n",
      "https://www.climatepolicyinitiative.org/publication/the-german-energy-concept-policies-to-support-the-thermal-retrofit-of-buildings-2/\n"
     ]
    },
    {
     "name": "stderr",
     "output_type": "stream",
     "text": [
      "  % Total    % Received % Xferd  Average Speed   Time    Time     Time  Current\n",
      "                                 Dload  Upload   Total   Spent    Left  Speed\n",
      "\n",
      "  0     0    0     0    0     0      0      0 --:--:-- --:--:-- --:--:--     0\n",
      "  0     0    0     0    0     0      0      0 --:--:-- --:--:-- --:--:--     0\n",
      " 91  243k   91  223k    0     0   186k      0  0:00:01  0:00:01 --:--:--  186k\n",
      "100  243k  100  243k    0     0   202k      0  0:00:01  0:00:01 --:--:--  202k\n"
     ]
    },
    {
     "name": "stdout",
     "output_type": "stream",
     "text": [
      "460\n",
      "https://www.climatepolicyinitiative.org/publication/codes-to-cleaner-buildings-effectiveness-of-u-s-building-energy-codes/\n"
     ]
    },
    {
     "name": "stderr",
     "output_type": "stream",
     "text": [
      "  % Total    % Received % Xferd  Average Speed   Time    Time     Time  Current\n",
      "                                 Dload  Upload   Total   Spent    Left  Speed\n",
      "\n",
      "  0     0    0     0    0     0      0      0 --:--:-- --:--:-- --:--:--     0\n",
      "  0     0    0     0    0     0      0      0 --:--:-- --:--:-- --:--:--     0\n",
      "100  971k  100  971k    0     0   574k      0  0:00:01  0:00:01 --:--:--  575k\n"
     ]
    },
    {
     "name": "stdout",
     "output_type": "stream",
     "text": [
      "461\n",
      "https://www.climatepolicyinitiative.org/publication/energiekonzept-instrumente-fur-energetische-sanierungen-2/\n"
     ]
    },
    {
     "name": "stderr",
     "output_type": "stream",
     "text": [
      "  % Total    % Received % Xferd  Average Speed   Time    Time     Time  Current\n",
      "                                 Dload  Upload   Total   Spent    Left  Speed\n",
      "\n",
      "  0     0    0     0    0     0      0      0 --:--:-- --:--:-- --:--:--     0\n",
      "  0     0    0     0    0     0      0      0 --:--:-- --:--:-- --:--:--     0\n",
      "100  158k  100  158k    0     0   173k      0 --:--:-- --:--:-- --:--:--  173k\n"
     ]
    },
    {
     "name": "stdout",
     "output_type": "stream",
     "text": [
      "462\n",
      "https://www.climatepolicyinitiative.org/publication/renewable-energy-financing-and-climate-policy-effectiveness-2/\n"
     ]
    },
    {
     "name": "stderr",
     "output_type": "stream",
     "text": [
      "  % Total    % Received % Xferd  Average Speed   Time    Time     Time  Current\n",
      "                                 Dload  Upload   Total   Spent    Left  Speed\n",
      "\n",
      "  0     0    0     0    0     0      0      0 --:--:-- --:--:-- --:--:--     0\n",
      "  0     0    0     0    0     0      0      0 --:--:-- --:--:-- --:--:--     0\n",
      "100  177k  100  177k    0     0   173k      0  0:00:01  0:00:01 --:--:--  173k\n"
     ]
    },
    {
     "name": "stdout",
     "output_type": "stream",
     "text": [
      "463\n",
      "https://www.climatepolicyinitiative.org/publication/impact-of-reductions-and-exemptions-in-energy-taxes-and-levies/\n"
     ]
    },
    {
     "name": "stderr",
     "output_type": "stream",
     "text": [
      "  % Total    % Received % Xferd  Average Speed   Time    Time     Time  Current\n",
      "                                 Dload  Upload   Total   Spent    Left  Speed\n",
      "\n",
      "  0     0    0     0    0     0      0      0 --:--:-- --:--:-- --:--:--     0\n",
      "  0     0    0     0    0     0      0      0 --:--:-- --:--:-- --:--:--     0\n",
      " 72  443k   72  319k    0     0   236k      0  0:00:01  0:00:01 --:--:--  236k\n",
      "100  443k  100  443k    0     0   312k      0  0:00:01  0:00:01 --:--:--  312k\n"
     ]
    },
    {
     "name": "stdout",
     "output_type": "stream",
     "text": [
      "464\n",
      "https://www.climatepolicyinitiative.org/publication/an-assessment-of-the-impact-of-policy-on-the-financing-of-clean-energy-project-overview-2/\n"
     ]
    },
    {
     "name": "stderr",
     "output_type": "stream",
     "text": [
      "  % Total    % Received % Xferd  Average Speed   Time    Time     Time  Current\n",
      "                                 Dload  Upload   Total   Spent    Left  Speed\n",
      "\n",
      "  0     0    0     0    0     0      0      0 --:--:-- --:--:-- --:--:--     0\n",
      "  0     0    0     0    0     0      0      0 --:--:-- --:--:-- --:--:--     0\n",
      "100 62817  100 62817    0     0  66625      0 --:--:-- --:--:-- --:--:-- 66755\n"
     ]
    },
    {
     "name": "stdout",
     "output_type": "stream",
     "text": [
      "465\n",
      "https://www.climatepolicyinitiative.org/publication/the-role-of-government-policy-in-the-development-of-solar-photovoltaic-power-project-overview/\n"
     ]
    },
    {
     "name": "stderr",
     "output_type": "stream",
     "text": [
      "  % Total    % Received % Xferd  Average Speed   Time    Time     Time  Current\n",
      "                                 Dload  Upload   Total   Spent    Left  Speed\n",
      "\n",
      "  0     0    0     0    0     0      0      0 --:--:-- --:--:-- --:--:--     0\n",
      " 24  127k   24 32374    0     0  34351      0  0:00:03 --:--:--  0:00:03 34403\n",
      "100  127k  100  127k    0     0   114k      0  0:00:01  0:00:01 --:--:--  114k\n"
     ]
    },
    {
     "name": "stdout",
     "output_type": "stream",
     "text": [
      "466\n",
      "https://www.climatepolicyinitiative.org/publication/pv-industry-and-policy-in-germany-and-china/\n"
     ]
    },
    {
     "name": "stderr",
     "output_type": "stream",
     "text": [
      "  % Total    % Received % Xferd  Average Speed   Time    Time     Time  Current\n",
      "                                 Dload  Upload   Total   Spent    Left  Speed\n",
      "\n",
      "  0     0    0     0    0     0      0      0 --:--:-- --:--:-- --:--:--     0\n",
      "  0     0    0     0    0     0      0      0 --:--:-- --:--:-- --:--:--     0\n",
      " 55  660k   55  367k    0     0   247k      0  0:00:02  0:00:01  0:00:01  248k\n",
      "100  660k  100  660k    0     0   371k      0  0:00:01  0:00:01 --:--:--  371k\n"
     ]
    },
    {
     "name": "stdout",
     "output_type": "stream",
     "text": [
      "467\n",
      "https://www.climatepolicyinitiative.org/publication/review-of-low-carbon-development-in-china-2010/\n"
     ]
    },
    {
     "name": "stderr",
     "output_type": "stream",
     "text": [
      "  % Total    % Received % Xferd  Average Speed   Time    Time     Time  Current\n",
      "                                 Dload  Upload   Total   Spent    Left  Speed\n",
      "\n",
      "  0     0    0     0    0     0      0      0 --:--:-- --:--:-- --:--:--     0\n",
      "  0     0    0     0    0     0      0      0 --:--:-- --:--:-- --:--:--     0\n",
      " 36  532k   36  191k    0     0   146k      0  0:00:03  0:00:01  0:00:02  146k\n",
      "100  532k  100  532k    0     0   312k      0  0:00:01  0:00:01 --:--:--  312k\n"
     ]
    },
    {
     "name": "stdout",
     "output_type": "stream",
     "text": [
      "468\n",
      "https://www.climatepolicyinitiative.org/publication/344/\n"
     ]
    },
    {
     "name": "stderr",
     "output_type": "stream",
     "text": [
      "  % Total    % Received % Xferd  Average Speed   Time    Time     Time  Current\n",
      "                                 Dload  Upload   Total   Spent    Left  Speed\n",
      "\n",
      "  0     0    0     0    0     0      0      0 --:--:-- --:--:-- --:--:--     0\n",
      "  0     0    0     0    0     0      0      0 --:--:-- --:--:-- --:--:--     0\n",
      "100  145k  100  145k    0     0   126k      0  0:00:01  0:00:01 --:--:--  126k\n"
     ]
    },
    {
     "name": "stdout",
     "output_type": "stream",
     "text": [
      "469\n",
      "https://www.climatepolicyinitiative.org/publication/the-state-of-international-climate-finance-is-it-adequate-and-is-it-productive/\n",
      "469\n",
      "469\n",
      "469\n",
      "469\n"
     ]
    },
    {
     "name": "stderr",
     "output_type": "stream",
     "text": [
      "  % Total    % Received % Xferd  Average Speed   Time    Time     Time  Current\n",
      "                                 Dload  Upload   Total   Spent    Left  Speed\n",
      "\n",
      "  0     0    0     0    0     0      0      0 --:--:-- --:--:-- --:--:--     0\n",
      "  0     0    0     0    0     0      0      0 --:--:-- --:--:-- --:--:--     0\n",
      "100  212k  100  212k    0     0   175k      0  0:00:01  0:00:01 --:--:--  175k\n"
     ]
    }
   ],
   "source": [
    "# Loop through the links and print the title and URL of each press release\n",
    "titles = []\n",
    "contents = []\n",
    "programs = []\n",
    "full_reports = []\n",
    "for ind, link in enumerate(links):\n",
    "    print(ind)\n",
    "    print(link)\n",
    "    soup = make_soup(link)    \n",
    "    # Extract the title, content, and program of the press release\n",
    "    article = soup.find('article')\n",
    "    try:\n",
    "        title = article.find(\"h1\", class_=\"article--title\").text.strip()\n",
    "    except AttributeError:\n",
    "        continue\n",
    "    #print(title)\n",
    "    titles.append(title)\n",
    "    try:\n",
    "        content = article.find(\"div\", class_=\"col article--content\").text.strip()\n",
    "    except AttributeError:\n",
    "        content = 'NA'\n",
    "    contents.append(content)\n",
    "    #print(content)\n",
    "    try:\n",
    "        program = article.find(\"div\", class_=\"post-meta post-taxonomy is-programs\").find(\"a\").text.strip()\n",
    "    except AttributeError:\n",
    "        program = 'NA'\n",
    "    programs.append(program)\n",
    "    #print(program)\n",
    "\n",
    "    # Full report link\n",
    "    try:\n",
    "        report_link = article.find(\"div\", class_=\"post-meta post-downloads\").find(\"a\").get('href')\n",
    "    except AttributeError: \n",
    "        full_reports.append('N/A')\n",
    "        continue\n",
    "    #print(report_link)\n",
    "    \n",
    "    # Delete the PDF file\n",
    "    try:\n",
    "        os.remove('full_report.pdf')\n",
    "    except FileNotFoundError:\n",
    "        pass\n",
    "\n",
    "    # Download the full report\n",
    "    !curl -o full_report.pdf {report_link}\n",
    "\n",
    "    # Open the PDF file in read-binary mode\n",
    "    with open('full_report.pdf', 'rb') as f:\n",
    "        # create a PyPDF2 reader object from the PDF content\n",
    "        try:\n",
    "            pdf_reader = PyPDF2.PdfReader(f)\n",
    "        except Exception:\n",
    "            #os.remove('full_report.pdf')\n",
    "            full_reports.append('N/A')\n",
    "            continue\n",
    "            \n",
    "        # read the text content from the PDF file\n",
    "        full_report = \"\"\n",
    "        for page in range(len(pdf_reader.pages)):\n",
    "            page_obj = pdf_reader.pages[page]\n",
    "            full_report += page_obj.extract_text()\n",
    "\n",
    "        # print the text content\n",
    "        #print(text_content)\n",
    "        full_reports.append(full_report)\n",
    "\n",
    "    # Delete the PDF file\n",
    "    #os.remove('full_report.pdf')\n",
    "print(len(titles))\n",
    "print(len(contents))\n",
    "print(len(programs))\n",
    "print(len(full_reports))"
   ]
  },
  {
   "cell_type": "code",
   "execution_count": 100,
   "id": "b92eb408",
   "metadata": {},
   "outputs": [
    {
     "data": {
      "text/plain": [
       "'Policies and Enabling Environment \\nto Drive Private Investments for \\nIndustrial Decarbonization in India\\nIdentifying Priority Actions for Decarbonizing \\nSteel and Cement Sectors POLICY BRIEF\\nApril 2023\\nAuthors: Yash Kashyap, Dhruba Purkayastha2\\nPOLICIES AND ENABLING ENVIRONMENT TO DRIVE PRIVATE INVESTMENTS FOR INDUSTRIAL DECARBONIZATION IN INDIAINTRODUCTION\\nIndustrial emission accounts for about one-third of all global anthropogenic CO2 emissions and are \\nexpected to grow rapidly, with major contribution from developing economies. In India, the industrial sector \\nis the largest and fastest-growing energy end-use sector and is expected to be the single largest source of \\nCO2 emissions by 2040. Decarbonization of industries is one of the most critical issues that needs to be \\naddressed to achieve global climate ambition and India’s target of net-zero emissions (NZE) by 2070.\\nSteel and cement are the most consumed emission-intensive industrial materials, and India is the second \\nlargest producer of both these materials. Combined, they account for 15-20% of India’s emissions, and in \\na business-as-usual scenario, emissions from these sectors are expected to increase three-fold by 2050. \\nMassive efforts, even greater than those being employed to decarbonize the electricity sector, are needed to \\ndecouple industrial growth from emissions. \\nSteel and cement are also regarded as ‘hard-to-abate’ sectors. The sectors have significant process-related \\nemissions and are highly dependent on fossil fuels, primarily coal in India. In addition, these sectors are \\nhighly capital-intensive, have long investment and asset replacement cycles, and have a high cost of \\ncarbon mitigation. The Mission Possible Partnership estimates that commercialization and deployment \\nof NZE compatible technologies in the steel sector alone would require about USD 10 billion in additional \\ninvestments globally between 2030 and 20502. This excludes substantial investments required outside steel \\nplants in supporting energy and technology-specific infrastructure. Different sources of capital – primarily \\nfrom private sources that include companies, commercial banks, and institutional investors – would be \\nneeded to meet these investment needs.\\nThere are several levers available to decarbonize industrial sectors, including energy efficiency, fuel \\nswitching, process modifications, material circularity and substitution, and resource efficiency. As per \\nsectoral roadmaps of most countries, low-carbon technologies like hydrogen and carbon capture will likely \\nplay a critical role in decarbonizing the primary production processes of industrial materials. While these \\ntechnologies exist, most are currently under development, commercially unviable, and uncompetitive \\nagainst conventional technologies. Therefore, while decarbonization of steel and cement may be technically \\npossible, economic viability needs to be addressed to attract private investments that can enable the shift to \\nlow-carbon production.\\nTransitioning these sectors would need coordinated action from the government, industry, and the financial \\nsector. Well designed and targeted policy actions, and an enabling environment supported by effective \\nregulation is needed to effectively address investment risks and barriers, and to create a level playing \\nfield between low-carbon and incumbent technologies. Public finance is required to support innovation \\nand de-risk private investments. Financial sector innovation in instruments and services is needed to \\nenable investments in innovative business models. Most importantly, early action in this decade is vital to \\nindigenize breakthrough technologies and avoid carbon lock-in by diverting investments away from carbon-\\nintensive assets. \\nSeveral studies have made recommendations on the policies and enabling environment (regulatory, market \\nand financing conditions) required for industrial decarbonization. However, none have analyzed different \\ninterventions based on their potential impact on the risk-return profiles of investments and their significance \\nin investment decisions, specifically in the context of breakthrough low-carbon technologies in a developing \\neconomy like India. This brief aims to cover this gap. It seeks to support policymakers in making informed 3\\nPOLICIES AND ENABLING ENVIRONMENT TO DRIVE PRIVATE INVESTMENTS FOR INDUSTRIAL DECARBONIZATION IN INDIAdecisions and prioritize actions that can drive climate-aligned private investments to bridge the financing \\ngap for low-carbon development of industries in India.\\nThe rest of the brief covers the following:\\n• Methodology of the study\\n• Review of technologies and existing policies for decarbonizing steel and cement sectors in India\\n• Policies and enabling environment to drive private investments in breakthrough low-carbon technologies\\n• Conclusion and suggestions for future work\\nKEY FINDINGS AND RECOMMENDATIONS\\n1. Early actions are needed to align industrial sectors on low-carbon pathways in the long-\\nterm. Several low-carbon technologies required to decarbonize the largest carbon emitting \\nindustrial sectors in India - steel and cement – are currently commercially unviable and have a \\nsignificant cost of abatement. A rapid increase in demand for these materials – expected to be \\n3-4-fold by 2050 – and long investment cycles, necessitates early actions by all stakeholder \\ninvolved to ensure low-carbon capacity addition and avoid carbon lock-in. Markets alone \\ncannot drive adoption of these technologies – effective policy frameworks and a functioning \\nenabling environment built in coordination with the industry and the financial sector, is needed \\nto effectively address investment risk-returns and unlock private sector investments into these \\nbreakthrough technologies.\\n2. Expand policy frameworks to drive decarbonization. India’s existing industrial policy frameworks \\nprioritize rapid growth, energy security and competitiveness. There are only a few instruments \\nthat promote decarbonization, which primarily focus on low-hanging levers (such as energy \\nefficiency and renewable energy) and are insufficient to drive a low-carbon industrial transition. \\nWell-designed policy frameworks that promote industrial decarbonization must include a mix of \\nfiscal, financial, market-based, and regulatory interventions that target both the supply-side and \\nthe demand-side factors (see next point).\\n3. Implement an effective policy-mix to unlock private investments in breakthrough low-carbon \\ntechnologies for industrial decarbonization. Our analysis, substantiated by private sector \\nstakeholders, suggests that the policy instruments expected to have the highest potential impact \\non directing private investments towards breakthrough technologies for low-carbon production \\nof steel and cement are: \\ni. Internationally coordinated carbon pricing [Market-based, Supply-side]\\nii. Public funding for first-of-a-kind demonstration pilots [Fiscal, Supply-side]\\niii. Viability gap funding as capital expenditure subsidies [Fiscal, Supply-side]\\niv. Green public procurement of low-carbon materials [Fiscal, Demand-side]\\nv. Product embodied-carbon standards in end-use sectors [Regulatory, Demand-side]\\nvi. Interest subvention and/or credit guarantees [Financial, Supply-side]4\\nPOLICIES AND ENABLING ENVIRONMENT TO DRIVE PRIVATE INVESTMENTS FOR INDUSTRIAL DECARBONIZATION IN INDIA4. Strengthen efforts to create well-functioning enabling environments. A functional enabling \\nenvironment (suitable regulatory, market and financing conditions) would address investment \\nbarriers, improve the ease of doing business, and attract private investors. Our analysis, \\nsubstantiated by private sector stakeholders, suggests that the enablers that have the highest \\nperceived significance when deciding to invest in breakthrough technologies for low-carbon \\nproduction of steel and cement are:\\ni. Supporting infrastructure that includes CO2 and hydrogen storage and transportation, RE \\ngeneration, electricity networks, and industrial hubs\\nii. Simplified, streamlined, and accelerated permitting procedures for production facilities as \\nwell as supporting technologies\\niii. Long-term contracts for the supply of raw materials (e.g., green hydrogen), and off-take of \\nby-products (e.g., captured CO2) and low-carbon materials (e.g., steel)\\niv. Availability of concessional finance and risk mitigation instruments from international \\nsources that include DFIs, MDBs, and multi-lateral funds5\\nPOLICIES AND ENABLING ENVIRONMENT TO DRIVE PRIVATE INVESTMENTS FOR INDUSTRIAL DECARBONIZATION IN INDIASTUDY METHODOLOGY AND SCOPE\\nThis study uses a mixed-methods approach that combines qualitative research, analysis, and stakeholder \\ninterviews. \\nAs a first step, peer-reviewed journal articles, reports by leading organizations (including IEA, ETC and \\nTERI) and consultations with several stakeholders were used to identify policies that are being considered \\nand/ or implemented by governments across the world, and the enablers required, to drive industrial \\ndecarbonization. This was followed by an in-depth analysis of the potential impact of each policy measure \\non investment risk-return profiles and the perceived significance of each enabler in investment decision-\\nmaking with regards to breakthrough technologies.\\nNext, semi-structured interviews were conducted with companies, industry associations, lenders, technology \\nproviders, and other experts to validate and complement the analysis. Interviewees were asked to rate (on \\na qualitative scale) each policy instrument and enabler on its expected impact and perceived significance \\nrespectively; and explain the causal mechanism through which the intervention would influence private \\ninvestments. Here we use the term expected impact of policies due to the subjective nature of the responses, \\nand lack of context-specific evidence on actual effectiveness of, and limited stakeholder experience with, one \\nor more instruments included in the analysis. An online questionnaire was used to record responses. Table 1 \\nbelow lists the organizations consulted as part of this study. \\nThe scope of this brief is bound within certain contours. First, we only look at interventions targeted at \\nindustrial sectors and not individual technologies such as green hydrogen (G-H2) and carbon capture \\nutilization and storage (CCUS).\\nSecond, we focus on investments in technologies that are between Technology Readiness Level3 (TRL, as \\nclassified by the IEA) 5 to 9 (large prototype to large demonstration stage), which have proven technical \\nviability on a laboratory scale but have not been commercially deployed. The risk-return profiles of \\ntechnologies at this stage are unsuitable for private investors. This excludes important decarbonization \\nlevers such as energy efficiency, material circularity (e.g., scrap-based secondary steel), and material \\nsubstitution (e.g., blended cement).\\nThird, we focus on greenfield projects. This is primarily because, on a net present value basis, deployment \\nof breakthrough technologies would be more economical and have a lower cost of abatement in greenfield \\nprojects than in retrofits. Furthermore, given the expected rise in demand for steel and cement in India (and \\nlow availability of scrap for secondary steel production), significant new production capacity is yet to be \\nadded, which needs to have lower emission-intensity to avoid carbon lock-in for the subsequent 20-25 years.6\\nPOLICIES AND ENABLING ENVIRONMENT TO DRIVE PRIVATE INVESTMENTS FOR INDUSTRIAL DECARBONIZATION IN INDIATable 1: List of organizations interviewed and surveyed\\nSector/Technology Organization Type\\nSteel TATA Steel Company\\nSteel JSW Steel Company\\nSteel International Energy Agency (IEA) Inter-governmental organization\\nCement JSW Cement Company\\nCement Global Cement and Concrete Association (GCCA) Industry Association\\nFinance ING Commercial Bank\\nFinance International Finance Corporation (IFC) Development Finance Institution\\nFinance Asian Development Bank (ADB) Development Finance Institution\\nFinance Proparco Development Finance Institution\\nGreen Hydrogen ReNew Company\\nCarbon Capture Dastur Company\\nCarbon Capture Independent expert -\\nCarbon Markets EKI Energy Services Company7\\nPOLICIES AND ENABLING ENVIRONMENT TO DRIVE PRIVATE INVESTMENTS FOR INDUSTRIAL DECARBONIZATION IN INDIALOW-CARBON TECHNOLOGIES AND \\nEXISTING POLICIES FOR DECARBONIZING \\nSTEEL AND CEMENT SECTORS IN INDIA\\nTechnologies required to decarbonize the steel and cement sectors are at different stages of development. \\nThe decarbonization pathway also varies by region, depending on factors such as demand growth, resource \\navailability, policy environment, etc. Table 2 below shows CPI’s analysis of characteristics of technologies \\nrelevant to the Indian context. Several technologies which are expected to play an important role in \\ndecarbonizing these sectors are between TRL 5-9 (the focus of this brief). At this stage, technologies have \\nrelatively higher perceived risks, unproven business models, and do not offer market-based competitive \\nreturns. As per the analysis, the cost of abatement of these breakthrough technologies in India is expected \\nto be at least 50 USD/tCO2 by 2030, and their adoption could increase the cost of production of steel \\nand cement by up to 45% and 80% respectively. Therefore, a combination of supply-side incentives and \\ndemand-side price support would be needed for low-carbon production. In addition, industrial sectors have \\nhigh capital requirements, function in volatile commodity markets, and lack sufficient resources to finance \\na profitable transition through technological improvements and innovation. Diffusion of breakthrough \\ntechnologies cannot be left to market forces alone4. \\nGovernments and the development finance community have a central role to play. India’s existing industrial \\npolicy frameworks currently prioritize rapid growth, energy security and enhancing competitiveness. There \\nare only a few instruments that promote decarbonization, as highlighted in Table 3, and these primarily \\nfocus on low-hanging levers (such as energy efficiency and RE). Interviewees agree that existing policy \\nframeworks are insufficient to drive a low-carbon industrial transition. Effective industrial and climate \\npolicies that include fiscal, financial, market-based, and regulatory interventions that target supply-side (e.g., \\nregulation and financial incentives), demand-side (e.g., product carbon standards), or are cross-cutting (e.g., \\nsectoral targets) are needed, along with development of a functioning enabling environment in coordination \\nwith industry and the financial sector. The next two sections discuss these specific interventions. POLICIES AND ENABLING ENVIRONMENT TO DRIVE PRIVATE INVESTMENTS FOR INDUSTRIAL DECARBONIZATION IN INDIA8Table 2: Characteristics of low-carbon technologies for steel and cement sector decarbonization in India. The box highlighted in green indicates the scope of \\nanalysis. \\nTechnology \\nReadiness LevelSteel Cement\\nTechnology Increment in \\nLCOS (%)Cost of Abatement \\n(USD/tCO2)Importance \\nfor NZETechnology Increment in \\nLCOC (%)Cost of Abatement \\n(USD/tCO2)Importance \\nfor NZE\\nTRL 1 (Initial Idea) \\n- TRL 4 (Early \\nPrototype)Direct Ore Electrolysis - - Moderate Partial use of H2 \\nin kilns- - Moderate\\nElectrification of \\nkilns- - Moderate\\nTRL 5 (Large \\nPrototype) - TRL 9 \\n(Early Commercial \\nOperations)Partial injection of \\nG-H2 in BF5-10% 130-150 Low RE with BESS Up to 5% 30-40 Moderate\\nTGR-BF, Smelting \\nReduction (HIsarna)5-10% 30-40 Moderate Carbon capture \\nwith kilns70-80% 80-90 Very High\\nCarbon capture with BF \\n/ TGR-BF / HIsarna10-20% 50-60 High\\n(Partial) G-H2 use in \\nDRI20-45% (for 30-\\n100% G-H2 use)40-90 (30-100% \\nG-H2 use)Very High\\nTRL 10 \\n(Commercially \\nCompetitive) - TRL \\n11 (Stable Growth)Energy Efficiency \\n(including WHR)None Less than 0 Moderate Energy Efficiency \\n(including WHR)None Less than 0 Moderate\\nScrap-EAF Up to 5% Less than 10 High AFR Up to 5% 30-40 Moderate\\nBlended Cement Up to 5% Less than 5 Very High\\nAbbreviations: AFR = Alternate Fuels and Raw Materials, BESS = Battery Energy Storage System, BF = Blast Furnace, EAF = Electric Arc Furnace, G-H2 = Green \\nHydrogen, LCOS = Levelized Cost of Steel, LCOC = Levelized cost of cement, TGR = Top Gas Recycling, DRI = Direct Reduced Iron, RE = Renewable Electricity. \\nNote: (1) Technologies selected based on an assessment of the literature and stakeholder consultations; (2) Natural gas and biomass-based technologies were not \\nconsidered due to concerns regarding dependence on international value chains and long-term availability respectively; (3) Cost calculations for G-H2 and carbon \\ncapture exclude the cost of storage and transportation; (4) Cost of abatement values represent lower bound estimates. Source: CPI analysis. POLICIES AND ENABLING ENVIRONMENT TO DRIVE PRIVATE INVESTMENTS FOR INDUSTRIAL DECARBONIZATION IN INDIA9Table 3: Existing policies and regulations for promoting steel and cement sector decarbonization in India\\nPolicy Sector Umbrella Legislation Ministry, Agency Details\\nPerform, Achieve \\nand Trade (PAT), \\n2012Industry-Wide Energy Conservation \\nAct, 2001MoP, BEE A market-based regulatory instrument (cap-and-trade mechanism) for \\nreducing the specific energy consumption (SEC) of energy-intensive \\nindustries by allocating SEC targets and allowing trading of certificates \\n(called Energy Savings Certificate, or ESCert). \\nRenewable \\nPurchase Obligation \\n(RPO)Industry-wide Electricity Act, 2003 MoP, CEA, CERC, \\nSERCRegulated entities - electricity distribution companies, and large power \\nconsumers, like steel and cement industries - are expected to procure a \\nminimum percentage of the total consumption of electricity from RE sources. \\nRenewable Energy Certificate (REC) is the tradable instrument used under \\nthe scheme.\\nNational \\nCarbon Market \\n(NCM) (under \\ndevelopment)Industry-wide Energy Conservation \\n(Amendment) Bill, \\n2022MoP, BEE India is developing a national carbon market, primarily targeting high-\\nemitting sectors like energy, steel, and cement. The scheme is proposed to be \\nimplemented in phases, starting from implementation of a voluntary market \\nto increase demand for existing instruments (ESCerts and RECs, that would \\nbe converted to carbon credits), followed by increasing supply of credits \\nby allowing project-based registration and issuance, and finally progress \\ntowards a compliance cap-and-trade market. \\nObligations to use \\nnon-fossil sourcesIndustry-wide Energy Conservation \\n(Amendment) Bill, \\n2023MoP, BEE The central government can specify energy consumption standards, including \\nmandating a minimum share of energy or feedstock consumption from non-\\nfossil sources. Key sector include industries, transport and buildings.\\nNDC of steel sector \\nsubmitted to \\nMoEFCCIron and Steel MoS Average CO2 emission intensity of the Indian steel industry is projected to \\nreduce from 3.1 tCO2/tcs in 2005 to 2.64 tCO2/tcs by 2020 and to 2.4 \\ntCO2/tcs by 2030 (i.e., approx. 1% per year).\\nSteel Scrap \\nRecycling Policy, \\n2019Iron and Steel National Steel Policy \\n(NSP), 2017MoS Indian steel industry aims create 300 MT of demand by 2030, with a \\ncontribution of 35-40% from EAF/IF route, which requires scrap input. The \\nmain aim of this policy is to (a) promote circular economy; (b) minimize \\ndependency on imports; (c) ensure proper and scientific handling, processing, \\nand disposal of all types of recyclable scraps.POLICIES AND ENABLING ENVIRONMENT TO DRIVE PRIVATE INVESTMENTS FOR INDUSTRIAL DECARBONIZATION IN INDIA10Policy Sector Umbrella Legislation Ministry, Agency Details\\nSteel Research & \\nTechnology Mission \\nof India (SRTMI)Iron and Steel National Steel Policy \\n(NSP), 2017MoS Set up in association with public and private steel companies to promote R&D \\nand skill development, with an initial corpus of INR 200 Crore, contributed by \\nMoS and by participating companies.\\nSolid Waste \\nManagement \\n(SWM) Rules, 2016Industry-wide \\n(mainly concerns \\ncement sector)MoEFCC, CPCB Sets the precedent for usage of refuse derived fuels (RDF) in cement industry. \\nAll industrial units using fuel and located within 100km from a solid waste-\\nbased RDF plant shall replace at least 5% of their fuel requirement by RDF. \\nHigh-calorific wastes shall be used for co-processing in cement or thermal \\npower plants.\\nAbbreviations: BEE = Bureau of Energy Efficiency, CEA = Central Electricity Authority, CERC = Central Electricity Regulatory Commission, CPCB = Central Pollution Control Board, \\nMoS = Ministry of Steel, MoP = Ministry of Power, MoEFCC = Ministry of Environment, Forest and Climate Change, SERC = State Electricity Regulatory Commission, tcs = tonne \\nof crude steel. Source: CPI analysis. \\u200311\\nPOLICIES AND ENABLING ENVIRONMENT TO DRIVE PRIVATE INVESTMENTS FOR INDUSTRIAL DECARBONIZATION IN INDIAPOLICIES TO DRIVE PRIVATE INVESTMENTS \\nIN BREAKTHROUGH LOW-CARBON \\nTECHNOLOGIES\\nWell-designed policy frameworks can effectively improve the risk-return profile of investments, attracting \\nprivate investments. However, the mechanism and the degree of impact of different policy instruments vary. \\nThis section presents our analysis (validated through interviews) and findings from the survey of \\nprivate sector stakeholders, on the impact of policy instruments on private investments in breakthrough \\ntechnologies for the Indian steel and cement sectors. \\nWe categorize the instruments as having a high, moderate, or low  degree of impact on investment decisions \\n(relative to others). For each measure, we discuss its function and the mechanism of impact on investment \\nrisk and returns. Table 4 lists and classifies the instruments analyzed in this study.\\nTable 4: Classification of policy instruments based on instrument type (row headings) and intervention \\nstage in the value chain (column headings). \\nValue chain target\\nCross-cutting Demand-side Supply-sideInstrument typeFiscal and \\nFinancial –• Green Public \\nProcurement• Public funding for \\ndemonstration pilots\\n• Direct public investments\\n• Capex subsidies\\n• Opex subsidies\\n• Investment / Production tax \\ncredits\\n• Interest subvention / credit \\nguarantees\\nRegulatory• Sustainable \\nfinance taxonomy \\n/ climate-aligned \\ninvestment \\nprinciples• Product embodied-\\ncarbon standards\\n• Certification of low-\\ncarbon materials and \\nlabeling of products• Technology mandates\\nMarket-based – –• Carbon pricing\\nOthers• Long-term \\nsectoral targets\\n–• International collaboration \\nfor technology transfer\\n• Public funding for R&D / \\nPrivate R&D incentives12\\nPOLICIES AND ENABLING ENVIRONMENT TO DRIVE PRIVATE INVESTMENTS FOR INDUSTRIAL DECARBONIZATION IN INDIAHIGH IMPACT INSTRUMENTS\\nCARBON PRICING\\nPutting a price on carbon, either through a cap-and-trade mechanism or a carbon tax, can be a highly effective \\ntool for driving decarbonization across sectors. India is in the process of transitioning from an energy-\\nintensity-based cap-and-trade mechanism – the Perform, Achieve and Trade (PAT scheme) – to a carbon \\nemissions-based national carbon market (NCM)5. Therefore, here we limit the discussion to market-based \\ncarbon pricing. \\nThis instrument is technology-neutral and provides market-driven incentives to shift to the least-cost low-\\ncarbon alternatives. Carbon pricing can act as a cornerstone of climate policy and needs to be complemented \\nwith other instruments that target the supply-side, demand-side, and also the financial sector - enabling \\nincreased lending to these sectors. \\nFor carbon pricing to be effective, stringency (supervision and compliance) and stability (demand and \\nfunctioning carbon markets) are key. The carbon price would need to be sufficiently high – at least 50 USD/\\ntCO2 by 2030 – to support deep decarbonization technologies applicable to the industrial sectors. However, \\nthe carbon price under the NCM, as approximated from the present PAT scheme, would be around 5-6 USD/\\ntCO2. At low price levels, the NCM is unlikely to make a shift in heavy industries without additional subsidies \\nor price support for production of low-carbon materials. \\nPrice stability and confidence in the carbon markets can be achieved through regulatory interventions, such \\nas the market stability reserve (MSR) for the EU-ETS6, and policy instruments, like Carbon Contract for \\nDifference (CCfD). CCfD can address political and market risks, and lower financing and carbon mitigation \\ncosts by guaranteeing carbon revenues for companies7. For internationally traded commodities like steel, an \\ninternationally coordinated sectoral carbon price may be required to ensure trade competitiveness. Carbon \\nborder adjustment mechanisms (CBAM) are also being considered by regions with high carbon prices to avoid \\ncross-border carbon leakage, however unresolved questions remain around its impact on international trade \\nand political acceptance. Lastly, in addition to regulated and voluntary carbon markets, companies can also \\nadopt internal carbon pricing (ICP) as a tool to guide their investment decisions based on life cycle emissions \\nand climate risks, to prepare for the imminent transition8. \\nFUNDING FOR DEMONSTRATION PILOTS\\n Several large Indian steel and cement companies are considering pilots of breakthrough technologies.  \\nPublic funding for first-of-a-kind commercial-scale demonstration pilots directly reduces costs for companies. \\nEffectiveness would depend on the quantum of funding (share of cost coverage). It can be highly important \\nin the early stages of market development to address risks (e.g., technology risk), prove the technical and \\ncommercial viability of new technologies and promote learning-by-doing, which drives down production costs. \\nCAPITAL EXPENDITURE (CAPEX) SUBSIDIES\\n Breakthrough emission technologies for the steel and cement sector are capital-intensive and entail very \\nhigh upfront costs - a 1 million tons per annum H2-DRI steel plant can cost nearly two times as much as \\na traditional BF-BOF plant of the same capacity. Viability gap funding in the form of capex subsidies can \\n(partially) cover the incremental investment cost of shifting to low-carbon production routes. This financial \\nincentive directly addresses the returns from projects. Capex subsidies may be awarded based on a \\ncompetitive bidding process to minimize the public cost of implementing the policy. 13\\nPOLICIES AND ENABLING ENVIRONMENT TO DRIVE PRIVATE INVESTMENTS FOR INDUSTRIAL DECARBONIZATION IN INDIAPRODUCT EMBODIED-CARBON STANDARDS\\n Defining embodied carbon standards for products and the built environments (e.g., cars, buildings) based \\non consistent and verifiable life-cycle emission methodologies can create large-scale demand for low-carbon \\nmaterials9. It sends a strong signal to producers to meet specific minimum emission intensity targets, which \\ncan be made more stringent with time. \\nGREEN PUBLIC PROCUREMENT (GPP)\\nGovernments can help create initial lead markets for low-carbon materials by mandating the use of, or \\npreferential purchase of, materials based on their carbon content. Off-take combined with a price support \\nguarantee (as green premium) stimulates market demand, improves economic viability, and thereby \\nincentivizes investments in low-carbon production facilities. \\nIndia spends around 20% of its GDP on public procurement10 and this purchasing power can be a highly \\nimpactful driver of the decarbonization of the steel and cement sectors. In 2021, India and the UK in \\ncoordination with UNIDO launched the Industrial Deep Decarbonization Initiative (IDDI)11, which seeks to \\nbring together multiple stakeholders to create markets for low-carbon industrial materials.\\nFigure 01: Expected impact of policy instruments on private investments in breakthrough low-carbon \\ntechnologies.\\nGreen public procurementProduct embodied-carbon standardsCertiﬁcation of low-carbon\\nmaterials and labeling of products\\nLong-term sectoral targets\\nInternational collaboration for technology transferSustainable ﬁnance\\ntaxonomy / climate-aligned\\ninvestment principles\\nPublic funding for R&D /\\nPrivate R&D incentives Public funding for demonstration pilots\\nDirect public investments\\nCapex subsidies\\nOpex subsidies\\nInvestment / production\\ntax creditsTechnology mandates\\nInterest subvention / \\ncredit guarantees\\nCarbon pricing\\nExpected impact of policy instrument\\non investment risk-returnLow Medium High14\\nPOLICIES AND ENABLING ENVIRONMENT TO DRIVE PRIVATE INVESTMENTS FOR INDUSTRIAL DECARBONIZATION IN INDIAINTEREST SUBVENTION OR CREDIT GUARANTEES\\nBoth these instruments help reduce the overall cost of debt for companies, which can be especially impactful \\nin developing countries where the cost of financing is relatively higher. By reducing the debt burden, \\nsubsidized loans help improve the return to equity investors. On the other hand, guarantees address higher \\ncredit risk, which encourages the participation of lenders and unlocks capital available in the market12.\\nMODERATE IMPACT INSTRUMENTS\\nINVESTMENT / PRODUCTION TAX CREDITS\\nIt is a popular policy tool for supporting investments in new technologies in several countries. Through tax \\ndeductions of investment costs, this tool can indirectly fund the viability gap which improves profitability and \\nreturns on equity. However, its impact may be limited when the gap in the production cost and profitability \\nof the low-carbon technology and the emission-intensive alternative is high, which is the case with most \\nbreakthrough technologies in the steel and cement sectors. The existing PLI (Production Linked Incentive) \\nscheme in India could also be used to incentivize greenfield investments in decarbonized industrial \\nproduction facilities.\\nOPERATIONAL EXPENDITURE (OPEX) SUBSIDIES\\nRaw materials (e.g., G-H2, CO2 absorbent, etc.) and electricity (e.g., for operating CCUS modules) add \\nsignificant Opex to production of low-carbon materials. Opex subsidies can bridge the viability gap by \\ncovering such incremental expenses and guaranteeing long-term revenue streams. However, due to \\nsignificant uncertainties around future costs of raw materials and technology learning rates, the cost of \\nimplementing Opex subsidies can be highly variable. It also tends to create long-term dependencies and \\npromote operational inefficiencies. Therefore, it may not be as economically efficient (or even desirable) in \\ndriving private investments as capex subsidies or investment tax credits, which are more favorable from the \\nperspective of historical experience, political acceptance, and ease of implementation in India. To overcome \\nthese issues, financial incentives may be given directly at the fuel/feedstock production stage, as has been \\nproposed under the National Green Hydrogen Mission13 of India. \\nTECHNOLOGY MANDATES\\nProduction facilities can be mandated to adopt certain technologies (e.g., G-H2) for producing low-carbon \\nmaterials. This can be an effective measure in driving the transition if the mandate applies to all producers \\nacross the sector, and if the incremental cost of low-carbon alternative, relative to the conventional \\ntechnology, is feasible from the perspective of profitability and competitiveness of the domestic industry. A \\nhigh degree of technology-specificity and picking winners at early stages of market development should also \\nbe avoided to prevent lock-in of inferior technologies and to ensure market-driven economic efficiency.\\nCERTIFICATION OF LOW-CARBON MATERIALS AND LABELING OF PRODUCTS\\nCertification schemes based on internationally-aligned science-based standards (such as those being \\ndeveloped by ResponsibleSteel, IEA, SBTi, ArcelorMittal, and others for the steel sector) and complementary \\nlabeling programs for end-user products enable consistency and transparency in calculations and reporting \\nof emissions data, tracking of progress in carbon intensity against targets, creation of differentiated 15\\nPOLICIES AND ENABLING ENVIRONMENT TO DRIVE PRIVATE INVESTMENTS FOR INDUSTRIAL DECARBONIZATION IN INDIAmarkets for greener products, pricing of green premiums. They also raise public awareness and acceptance \\n(especially important in the cement sector where end-user awareness plays a key role in the adoption of \\ndifferentiated products), prevent greenwashing, and helps in the implementation of other policies such \\nas product standards, GPP, and sustainable finance taxonomy. Alignment between various certification \\nschemes is needed.\\nSUSTAINABLE FINANCE TAXONOMY /CLIMATE-ALIGNED INVESTMENT PRINCIPLES\\nA taxonomy/voluntary investment principle (such as the Sustainable STEEL principles14) would enable \\nfinancial institutions to measure and track the climate-alignment of their portfolios. From an investor’s \\nperspective, principles based on sector-specific methodologies are likely to be easier to adopt and more \\neffective to implement than broad-scoped taxonomies. Combined with assessment, disclosure, and \\nappropriate pricing of climate-related risks, this measure should incentivize the allocation of capital and \\nimprove the availability of finance for sustainable activities, in the long term. In the short term, while \\ndecarbonization technologies are economically unviable, having a taxonomy or principles that are too \\nstringent or ambitious, and do not consider the country’s development context, may negatively impact \\nfinancial flows in the sector. Ministry of Finance is working towards the development of a sustainable  \\nfinance taxonomy for India. \\nLOW IMPACT INSTRUMENTS\\nLONG-TERM SECTORAL TARGETS\\nDeveloping long-term targets and associated decarbonization pathways is usually the first important step \\ntaken by governments to signal the market, set expectations regarding the future policy direction, and align \\nthe interests of companies and their investors regarding long-term strategic plans. However, usually, these \\ntargets are non-binding and have an indirect impact, if any, on investment risks and returns, and find limited \\nconsideration in investment decisions. \\nPUBLIC FUNDING FOR R&D/PRIVATE R&D INCENTIVES\\nPublic R&D grants and private sector R&D incentives (e.g., tax credits) can foster innovation by startups, \\nhelp address very early-stage technology risks and decrease the overall cost of innovation for companies \\nin technologies that are further away from commercial readiness and drive continuous efficiency \\nimprovements and cost reductions in proven technologies. However, it does not directly address investment \\nrisks or returns for commercial-scale projects and therefore has limited impact as a financial incentive.\\nDIRECT PUBLIC INVESTMENTS\\nDirect investments by Public Sector Undertakings (PSUs, e.g., Steel Authority of India) or state-owned \\ninvestment banks into breakthrough technologies can help build a track record of performance. PSUs can be \\nthe first movers and help develop investor confidence in the market. However, this does not directly affect \\nco-investors or investors and lenders of other projects12. Moreover, there is often a lack of ownership from \\nPSUs in developing and proving new technologies. Therefore, this measure has a limited potential impact on \\ndriving sector-wide investments.16\\nPOLICIES AND ENABLING ENVIRONMENT TO DRIVE PRIVATE INVESTMENTS FOR INDUSTRIAL DECARBONIZATION IN INDIAINTERNATIONAL COLLABORATION FOR TECHNOLOGY TRANSFER\\nEarly adoption of new and breakthrough technologies is likely to be undertaken by large steel and cement \\ncompanies that have sufficient internal resources and can access both domestic and international \\ntechnology providers. Moreover, companies have highlighted underlying barriers to effective collaboration \\nsuch as international competition, issues related to the transfer of intellectual property rights, and the high \\ncost of technology transfer. This measure does not seem to have a significant impact on directing investment \\ndecisions. \\nNote: It is important to note that certain technologies like RE with BESS, G-H2, and CCUS have applications \\nacross multiple sectors and there is a high degree of confidence in their potential role in decarbonizing the \\nIndian economy. Therefore, the selection, design, implementation, and governance of policy frameworks \\nfor industrial sectors need to be coordinated and aligned with technology and application-specific policies \\n(i.e., future policies for the steel sector would need to align with instruments used under the National Green \\nHydrogen Mission to support the uptake of G-H2 for steelmaking).17\\nPOLICIES AND ENABLING ENVIRONMENT TO DRIVE PRIVATE INVESTMENTS FOR INDUSTRIAL DECARBONIZATION IN INDIAENABLING ENVIRONMENT TO DRIVE \\nPRIVATE INVESTMENTS IN BREAKTHROUGH \\nLOW-CARBON TECHNOLOGIES\\nEnabling environment consists of regulations, market-making interventions, natural and human capital, and \\ndirected use of public finance, that can improve the ease of doing business, and thereby catalyze private \\ninvestments in the country and targeted sectors. The lack of a functional environment due to the absence of \\nthese conditions can form sector-specific investment barriers.\\nThis section presents our analysis (validated through interviews) and findings from the survey of private \\nsector stakeholders, on sector-specific enablers necessary to drive private investments in breakthrough \\nlow-carbon technologies for Indian steel and cement sectors. We first categorize enablers as having high, \\nmoderate, or low  degree of perceived significance in investment decisions (relative to others). Then, for \\neach enabler, we discuss how its presence (or absence) can catalyze (or be a barrier to) private investments.\\nHIGH SIGNIFICANCE ENABLERS\\nSUPPORTING INFRASTRUCTURE\\nInvestments in infrastructure for CO2 and hydrogen storage and transport, RE generation, modern electricity \\nnetworks, and industrial hubs would account for a significant share of all investments needed to achieve \\nNZE in the steel and cement sectors15,16. Early policy support and major public and private investments \\nare therefore needed to develop this infrastructure and remove barriers to investments in breakthrough \\ntechnologies. Public-private partnership models and a consortium of private players (across the value \\nchain) investing in shared infrastructure can reduce total investment costs and reduce the cumulative green \\npremium required for low-carbon industrial transitions. \\nVOLUNTARY GREEN PREMIUM FROM PRIVATE OFF-TAKERS\\nThe bulk of the market for steel and cement comprises private companies in the transport, buildings, \\nand consumer goods sectors. Increasingly, these companies are setting targets to reduce their Scope III \\nemissions (e.g., by signing up for SBTi). Voluntary commitments from these companies to pay a premium \\nfor long-term procurement of lower-carbon steel or cement could add significant volumes to demand. This \\ncan support existing producers and innovative startups in addressing business models and market risks, and \\nimprove bankability leading to increased access to finance (e.g., H2GreenSteel, a Swedish startup, was able \\nto pre-sell more than half of its planned green steel production volume at a premium and recently secured \\ncommitments for EUR 3.5 billion in debt17). Currently, in India, there is no proven willingness to pay a green \\npremium. The SteelZero18 initiative is working to stimulate private sector demand for low-carbon steel, both \\nat global and India-level. 18\\nPOLICIES AND ENABLING ENVIRONMENT TO DRIVE PRIVATE INVESTMENTS FOR INDUSTRIAL DECARBONIZATION IN INDIAFigure 02: Perceived significance of enabling conditions on private investments in breakthrough \\ntechnologies. \\nLONG-TERM FORWARD SUPPLY AND OFF-TAKE CONTRACTS\\nLong-term contracts (more than 5 years) for the supply of raw materials (e.g., G-H2 as feedstock in DRI \\nunits), off-take of by-products (e.g., captured CO2 sold for utilization), and forward purchase of low-carbon \\nmaterials (particularly in the steel sector) are needed to develop business models with high certainty of cost \\nand revenue streams and to mitigate future price risk. However, to enable corporates to enter into long-term \\nagreements in nascent markets, the high-cost differential between green and conventional products needs to \\nbe reduced through policy interventions. Green premiums could be built into the off-take contracts for low-\\ncarbon materials. Contracts could also be underwritten by the government to further mitigate off-taker risk9. \\nFinally, aggregation of G-H2 and CO2 supply, and demand could play an important role in providing flexibility \\nof supply and managing demand from multiple off-takers in different end-use sectors. \\nCONCESSIONAL FINANCE AND RISK MITIGATION INSTRUMENTS\\nGrants, concessional loans, and risk-mitigation instruments (e.g., credit guarantees, political risk insurance) \\nfrom development finance institutions, multi-lateral development banks, and multi-lateral funds can provide \\ntechnical assistance to develop a pipeline of bankable opportunities and create blended finance structures \\nand risk-sharing mechanisms that reduce the overall cost of financing, as well as the green premium \\nrequired for economic viability. Steel and cement producers in India have conveyed a strong demand \\nfor support from the international development finance community, especially to undertake large-scale \\ndemonstration pilots where risk perception is high. Recently, Climate Investment Funds (CIF) announced its \\nPerceived signiﬁcance of enabler in investment decisions Low Medium HighAccess to ﬁnancial services\\nAccess to technical ﬁrms\\nand standard setters\\nGreen/transition ﬁnance\\nfrom domestic sources\\nDomestic skilled workers and laborLong-term/uni00A0forward supply\\nand oﬀ-take contractsVoluntary green premium\\nfrom private oﬀ-takersSimpliﬁed, streamlined, and\\naccelerated permittingSupporting infrastructure\\nConcessional ﬁnance and risk \\nmitigation instruments\\n19\\nPOLICIES AND ENABLING ENVIRONMENT TO DRIVE PRIVATE INVESTMENTS FOR INDUSTRIAL DECARBONIZATION IN INDIAIndustry Decarbonization program19 at COP27 in Egypt, one of the first multi-laterals to offer support for the \\ndevelopment and financing of projects in developing economies. \\nMODERATE SIGNIFICANCE ENABLERS\\nPERMITTING\\nStreamlined, simplified, and accelerated permitting procedures for supporting infrastructure and \\ndemonstration projects is needed to minimize lead times, reduce overall project costs, and support faster \\ndeployment of low-carbon projects, as well as supporting technologies, not only in industrial, but all major \\neconomic sectors. \\nGREEN/TRANSITION FINANCE FROM DOMESTIC SOURCES\\nDomestic commercial banks and (to a lesser extent) capital markets are key sources of finance for steel \\nand cement companies in India. Availability of green/transition finance – which is earmarked for specific \\nactivities or linked to specific objectives and is more suited for long-term investments (because of \\nfeatures such as lower cost of debt, longer tenor, and grace period) – would help unlock substantial private \\ninvestments in low-carbon projects. However, for large steel and cement companies in India, which will be \\npotential first movers to invest in low-carbon projects, this is not a critical factor since they have access to \\nforeign capital markets and cheaper sources of finance, which reduces their reliance on domestic sources. \\nThis factor is more important for smaller producers which face constraints in accessing international sources \\nof finance. \\nDOMESTIC SKILLED WORKERS AND LABOR\\nGiven the nascency of breakthrough technologies and the high technological complexity of industrial \\nsectors, the domestic availability of skilled workers and labor is an important factor in determining the ability \\nof a company to innovate, develop large-scale projects, and remain competitive. Large steel and cement \\ncompanies in India consider this to be an important factor but not a major barrier to project execution \\nsince they have considerable resources and a reputation to attract skilled workers. However, this could be a \\nsignificant barrier for smaller companies. \\nLOW SIGNIFICANCE ENABLERS\\nACCESS TO TECHNICAL FIRMS AND STANDARD SETTERS\\nSteel and cement companies would need to work with technology providers (for access to innovative \\ntechnologies), engineering procurement and construction firms (for EPC services and independent \\ncertification and verification of underlying technologies), and standard setters (e.g., ResponsibleSteel for \\ncertification of low-carbon materials). While access to these services would be critical, it does not pose a \\nsignificant investment barrier since large companies have long-standing business relationships and are well-\\nintegrated with the ecosystem to access these services.20\\nPOLICIES AND ENABLING ENVIRONMENT TO DRIVE PRIVATE INVESTMENTS FOR INDUSTRIAL DECARBONIZATION IN INDIAACCESS TO FINANCIAL SERVICES\\nFinancial services such as risk insurance for technology / engineering, construction, storage, and \\ntransportation by insurance companies, inflation and forex hedging facilities, and credit insurance by export \\ncredit agencies can be key instruments to address various investment risks (such as technology risk, credit \\nrisk, currency risk) and reduce overall costs borne by the developer4. Access to these financial services can \\nbe a critical factor in implementing innovative business models. However, most large companies in India \\nhave access to these financial services. Unless these financial services are unavailable in the market, it will \\nlikely not be a significant investment barrier. 21\\nPOLICIES AND ENABLING ENVIRONMENT TO DRIVE PRIVATE INVESTMENTS FOR INDUSTRIAL DECARBONIZATION IN INDIACONCLUSIONS \\nThis brief discusses the findings of a CPI research that studied the potential impact of different policy \\ninstruments and enabling environment factors on private investments into breakthrough low-carbon \\ntechnologies for decarbonizing steel and cement sectors. Based on the degree of impact on investment risks \\nand returns, as well as the mechanism of impact delivery, certain priority actions have been identified that \\ncan be taken by governments, policymakers, industry, and the financial sector, to unlock private investments \\nfor industrial decarbonization in India.\\nFirstly, a well-designed policy mix that includes different types of instruments – fiscal, financial, \\nmarket-based, regulatory and others – and addresses both the supply-side and demand-side issues \\nis required to effectively improve the risk-return profile of investments in breakthrough technologies. \\nPolicy recommendations for driving private investments are carbon pricing, funding for first-of-a-kind \\ndemonstration pilots, green public procurement, capex subsidies, product embodied-carbon standards, \\ninterest subventions and credit guarantees.\\nIn addition to an effective policy framework, an enabling environment that consists of supporting \\ninfrastructure, accelerated permitting processes, long-term forward supply and off-take agreements, \\nand availability of concessional financing and risk-mitigation instruments is crucial to address underlying \\ninvestment barriers and catalyze private investments.\\nSUGGESTIONS FOR FUTURE WORK\\nFuture research can build on this study by undertaking:\\n1. Evaluation of policy choices to compare the different instruments relative to their sector-specific impact \\non private capital mobilization, carbon abatement, public cost of implementation, and additional impacts \\nrelated to just transition.\\n2. Deep dive into the design of policies in the Indian context to understand how policy effectiveness can be \\nmaximized. Design features include generic characteristics (e.g., stringency, predictability, credibility) \\nand policy-specific characteristics (e.g., specifications of fuel consumption under technology mandates). Copyright © 2022 Climate Policy Initiative climatepolicyinitiative.org. All rights reserved. CPI welcomes the use of its material for noncommercial \\npurposes, such as policy discussions or educational activities, under a Creative Commons Attribution-NonCommercial-ShareAlike 4.0 International (CC \\nBY-NC-SA 4.0) License. For commercial use, please contact adminsf@cpiglobal.org.REFERENCES\\n1. IEA. India Energy Outlook 2021. (2021) doi:10.1787/ec2fd78d-en.\\n2. Mission Possible Partnership. Net-Zero Steel: Sector Transition Strategy. (2021).\\n3. ETP Clean Energy Technology Guide – Data Tools - IEA. https://www.iea.org/data-and-statistics/data-\\ntools/etp-clean-energy-technology-guide.\\n4. World Economic Forum & Olivery Wyman. Financing the transition to a Net-Zero Future. (2021).\\n5. Bureau of Energy Efficiency. National Carbon Market. (2022).\\n6. Market Stability Reserve. https://climate.ec.europa.eu/eu-action/eu-emissions-trading-system-eu-ets/\\nmarket-stability-reserve_en.\\n7. Richstein, J. C. & Neuhoff, K. Carbon contracts-for-difference: How to de-risk innovative investments for a \\nlow-carbon industry? iScience 25, (2022).\\n8. CDP & TERI. Putting a price on carbon. (2020) doi:10.1049/pbpo055e_ch19.\\n9. Energy Transitions Commission. Making the Hydrogen Economy Possible: Accelerating Clean Hydrogen \\nin an Electrified Economy. (2021).\\n10. DPIIT & Government of India. Public Procurement Reforms. Paper Knowledge . Toward a Media History of \\nDocuments (2013).\\n11. Industrial Deep Decarbonisation Initiative | UNIDO. https://www.unido.org/IDDI.\\n12. Polzin, F. Mobilizing private finance for low-carbon innovation – A systematic review of barriers and \\nsolutions. Renew. Sustain. Energy Rev. 77, 525–535 (2017).\\n13. Ministry of New and Renewable Energy & Government of India. National Green hydrogen Mission (2023).\\n14. Sustainable STEEL Principles. https://steelprinciples.org/.\\n15. Mission Possible Partnership. Making Net-Zero Steel Possible. (2022).\\n16. Mission Possible Partnership. Reaching net-zero carbon emissions from harder-to-abate sectors by mid-\\ncentury. Sectoral Focus: Cement. (2018).\\n17. Leading European financial institutions support H2 Green Steel’s €3.5 billion debt financing — H2 Green \\nSteel. https://www.h2greensteel.com/latestnews/leading-european-financial-institutions-support-h2-\\ngreen-steels-35-billion-debt-financing.\\n18. SteelZero |The Climate Group. https://www.theclimategroup.org/steelzero.\\n19. Industry Decarbonization Program | Climate Investment Funds. https://www.cif.org/industry-\\ndecarbonization.\\n22climatepolicyinitiative.org'"
      ]
     },
     "execution_count": 100,
     "metadata": {},
     "output_type": "execute_result"
    }
   ],
   "source": [
    "# Evaluate whether example report scraped correctly\n",
    "full_reports[0]"
   ]
  },
  {
   "cell_type": "code",
   "execution_count": 124,
   "id": "ab6b30e8",
   "metadata": {},
   "outputs": [
    {
     "data": {
      "text/html": [
       "<div>\n",
       "<style scoped>\n",
       "    .dataframe tbody tr th:only-of-type {\n",
       "        vertical-align: middle;\n",
       "    }\n",
       "\n",
       "    .dataframe tbody tr th {\n",
       "        vertical-align: top;\n",
       "    }\n",
       "\n",
       "    .dataframe thead th {\n",
       "        text-align: right;\n",
       "    }\n",
       "</style>\n",
       "<table border=\"1\" class=\"dataframe\">\n",
       "  <thead>\n",
       "    <tr style=\"text-align: right;\">\n",
       "      <th></th>\n",
       "      <th>Title</th>\n",
       "      <th>Content</th>\n",
       "      <th>Program</th>\n",
       "      <th>Full_Report</th>\n",
       "    </tr>\n",
       "  </thead>\n",
       "  <tbody>\n",
       "    <tr>\n",
       "      <th>0</th>\n",
       "      <td>Policy Brief: Policies and Enabling Environmen...</td>\n",
       "      <td>Identifying Priority Actions for Decarbonizing...</td>\n",
       "      <td>NA</td>\n",
       "      <td>Policies and Enabling Environment \\nto Drive P...</td>\n",
       "    </tr>\n",
       "    <tr>\n",
       "      <th>1</th>\n",
       "      <td>Impact and Highlights from CPI’s Climate Finan...</td>\n",
       "      <td>Photo by Hendrik Cornelissen\\nOur 2022 Highlig...</td>\n",
       "      <td>Climate Finance Tracking</td>\n",
       "      <td>Climate Finance Tracking Program\\nImpact and H...</td>\n",
       "    </tr>\n",
       "    <tr>\n",
       "      <th>2</th>\n",
       "      <td>Onde Estamos na Implementação do Código Flores...</td>\n",
       "      <td>Foto: Cristina Leme Lopes\\nSumário Executivo\\n...</td>\n",
       "      <td>Núcleo de Avaliação de Políticas Climáticas</td>\n",
       "      <td>N/A</td>\n",
       "    </tr>\n",
       "    <tr>\n",
       "      <th>3</th>\n",
       "      <td>Challenges of Rural Insurance in the Context o...</td>\n",
       "      <td>Promoting the modernization and sustainability...</td>\n",
       "      <td>Brazil Policy Center</td>\n",
       "      <td>Promoting the modernization and sustainability...</td>\n",
       "    </tr>\n",
       "    <tr>\n",
       "      <th>4</th>\n",
       "      <td>An Innovative IFI Operating Model for the 21st...</td>\n",
       "      <td>Photo by Kalen Emsley\\nLast year saw major con...</td>\n",
       "      <td>San Giorgio Group</td>\n",
       "      <td>An Inno\\nvative IFI Operating \\nModel for the ...</td>\n",
       "    </tr>\n",
       "    <tr>\n",
       "      <th>...</th>\n",
       "      <td>...</td>\n",
       "      <td>...</td>\n",
       "      <td>...</td>\n",
       "      <td>...</td>\n",
       "    </tr>\n",
       "    <tr>\n",
       "      <th>464</th>\n",
       "      <td>The Role of Government Policy in the Developme...</td>\n",
       "      <td>In late 2010, CPI began a study of the impact ...</td>\n",
       "      <td>Energy Finance</td>\n",
       "      <td>\\n \\n \\n  \\n  \\n \\nDavid Nelson  \\n \\nClimate...</td>\n",
       "    </tr>\n",
       "    <tr>\n",
       "      <th>465</th>\n",
       "      <td>PV Industry and Policy in Germany and China</td>\n",
       "      <td>As building-integrated photovoltaic (PV) solut...</td>\n",
       "      <td>Energy Finance</td>\n",
       "      <td>\\n \\nSurvey of Photovoltaic Industry and Poli...</td>\n",
       "    </tr>\n",
       "    <tr>\n",
       "      <th>466</th>\n",
       "      <td>Review of Low-Carbon Development in China 2010</td>\n",
       "      <td>China’s 11th Five-Year Plan (2006-2010) set a ...</td>\n",
       "      <td>Energy Finance</td>\n",
       "      <td>\\n \\n \\n \\n \\nReview of  Low Carbon \\nDevelop...</td>\n",
       "    </tr>\n",
       "    <tr>\n",
       "      <th>467</th>\n",
       "      <td>Carbon Pricing Project</td>\n",
       "      <td>To drive low-carbon investment, policy framewo...</td>\n",
       "      <td>Climate Finance</td>\n",
       "      <td>\\n                                           ...</td>\n",
       "    </tr>\n",
       "    <tr>\n",
       "      <th>468</th>\n",
       "      <td>The State of International Climate Finance: Is...</td>\n",
       "      <td>The success of low-carbon development depends ...</td>\n",
       "      <td>Climate Finance</td>\n",
       "      <td>\\n \\n1 \\n \\n \\nKey Takeaways from the Works...</td>\n",
       "    </tr>\n",
       "  </tbody>\n",
       "</table>\n",
       "<p>469 rows × 4 columns</p>\n",
       "</div>"
      ],
      "text/plain": [
       "                                                 Title  \\\n",
       "0    Policy Brief: Policies and Enabling Environmen...   \n",
       "1    Impact and Highlights from CPI’s Climate Finan...   \n",
       "2    Onde Estamos na Implementação do Código Flores...   \n",
       "3    Challenges of Rural Insurance in the Context o...   \n",
       "4    An Innovative IFI Operating Model for the 21st...   \n",
       "..                                                 ...   \n",
       "464  The Role of Government Policy in the Developme...   \n",
       "465        PV Industry and Policy in Germany and China   \n",
       "466     Review of Low-Carbon Development in China 2010   \n",
       "467                             Carbon Pricing Project   \n",
       "468  The State of International Climate Finance: Is...   \n",
       "\n",
       "                                               Content  \\\n",
       "0    Identifying Priority Actions for Decarbonizing...   \n",
       "1    Photo by Hendrik Cornelissen\\nOur 2022 Highlig...   \n",
       "2    Foto: Cristina Leme Lopes\\nSumário Executivo\\n...   \n",
       "3    Promoting the modernization and sustainability...   \n",
       "4    Photo by Kalen Emsley\\nLast year saw major con...   \n",
       "..                                                 ...   \n",
       "464  In late 2010, CPI began a study of the impact ...   \n",
       "465  As building-integrated photovoltaic (PV) solut...   \n",
       "466  China’s 11th Five-Year Plan (2006-2010) set a ...   \n",
       "467  To drive low-carbon investment, policy framewo...   \n",
       "468  The success of low-carbon development depends ...   \n",
       "\n",
       "                                         Program  \\\n",
       "0                                             NA   \n",
       "1                       Climate Finance Tracking   \n",
       "2    Núcleo de Avaliação de Políticas Climáticas   \n",
       "3                           Brazil Policy Center   \n",
       "4                              San Giorgio Group   \n",
       "..                                           ...   \n",
       "464                               Energy Finance   \n",
       "465                               Energy Finance   \n",
       "466                               Energy Finance   \n",
       "467                              Climate Finance   \n",
       "468                              Climate Finance   \n",
       "\n",
       "                                           Full_Report  \n",
       "0    Policies and Enabling Environment \\nto Drive P...  \n",
       "1    Climate Finance Tracking Program\\nImpact and H...  \n",
       "2                                                  N/A  \n",
       "3    Promoting the modernization and sustainability...  \n",
       "4    An Inno\\nvative IFI Operating \\nModel for the ...  \n",
       "..                                                 ...  \n",
       "464   \\n \\n \\n  \\n  \\n \\nDavid Nelson  \\n \\nClimate...  \n",
       "465   \\n \\nSurvey of Photovoltaic Industry and Poli...  \n",
       "466   \\n \\n \\n \\n \\nReview of  Low Carbon \\nDevelop...  \n",
       "467   \\n                                           ...  \n",
       "468     \\n \\n1 \\n \\n \\nKey Takeaways from the Works...  \n",
       "\n",
       "[469 rows x 4 columns]"
      ]
     },
     "execution_count": 124,
     "metadata": {},
     "output_type": "execute_result"
    }
   ],
   "source": [
    "# create a dictionary with keys as attribute names and values as lists\n",
    "publications_data = {'Title': titles, 'Content': contents, 'Program': programs, 'Full_Report': full_reports}\n",
    "\n",
    "# create a dataframe from the dictionary\n",
    "publications_df = pd.DataFrame(publications_data)\n",
    "\n",
    "publications_df"
   ]
  },
  {
   "cell_type": "code",
   "execution_count": 119,
   "id": "9659b14c",
   "metadata": {},
   "outputs": [],
   "source": [
    "# Save data\n",
    "publications_df.to_csv('publications.csv', escapechar='\\\\',  index=False)"
   ]
  }
 ],
 "metadata": {
  "kernelspec": {
   "display_name": "Python 3 (ipykernel)",
   "language": "python",
   "name": "python3"
  },
  "language_info": {
   "codemirror_mode": {
    "name": "ipython",
    "version": 3
   },
   "file_extension": ".py",
   "mimetype": "text/x-python",
   "name": "python",
   "nbconvert_exporter": "python",
   "pygments_lexer": "ipython3",
   "version": "3.10.9"
  }
 },
 "nbformat": 4,
 "nbformat_minor": 5
}
